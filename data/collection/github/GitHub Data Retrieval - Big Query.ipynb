{
 "cells": [
  {
   "cell_type": "code",
   "execution_count": 169,
   "metadata": {},
   "outputs": [],
   "source": [
    "import pandas as pd\n",
    "import numpy as np\n",
    "import re\n",
    "import gc"
   ]
  },
  {
   "cell_type": "code",
   "execution_count": 316,
   "metadata": {},
   "outputs": [],
   "source": [
    "df = pd.read_csv('./GO CVEs Data - Data.csv')"
   ]
  },
  {
   "cell_type": "code",
   "execution_count": 317,
   "metadata": {},
   "outputs": [
    {
     "name": "stdout",
     "output_type": "stream",
     "text": [
      "<class 'pandas.core.frame.DataFrame'>\n",
      "RangeIndex: 1697 entries, 0 to 1696\n",
      "Data columns (total 9 columns):\n",
      "CVE ID           1222 non-null object\n",
      "Package name     1683 non-null object\n",
      "Ecosystem        1683 non-null object\n",
      "GH issue         679 non-null object\n",
      "GH PR            322 non-null object\n",
      "GH Commit        856 non-null object\n",
      "Bugzilla         245 non-null object\n",
      "ML               465 non-null object\n",
      "Other sources    34 non-null object\n",
      "dtypes: object(9)\n",
      "memory usage: 119.4+ KB\n"
     ]
    }
   ],
   "source": [
    "df.info()"
   ]
  },
  {
   "cell_type": "code",
   "execution_count": 318,
   "metadata": {},
   "outputs": [
    {
     "data": {
      "text/html": [
       "<div>\n",
       "<style scoped>\n",
       "    .dataframe tbody tr th:only-of-type {\n",
       "        vertical-align: middle;\n",
       "    }\n",
       "\n",
       "    .dataframe tbody tr th {\n",
       "        vertical-align: top;\n",
       "    }\n",
       "\n",
       "    .dataframe thead th {\n",
       "        text-align: right;\n",
       "    }\n",
       "</style>\n",
       "<table border=\"1\" class=\"dataframe\">\n",
       "  <thead>\n",
       "    <tr style=\"text-align: right;\">\n",
       "      <th></th>\n",
       "      <th>CVE ID</th>\n",
       "      <th>Package name</th>\n",
       "      <th>Ecosystem</th>\n",
       "      <th>GH issue</th>\n",
       "      <th>GH PR</th>\n",
       "      <th>GH Commit</th>\n",
       "      <th>Bugzilla</th>\n",
       "      <th>ML</th>\n",
       "      <th>Other sources</th>\n",
       "    </tr>\n",
       "  </thead>\n",
       "  <tbody>\n",
       "    <tr>\n",
       "      <th>0</th>\n",
       "      <td>CVE-2017-9805</td>\n",
       "      <td>struts2-rest-plugin</td>\n",
       "      <td>maven</td>\n",
       "      <td>NaN</td>\n",
       "      <td>NaN</td>\n",
       "      <td>https://github.com/apache/struts/commit/194947...</td>\n",
       "      <td>https://bugzilla.redhat.com/show_bug.cgi?id=14...</td>\n",
       "      <td>NaN</td>\n",
       "      <td>https://blogs.apache.org/foundation/entry/apac...</td>\n",
       "    </tr>\n",
       "    <tr>\n",
       "      <th>1</th>\n",
       "      <td>CVE-2018-8617</td>\n",
       "      <td>Microsoft.ChakraCore</td>\n",
       "      <td>nuget</td>\n",
       "      <td>NaN</td>\n",
       "      <td>https://github.com/Microsoft/ChakraCore/pull/5869</td>\n",
       "      <td>NaN</td>\n",
       "      <td>NaN</td>\n",
       "      <td>NaN</td>\n",
       "      <td>NaN</td>\n",
       "    </tr>\n",
       "    <tr>\n",
       "      <th>2</th>\n",
       "      <td>CVE-2018-8629</td>\n",
       "      <td>Microsoft.ChakraCore</td>\n",
       "      <td>nuget</td>\n",
       "      <td>NaN</td>\n",
       "      <td>https://github.com/Microsoft/ChakraCore/pull/5869</td>\n",
       "      <td>NaN</td>\n",
       "      <td>NaN</td>\n",
       "      <td>NaN</td>\n",
       "      <td>NaN</td>\n",
       "    </tr>\n",
       "    <tr>\n",
       "      <th>3</th>\n",
       "      <td>CVE-2018-6824</td>\n",
       "      <td>Microsoft.ChakraCore</td>\n",
       "      <td>nuget</td>\n",
       "      <td>NaN</td>\n",
       "      <td>https://github.com/Microsoft/ChakraCore/pull/5869</td>\n",
       "      <td>NaN</td>\n",
       "      <td>NaN</td>\n",
       "      <td>NaN</td>\n",
       "      <td>NaN</td>\n",
       "    </tr>\n",
       "    <tr>\n",
       "      <th>4</th>\n",
       "      <td>CVE-2018-8618</td>\n",
       "      <td>Microsoft.ChakraCore</td>\n",
       "      <td>nuget</td>\n",
       "      <td>NaN</td>\n",
       "      <td>https://github.com/Microsoft/ChakraCore/pull/5869</td>\n",
       "      <td>NaN</td>\n",
       "      <td>NaN</td>\n",
       "      <td>NaN</td>\n",
       "      <td>NaN</td>\n",
       "    </tr>\n",
       "  </tbody>\n",
       "</table>\n",
       "</div>"
      ],
      "text/plain": [
       "          CVE ID          Package name Ecosystem GH issue  \\\n",
       "0  CVE-2017-9805   struts2-rest-plugin     maven      NaN   \n",
       "1  CVE-2018-8617  Microsoft.ChakraCore     nuget      NaN   \n",
       "2  CVE-2018-8629  Microsoft.ChakraCore     nuget      NaN   \n",
       "3  CVE-2018-6824  Microsoft.ChakraCore     nuget      NaN   \n",
       "4  CVE-2018-8618  Microsoft.ChakraCore     nuget      NaN   \n",
       "\n",
       "                                               GH PR  \\\n",
       "0                                                NaN   \n",
       "1  https://github.com/Microsoft/ChakraCore/pull/5869   \n",
       "2  https://github.com/Microsoft/ChakraCore/pull/5869   \n",
       "3  https://github.com/Microsoft/ChakraCore/pull/5869   \n",
       "4  https://github.com/Microsoft/ChakraCore/pull/5869   \n",
       "\n",
       "                                           GH Commit  \\\n",
       "0  https://github.com/apache/struts/commit/194947...   \n",
       "1                                                NaN   \n",
       "2                                                NaN   \n",
       "3                                                NaN   \n",
       "4                                                NaN   \n",
       "\n",
       "                                            Bugzilla   ML  \\\n",
       "0  https://bugzilla.redhat.com/show_bug.cgi?id=14...  NaN   \n",
       "1                                                NaN  NaN   \n",
       "2                                                NaN  NaN   \n",
       "3                                                NaN  NaN   \n",
       "4                                                NaN  NaN   \n",
       "\n",
       "                                       Other sources  \n",
       "0  https://blogs.apache.org/foundation/entry/apac...  \n",
       "1                                                NaN  \n",
       "2                                                NaN  \n",
       "3                                                NaN  \n",
       "4                                                NaN  "
      ]
     },
     "execution_count": 318,
     "metadata": {},
     "output_type": "execute_result"
    }
   ],
   "source": [
    "df.head()"
   ]
  },
  {
   "cell_type": "code",
   "execution_count": 319,
   "metadata": {},
   "outputs": [
    {
     "name": "stdout",
     "output_type": "stream",
     "text": [
      "Before: (679,)\n",
      "After: (720,)\n"
     ]
    }
   ],
   "source": [
    "gh_issues = df['GH issue'].dropna().values\n",
    "print('Before:', gh_issues.shape)\n",
    "gh_issues = [item.strip().split('\\n') for item in gh_issues]\n",
    "gh_issues = np.array([str(item.strip()) for sublist in gh_issues for item in sublist])\n",
    "print('After:', gh_issues.shape)"
   ]
  },
  {
   "cell_type": "code",
   "execution_count": 320,
   "metadata": {},
   "outputs": [
    {
     "name": "stdout",
     "output_type": "stream",
     "text": [
      "Before: (322,)\n",
      "After: (357,)\n"
     ]
    }
   ],
   "source": [
    "gh_prs = df['GH PR'].dropna().values\n",
    "print('Before:', gh_prs.shape)\n",
    "gh_prs = [item.strip().split('\\n') for item in gh_prs]\n",
    "gh_prs = np.array([str(item.strip()) for sublist in gh_prs for item in sublist])\n",
    "print('After:', gh_prs.shape)"
   ]
  },
  {
   "cell_type": "code",
   "execution_count": 321,
   "metadata": {},
   "outputs": [
    {
     "name": "stdout",
     "output_type": "stream",
     "text": [
      "Before: (856,)\n",
      "After: (1056,)\n"
     ]
    }
   ],
   "source": [
    "gh_commits = df['GH Commit'].dropna().values\n",
    "print('Before:', gh_commits.shape)\n",
    "gh_commits = [item.strip().split('\\n') for item in gh_commits]\n",
    "gh_commits = np.array([str(item.strip()) for sublist in gh_commits for item in sublist])\n",
    "print('After:', gh_commits.shape)"
   ]
  },
  {
   "cell_type": "code",
   "execution_count": 322,
   "metadata": {},
   "outputs": [
    {
     "data": {
      "text/plain": [
       "(2133,)"
      ]
     },
     "execution_count": 322,
     "metadata": {},
     "output_type": "execute_result"
    }
   ],
   "source": [
    "gh_links = np.concatenate((gh_issues, gh_commits, gh_prs))\n",
    "gh_links.shape"
   ]
  },
  {
   "cell_type": "code",
   "execution_count": 323,
   "metadata": {},
   "outputs": [],
   "source": [
    "gh_links = np.array([item for item in gh_links if 'github' in item])"
   ]
  },
  {
   "cell_type": "code",
   "execution_count": 324,
   "metadata": {},
   "outputs": [
    {
     "data": {
      "text/plain": [
       "array(['https://github.com/intelliants/subrion/issues/801',\n",
       "       'https://github.com/ethereum/py-evm/issues/1448',\n",
       "       'https://github.com/rapid7/metasploit-framework/issues/8064', ...,\n",
       "       'https://github.com/pallets/werkzeug/pull/1001',\n",
       "       'https://github.com/boto/boto/pull/3097',\n",
       "       'https://github.com/jupyter-widgets/ipywidgets/pull/591'],\n",
       "      dtype='<U179')"
      ]
     },
     "execution_count": 324,
     "metadata": {},
     "output_type": "execute_result"
    }
   ],
   "source": [
    "gh_links"
   ]
  },
  {
   "cell_type": "code",
   "execution_count": 325,
   "metadata": {},
   "outputs": [],
   "source": [
    "pattern = re.compile(r'.*?github.com/(.*?/.*?)/', re.I)\n",
    "repo_names = np.array(list(filter(None,[pattern.search(item).group(1) if pattern.search(item) else None \n",
    "                           for item in gh_links]))) "
   ]
  },
  {
   "cell_type": "code",
   "execution_count": 326,
   "metadata": {},
   "outputs": [
    {
     "data": {
      "text/plain": [
       "(1656,)"
      ]
     },
     "execution_count": 326,
     "metadata": {},
     "output_type": "execute_result"
    }
   ],
   "source": [
    "repo_names.shape"
   ]
  },
  {
   "cell_type": "code",
   "execution_count": 327,
   "metadata": {},
   "outputs": [],
   "source": [
    "repo_names = np.unique(repo_names)"
   ]
  },
  {
   "cell_type": "code",
   "execution_count": 328,
   "metadata": {},
   "outputs": [
    {
     "data": {
      "text/plain": [
       "(507,)"
      ]
     },
     "execution_count": 328,
     "metadata": {},
     "output_type": "execute_result"
    }
   ],
   "source": [
    "repo_names.shape"
   ]
  },
  {
   "cell_type": "code",
   "execution_count": 132,
   "metadata": {},
   "outputs": [],
   "source": [
    "import bq_utils as bqu\n",
    "import pandas as pd\n",
    "import numpy as np\n",
    "import json\n",
    "from pandas.io.json import json_normalize"
   ]
  },
  {
   "cell_type": "code",
   "execution_count": 133,
   "metadata": {},
   "outputs": [
    {
     "data": {
      "text/plain": [
       "<bq_utils.BigQueryHelper at 0x7ff2fbeb84a8>"
      ]
     },
     "execution_count": 133,
     "metadata": {},
     "output_type": "execute_result"
    }
   ],
   "source": [
    "import os\n",
    "os.environ['GOOGLE_APPLICATION_CREDENTIALS'] = 'bq_key.json'\n",
    "gh_archive = bqu.BigQueryHelper(active_project= \"githubarchive\", \n",
    "                                dataset_name = \"year\")\n",
    "gh_archive"
   ]
  },
  {
   "cell_type": "code",
   "execution_count": 134,
   "metadata": {},
   "outputs": [
    {
     "data": {
      "text/plain": [
       "['2011', '2012', '2013', '2014', '2015', '2016', '2017', '2018']"
      ]
     },
     "execution_count": 134,
     "metadata": {},
     "output_type": "execute_result"
    }
   ],
   "source": [
    "gh_archive.list_tables()"
   ]
  },
  {
   "cell_type": "code",
   "execution_count": 138,
   "metadata": {},
   "outputs": [
    {
     "data": {
      "text/plain": [
       "56.20826395787299"
      ]
     },
     "execution_count": 138,
     "metadata": {},
     "output_type": "execute_result"
    }
   ],
   "source": [
    "query = \"\"\"\n",
    "SELECT type, count(*)\n",
    "        FROM `githubarchive.year.*`\n",
    "        WHERE repo.name in {repos}\n",
    "        GROUP BY type\n",
    "\"\"\".format(repos=tuple(repo_names))\n",
    "gh_archive.estimate_query_size(query)"
   ]
  },
  {
   "cell_type": "code",
   "execution_count": 141,
   "metadata": {},
   "outputs": [
    {
     "data": {
      "text/html": [
       "<div>\n",
       "<style scoped>\n",
       "    .dataframe tbody tr th:only-of-type {\n",
       "        vertical-align: middle;\n",
       "    }\n",
       "\n",
       "    .dataframe tbody tr th {\n",
       "        vertical-align: top;\n",
       "    }\n",
       "\n",
       "    .dataframe thead th {\n",
       "        text-align: right;\n",
       "    }\n",
       "</style>\n",
       "<table border=\"1\" class=\"dataframe\">\n",
       "  <thead>\n",
       "    <tr style=\"text-align: right;\">\n",
       "      <th></th>\n",
       "      <th>type</th>\n",
       "      <th>f0_</th>\n",
       "    </tr>\n",
       "  </thead>\n",
       "  <tbody>\n",
       "    <tr>\n",
       "      <th>2</th>\n",
       "      <td>IssuesEvent</td>\n",
       "      <td>434016</td>\n",
       "    </tr>\n",
       "    <tr>\n",
       "      <th>6</th>\n",
       "      <td>PushEvent</td>\n",
       "      <td>930212</td>\n",
       "    </tr>\n",
       "    <tr>\n",
       "      <th>8</th>\n",
       "      <td>PullRequestEvent</td>\n",
       "      <td>746701</td>\n",
       "    </tr>\n",
       "    <tr>\n",
       "      <th>13</th>\n",
       "      <td>IssueCommentEvent</td>\n",
       "      <td>2515484</td>\n",
       "    </tr>\n",
       "    <tr>\n",
       "      <th>15</th>\n",
       "      <td>PullRequestReviewCommentEvent</td>\n",
       "      <td>769722</td>\n",
       "    </tr>\n",
       "  </tbody>\n",
       "</table>\n",
       "</div>"
      ],
      "text/plain": [
       "                             type      f0_\n",
       "2                     IssuesEvent   434016\n",
       "6                       PushEvent   930212\n",
       "8                PullRequestEvent   746701\n",
       "13              IssueCommentEvent  2515484\n",
       "15  PullRequestReviewCommentEvent   769722"
      ]
     },
     "execution_count": 141,
     "metadata": {},
     "output_type": "execute_result"
    }
   ],
   "source": [
    "df = gh_archive.query_to_pandas(query)\n",
    "df[df.type.isin(['PushEvent', 'PullRequestEvent', 'IssuesEvent', \n",
    "                'PullRequestReviewCommentEvent', 'IssueCommentEvent'])]"
   ]
  },
  {
   "cell_type": "code",
   "execution_count": 162,
   "metadata": {},
   "outputs": [
    {
     "data": {
      "text/plain": [
       "3279.453662957996"
      ]
     },
     "execution_count": 162,
     "metadata": {},
     "output_type": "execute_result"
    }
   ],
   "source": [
    "query = \"\"\"\n",
    "SELECT \n",
    "    repo.name as repo_name, \n",
    "    type as event_type, \n",
    "    actor.id as actor_id,\n",
    "    actor.login as actor_name,\n",
    "    JSON_EXTRACT_SCALAR(payload, '$.action') as issue_status,\n",
    "    JSON_EXTRACT_SCALAR(payload, '$.issue.url') as issue_api_url,\n",
    "    JSON_EXTRACT_SCALAR(payload, '$.issue.html_url') as issue_url,\n",
    "    JSON_EXTRACT_SCALAR(payload, '$.issue.user.login') as issue_creator_name,\n",
    "    JSON_EXTRACT_SCALAR(payload, '$.issue.user.url') as issue_creator_api_url,\n",
    "    JSON_EXTRACT_SCALAR(payload, '$.issue.user.html_url') as issue_creator_url,\n",
    "    JSON_EXTRACT_SCALAR(payload, '$.issue.comments') as comment_count,\n",
    "    JSON_EXTRACT_SCALAR(payload, '$.issue.id') as issue_id,\n",
    "    JSON_EXTRACT_SCALAR(payload, '$.issue.number') as issue_number,\n",
    "    JSON_EXTRACT_SCALAR(payload, '$.issue.created_at') as issue_created_at,\n",
    "    JSON_EXTRACT_SCALAR(payload, '$.issue.updated_at') as issue_updated_at,\n",
    "    JSON_EXTRACT_SCALAR(payload, '$.issue.closed_at') as issue_closed_at,\n",
    "    TRIM(REGEXP_REPLACE(\n",
    "             REGEXP_REPLACE(\n",
    "                 JSON_EXTRACT_SCALAR(payload, '$.issue.title'), \n",
    "                 r'\\\\r\\\\n|\\\\r|\\\\n', \n",
    "                 ' '),\n",
    "             r'\\s{2,}', \n",
    "             ' ')) as issue_title,\n",
    "    TRIM(REGEXP_REPLACE(\n",
    "             REGEXP_REPLACE(\n",
    "                 JSON_EXTRACT_SCALAR(payload, '$.issue.body'), \n",
    "                 r'\\\\r\\\\n|\\\\r|\\\\n', \n",
    "                 ' '),\n",
    "             r'\\s{2,}', \n",
    "             ' ')) as issue_body\n",
    "        \n",
    "FROM `githubarchive.year.*`\n",
    "    WHERE repo.name in {repos}\n",
    "    AND type = 'IssuesEvent'\n",
    "    \"\"\".replace('{repos}', str(tuple(repo_names)))\n",
    "gh_archive.estimate_query_size(query)"
   ]
  },
  {
   "cell_type": "code",
   "execution_count": 163,
   "metadata": {},
   "outputs": [],
   "source": [
    "df = gh_archive.query_to_pandas(query)"
   ]
  },
  {
   "cell_type": "code",
   "execution_count": 164,
   "metadata": {},
   "outputs": [],
   "source": [
    "df.to_csv('GH_issues.csv', index=False)"
   ]
  },
  {
   "cell_type": "code",
   "execution_count": 165,
   "metadata": {},
   "outputs": [
    {
     "data": {
      "text/plain": [
       "(434016, 18)"
      ]
     },
     "execution_count": 165,
     "metadata": {},
     "output_type": "execute_result"
    }
   ],
   "source": [
    "df.shape"
   ]
  },
  {
   "cell_type": "code",
   "execution_count": 173,
   "metadata": {},
   "outputs": [
    {
     "data": {
      "text/plain": [
       "0"
      ]
     },
     "execution_count": 173,
     "metadata": {},
     "output_type": "execute_result"
    }
   ],
   "source": [
    "del df\n",
    "gc.collect()"
   ]
  },
  {
   "cell_type": "code",
   "execution_count": 171,
   "metadata": {},
   "outputs": [
    {
     "data": {
      "text/plain": [
       "3291.882761504501"
      ]
     },
     "execution_count": 171,
     "metadata": {},
     "output_type": "execute_result"
    }
   ],
   "source": [
    "query = \"\"\"\n",
    "SELECT \n",
    "    repo.name as repo_name, \n",
    "    type as event_type, \n",
    "    actor.id as actor_id,\n",
    "    actor.login as actor_name,\n",
    "    JSON_EXTRACT_SCALAR(payload, '$.push_id') as push_id,\n",
    "    JSON_EXTRACT_SCALAR(payload, '$.size') as size,\n",
    "    JSON_EXTRACT_SCALAR(payload, '$.distinct_size') as distinct_size,\n",
    "    JSON_EXTRACT(payload, '$.commits') as commits,\n",
    "    created_at as rec_created_at\n",
    "        \n",
    "FROM `githubarchive.year.*`\n",
    "    WHERE repo.name in {repos}\n",
    "    AND type = 'PushEvent'\n",
    "\"\"\".format(repos=tuple(repo_names))\n",
    "gh_archive.estimate_query_size(query)"
   ]
  },
  {
   "cell_type": "code",
   "execution_count": 174,
   "metadata": {},
   "outputs": [],
   "source": [
    "df = gh_archive.query_to_pandas(query)"
   ]
  },
  {
   "cell_type": "code",
   "execution_count": 175,
   "metadata": {},
   "outputs": [],
   "source": [
    "df.to_csv('GH_commits_raw.csv', index=False)"
   ]
  },
  {
   "cell_type": "code",
   "execution_count": 176,
   "metadata": {},
   "outputs": [
    {
     "data": {
      "text/plain": [
       "(930212, 9)"
      ]
     },
     "execution_count": 176,
     "metadata": {},
     "output_type": "execute_result"
    }
   ],
   "source": [
    "df.shape"
   ]
  },
  {
   "cell_type": "code",
   "execution_count": 178,
   "metadata": {},
   "outputs": [
    {
     "data": {
      "text/html": [
       "<div>\n",
       "<style scoped>\n",
       "    .dataframe tbody tr th:only-of-type {\n",
       "        vertical-align: middle;\n",
       "    }\n",
       "\n",
       "    .dataframe tbody tr th {\n",
       "        vertical-align: top;\n",
       "    }\n",
       "\n",
       "    .dataframe thead th {\n",
       "        text-align: right;\n",
       "    }\n",
       "</style>\n",
       "<table border=\"1\" class=\"dataframe\">\n",
       "  <thead>\n",
       "    <tr style=\"text-align: right;\">\n",
       "      <th></th>\n",
       "      <th>repo_name</th>\n",
       "      <th>event_type</th>\n",
       "      <th>actor_id</th>\n",
       "      <th>actor_name</th>\n",
       "      <th>push_id</th>\n",
       "      <th>size</th>\n",
       "      <th>distinct_size</th>\n",
       "      <th>commits</th>\n",
       "      <th>rec_created_at</th>\n",
       "    </tr>\n",
       "  </thead>\n",
       "  <tbody>\n",
       "    <tr>\n",
       "      <th>0</th>\n",
       "      <td>h2oai/h2o-3</td>\n",
       "      <td>PushEvent</td>\n",
       "      <td>18428990</td>\n",
       "      <td>angela0xdata</td>\n",
       "      <td>2412122536</td>\n",
       "      <td>1</td>\n",
       "      <td>1</td>\n",
       "      <td>[{\"sha\":\"5cdb97644ba03998ea78af8222a56036b80f1...</td>\n",
       "      <td>2018-03-18 14:36:23+00:00</td>\n",
       "    </tr>\n",
       "    <tr>\n",
       "      <th>1</th>\n",
       "      <td>numpy/numpy</td>\n",
       "      <td>PushEvent</td>\n",
       "      <td>77272</td>\n",
       "      <td>charris</td>\n",
       "      <td>2317952012</td>\n",
       "      <td>2</td>\n",
       "      <td>2</td>\n",
       "      <td>[{\"sha\":\"58d47199e2c72b57c05c550567c03fdebbfdf...</td>\n",
       "      <td>2018-02-09 03:05:21+00:00</td>\n",
       "    </tr>\n",
       "    <tr>\n",
       "      <th>2</th>\n",
       "      <td>rails/rails</td>\n",
       "      <td>PushEvent</td>\n",
       "      <td>47848</td>\n",
       "      <td>rafaelfranca</td>\n",
       "      <td>2985095948</td>\n",
       "      <td>1</td>\n",
       "      <td>1</td>\n",
       "      <td>[{\"sha\":\"8cdb5df7c5c966495730587470295ac2ab3ce...</td>\n",
       "      <td>2018-10-23 22:04:39+00:00</td>\n",
       "    </tr>\n",
       "    <tr>\n",
       "      <th>3</th>\n",
       "      <td>apache/lucene-solr</td>\n",
       "      <td>PushEvent</td>\n",
       "      <td>1341245</td>\n",
       "      <td>asfgit</td>\n",
       "      <td>2641477850</td>\n",
       "      <td>1</td>\n",
       "      <td>1</td>\n",
       "      <td>[{\"sha\":\"5ae716c412d705570b2dafd423755eb581422...</td>\n",
       "      <td>2018-06-13 11:09:49+00:00</td>\n",
       "    </tr>\n",
       "    <tr>\n",
       "      <th>4</th>\n",
       "      <td>apache/hadoop</td>\n",
       "      <td>PushEvent</td>\n",
       "      <td>1341245</td>\n",
       "      <td>asfgit</td>\n",
       "      <td>3037111129</td>\n",
       "      <td>1</td>\n",
       "      <td>1</td>\n",
       "      <td>[{\"sha\":\"50ce9fd4e24ce3be863452d40edadd20144c7...</td>\n",
       "      <td>2018-11-10 09:03:35+00:00</td>\n",
       "    </tr>\n",
       "  </tbody>\n",
       "</table>\n",
       "</div>"
      ],
      "text/plain": [
       "            repo_name event_type  actor_id    actor_name     push_id size  \\\n",
       "0         h2oai/h2o-3  PushEvent  18428990  angela0xdata  2412122536    1   \n",
       "1         numpy/numpy  PushEvent     77272       charris  2317952012    2   \n",
       "2         rails/rails  PushEvent     47848  rafaelfranca  2985095948    1   \n",
       "3  apache/lucene-solr  PushEvent   1341245        asfgit  2641477850    1   \n",
       "4       apache/hadoop  PushEvent   1341245        asfgit  3037111129    1   \n",
       "\n",
       "  distinct_size                                            commits  \\\n",
       "0             1  [{\"sha\":\"5cdb97644ba03998ea78af8222a56036b80f1...   \n",
       "1             2  [{\"sha\":\"58d47199e2c72b57c05c550567c03fdebbfdf...   \n",
       "2             1  [{\"sha\":\"8cdb5df7c5c966495730587470295ac2ab3ce...   \n",
       "3             1  [{\"sha\":\"5ae716c412d705570b2dafd423755eb581422...   \n",
       "4             1  [{\"sha\":\"50ce9fd4e24ce3be863452d40edadd20144c7...   \n",
       "\n",
       "             rec_created_at  \n",
       "0 2018-03-18 14:36:23+00:00  \n",
       "1 2018-02-09 03:05:21+00:00  \n",
       "2 2018-10-23 22:04:39+00:00  \n",
       "3 2018-06-13 11:09:49+00:00  \n",
       "4 2018-11-10 09:03:35+00:00  "
      ]
     },
     "execution_count": 178,
     "metadata": {},
     "output_type": "execute_result"
    }
   ],
   "source": [
    "df.head()"
   ]
  },
  {
   "cell_type": "code",
   "execution_count": 185,
   "metadata": {},
   "outputs": [],
   "source": [
    "new_df = df[~pd.isnull(df['commits'])]"
   ]
  },
  {
   "cell_type": "code",
   "execution_count": 186,
   "metadata": {},
   "outputs": [
    {
     "name": "stderr",
     "output_type": "stream",
     "text": [
      "/home/dsarkar/anaconda3/lib/python3.6/site-packages/ipykernel_launcher.py:3: SettingWithCopyWarning: \n",
      "A value is trying to be set on a copy of a slice from a DataFrame.\n",
      "Try using .loc[row_indexer,col_indexer] = value instead\n",
      "\n",
      "See the caveats in the documentation: http://pandas.pydata.org/pandas-docs/stable/indexing.html#indexing-view-versus-copy\n",
      "  This is separate from the ipykernel package so we can avoid doing imports until\n"
     ]
    }
   ],
   "source": [
    "cols = list(new_df.columns)\n",
    "cols.remove('commits')\n",
    "new_df['commits'] = new_df['commits'].apply(lambda row: json.loads(row))\n",
    "new_df = new_df.set_index(cols)['commits'].apply(pd.Series).stack().reset_index()\n",
    "new_df.columns = cols + ['commit_num', 'commit_details']\n",
    "commit_details = json_normalize(new_df['commit_details'])\n",
    "new_df = new_df.drop(columns=['commit_num', 'commit_details'])\n",
    "new_df = pd.concat([new_df, commit_details], axis=1)"
   ]
  },
  {
   "cell_type": "code",
   "execution_count": 187,
   "metadata": {},
   "outputs": [
    {
     "data": {
      "text/plain": [
       "(2174563, 14)"
      ]
     },
     "execution_count": 187,
     "metadata": {},
     "output_type": "execute_result"
    }
   ],
   "source": [
    "new_df.shape"
   ]
  },
  {
   "cell_type": "code",
   "execution_count": 188,
   "metadata": {},
   "outputs": [],
   "source": [
    "new_df.to_csv('GH_commits.csv', index=False)"
   ]
  },
  {
   "cell_type": "code",
   "execution_count": 189,
   "metadata": {},
   "outputs": [
    {
     "data": {
      "text/html": [
       "<div>\n",
       "<style scoped>\n",
       "    .dataframe tbody tr th:only-of-type {\n",
       "        vertical-align: middle;\n",
       "    }\n",
       "\n",
       "    .dataframe tbody tr th {\n",
       "        vertical-align: top;\n",
       "    }\n",
       "\n",
       "    .dataframe thead th {\n",
       "        text-align: right;\n",
       "    }\n",
       "</style>\n",
       "<table border=\"1\" class=\"dataframe\">\n",
       "  <thead>\n",
       "    <tr style=\"text-align: right;\">\n",
       "      <th></th>\n",
       "      <th>repo_name</th>\n",
       "      <th>event_type</th>\n",
       "      <th>actor_id</th>\n",
       "      <th>actor_name</th>\n",
       "      <th>push_id</th>\n",
       "      <th>size</th>\n",
       "      <th>distinct_size</th>\n",
       "      <th>rec_created_at</th>\n",
       "      <th>author.email</th>\n",
       "      <th>author.name</th>\n",
       "      <th>distinct</th>\n",
       "      <th>message</th>\n",
       "      <th>sha</th>\n",
       "      <th>url</th>\n",
       "    </tr>\n",
       "  </thead>\n",
       "  <tbody>\n",
       "    <tr>\n",
       "      <th>0</th>\n",
       "      <td>h2oai/h2o-3</td>\n",
       "      <td>PushEvent</td>\n",
       "      <td>18428990</td>\n",
       "      <td>angela0xdata</td>\n",
       "      <td>2412122536</td>\n",
       "      <td>1</td>\n",
       "      <td>1</td>\n",
       "      <td>2018-03-18 14:36:23+00:00</td>\n",
       "      <td>7c125b314ee7fec059df0b595622f79463bc36ec@0xdat...</td>\n",
       "      <td>angela0xdata</td>\n",
       "      <td>True</td>\n",
       "      <td>Added update for 3.18.0.4 release</td>\n",
       "      <td>5cdb97644ba03998ea78af8222a56036b80f1efe</td>\n",
       "      <td>https://api.github.com/repos/h2oai/h2o-3/commi...</td>\n",
       "    </tr>\n",
       "    <tr>\n",
       "      <th>1</th>\n",
       "      <td>numpy/numpy</td>\n",
       "      <td>PushEvent</td>\n",
       "      <td>77272</td>\n",
       "      <td>charris</td>\n",
       "      <td>2317952012</td>\n",
       "      <td>2</td>\n",
       "      <td>2</td>\n",
       "      <td>2018-02-09 03:05:21+00:00</td>\n",
       "      <td>c63e9d3256de29b0648862e9584cc0360471f3b2@gmail...</td>\n",
       "      <td>Eric Wieser</td>\n",
       "      <td>True</td>\n",
       "      <td>ENH: Show the silenced error and traceback in ...</td>\n",
       "      <td>58d47199e2c72b57c05c550567c03fdebbfdf86d</td>\n",
       "      <td>https://api.github.com/repos/numpy/numpy/commi...</td>\n",
       "    </tr>\n",
       "    <tr>\n",
       "      <th>2</th>\n",
       "      <td>numpy/numpy</td>\n",
       "      <td>PushEvent</td>\n",
       "      <td>77272</td>\n",
       "      <td>charris</td>\n",
       "      <td>2317952012</td>\n",
       "      <td>2</td>\n",
       "      <td>2</td>\n",
       "      <td>2018-02-09 03:05:21+00:00</td>\n",
       "      <td>437b12b5887266fca3b5f10a48c6f1b638c2763f@gmail...</td>\n",
       "      <td>Charles Harris</td>\n",
       "      <td>True</td>\n",
       "      <td>Merge pull request #10337 from eric-wieser/war...</td>\n",
       "      <td>4cfac4067a27835de6b0ae204df0e8c91998c1f2</td>\n",
       "      <td>https://api.github.com/repos/numpy/numpy/commi...</td>\n",
       "    </tr>\n",
       "    <tr>\n",
       "      <th>3</th>\n",
       "      <td>rails/rails</td>\n",
       "      <td>PushEvent</td>\n",
       "      <td>47848</td>\n",
       "      <td>rafaelfranca</td>\n",
       "      <td>2985095948</td>\n",
       "      <td>1</td>\n",
       "      <td>1</td>\n",
       "      <td>2018-10-23 22:04:39+00:00</td>\n",
       "      <td>84c66fc058fe65d1bb08ca33b21bfe0fa5cb8f17@gmail...</td>\n",
       "      <td>Rafael Mendonça França</td>\n",
       "      <td>True</td>\n",
       "      <td>Do not need to mention the method that is bein...</td>\n",
       "      <td>8cdb5df7c5c966495730587470295ac2ab3ce7fc</td>\n",
       "      <td>https://api.github.com/repos/rails/rails/commi...</td>\n",
       "    </tr>\n",
       "    <tr>\n",
       "      <th>4</th>\n",
       "      <td>apache/lucene-solr</td>\n",
       "      <td>PushEvent</td>\n",
       "      <td>1341245</td>\n",
       "      <td>asfgit</td>\n",
       "      <td>2641477850</td>\n",
       "      <td>1</td>\n",
       "      <td>1</td>\n",
       "      <td>2018-06-13 11:09:49+00:00</td>\n",
       "      <td>b7b0c6787377b50e73722d78c6f6b98225fd30c9@apach...</td>\n",
       "      <td>Alan Woodward</td>\n",
       "      <td>True</td>\n",
       "      <td>LUCENE-7444: StandardAnalyzer not longer uses ...</td>\n",
       "      <td>5ae716c412d705570b2dafd423755eb58142212e</td>\n",
       "      <td>https://api.github.com/repos/apache/lucene-sol...</td>\n",
       "    </tr>\n",
       "  </tbody>\n",
       "</table>\n",
       "</div>"
      ],
      "text/plain": [
       "            repo_name event_type  actor_id    actor_name     push_id size  \\\n",
       "0         h2oai/h2o-3  PushEvent  18428990  angela0xdata  2412122536    1   \n",
       "1         numpy/numpy  PushEvent     77272       charris  2317952012    2   \n",
       "2         numpy/numpy  PushEvent     77272       charris  2317952012    2   \n",
       "3         rails/rails  PushEvent     47848  rafaelfranca  2985095948    1   \n",
       "4  apache/lucene-solr  PushEvent   1341245        asfgit  2641477850    1   \n",
       "\n",
       "  distinct_size            rec_created_at  \\\n",
       "0             1 2018-03-18 14:36:23+00:00   \n",
       "1             2 2018-02-09 03:05:21+00:00   \n",
       "2             2 2018-02-09 03:05:21+00:00   \n",
       "3             1 2018-10-23 22:04:39+00:00   \n",
       "4             1 2018-06-13 11:09:49+00:00   \n",
       "\n",
       "                                        author.email             author.name  \\\n",
       "0  7c125b314ee7fec059df0b595622f79463bc36ec@0xdat...            angela0xdata   \n",
       "1  c63e9d3256de29b0648862e9584cc0360471f3b2@gmail...             Eric Wieser   \n",
       "2  437b12b5887266fca3b5f10a48c6f1b638c2763f@gmail...          Charles Harris   \n",
       "3  84c66fc058fe65d1bb08ca33b21bfe0fa5cb8f17@gmail...  Rafael Mendonça França   \n",
       "4  b7b0c6787377b50e73722d78c6f6b98225fd30c9@apach...           Alan Woodward   \n",
       "\n",
       "  distinct                                            message  \\\n",
       "0     True                  Added update for 3.18.0.4 release   \n",
       "1     True  ENH: Show the silenced error and traceback in ...   \n",
       "2     True  Merge pull request #10337 from eric-wieser/war...   \n",
       "3     True  Do not need to mention the method that is bein...   \n",
       "4     True  LUCENE-7444: StandardAnalyzer not longer uses ...   \n",
       "\n",
       "                                        sha  \\\n",
       "0  5cdb97644ba03998ea78af8222a56036b80f1efe   \n",
       "1  58d47199e2c72b57c05c550567c03fdebbfdf86d   \n",
       "2  4cfac4067a27835de6b0ae204df0e8c91998c1f2   \n",
       "3  8cdb5df7c5c966495730587470295ac2ab3ce7fc   \n",
       "4  5ae716c412d705570b2dafd423755eb58142212e   \n",
       "\n",
       "                                                 url  \n",
       "0  https://api.github.com/repos/h2oai/h2o-3/commi...  \n",
       "1  https://api.github.com/repos/numpy/numpy/commi...  \n",
       "2  https://api.github.com/repos/numpy/numpy/commi...  \n",
       "3  https://api.github.com/repos/rails/rails/commi...  \n",
       "4  https://api.github.com/repos/apache/lucene-sol...  "
      ]
     },
     "execution_count": 189,
     "metadata": {},
     "output_type": "execute_result"
    }
   ],
   "source": [
    "new_df.head()"
   ]
  },
  {
   "cell_type": "code",
   "execution_count": 193,
   "metadata": {},
   "outputs": [
    {
     "data": {
      "text/plain": [
       "351"
      ]
     },
     "execution_count": 193,
     "metadata": {},
     "output_type": "execute_result"
    }
   ],
   "source": [
    "del df\n",
    "del new_df\n",
    "gc.collect()"
   ]
  },
  {
   "cell_type": "code",
   "execution_count": 194,
   "metadata": {},
   "outputs": [
    {
     "data": {
      "text/plain": [
       "3279.453662957996"
      ]
     },
     "execution_count": 194,
     "metadata": {},
     "output_type": "execute_result"
    }
   ],
   "source": [
    "query = \"\"\"\n",
    "SELECT \n",
    "    repo.name as repo_name, \n",
    "    type as event_type, \n",
    "    actor.id as actor_id,\n",
    "    actor.login as actor_name,\n",
    "    JSON_EXTRACT_SCALAR(payload, '$.action') as pr_status,\n",
    "    JSON_EXTRACT_SCALAR(payload, '$.pull_request.id') as pr_id,\n",
    "    JSON_EXTRACT_SCALAR(payload, '$.pull_request.number') as pr_number,\n",
    "    JSON_EXTRACT_SCALAR(payload, '$.pull_request.url') as pr_api_url,\n",
    "    JSON_EXTRACT_SCALAR(payload, '$.pull_request.html_url') as pr_url,\n",
    "    JSON_EXTRACT_SCALAR(payload, '$.pull_request.diff_url') as pr_diff_url,\n",
    "    JSON_EXTRACT_SCALAR(payload, '$.pull_request.patch_url') as pr_patch_url,\n",
    "    JSON_EXTRACT_SCALAR(payload, '$.pull_request.user.login') as pr_creator_name,\n",
    "    JSON_EXTRACT_SCALAR(payload, '$.pull_request.user.url') as pr_creator_api_url,\n",
    "    JSON_EXTRACT_SCALAR(payload, '$.pull_request.user.html_url') as pr_creator_url,\n",
    "    JSON_EXTRACT_SCALAR(payload, '$.pull_request.created_at') as pr_created_at,\n",
    "    JSON_EXTRACT_SCALAR(payload, '$.pull_request.updated_at') as pr_updated_at,\n",
    "    JSON_EXTRACT_SCALAR(payload, '$.pull_request.closed_at') as pr_closed_at,\n",
    "    JSON_EXTRACT_SCALAR(payload, '$.pull_request.merged_at') as pr_merged_at,\n",
    "    JSON_EXTRACT_SCALAR(payload, '$.pull_request.merged') as pr_merged_status,\n",
    "    JSON_EXTRACT_SCALAR(payload, '$.pull_request.comments') as pr_comments_count,\n",
    "    JSON_EXTRACT_SCALAR(payload, '$.pull_request.review_comments') as pr_review_comments_count,\n",
    "    JSON_EXTRACT_SCALAR(payload, '$.pull_request.commits') as pr_commits_count,\n",
    "    JSON_EXTRACT_SCALAR(payload, '$.pull_request.additions') as pr_additions_count,\n",
    "    JSON_EXTRACT_SCALAR(payload, '$.pull_request.deletions') as pr_deletions_count,\n",
    "    JSON_EXTRACT_SCALAR(payload, '$.pull_request.changed_files') as pr_changed_files_count,    \n",
    "    TRIM(REGEXP_REPLACE(\n",
    "             REGEXP_REPLACE(\n",
    "                 JSON_EXTRACT_SCALAR(payload, '$.pull_request.title'), \n",
    "                 r'\\\\r\\\\n|\\\\r|\\\\n', \n",
    "                 ' '),\n",
    "             r'\\s{2,}', \n",
    "             ' ')) as pr_title,\n",
    "    TRIM(REGEXP_REPLACE(\n",
    "             REGEXP_REPLACE(\n",
    "                 JSON_EXTRACT_SCALAR(payload, '$.pull_request.body'), \n",
    "                 r'\\\\r\\\\n|\\\\r|\\\\n', \n",
    "                 ' '),\n",
    "             r'\\s{2,}', \n",
    "             ' ')) as pr_body\n",
    "        \n",
    "FROM `githubarchive.year.*`\n",
    "    WHERE repo.name in {repos}\n",
    "    AND type = 'PullRequestEvent'\n",
    "\"\"\".replace('{repos}', str(tuple(repo_names)))\n",
    "gh_archive.estimate_query_size(query)"
   ]
  },
  {
   "cell_type": "code",
   "execution_count": 196,
   "metadata": {},
   "outputs": [],
   "source": [
    "df = gh_archive.query_to_pandas(query)"
   ]
  },
  {
   "cell_type": "code",
   "execution_count": 197,
   "metadata": {},
   "outputs": [
    {
     "data": {
      "text/plain": [
       "(746701, 27)"
      ]
     },
     "execution_count": 197,
     "metadata": {},
     "output_type": "execute_result"
    }
   ],
   "source": [
    "df.shape"
   ]
  },
  {
   "cell_type": "code",
   "execution_count": 198,
   "metadata": {},
   "outputs": [],
   "source": [
    "df.to_csv('GH_pull_requests.csv', index=False)"
   ]
  },
  {
   "cell_type": "code",
   "execution_count": 314,
   "metadata": {},
   "outputs": [],
   "source": [
    "repos = pd.DataFrame(repo_names, columns=['repo_names'])\n",
    "repos.to_csv('GH_repo_names.csv', index=False)"
   ]
  },
  {
   "cell_type": "code",
   "execution_count": 315,
   "metadata": {},
   "outputs": [
    {
     "data": {
      "text/plain": [
       "(507, 1)"
      ]
     },
     "execution_count": 315,
     "metadata": {},
     "output_type": "execute_result"
    }
   ],
   "source": [
    "repos.shape"
   ]
  },
  {
   "cell_type": "code",
   "execution_count": null,
   "metadata": {},
   "outputs": [],
   "source": []
  }
 ],
 "metadata": {
  "kernelspec": {
   "display_name": "Python 3",
   "language": "python",
   "name": "python3"
  },
  "language_info": {
   "codemirror_mode": {
    "name": "ipython",
    "version": 3
   },
   "file_extension": ".py",
   "mimetype": "text/x-python",
   "name": "python",
   "nbconvert_exporter": "python",
   "pygments_lexer": "ipython3",
   "version": "3.6.5"
  }
 },
 "nbformat": 4,
 "nbformat_minor": 2
}
