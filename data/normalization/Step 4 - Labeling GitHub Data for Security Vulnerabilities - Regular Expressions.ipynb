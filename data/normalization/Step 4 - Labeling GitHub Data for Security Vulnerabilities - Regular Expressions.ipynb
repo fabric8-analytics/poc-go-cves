{
 "cells": [
  {
   "cell_type": "code",
   "execution_count": 1,
   "metadata": {},
   "outputs": [],
   "source": [
    "import re\n",
    "import pandas as pd\n",
    "import numpy as np"
   ]
  },
  {
   "cell_type": "code",
   "execution_count": 4,
   "metadata": {},
   "outputs": [
    {
     "name": "stdout",
     "output_type": "stream",
     "text": [
      "<class 'pandas.core.frame.DataFrame'>\n",
      "RangeIndex: 241934 entries, 0 to 241933\n",
      "Data columns (total 19 columns):\n",
      "repo_name                241934 non-null object\n",
      "event_type               241934 non-null object\n",
      "actor_id                 241934 non-null int64\n",
      "actor_name               241934 non-null object\n",
      "issue_status             241934 non-null object\n",
      "issue_api_url            241934 non-null object\n",
      "issue_url                241934 non-null object\n",
      "issue_creator_name       241934 non-null object\n",
      "issue_creator_api_url    241934 non-null object\n",
      "issue_creator_url        238954 non-null object\n",
      "comment_count            241934 non-null float64\n",
      "issue_id                 241934 non-null float64\n",
      "issue_number             241934 non-null float64\n",
      "issue_created_at         241934 non-null object\n",
      "issue_updated_at         241934 non-null object\n",
      "issue_closed_at          190189 non-null object\n",
      "issue_title              241933 non-null object\n",
      "issue_body               234972 non-null object\n",
      "class_label              241934 non-null int64\n",
      "dtypes: float64(3), int64(2), object(14)\n",
      "memory usage: 35.1+ MB\n"
     ]
    }
   ],
   "source": [
    "issues_df = pd.read_csv('GH_issues_clean_labeled.csv')\n",
    "issues_df.info()"
   ]
  },
  {
   "cell_type": "code",
   "execution_count": 10,
   "metadata": {},
   "outputs": [],
   "source": [
    "issues_df['issue_title'] = issues_df.issue_title.fillna('')\n",
    "issues_df['issue_body'] = issues_df.issue_body.fillna('')\n",
    "issues_df['description'] = issues_df['issue_title'].map(str) + ' ' + issues_df['issue_body']"
   ]
  },
  {
   "cell_type": "code",
   "execution_count": 88,
   "metadata": {},
   "outputs": [
    {
     "data": {
      "text/plain": [
       "0    241685\n",
       "2       249\n",
       "Name: class_label, dtype: int64"
      ]
     },
     "execution_count": 88,
     "metadata": {},
     "output_type": "execute_result"
    }
   ],
   "source": [
    "issues_df.class_label.value_counts()"
   ]
  },
  {
   "cell_type": "code",
   "execution_count": 89,
   "metadata": {},
   "outputs": [
    {
     "name": "stderr",
     "output_type": "stream",
     "text": [
      "/home/dsarkar/anaconda3/lib/python3.6/site-packages/IPython/core/interactiveshell.py:2785: DtypeWarning: Columns (18) have mixed types. Specify dtype option on import or set low_memory=False.\n",
      "  interactivity=interactivity, compiler=compiler, result=result)\n"
     ]
    },
    {
     "name": "stdout",
     "output_type": "stream",
     "text": [
      "<class 'pandas.core.frame.DataFrame'>\n",
      "RangeIndex: 359804 entries, 0 to 359803\n",
      "Data columns (total 28 columns):\n",
      "repo_name                   359804 non-null object\n",
      "event_type                  359804 non-null object\n",
      "actor_id                    359804 non-null int64\n",
      "actor_name                  359804 non-null object\n",
      "pr_status                   359804 non-null object\n",
      "pr_id                       359804 non-null int64\n",
      "pr_number                   359804 non-null int64\n",
      "pr_api_url                  359804 non-null object\n",
      "pr_url                      359804 non-null object\n",
      "pr_diff_url                 359804 non-null object\n",
      "pr_patch_url                359804 non-null object\n",
      "pr_creator_name             355496 non-null object\n",
      "pr_creator_api_url          355496 non-null object\n",
      "pr_creator_url              350254 non-null object\n",
      "pr_created_at               355497 non-null object\n",
      "pr_updated_at               355497 non-null object\n",
      "pr_closed_at                329332 non-null object\n",
      "pr_merged_at                210768 non-null object\n",
      "pr_merged_status            355497 non-null object\n",
      "pr_comments_count           355497 non-null float64\n",
      "pr_review_comments_count    355132 non-null float64\n",
      "pr_commits_count            359804 non-null int64\n",
      "pr_additions_count          359804 non-null int64\n",
      "pr_deletions_count          359804 non-null int64\n",
      "pr_changed_files_count      355497 non-null float64\n",
      "pr_title                    359804 non-null object\n",
      "pr_body                     287717 non-null object\n",
      "class_label                 359804 non-null int64\n",
      "dtypes: float64(3), int64(7), object(18)\n",
      "memory usage: 76.9+ MB\n"
     ]
    }
   ],
   "source": [
    "prs_df = pd.read_csv('GH_prs_clean_labeled.csv')\n",
    "prs_df.info()"
   ]
  },
  {
   "cell_type": "code",
   "execution_count": 90,
   "metadata": {},
   "outputs": [],
   "source": [
    "prs_df['pr_title'] = prs_df.pr_title.fillna('')\n",
    "prs_df['pr_body'] = prs_df.pr_body.fillna('')\n",
    "prs_df['description'] = prs_df['pr_title'].map(str) + ' ' + prs_df['pr_body']"
   ]
  },
  {
   "cell_type": "code",
   "execution_count": 91,
   "metadata": {},
   "outputs": [
    {
     "data": {
      "text/plain": [
       "0    359475\n",
       "2       329\n",
       "Name: class_label, dtype: int64"
      ]
     },
     "execution_count": 91,
     "metadata": {},
     "output_type": "execute_result"
    }
   ],
   "source": [
    "prs_df.class_label.value_counts()"
   ]
  },
  {
   "cell_type": "code",
   "execution_count": 92,
   "metadata": {},
   "outputs": [
    {
     "name": "stdout",
     "output_type": "stream",
     "text": [
      "<class 'pandas.core.frame.DataFrame'>\n",
      "RangeIndex: 601738 entries, 0 to 601737\n",
      "Data columns (total 2 columns):\n",
      "description    601738 non-null object\n",
      "class_label    601738 non-null int64\n",
      "dtypes: int64(1), object(1)\n",
      "memory usage: 9.2+ MB\n"
     ]
    }
   ],
   "source": [
    "df = pd.concat([issues_df[['description', 'class_label']], \n",
    "                prs_df[['description', 'class_label']]], axis=0).reset_index(drop=True)\n",
    "df.info()"
   ]
  },
  {
   "cell_type": "code",
   "execution_count": 93,
   "metadata": {},
   "outputs": [
    {
     "data": {
      "text/html": [
       "<div>\n",
       "<style scoped>\n",
       "    .dataframe tbody tr th:only-of-type {\n",
       "        vertical-align: middle;\n",
       "    }\n",
       "\n",
       "    .dataframe tbody tr th {\n",
       "        vertical-align: top;\n",
       "    }\n",
       "\n",
       "    .dataframe thead th {\n",
       "        text-align: right;\n",
       "    }\n",
       "</style>\n",
       "<table border=\"1\" class=\"dataframe\">\n",
       "  <thead>\n",
       "    <tr style=\"text-align: right;\">\n",
       "      <th></th>\n",
       "      <th>description</th>\n",
       "      <th>class_label</th>\n",
       "    </tr>\n",
       "  </thead>\n",
       "  <tbody>\n",
       "    <tr>\n",
       "      <th>0</th>\n",
       "      <td>add a filer aware clone of cms.plugins.flash</td>\n",
       "      <td>0</td>\n",
       "    </tr>\n",
       "    <tr>\n",
       "      <th>1</th>\n",
       "      <td>DocumentFragment#xpath fails to find specific ...</td>\n",
       "      <td>0</td>\n",
       "    </tr>\n",
       "    <tr>\n",
       "      <th>2</th>\n",
       "      <td>Unable to output the HTML::Document in the ori...</td>\n",
       "      <td>0</td>\n",
       "    </tr>\n",
       "    <tr>\n",
       "      <th>3</th>\n",
       "      <td>Javadoc Complete thorough Javadoc of all publi...</td>\n",
       "      <td>0</td>\n",
       "    </tr>\n",
       "    <tr>\n",
       "      <th>4</th>\n",
       "      <td>HTTP proxy tunneling</td>\n",
       "      <td>0</td>\n",
       "    </tr>\n",
       "  </tbody>\n",
       "</table>\n",
       "</div>"
      ],
      "text/plain": [
       "                                         description  class_label\n",
       "0      add a filer aware clone of cms.plugins.flash             0\n",
       "1  DocumentFragment#xpath fails to find specific ...            0\n",
       "2  Unable to output the HTML::Document in the ori...            0\n",
       "3  Javadoc Complete thorough Javadoc of all publi...            0\n",
       "4                              HTTP proxy tunneling             0"
      ]
     },
     "execution_count": 93,
     "metadata": {},
     "output_type": "execute_result"
    }
   ],
   "source": [
    "df.head()"
   ]
  },
  {
   "cell_type": "code",
   "execution_count": 94,
   "metadata": {},
   "outputs": [
    {
     "data": {
      "text/plain": [
       "0    601160\n",
       "2       578\n",
       "Name: class_label, dtype: int64"
      ]
     },
     "execution_count": 94,
     "metadata": {},
     "output_type": "execute_result"
    }
   ],
   "source": [
    "df.class_label.value_counts()"
   ]
  },
  {
   "cell_type": "code",
   "execution_count": 95,
   "metadata": {},
   "outputs": [],
   "source": [
    "def security_vulnerability_labeler(issue_description):\n",
    "    strong_vuln_pattern = ('(?i)(advisory|attack|(un)?authoriz(e|ation)|'\n",
    "                           'clickjack|cross.site|csrf|\\\\bCVE.*?\\\\b|deadlock|'\n",
    "                           'denial.of.service|\\\\bEOP\\\\b|exploit|hijack|'\n",
    "                           'infinite.loop|malicious|\\\\bNVD\\\\b|OSVDB|'\n",
    "                           '\\\\bRCE\\\\b|\\\\bReDoS\\\\b|\\\\bDDoS\\\\b|remote.code.execution|'\n",
    "                           'security|victim|\\\\bvuln|\\\\bXEE\\\\b|\\\\bXSRF\\\\b|'\n",
    "                           '\\\\bXSS\\\\b|\\\\bXXE\\\\b)')\n",
    "\n",
    "    medium_vuln_pattern = ('(?i)(authenticat(e|ion)|brute force|bypass|'\n",
    "                           'constant.time|crack|credential|\\\\bDoS\\\\b|'\n",
    "                           'expos(e|ing)|hack|harden|injection|lockout|'\n",
    "                           'overflow|password|\\\\bPoC\\\\b|proof.of.concept|'\n",
    "                           'poison|priv(ilege|elege|elage|lage)|\\\\b(in)?secur(e|ity)|'\n",
    "                           '(de)?serializ|spoof|timing|traversal)')\n",
    "\n",
    "    low_vuln_pattern = ('(?i)(abuse|compliant|constant.time|credential|\\\\bcrypto|'\n",
    "                        'escalate|exhaustion|forced|infinite|RFC\\\\d{4,5})')\n",
    "    \n",
    "    if (re.findall(low_vuln_pattern, issue_description, re.I) or\n",
    "        re.findall(medium_vuln_pattern, issue_description, re.I) or\n",
    "        re.findall(strong_vuln_pattern, issue_description, re.I)):\n",
    "        return 1\n",
    "    else:\n",
    "        return 0"
   ]
  },
  {
   "cell_type": "code",
   "execution_count": 97,
   "metadata": {},
   "outputs": [],
   "source": [
    "negative_df = df[df.class_label == 0]\n",
    "positive_df = df[df.class_label == 2]"
   ]
  },
  {
   "cell_type": "code",
   "execution_count": 104,
   "metadata": {},
   "outputs": [
    {
     "name": "stderr",
     "output_type": "stream",
     "text": [
      "/home/dsarkar/anaconda3/lib/python3.6/site-packages/ipykernel_launcher.py:1: SettingWithCopyWarning: \n",
      "A value is trying to be set on a copy of a slice from a DataFrame.\n",
      "Try using .loc[row_indexer,col_indexer] = value instead\n",
      "\n",
      "See the caveats in the documentation: http://pandas.pydata.org/pandas-docs/stable/indexing.html#indexing-view-versus-copy\n",
      "  \"\"\"Entry point for launching an IPython kernel.\n"
     ]
    }
   ],
   "source": [
    "negative_df['label'] = negative_df.apply(lambda row: security_vulnerability_labeler(row.description), axis=1)"
   ]
  },
  {
   "cell_type": "code",
   "execution_count": 109,
   "metadata": {},
   "outputs": [
    {
     "name": "stderr",
     "output_type": "stream",
     "text": [
      "/home/dsarkar/anaconda3/lib/python3.6/site-packages/ipykernel_launcher.py:1: SettingWithCopyWarning: \n",
      "A value is trying to be set on a copy of a slice from a DataFrame.\n",
      "Try using .loc[row_indexer,col_indexer] = value instead\n",
      "\n",
      "See the caveats in the documentation: http://pandas.pydata.org/pandas-docs/stable/indexing.html#indexing-view-versus-copy\n",
      "  \"\"\"Entry point for launching an IPython kernel.\n"
     ]
    }
   ],
   "source": [
    "positive_df['label'] = positive_df['class_label']"
   ]
  },
  {
   "cell_type": "code",
   "execution_count": 111,
   "metadata": {},
   "outputs": [
    {
     "name": "stdout",
     "output_type": "stream",
     "text": [
      "<class 'pandas.core.frame.DataFrame'>\n",
      "RangeIndex: 601738 entries, 0 to 601737\n",
      "Data columns (total 2 columns):\n",
      "description    601738 non-null object\n",
      "label          601738 non-null int64\n",
      "dtypes: int64(1), object(1)\n",
      "memory usage: 9.2+ MB\n"
     ]
    }
   ],
   "source": [
    "df = pd.concat([positive_df[['description', 'label']],\n",
    "                negative_df[['description', 'label']]], axis=0).reset_index(drop=True)\n",
    "df.info()"
   ]
  },
  {
   "cell_type": "code",
   "execution_count": 112,
   "metadata": {},
   "outputs": [
    {
     "data": {
      "text/plain": [
       "0    517487\n",
       "1     83673\n",
       "2       578\n",
       "Name: label, dtype: int64"
      ]
     },
     "execution_count": 112,
     "metadata": {},
     "output_type": "execute_result"
    }
   ],
   "source": [
    "df['label'].value_counts()"
   ]
  },
  {
   "cell_type": "code",
   "execution_count": 113,
   "metadata": {},
   "outputs": [],
   "source": [
    "df.to_csv('GH_processed_labeled_issues_prs.csv', index=False)"
   ]
  }
 ],
 "metadata": {
  "kernelspec": {
   "display_name": "Python 3",
   "language": "python",
   "name": "python3"
  },
  "language_info": {
   "codemirror_mode": {
    "name": "ipython",
    "version": 3
   },
   "file_extension": ".py",
   "mimetype": "text/x-python",
   "name": "python",
   "nbconvert_exporter": "python",
   "pygments_lexer": "ipython3",
   "version": "3.6.5"
  }
 },
 "nbformat": 4,
 "nbformat_minor": 2
}
