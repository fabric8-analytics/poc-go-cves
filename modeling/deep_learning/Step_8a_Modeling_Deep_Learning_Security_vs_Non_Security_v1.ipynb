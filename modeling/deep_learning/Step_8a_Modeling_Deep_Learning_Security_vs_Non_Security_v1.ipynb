{
  "nbformat": 4,
  "nbformat_minor": 0,
  "metadata": {
    "colab": {
      "name": "Step 8a - Modeling - Deep Learning - Security vs Non-Security - v1.ipynb",
      "version": "0.3.2",
      "provenance": [],
      "collapsed_sections": []
    },
    "kernelspec": {
      "name": "python3",
      "display_name": "Python 3"
    },
    "accelerator": "TPU"
  },
  "cells": [
    {
      "metadata": {
        "id": "4JQoXOV8EsPR",
        "colab_type": "text"
      },
      "cell_type": "markdown",
      "source": [
        "# Security vs Non-Security Prediction - Deep Learning with Bi-directional GRUs "
      ]
    },
    {
      "metadata": {
        "id": "U1PgRiGv0Wa_",
        "colab_type": "code",
        "outputId": "fabfb71a-32d4-4f64-ed40-4d3beca03c1d",
        "colab": {
          "base_uri": "https://localhost:8080/",
          "height": 122
        }
      },
      "cell_type": "code",
      "source": [
        "# Load the Drive helper and mount\n",
        "from google.colab import drive\n",
        "\n",
        "# This will prompt for authorization.\n",
        "drive.mount('/content/drive')"
      ],
      "execution_count": 0,
      "outputs": [
        {
          "output_type": "stream",
          "text": [
            "Go to this URL in a browser: https://accounts.google.com/o/oauth2/auth?client_id=947318989803-6bn6qk8qdgf4n4g3pfee6491hc0brc4i.apps.googleusercontent.com&redirect_uri=urn%3Aietf%3Awg%3Aoauth%3A2.0%3Aoob&scope=email%20https%3A%2F%2Fwww.googleapis.com%2Fauth%2Fdocs.test%20https%3A%2F%2Fwww.googleapis.com%2Fauth%2Fdrive%20https%3A%2F%2Fwww.googleapis.com%2Fauth%2Fdrive.photos.readonly%20https%3A%2F%2Fwww.googleapis.com%2Fauth%2Fpeopleapi.readonly&response_type=code\n",
            "\n",
            "Enter your authorization code:\n",
            "··········\n",
            "Mounted at /content/drive\n"
          ],
          "name": "stdout"
        }
      ]
    },
    {
      "metadata": {
        "id": "9z_eIPnI0aHl",
        "colab_type": "code",
        "outputId": "04db3725-f6a9-40ed-ff41-8273f1512578",
        "colab": {
          "base_uri": "https://localhost:8080/",
          "height": 68
        }
      },
      "cell_type": "code",
      "source": [
        "!ls \"/content/drive/My Drive\""
      ],
      "execution_count": 0,
      "outputs": [
        {
          "output_type": "stream",
          "text": [
            "'Colab Notebooks'   dl_model4.h5   first_model_v1.h5   ytest_labels.pkl\n",
            " dl_model2.h5\t    dl_model.h5    Xtest_norm.pkl      ytrain_labels.pkl\n",
            " dl_model3.h5\t    file.txt\t   Xtrain_norm.pkl\n"
          ],
          "name": "stdout"
        }
      ]
    },
    {
      "metadata": {
        "id": "gCw_r2gG0ttD",
        "colab_type": "code",
        "outputId": "cce5463d-95b3-40a7-d799-dbcb91a2d7cf",
        "colab": {
          "base_uri": "https://localhost:8080/",
          "height": 34
        }
      },
      "cell_type": "code",
      "source": [
        "import os\n",
        "import time\n",
        "import numpy as np # linear algebra\n",
        "import pandas as pd # data processing, CSV file I/O (e.g. pd.read_csv)\n",
        "from tqdm import tqdm\n",
        "import math\n",
        "import dill\n",
        "from sklearn.model_selection import train_test_split\n",
        "from sklearn import metrics\n",
        "import tensorflow as tf\n",
        "from keras.preprocessing.text import Tokenizer\n",
        "from keras.preprocessing.sequence import pad_sequences\n",
        "from keras.layers import Dense, Input, LSTM, Embedding, Dropout, Activation, CuDNNGRU, Conv1D, CuDNNLSTM\n",
        "from keras.layers import Bidirectional, GlobalMaxPool1D\n",
        "from keras.models import Model\n",
        "from keras import initializers, regularizers, constraints, optimizers, layers"
      ],
      "execution_count": 0,
      "outputs": [
        {
          "output_type": "stream",
          "text": [
            "Using TensorFlow backend.\n"
          ],
          "name": "stderr"
        }
      ]
    },
    {
      "metadata": {
        "id": "VJKqcW_aFSNJ",
        "colab_type": "text"
      },
      "cell_type": "markdown",
      "source": [
        "# Data Retrieval"
      ]
    },
    {
      "metadata": {
        "id": "084u7ytzFLsu",
        "colab_type": "text"
      },
      "cell_type": "markdown",
      "source": [
        "Following is normalized (pre-processed text data) issue\\PR descriptions and corresponding labels which I had pickled earlier.\n",
        "- This is the full data which we have BTW including positives and negatives \n",
        "- class label 0 - non-security related data potentially which was unflagged by Regexes\n",
        "- class label 1 - potentially security related data which was flagged by Regexes\n",
        "- class label 2 - security and CVE related data which we manually mapped"
      ]
    },
    {
      "metadata": {
        "id": "PR6Ls1Rj0qbB",
        "colab_type": "code",
        "outputId": "bb7d11ab-f614-41d9-9043-89f326bc7ad6",
        "colab": {
          "base_uri": "https://localhost:8080/",
          "height": 68
        }
      },
      "cell_type": "code",
      "source": [
        "with open('/content/drive/My Drive/Xtrain_norm.pkl', 'rb') as f:\n",
        "    X_train = []\n",
        "    while True:\n",
        "        try:\n",
        "            X_train.extend(dill.load(f))\n",
        "        except:\n",
        "            print('EOF reached')\n",
        "            break\n",
        "            \n",
        "with open('/content/drive/My Drive/Xtest_norm.pkl', 'rb') as f:\n",
        "    X_test = []\n",
        "    while True:\n",
        "        try:\n",
        "            X_test.extend(dill.load(f))\n",
        "        except:\n",
        "            print('EOF reached')\n",
        "            break\n",
        "            \n",
        "with open('/content/drive/My Drive/ytrain_labels.pkl', 'rb') as f:\n",
        "    y_train = dill.load(f)\n",
        "    \n",
        "with open('/content/drive/My Drive/ytest_labels.pkl', 'rb') as f:\n",
        "    y_test = dill.load(f)\n",
        "    \n",
        "len(X_train), len(X_test), len(y_train), len(y_test)"
      ],
      "execution_count": 0,
      "outputs": [
        {
          "output_type": "stream",
          "text": [
            "EOF reached\n",
            "EOF reached\n"
          ],
          "name": "stdout"
        },
        {
          "output_type": "execute_result",
          "data": {
            "text/plain": [
              "(481390, 120348, 481390, 120348)"
            ]
          },
          "metadata": {
            "tags": []
          },
          "execution_count": 4
        }
      ]
    },
    {
      "metadata": {
        "id": "tH0LL2f1GXcW",
        "colab_type": "text"
      },
      "cell_type": "markdown",
      "source": [
        "- We combine the security data under one label (1) this includes both CVE and Non-CVEs\n",
        "- Our other class (0) is negative non-security related data\n",
        "- Intent is to build a model which can tell is first if an issue is really security related and then pass it through our 2nd model (CVE vs. non-CVE)"
      ]
    },
    {
      "metadata": {
        "id": "1IrGDI0QoLsp",
        "colab_type": "code",
        "outputId": "115d5187-c8b3-4827-8ee1-3abe960d9c7a",
        "colab": {
          "base_uri": "https://localhost:8080/",
          "height": 34
        }
      },
      "cell_type": "code",
      "source": [
        "train_positives = []\n",
        "y_train_positives = []\n",
        "for doc, label in zip(X_train, y_train):\n",
        "  if label != 0:\n",
        "    y_train_positives.append(1)\n",
        "  else:\n",
        "    y_train_positives.append(label)\n",
        "  train_positives.append(doc)\n",
        "        \n",
        "\n",
        "test_positives = []\n",
        "y_test_positives = []\n",
        "for doc, label in zip(X_test, y_test):\n",
        "  if label != 0:\n",
        "    y_test_positives.append(1)\n",
        "  else:\n",
        "    y_test_positives.append(label)\n",
        "  test_positives.append(doc)\n",
        "        \n",
        "        \n",
        "len(train_positives), len(y_train_positives), len(test_positives), len(y_test_positives)"
      ],
      "execution_count": 0,
      "outputs": [
        {
          "output_type": "execute_result",
          "data": {
            "text/plain": [
              "(481390, 481390, 120348, 120348)"
            ]
          },
          "metadata": {
            "tags": []
          },
          "execution_count": 5
        }
      ]
    },
    {
      "metadata": {
        "id": "SW77DXJ0GuKa",
        "colab_type": "text"
      },
      "cell_type": "markdown",
      "source": [
        "# Data Preparation"
      ]
    },
    {
      "metadata": {
        "id": "ZSksS6kjo3Jp",
        "colab_type": "code",
        "outputId": "96c4ebda-2e8e-4bea-c344-bebecfa91b1e",
        "colab": {
          "base_uri": "https://localhost:8080/",
          "height": 34
        }
      },
      "cell_type": "code",
      "source": [
        "X_train, X_val, y_train, y_val = train_test_split(train_positives, y_train_positives, test_size=0.1, random_state=42)\n",
        "X_test, y_test = test_positives, y_test_positives\n",
        "len(X_train), len(X_val), len(X_test), len(y_train), len(y_val), len(y_test)"
      ],
      "execution_count": 0,
      "outputs": [
        {
          "output_type": "execute_result",
          "data": {
            "text/plain": [
              "(433251, 48139, 120348, 433251, 48139, 120348)"
            ]
          },
          "metadata": {
            "tags": []
          },
          "execution_count": 6
        }
      ]
    },
    {
      "metadata": {
        "id": "YUk1NYhG0iev",
        "colab_type": "code",
        "colab": {}
      },
      "cell_type": "code",
      "source": [
        "## some config values \n",
        "embed_size = 300 # how big is each word vector\n",
        "max_features = 300000 # how many unique words to use (i.e num rows in embedding vector)\n",
        "maxlen = 1000 # max number of words in a doc to use"
      ],
      "execution_count": 0,
      "outputs": []
    },
    {
      "metadata": {
        "id": "hJFbu1mw0z6F",
        "colab_type": "code",
        "colab": {}
      },
      "cell_type": "code",
      "source": [
        "## Tokenize the sentences\n",
        "tokenizer = Tokenizer(num_words=max_features)\n",
        "tokenizer.fit_on_texts(X_train)\n",
        "train_X = tokenizer.texts_to_sequences(X_train)\n",
        "val_X = tokenizer.texts_to_sequences(X_val)\n",
        "test_X = tokenizer.texts_to_sequences(X_test)"
      ],
      "execution_count": 0,
      "outputs": []
    },
    {
      "metadata": {
        "id": "9K9Gb3771ib0",
        "colab_type": "code",
        "colab": {}
      },
      "cell_type": "code",
      "source": [
        "## Pad the sentences \n",
        "train_X = pad_sequences(train_X, maxlen=maxlen)\n",
        "val_X = pad_sequences(val_X, maxlen=maxlen)\n",
        "test_X = pad_sequences(test_X, maxlen=maxlen)"
      ],
      "execution_count": 0,
      "outputs": []
    },
    {
      "metadata": {
        "id": "yf-3Zxbg07AT",
        "colab_type": "code",
        "colab": {}
      },
      "cell_type": "code",
      "source": [
        "train_y = np.array(y_train)\n",
        "val_y = np.array(y_val)\n",
        "test_y = np.array(y_test)"
      ],
      "execution_count": 0,
      "outputs": []
    },
    {
      "metadata": {
        "id": "p1E3JFsZ1Q5v",
        "colab_type": "code",
        "outputId": "77b3805a-586c-4e0d-8983-2ae1c539154d",
        "colab": {
          "base_uri": "https://localhost:8080/",
          "height": 139
        }
      },
      "cell_type": "code",
      "source": [
        "print('Sample Data:')\n",
        "print(X_train[:3])\n",
        "print(train_X[:3, :])\n",
        "print(train_y[:3])"
      ],
      "execution_count": 0,
      "outputs": [
        {
          "output_type": "stream",
          "text": [
            "Sample Data:\n",
            "['use responsestatus to set response status in error controller see suggestion from rstoyanchev what about checking what the current response status is if it is or not set look for an responsestatus annotation', 'replace none with empty string before creating td', 'sinatra dart better handling of reserved words for sinatra dart generators pr checklist read the contribution guildelines md ran the she will batch script under bin to update petstore sample so that cis can verify the change for instance only need to run bin lang petstore sh and bin security lang petstore sh if updating the lang e g php ruby python etc code generator or lang client s mustache templates filed the pr against the correct branch master for non breaking changes and branch for breaking non backward compatible changes description of the pr better handling of reserved words for sintatra dart generators for']\n",
            "[[    0     0     0 ...    43 22668   834]\n",
            " [    0     0     0 ...   248   553  1774]\n",
            " [    0     0     0 ...  8155  4069     8]]\n",
            "[0 0 1]\n"
          ],
          "name": "stdout"
        }
      ]
    },
    {
      "metadata": {
        "id": "9CTc5BU8Gv6R",
        "colab_type": "text"
      },
      "cell_type": "markdown",
      "source": [
        "We build a `class_weight` dictionary to tell our deep learning model to give higher weightage to each security related issue. Based on the weights computed below, you can see the class imbalance is quite bad but not as terrible as our CVE imbalance in the other model."
      ]
    },
    {
      "metadata": {
        "id": "B9YIdmSd4BZF",
        "colab_type": "code",
        "outputId": "529bcd00-54e8-4eb7-8ebf-13d007eedcb9",
        "colab": {
          "base_uri": "https://localhost:8080/",
          "height": 34
        }
      },
      "cell_type": "code",
      "source": [
        "from sklearn.utils import class_weight\n",
        "\n",
        "class_weights = class_weight.compute_class_weight('balanced',\n",
        "                                                 np.unique(train_y),\n",
        "                                                 train_y)\n",
        "class_weights = dict(enumerate(class_weights))\n",
        "class_weights"
      ],
      "execution_count": 0,
      "outputs": [
        {
          "output_type": "execute_result",
          "data": {
            "text/plain": [
              "{0: 0.5814107347028605, 1: 3.5708481002225336}"
            ]
          },
          "metadata": {
            "tags": []
          },
          "execution_count": 12
        }
      ]
    },
    {
      "metadata": {
        "id": "8Oezgdy0G_GG",
        "colab_type": "text"
      },
      "cell_type": "markdown",
      "source": [
        "# Model Training"
      ]
    },
    {
      "metadata": {
        "id": "shtsQ63VpvSN",
        "colab_type": "code",
        "outputId": "aaa40b9d-7ad4-43df-b20e-2830b185b81b",
        "colab": {
          "base_uri": "https://localhost:8080/",
          "height": 496
        }
      },
      "cell_type": "code",
      "source": [
        "inp = tf.keras.layers.Input(shape=(maxlen,))\n",
        "x = tf.keras.layers.Embedding(max_features, embed_size)(inp)\n",
        "x = tf.keras.layers.Bidirectional(tf.keras.layers.GRU(64, return_sequences=True))(x)\n",
        "x = tf.keras.layers.GlobalMaxPool1D()(x)\n",
        "x = tf.keras.layers.Dense(16, activation=\"relu\")(x)\n",
        "x = tf.keras.layers.Dropout(rate=0.1)(x)\n",
        "x = tf.keras.layers.Dense(1, activation=\"sigmoid\")(x)\n",
        "model = tf.keras.models.Model(inputs=inp, outputs=x)\n",
        "#model.compile(loss='binary_crossentropy', optimizer='adam', metrics=['accuracy'])\n",
        "\n",
        "model.summary()"
      ],
      "execution_count": 0,
      "outputs": [
        {
          "output_type": "stream",
          "text": [
            "WARNING:tensorflow:From /usr/local/lib/python3.6/dist-packages/tensorflow/python/ops/resource_variable_ops.py:435: colocate_with (from tensorflow.python.framework.ops) is deprecated and will be removed in a future version.\n",
            "Instructions for updating:\n",
            "Colocations handled automatically by placer.\n",
            "WARNING:tensorflow:From /usr/local/lib/python3.6/dist-packages/tensorflow/python/keras/layers/core.py:143: calling dropout (from tensorflow.python.ops.nn_ops) with keep_prob is deprecated and will be removed in a future version.\n",
            "Instructions for updating:\n",
            "Please use `rate` instead of `keep_prob`. Rate should be set to `rate = 1 - keep_prob`.\n",
            "_________________________________________________________________\n",
            "Layer (type)                 Output Shape              Param #   \n",
            "=================================================================\n",
            "input_1 (InputLayer)         (None, 1000)              0         \n",
            "_________________________________________________________________\n",
            "embedding (Embedding)        (None, 1000, 300)         90000000  \n",
            "_________________________________________________________________\n",
            "bidirectional (Bidirectional (None, 1000, 128)         140160    \n",
            "_________________________________________________________________\n",
            "global_max_pooling1d (Global (None, 128)               0         \n",
            "_________________________________________________________________\n",
            "dense (Dense)                (None, 16)                2064      \n",
            "_________________________________________________________________\n",
            "dropout (Dropout)            (None, 16)                0         \n",
            "_________________________________________________________________\n",
            "dense_1 (Dense)              (None, 1)                 17        \n",
            "=================================================================\n",
            "Total params: 90,142,241\n",
            "Trainable params: 90,142,241\n",
            "Non-trainable params: 0\n",
            "_________________________________________________________________\n"
          ],
          "name": "stdout"
        }
      ]
    },
    {
      "metadata": {
        "id": "fazVN81vLa_Z",
        "colab_type": "text"
      },
      "cell_type": "markdown",
      "source": [
        "## Training on Google's TPUs\n",
        "\n",
        "This was just done to train it faster, it's really experimental and has a lot of issues like we need to convert TPU to CPU model and then only make predictions. Won't recommend this in practice yet. We will retrain this in our GPU based systems."
      ]
    },
    {
      "metadata": {
        "id": "wQxUwwNRrSWJ",
        "colab_type": "code",
        "outputId": "9adb3f00-b6fa-4756-a208-d91c5f22f479",
        "colab": {
          "base_uri": "https://localhost:8080/",
          "height": 442
        }
      },
      "cell_type": "code",
      "source": [
        "tpu_model = tf.contrib.tpu.keras_to_tpu_model(\n",
        "    model,\n",
        "    strategy=tf.contrib.tpu.TPUDistributionStrategy(\n",
        "        tf.contrib.cluster_resolver.TPUClusterResolver(tpu='grpc://' + os.environ['COLAB_TPU_ADDR'])\n",
        "    )\n",
        ")\n",
        "tpu_model.compile(\n",
        "    optimizer=tf.keras.optimizers.Adam(),\n",
        "    loss=tf.keras.losses.binary_crossentropy,\n",
        "    metrics=['accuracy']\n",
        ")"
      ],
      "execution_count": 0,
      "outputs": [
        {
          "output_type": "stream",
          "text": [
            "\n",
            "WARNING: The TensorFlow contrib module will not be included in TensorFlow 2.0.\n",
            "For more information, please see:\n",
            "  * https://github.com/tensorflow/community/blob/master/rfcs/20180907-contrib-sunset.md\n",
            "  * https://github.com/tensorflow/addons\n",
            "If you depend on functionality not listed there, please file an issue.\n",
            "\n",
            "INFO:tensorflow:Querying Tensorflow master (grpc://10.102.37.26:8470) for TPU system metadata.\n",
            "INFO:tensorflow:Found TPU system:\n",
            "INFO:tensorflow:*** Num TPU Cores: 8\n",
            "INFO:tensorflow:*** Num TPU Workers: 1\n",
            "INFO:tensorflow:*** Num TPU Cores Per Worker: 8\n",
            "INFO:tensorflow:*** Available Device: _DeviceAttributes(/job:worker/replica:0/task:0/device:CPU:0, CPU, -1, 14581925633064350827)\n",
            "INFO:tensorflow:*** Available Device: _DeviceAttributes(/job:worker/replica:0/task:0/device:XLA_CPU:0, XLA_CPU, 17179869184, 17270929687828325762)\n",
            "INFO:tensorflow:*** Available Device: _DeviceAttributes(/job:worker/replica:0/task:0/device:TPU:0, TPU, 17179869184, 6291855618003165313)\n",
            "INFO:tensorflow:*** Available Device: _DeviceAttributes(/job:worker/replica:0/task:0/device:TPU:1, TPU, 17179869184, 15901803363978509234)\n",
            "INFO:tensorflow:*** Available Device: _DeviceAttributes(/job:worker/replica:0/task:0/device:TPU:2, TPU, 17179869184, 4479022993788864638)\n",
            "INFO:tensorflow:*** Available Device: _DeviceAttributes(/job:worker/replica:0/task:0/device:TPU:3, TPU, 17179869184, 7572798275674110310)\n",
            "INFO:tensorflow:*** Available Device: _DeviceAttributes(/job:worker/replica:0/task:0/device:TPU:4, TPU, 17179869184, 621067887764259972)\n",
            "INFO:tensorflow:*** Available Device: _DeviceAttributes(/job:worker/replica:0/task:0/device:TPU:5, TPU, 17179869184, 4695576327838768548)\n",
            "INFO:tensorflow:*** Available Device: _DeviceAttributes(/job:worker/replica:0/task:0/device:TPU:6, TPU, 17179869184, 2231999743551455382)\n",
            "INFO:tensorflow:*** Available Device: _DeviceAttributes(/job:worker/replica:0/task:0/device:TPU:7, TPU, 17179869184, 1308734470344787716)\n",
            "INFO:tensorflow:*** Available Device: _DeviceAttributes(/job:worker/replica:0/task:0/device:TPU_SYSTEM:0, TPU_SYSTEM, 17179869184, 305084609979224761)\n",
            "WARNING:tensorflow:tpu_model (from tensorflow.contrib.tpu.python.tpu.keras_support) is experimental and may change or be removed at any time, and without warning.\n",
            "INFO:tensorflow:Cloning Adam {'lr': 0.0010000000474974513, 'beta_1': 0.8999999761581421, 'beta_2': 0.9990000128746033, 'decay': 0.0, 'epsilon': 1e-07, 'amsgrad': False}\n"
          ],
          "name": "stdout"
        }
      ]
    },
    {
      "metadata": {
        "id": "BLmnIRbKp66h",
        "colab_type": "code",
        "outputId": "23e00620-40d0-49db-e05b-9be0f1b217b6",
        "colab": {
          "base_uri": "https://localhost:8080/",
          "height": 1125
        }
      },
      "cell_type": "code",
      "source": [
        "tpu_model.fit(train_X, train_y, batch_size=512, epochs=10,\n",
        "          class_weight=class_weights, validation_data=(val_X, val_y))"
      ],
      "execution_count": 16,
      "outputs": [
        {
          "output_type": "stream",
          "text": [
            "Train on 433251 samples, validate on 48139 samples\n",
            "Epoch 1/10\n",
            "INFO:tensorflow:New input shapes; (re-)compiling: mode=train (# of cores 8), [TensorSpec(shape=(64,), dtype=tf.int32, name='core_id0'), TensorSpec(shape=(64, 1000), dtype=tf.float32, name='input_1_10'), TensorSpec(shape=(64, 1), dtype=tf.float32, name='dense_1_target_10')]\n",
            "INFO:tensorflow:Overriding default placeholder.\n",
            "INFO:tensorflow:Cloning Adam {'lr': 0.0010000000474974513, 'beta_1': 0.8999999761581421, 'beta_2': 0.9990000128746033, 'decay': 0.0, 'epsilon': 1e-07, 'amsgrad': False}\n",
            "INFO:tensorflow:Remapping placeholder for input_1\n",
            "WARNING:tensorflow:From /usr/local/lib/python3.6/dist-packages/tensorflow/contrib/tpu/python/tpu/keras_support.py:302: to_float (from tensorflow.python.ops.math_ops) is deprecated and will be removed in a future version.\n",
            "Instructions for updating:\n",
            "Use tf.cast instead.\n",
            "INFO:tensorflow:KerasCrossShard: <tensorflow.python.keras.optimizers.Adam object at 0x7fcd1fd07748> []\n",
            "WARNING:tensorflow:From /usr/local/lib/python3.6/dist-packages/tensorflow/python/ops/math_ops.py:3066: to_int32 (from tensorflow.python.ops.math_ops) is deprecated and will be removed in a future version.\n",
            "Instructions for updating:\n",
            "Use tf.cast instead.\n",
            "WARNING:tensorflow:From /usr/local/lib/python3.6/dist-packages/tensorflow/python/ops/math_grad.py:102: div (from tensorflow.python.ops.math_ops) is deprecated and will be removed in a future version.\n",
            "Instructions for updating:\n",
            "Deprecated in favor of operator or tf.math.divide.\n",
            "INFO:tensorflow:Started compiling\n",
            "INFO:tensorflow:Finished compiling. Time elapsed: 10.316805362701416 secs\n",
            "INFO:tensorflow:Setting weights on TPU model.\n",
            "INFO:tensorflow:CPU -> TPU lr: 0.0010000000474974513 {0.001}\n",
            "INFO:tensorflow:CPU -> TPU beta_1: 0.8999999761581421 {0.9}\n",
            "INFO:tensorflow:CPU -> TPU beta_2: 0.9990000128746033 {0.999}\n",
            "INFO:tensorflow:CPU -> TPU decay: 0.0 {0.0}\n",
            "WARNING:tensorflow:Cannot update non-variable config: epsilon\n",
            "WARNING:tensorflow:Cannot update non-variable config: amsgrad\n",
            "432640/433251 [============================>.] - ETA: 0s - loss: 0.1030 - acc: 0.9716INFO:tensorflow:New input shapes; (re-)compiling: mode=train (# of cores 8), [TensorSpec(shape=(12,), dtype=tf.int32, name='core_id0'), TensorSpec(shape=(12, 1000), dtype=tf.float32, name='input_1_10'), TensorSpec(shape=(12, 1), dtype=tf.float32, name='dense_1_target_10')]\n",
            "INFO:tensorflow:Overriding default placeholder.\n",
            "INFO:tensorflow:Remapping placeholder for input_1\n",
            "INFO:tensorflow:KerasCrossShard: <tensorflow.python.keras.optimizers.Adam object at 0x7fcd1fd07748> [<tf.Variable 'tpu_140518982370528/Adam/iterations:0' shape=() dtype=int64>, <tensorflow.contrib.tpu.python.tpu.keras_tpu_variables.ReplicatedVariable object at 0x7fcd18b174a8>, <tensorflow.contrib.tpu.python.tpu.keras_tpu_variables.ReplicatedVariable object at 0x7fcd18b17dd8>, <tensorflow.contrib.tpu.python.tpu.keras_tpu_variables.ReplicatedVariable object at 0x7fcd18abc278>, <tensorflow.contrib.tpu.python.tpu.keras_tpu_variables.ReplicatedVariable object at 0x7fcd18a7b320>, <tensorflow.contrib.tpu.python.tpu.keras_tpu_variables.ReplicatedVariable object at 0x7fcd18a44278>, <tensorflow.contrib.tpu.python.tpu.keras_tpu_variables.ReplicatedVariable object at 0x7fcd18a0edd8>, <tensorflow.contrib.tpu.python.tpu.keras_tpu_variables.ReplicatedVariable object at 0x7fcd1897c748>, <tensorflow.contrib.tpu.python.tpu.keras_tpu_variables.ReplicatedVariable object at 0x7fcd18944fd0>, <tensorflow.contrib.tpu.python.tpu.keras_tpu_variables.ReplicatedVariable object at 0x7fcd1890d2b0>, <tensorflow.contrib.tpu.python.tpu.keras_tpu_variables.ReplicatedVariable object at 0x7fcd18859208>, <tensorflow.contrib.tpu.python.tpu.keras_tpu_variables.ReplicatedVariable object at 0x7fcd18878a90>, <tensorflow.contrib.tpu.python.tpu.keras_tpu_variables.ReplicatedVariable object at 0x7fcd18845a90>, <tensorflow.contrib.tpu.python.tpu.keras_tpu_variables.ReplicatedVariable object at 0x7fcd187b2a20>, <tensorflow.contrib.tpu.python.tpu.keras_tpu_variables.ReplicatedVariable object at 0x7fcd18720208>, <tensorflow.contrib.tpu.python.tpu.keras_tpu_variables.ReplicatedVariable object at 0x7fcd186e7400>, <tensorflow.contrib.tpu.python.tpu.keras_tpu_variables.ReplicatedVariable object at 0x7fcd186af6a0>, <tensorflow.contrib.tpu.python.tpu.keras_tpu_variables.ReplicatedVariable object at 0x7fcd18677eb8>, <tensorflow.contrib.tpu.python.tpu.keras_tpu_variables.ReplicatedVariable object at 0x7fcd185e8828>, <tensorflow.contrib.tpu.python.tpu.keras_tpu_variables.ReplicatedVariable object at 0x7fcd185ae4a8>, <tensorflow.contrib.tpu.python.tpu.keras_tpu_variables.ReplicatedVariable object at 0x7fcd185777b8>, <tensorflow.contrib.tpu.python.tpu.keras_tpu_variables.ReplicatedVariable object at 0x7fcd185412e8>, <tensorflow.contrib.tpu.python.tpu.keras_tpu_variables.ReplicatedVariable object at 0x7fcd184e4b70>, <tensorflow.contrib.tpu.python.tpu.keras_tpu_variables.ReplicatedVariable object at 0x7fcd184adf28>, <tensorflow.contrib.tpu.python.tpu.keras_tpu_variables.ReplicatedVariable object at 0x7fcd18497d68>, <tensorflow.contrib.tpu.python.tpu.keras_tpu_variables.ReplicatedVariable object at 0x7fcd1840ab00>, <tensorflow.contrib.tpu.python.tpu.keras_tpu_variables.ReplicatedVariable object at 0x7fcd183d1748>, <tensorflow.contrib.tpu.python.tpu.keras_tpu_variables.ReplicatedVariable object at 0x7fcd18319d30>, <tensorflow.contrib.tpu.python.tpu.keras_tpu_variables.ReplicatedVariable object at 0x7fcd18306f98>, <tensorflow.contrib.tpu.python.tpu.keras_tpu_variables.ReplicatedVariable object at 0x7fcd182cfb00>, <tensorflow.contrib.tpu.python.tpu.keras_tpu_variables.ReplicatedVariable object at 0x7fcd18218748>, <tensorflow.contrib.tpu.python.tpu.keras_tpu_variables.ReplicatedVariable object at 0x7fcd181ded30>, <tensorflow.contrib.tpu.python.tpu.keras_tpu_variables.ReplicatedVariable object at 0x7fcd181cdf98>, <tensorflow.contrib.tpu.python.tpu.keras_tpu_variables.ReplicatedVariable object at 0x7fcd18195b00>]\n",
            "INFO:tensorflow:Started compiling\n",
            "INFO:tensorflow:Finished compiling. Time elapsed: 13.731024265289307 secs\n",
            "433152/433251 [============================>.] - ETA: 0s - loss: 0.1029 - acc: 0.9716INFO:tensorflow:New input shapes; (re-)compiling: mode=eval (# of cores 8), [TensorSpec(shape=(64,), dtype=tf.int32, name='core_id_10'), TensorSpec(shape=(64, 1000), dtype=tf.float32, name='input_1_10'), TensorSpec(shape=(64, 1), dtype=tf.float32, name='dense_1_target_10')]\n",
            "INFO:tensorflow:Overriding default placeholder.\n",
            "INFO:tensorflow:Cloning Adam {'lr': 0.0010000000474974513, 'beta_1': 0.8999999761581421, 'beta_2': 0.9990000128746033, 'decay': 0.0, 'epsilon': 1e-07, 'amsgrad': False}\n",
            "INFO:tensorflow:Remapping placeholder for input_1\n",
            "INFO:tensorflow:KerasCrossShard: <tensorflow.python.keras.optimizers.Adam object at 0x7fcd15542e48> []\n",
            "INFO:tensorflow:Started compiling\n",
            "INFO:tensorflow:Finished compiling. Time elapsed: 9.323443412780762 secs\n",
            "INFO:tensorflow:New input shapes; (re-)compiling: mode=eval (# of cores 8), [TensorSpec(shape=(1,), dtype=tf.int32, name='core_id_10'), TensorSpec(shape=(1, 1000), dtype=tf.float32, name='input_1_10'), TensorSpec(shape=(1, 1), dtype=tf.float32, name='dense_1_target_10')]\n",
            "INFO:tensorflow:Overriding default placeholder.\n",
            "INFO:tensorflow:Remapping placeholder for input_1\n",
            "INFO:tensorflow:KerasCrossShard: <tensorflow.python.keras.optimizers.Adam object at 0x7fcd15542e48> []\n",
            "INFO:tensorflow:Started compiling\n",
            "INFO:tensorflow:Finished compiling. Time elapsed: 11.091395854949951 secs\n",
            "433251/433251 [==============================] - 499s 1ms/sample - loss: 0.1029 - acc: 0.9716 - val_loss: 0.0690 - val_acc: 0.9847\n",
            "Epoch 2/10\n",
            "433251/433251 [==============================] - 416s 961us/sample - loss: 0.0486 - acc: 0.9871 - val_loss: 0.0725 - val_acc: 0.9848\n",
            "Epoch 3/10\n",
            "433251/433251 [==============================] - 416s 959us/sample - loss: 0.0331 - acc: 0.9910 - val_loss: 0.0760 - val_acc: 0.9845\n",
            "Epoch 4/10\n",
            "433251/433251 [==============================] - 416s 961us/sample - loss: 0.0230 - acc: 0.9934 - val_loss: 0.0941 - val_acc: 0.9838\n",
            "Epoch 5/10\n",
            "433251/433251 [==============================] - 417s 961us/sample - loss: 0.0156 - acc: 0.9953 - val_loss: 0.1146 - val_acc: 0.9838\n",
            "Epoch 6/10\n",
            "433251/433251 [==============================] - 416s 960us/sample - loss: 0.0105 - acc: 0.9968 - val_loss: 0.1453 - val_acc: 0.9834\n",
            "Epoch 7/10\n",
            "433251/433251 [==============================] - 416s 960us/sample - loss: 0.0073 - acc: 0.9977 - val_loss: 0.1507 - val_acc: 0.9828\n",
            "Epoch 8/10\n",
            "433251/433251 [==============================] - 416s 961us/sample - loss: 0.0051 - acc: 0.9983 - val_loss: 0.1691 - val_acc: 0.9831\n",
            "Epoch 9/10\n",
            "433251/433251 [==============================] - 416s 960us/sample - loss: 0.0041 - acc: 0.9986 - val_loss: 0.1832 - val_acc: 0.9829\n",
            "Epoch 10/10\n",
            "433251/433251 [==============================] - 416s 960us/sample - loss: 0.0035 - acc: 0.9988 - val_loss: 0.1837 - val_acc: 0.9825\n"
          ],
          "name": "stdout"
        },
        {
          "output_type": "execute_result",
          "data": {
            "text/plain": [
              "<tensorflow.python.keras.callbacks.History at 0x7fcd1fd95f28>"
            ]
          },
          "metadata": {
            "tags": []
          },
          "execution_count": 16
        }
      ]
    },
    {
      "metadata": {
        "id": "i6K_9KCaLjDn",
        "colab_type": "text"
      },
      "cell_type": "markdown",
      "source": [
        "# Model Evaluation"
      ]
    },
    {
      "metadata": {
        "id": "cgMuKsmvp-9_",
        "colab_type": "code",
        "colab": {
          "base_uri": "https://localhost:8080/",
          "height": 306
        },
        "outputId": "856d3a1f-4bc2-4921-f1c4-b6c3f3779057"
      },
      "cell_type": "code",
      "source": [
        "cpu_model = tpu_model.sync_to_cpu()\n",
        "pred_y = cpu_model.predict([test_X], batch_size=1024, verbose=1)\n",
        "pred_y"
      ],
      "execution_count": 17,
      "outputs": [
        {
          "output_type": "stream",
          "text": [
            "INFO:tensorflow:Copying TPU weights to the CPU\n",
            "INFO:tensorflow:TPU -> CPU lr: 0.0010000000474974513\n",
            "INFO:tensorflow:TPU -> CPU beta_1: 0.8999999761581421\n",
            "INFO:tensorflow:TPU -> CPU beta_2: 0.9990000128746033\n",
            "INFO:tensorflow:TPU -> CPU decay: 0.0\n",
            "INFO:tensorflow:TPU -> CPU epsilon: 1e-07\n",
            "WARNING:tensorflow:Cannot update non-variable config: epsilon\n",
            "INFO:tensorflow:TPU -> CPU amsgrad: False\n",
            "WARNING:tensorflow:Cannot update non-variable config: amsgrad\n",
            "120348/120348 [==============================] - 182s 2ms/sample\n"
          ],
          "name": "stdout"
        },
        {
          "output_type": "execute_result",
          "data": {
            "text/plain": [
              "array([[0.0000000e+00],\n",
              "       [0.0000000e+00],\n",
              "       [0.0000000e+00],\n",
              "       ...,\n",
              "       [3.1613294e-09],\n",
              "       [6.4399886e-05],\n",
              "       [9.2352337e-08]], dtype=float32)"
            ]
          },
          "metadata": {
            "tags": []
          },
          "execution_count": 17
        }
      ]
    },
    {
      "metadata": {
        "id": "jjQ9RMFF0mHd",
        "colab_type": "code",
        "colab": {}
      },
      "cell_type": "code",
      "source": [
        "pred_y = pred_y.ravel()\n",
        "pred_y = [1 if prob > 0.5 else 0 for prob in pred_y]"
      ],
      "execution_count": 0,
      "outputs": []
    },
    {
      "metadata": {
        "id": "mdvIuOVg0XQF",
        "colab_type": "code",
        "colab": {}
      },
      "cell_type": "code",
      "source": [
        "from sklearn.metrics import confusion_matrix, classification_report"
      ],
      "execution_count": 0,
      "outputs": []
    },
    {
      "metadata": {
        "id": "M-IYROJLMUPS",
        "colab_type": "code",
        "colab": {
          "base_uri": "https://localhost:8080/",
          "height": 51
        },
        "outputId": "05167258-9c11-43b8-8255-88c39e2f9c4c"
      },
      "cell_type": "code",
      "source": [
        "confusion_matrix(y_true=test_y, y_pred=pred_y)\n",
        "#array([[102996,    501],\n",
        "#       [  1438,  15413]])"
      ],
      "execution_count": 20,
      "outputs": [
        {
          "output_type": "execute_result",
          "data": {
            "text/plain": [
              "array([[102999,    498],\n",
              "       [  1470,  15381]])"
            ]
          },
          "metadata": {
            "tags": []
          },
          "execution_count": 20
        }
      ]
    },
    {
      "metadata": {
        "id": "kJ-gCU3H2g7o",
        "colab_type": "code",
        "colab": {
          "base_uri": "https://localhost:8080/",
          "height": 170
        },
        "outputId": "084d9b2d-fcbf-4469-fe5f-6026188004f4"
      },
      "cell_type": "code",
      "source": [
        "print(classification_report(y_true=test_y, y_pred=pred_y))"
      ],
      "execution_count": 21,
      "outputs": [
        {
          "output_type": "stream",
          "text": [
            "              precision    recall  f1-score   support\n",
            "\n",
            "           0       0.99      1.00      0.99    103497\n",
            "           1       0.97      0.91      0.94     16851\n",
            "\n",
            "   micro avg       0.98      0.98      0.98    120348\n",
            "   macro avg       0.98      0.95      0.97    120348\n",
            "weighted avg       0.98      0.98      0.98    120348\n",
            "\n"
          ],
          "name": "stdout"
        }
      ]
    },
    {
      "metadata": {
        "id": "EqoRngnxLqTA",
        "colab_type": "text"
      },
      "cell_type": "markdown",
      "source": [
        "- This model uses a Bidirectional GRU + trying to tackle class imbalance with class weights\n",
        "- Embeddings are trained from scratch\n",
        "- We have trained on Security related data  vs. Non-Security data\n",
        "- Model seems to perform quite well in distinguishing security vs non-security issues\\PRs without much tuning\n"
      ]
    },
    {
      "metadata": {
        "id": "WOVboiZU2kN9",
        "colab_type": "code",
        "colab": {}
      },
      "cell_type": "code",
      "source": [
        "cpu_model.save('/content/drive/My Drive/first_model_v1cpu.h5')"
      ],
      "execution_count": 0,
      "outputs": []
    },
    {
      "metadata": {
        "id": "N7EHA4d1UAoK",
        "colab_type": "code",
        "colab": {
          "base_uri": "https://localhost:8080/",
          "height": 170
        },
        "outputId": "c41106db-3822-46be-92b2-aef8d6424a02"
      },
      "cell_type": "code",
      "source": [
        "tpu_model.save('/content/drive/My Drive/first_model_v1tpu.h5')"
      ],
      "execution_count": 23,
      "outputs": [
        {
          "output_type": "stream",
          "text": [
            "INFO:tensorflow:Copying TPU weights to the CPU\n",
            "INFO:tensorflow:TPU -> CPU lr: 0.0010000000474974513\n",
            "INFO:tensorflow:TPU -> CPU beta_1: 0.8999999761581421\n",
            "INFO:tensorflow:TPU -> CPU beta_2: 0.9990000128746033\n",
            "INFO:tensorflow:TPU -> CPU decay: 0.0\n",
            "INFO:tensorflow:TPU -> CPU epsilon: 1e-07\n",
            "WARNING:tensorflow:Cannot update non-variable config: epsilon\n",
            "INFO:tensorflow:TPU -> CPU amsgrad: False\n",
            "WARNING:tensorflow:Cannot update non-variable config: amsgrad\n"
          ],
          "name": "stdout"
        }
      ]
    }
  ]
}