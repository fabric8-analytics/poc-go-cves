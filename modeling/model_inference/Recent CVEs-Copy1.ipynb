{
 "cells": [
  {
   "cell_type": "code",
   "execution_count": 1,
   "metadata": {},
   "outputs": [],
   "source": [
    "import bq_utils as bqu\n",
    "import pandas as pd\n",
    "import numpy as np\n",
    "import json\n",
    "from pandas.io.json import json_normalize\n",
    "import arrow\n",
    "import gc"
   ]
  },
  {
   "cell_type": "code",
   "execution_count": 2,
   "metadata": {},
   "outputs": [],
   "source": [
    "import os\n",
    "os.environ['GOOGLE_APPLICATION_CREDENTIALS'] = '../../../auth/bq_key.json'\n",
    "gh_archive = bqu.BigQueryHelper(active_project= \"githubarchive\", \n",
    "                                dataset_name = \"day\")"
   ]
  },
  {
   "cell_type": "code",
   "execution_count": 3,
   "metadata": {},
   "outputs": [
    {
     "ename": "ValueError",
     "evalue": "Mixing dicts with non-Series may lead to ambiguous ordering.",
     "output_type": "error",
     "traceback": [
      "\u001b[0;31m---------------------------------------------------------------------------\u001b[0m",
      "\u001b[0;31mValueError\u001b[0m                                Traceback (most recent call last)",
      "\u001b[0;32m<ipython-input-3-46436b326428>\u001b[0m in \u001b[0;36m<module>\u001b[0;34m()\u001b[0m\n\u001b[0;32m----> 1\u001b[0;31m \u001b[0mpd\u001b[0m\u001b[0;34m.\u001b[0m\u001b[0mread_json\u001b[0m\u001b[0;34m(\u001b[0m\u001b[0;34m'https://api.github.com/repos/openshift/origin/issues/6829'\u001b[0m\u001b[0;34m)\u001b[0m\u001b[0;34m\u001b[0m\u001b[0m\n\u001b[0m",
      "\u001b[0;32m~/anaconda3/lib/python3.6/site-packages/pandas/io/json/json.py\u001b[0m in \u001b[0;36mread_json\u001b[0;34m(path_or_buf, orient, typ, dtype, convert_axes, convert_dates, keep_default_dates, numpy, precise_float, date_unit, encoding, lines, chunksize, compression)\u001b[0m\n\u001b[1;32m    420\u001b[0m         \u001b[0;32mreturn\u001b[0m \u001b[0mjson_reader\u001b[0m\u001b[0;34m\u001b[0m\u001b[0m\n\u001b[1;32m    421\u001b[0m \u001b[0;34m\u001b[0m\u001b[0m\n\u001b[0;32m--> 422\u001b[0;31m     \u001b[0mresult\u001b[0m \u001b[0;34m=\u001b[0m \u001b[0mjson_reader\u001b[0m\u001b[0;34m.\u001b[0m\u001b[0mread\u001b[0m\u001b[0;34m(\u001b[0m\u001b[0;34m)\u001b[0m\u001b[0;34m\u001b[0m\u001b[0m\n\u001b[0m\u001b[1;32m    423\u001b[0m     \u001b[0;32mif\u001b[0m \u001b[0mshould_close\u001b[0m\u001b[0;34m:\u001b[0m\u001b[0;34m\u001b[0m\u001b[0m\n\u001b[1;32m    424\u001b[0m         \u001b[0;32mtry\u001b[0m\u001b[0;34m:\u001b[0m\u001b[0;34m\u001b[0m\u001b[0m\n",
      "\u001b[0;32m~/anaconda3/lib/python3.6/site-packages/pandas/io/json/json.py\u001b[0m in \u001b[0;36mread\u001b[0;34m(self)\u001b[0m\n\u001b[1;32m    527\u001b[0m             )\n\u001b[1;32m    528\u001b[0m         \u001b[0;32melse\u001b[0m\u001b[0;34m:\u001b[0m\u001b[0;34m\u001b[0m\u001b[0m\n\u001b[0;32m--> 529\u001b[0;31m             \u001b[0mobj\u001b[0m \u001b[0;34m=\u001b[0m \u001b[0mself\u001b[0m\u001b[0;34m.\u001b[0m\u001b[0m_get_object_parser\u001b[0m\u001b[0;34m(\u001b[0m\u001b[0mself\u001b[0m\u001b[0;34m.\u001b[0m\u001b[0mdata\u001b[0m\u001b[0;34m)\u001b[0m\u001b[0;34m\u001b[0m\u001b[0m\n\u001b[0m\u001b[1;32m    530\u001b[0m         \u001b[0mself\u001b[0m\u001b[0;34m.\u001b[0m\u001b[0mclose\u001b[0m\u001b[0;34m(\u001b[0m\u001b[0;34m)\u001b[0m\u001b[0;34m\u001b[0m\u001b[0m\n\u001b[1;32m    531\u001b[0m         \u001b[0;32mreturn\u001b[0m \u001b[0mobj\u001b[0m\u001b[0;34m\u001b[0m\u001b[0m\n",
      "\u001b[0;32m~/anaconda3/lib/python3.6/site-packages/pandas/io/json/json.py\u001b[0m in \u001b[0;36m_get_object_parser\u001b[0;34m(self, json)\u001b[0m\n\u001b[1;32m    544\u001b[0m         \u001b[0mobj\u001b[0m \u001b[0;34m=\u001b[0m \u001b[0;32mNone\u001b[0m\u001b[0;34m\u001b[0m\u001b[0m\n\u001b[1;32m    545\u001b[0m         \u001b[0;32mif\u001b[0m \u001b[0mtyp\u001b[0m \u001b[0;34m==\u001b[0m \u001b[0;34m'frame'\u001b[0m\u001b[0;34m:\u001b[0m\u001b[0;34m\u001b[0m\u001b[0m\n\u001b[0;32m--> 546\u001b[0;31m             \u001b[0mobj\u001b[0m \u001b[0;34m=\u001b[0m \u001b[0mFrameParser\u001b[0m\u001b[0;34m(\u001b[0m\u001b[0mjson\u001b[0m\u001b[0;34m,\u001b[0m \u001b[0;34m**\u001b[0m\u001b[0mkwargs\u001b[0m\u001b[0;34m)\u001b[0m\u001b[0;34m.\u001b[0m\u001b[0mparse\u001b[0m\u001b[0;34m(\u001b[0m\u001b[0;34m)\u001b[0m\u001b[0;34m\u001b[0m\u001b[0m\n\u001b[0m\u001b[1;32m    547\u001b[0m \u001b[0;34m\u001b[0m\u001b[0m\n\u001b[1;32m    548\u001b[0m         \u001b[0;32mif\u001b[0m \u001b[0mtyp\u001b[0m \u001b[0;34m==\u001b[0m \u001b[0;34m'series'\u001b[0m \u001b[0;32mor\u001b[0m \u001b[0mobj\u001b[0m \u001b[0;32mis\u001b[0m \u001b[0;32mNone\u001b[0m\u001b[0;34m:\u001b[0m\u001b[0;34m\u001b[0m\u001b[0m\n",
      "\u001b[0;32m~/anaconda3/lib/python3.6/site-packages/pandas/io/json/json.py\u001b[0m in \u001b[0;36mparse\u001b[0;34m(self)\u001b[0m\n\u001b[1;32m    636\u001b[0m \u001b[0;34m\u001b[0m\u001b[0m\n\u001b[1;32m    637\u001b[0m         \u001b[0;32melse\u001b[0m\u001b[0;34m:\u001b[0m\u001b[0;34m\u001b[0m\u001b[0m\n\u001b[0;32m--> 638\u001b[0;31m             \u001b[0mself\u001b[0m\u001b[0;34m.\u001b[0m\u001b[0m_parse_no_numpy\u001b[0m\u001b[0;34m(\u001b[0m\u001b[0;34m)\u001b[0m\u001b[0;34m\u001b[0m\u001b[0m\n\u001b[0m\u001b[1;32m    639\u001b[0m \u001b[0;34m\u001b[0m\u001b[0m\n\u001b[1;32m    640\u001b[0m         \u001b[0;32mif\u001b[0m \u001b[0mself\u001b[0m\u001b[0;34m.\u001b[0m\u001b[0mobj\u001b[0m \u001b[0;32mis\u001b[0m \u001b[0;32mNone\u001b[0m\u001b[0;34m:\u001b[0m\u001b[0;34m\u001b[0m\u001b[0m\n",
      "\u001b[0;32m~/anaconda3/lib/python3.6/site-packages/pandas/io/json/json.py\u001b[0m in \u001b[0;36m_parse_no_numpy\u001b[0;34m(self)\u001b[0m\n\u001b[1;32m    851\u001b[0m         \u001b[0;32mif\u001b[0m \u001b[0morient\u001b[0m \u001b[0;34m==\u001b[0m \u001b[0;34m\"columns\"\u001b[0m\u001b[0;34m:\u001b[0m\u001b[0;34m\u001b[0m\u001b[0m\n\u001b[1;32m    852\u001b[0m             self.obj = DataFrame(\n\u001b[0;32m--> 853\u001b[0;31m                 loads(json, precise_float=self.precise_float), dtype=None)\n\u001b[0m\u001b[1;32m    854\u001b[0m         \u001b[0;32melif\u001b[0m \u001b[0morient\u001b[0m \u001b[0;34m==\u001b[0m \u001b[0;34m\"split\"\u001b[0m\u001b[0;34m:\u001b[0m\u001b[0;34m\u001b[0m\u001b[0m\n\u001b[1;32m    855\u001b[0m             decoded = {str(k): v for k, v in compat.iteritems(\n",
      "\u001b[0;32m~/anaconda3/lib/python3.6/site-packages/pandas/core/frame.py\u001b[0m in \u001b[0;36m__init__\u001b[0;34m(self, data, index, columns, dtype, copy)\u001b[0m\n\u001b[1;32m    346\u001b[0m                                  dtype=dtype, copy=copy)\n\u001b[1;32m    347\u001b[0m         \u001b[0;32melif\u001b[0m \u001b[0misinstance\u001b[0m\u001b[0;34m(\u001b[0m\u001b[0mdata\u001b[0m\u001b[0;34m,\u001b[0m \u001b[0mdict\u001b[0m\u001b[0;34m)\u001b[0m\u001b[0;34m:\u001b[0m\u001b[0;34m\u001b[0m\u001b[0m\n\u001b[0;32m--> 348\u001b[0;31m             \u001b[0mmgr\u001b[0m \u001b[0;34m=\u001b[0m \u001b[0mself\u001b[0m\u001b[0;34m.\u001b[0m\u001b[0m_init_dict\u001b[0m\u001b[0;34m(\u001b[0m\u001b[0mdata\u001b[0m\u001b[0;34m,\u001b[0m \u001b[0mindex\u001b[0m\u001b[0;34m,\u001b[0m \u001b[0mcolumns\u001b[0m\u001b[0;34m,\u001b[0m \u001b[0mdtype\u001b[0m\u001b[0;34m=\u001b[0m\u001b[0mdtype\u001b[0m\u001b[0;34m)\u001b[0m\u001b[0;34m\u001b[0m\u001b[0m\n\u001b[0m\u001b[1;32m    349\u001b[0m         \u001b[0;32melif\u001b[0m \u001b[0misinstance\u001b[0m\u001b[0;34m(\u001b[0m\u001b[0mdata\u001b[0m\u001b[0;34m,\u001b[0m \u001b[0mma\u001b[0m\u001b[0;34m.\u001b[0m\u001b[0mMaskedArray\u001b[0m\u001b[0;34m)\u001b[0m\u001b[0;34m:\u001b[0m\u001b[0;34m\u001b[0m\u001b[0m\n\u001b[1;32m    350\u001b[0m             \u001b[0;32mimport\u001b[0m \u001b[0mnumpy\u001b[0m\u001b[0;34m.\u001b[0m\u001b[0mma\u001b[0m\u001b[0;34m.\u001b[0m\u001b[0mmrecords\u001b[0m \u001b[0;32mas\u001b[0m \u001b[0mmrecords\u001b[0m\u001b[0;34m\u001b[0m\u001b[0m\n",
      "\u001b[0;32m~/anaconda3/lib/python3.6/site-packages/pandas/core/frame.py\u001b[0m in \u001b[0;36m_init_dict\u001b[0;34m(self, data, index, columns, dtype)\u001b[0m\n\u001b[1;32m    457\u001b[0m             \u001b[0marrays\u001b[0m \u001b[0;34m=\u001b[0m \u001b[0;34m[\u001b[0m\u001b[0mdata\u001b[0m\u001b[0;34m[\u001b[0m\u001b[0mk\u001b[0m\u001b[0;34m]\u001b[0m \u001b[0;32mfor\u001b[0m \u001b[0mk\u001b[0m \u001b[0;32min\u001b[0m \u001b[0mkeys\u001b[0m\u001b[0;34m]\u001b[0m\u001b[0;34m\u001b[0m\u001b[0m\n\u001b[1;32m    458\u001b[0m \u001b[0;34m\u001b[0m\u001b[0m\n\u001b[0;32m--> 459\u001b[0;31m         \u001b[0;32mreturn\u001b[0m \u001b[0m_arrays_to_mgr\u001b[0m\u001b[0;34m(\u001b[0m\u001b[0marrays\u001b[0m\u001b[0;34m,\u001b[0m \u001b[0mdata_names\u001b[0m\u001b[0;34m,\u001b[0m \u001b[0mindex\u001b[0m\u001b[0;34m,\u001b[0m \u001b[0mcolumns\u001b[0m\u001b[0;34m,\u001b[0m \u001b[0mdtype\u001b[0m\u001b[0;34m=\u001b[0m\u001b[0mdtype\u001b[0m\u001b[0;34m)\u001b[0m\u001b[0;34m\u001b[0m\u001b[0m\n\u001b[0m\u001b[1;32m    460\u001b[0m \u001b[0;34m\u001b[0m\u001b[0m\n\u001b[1;32m    461\u001b[0m     \u001b[0;32mdef\u001b[0m \u001b[0m_init_ndarray\u001b[0m\u001b[0;34m(\u001b[0m\u001b[0mself\u001b[0m\u001b[0;34m,\u001b[0m \u001b[0mvalues\u001b[0m\u001b[0;34m,\u001b[0m \u001b[0mindex\u001b[0m\u001b[0;34m,\u001b[0m \u001b[0mcolumns\u001b[0m\u001b[0;34m,\u001b[0m \u001b[0mdtype\u001b[0m\u001b[0;34m=\u001b[0m\u001b[0;32mNone\u001b[0m\u001b[0;34m,\u001b[0m \u001b[0mcopy\u001b[0m\u001b[0;34m=\u001b[0m\u001b[0;32mFalse\u001b[0m\u001b[0;34m)\u001b[0m\u001b[0;34m:\u001b[0m\u001b[0;34m\u001b[0m\u001b[0m\n",
      "\u001b[0;32m~/anaconda3/lib/python3.6/site-packages/pandas/core/frame.py\u001b[0m in \u001b[0;36m_arrays_to_mgr\u001b[0;34m(arrays, arr_names, index, columns, dtype)\u001b[0m\n\u001b[1;32m   7313\u001b[0m     \u001b[0;31m# figure out the index, if necessary\u001b[0m\u001b[0;34m\u001b[0m\u001b[0;34m\u001b[0m\u001b[0m\n\u001b[1;32m   7314\u001b[0m     \u001b[0;32mif\u001b[0m \u001b[0mindex\u001b[0m \u001b[0;32mis\u001b[0m \u001b[0;32mNone\u001b[0m\u001b[0;34m:\u001b[0m\u001b[0;34m\u001b[0m\u001b[0m\n\u001b[0;32m-> 7315\u001b[0;31m         \u001b[0mindex\u001b[0m \u001b[0;34m=\u001b[0m \u001b[0mextract_index\u001b[0m\u001b[0;34m(\u001b[0m\u001b[0marrays\u001b[0m\u001b[0;34m)\u001b[0m\u001b[0;34m\u001b[0m\u001b[0m\n\u001b[0m\u001b[1;32m   7316\u001b[0m \u001b[0;34m\u001b[0m\u001b[0m\n\u001b[1;32m   7317\u001b[0m     \u001b[0;31m# don't force copy because getting jammed in an ndarray anyway\u001b[0m\u001b[0;34m\u001b[0m\u001b[0;34m\u001b[0m\u001b[0m\n",
      "\u001b[0;32m~/anaconda3/lib/python3.6/site-packages/pandas/core/frame.py\u001b[0m in \u001b[0;36mextract_index\u001b[0;34m(data)\u001b[0m\n\u001b[1;32m   7362\u001b[0m \u001b[0;34m\u001b[0m\u001b[0m\n\u001b[1;32m   7363\u001b[0m             \u001b[0;32mif\u001b[0m \u001b[0mhave_dicts\u001b[0m\u001b[0;34m:\u001b[0m\u001b[0;34m\u001b[0m\u001b[0m\n\u001b[0;32m-> 7364\u001b[0;31m                 raise ValueError('Mixing dicts with non-Series may lead to '\n\u001b[0m\u001b[1;32m   7365\u001b[0m                                  'ambiguous ordering.')\n\u001b[1;32m   7366\u001b[0m \u001b[0;34m\u001b[0m\u001b[0m\n",
      "\u001b[0;31mValueError\u001b[0m: Mixing dicts with non-Series may lead to ambiguous ordering."
     ]
    }
   ],
   "source": [
    "pd.read_json('https://api.github.com/repos/openshift/origin/issues/6829')"
   ]
  },
  {
   "cell_type": "code",
   "execution_count": 115,
   "metadata": {},
   "outputs": [],
   "source": [
    "gh_repo_links = ['https://github.com/golang/go', 'https://github.com/hashicorp/consul']"
   ]
  },
  {
   "cell_type": "code",
   "execution_count": 116,
   "metadata": {},
   "outputs": [
    {
     "data": {
      "text/plain": [
       "(array(['golang/go', 'hashicorp/consul'], dtype='<U16'), (2,))"
      ]
     },
     "execution_count": 116,
     "metadata": {},
     "output_type": "execute_result"
    }
   ],
   "source": [
    "import re\n",
    "\n",
    "pattern = re.compile(r'.*?github.com/(.*)', re.I)\n",
    "repo_names = np.array(list(filter(None,[pattern.search(item).group(1) \n",
    "                                            if pattern.search(item) else None \n",
    "                                               for item in gh_repo_links])))\n",
    "repo_names[:10], repo_names.shape"
   ]
  },
  {
   "cell_type": "code",
   "execution_count": 117,
   "metadata": {},
   "outputs": [],
   "source": [
    "def add_query_params(query, params_dict):\n",
    "    for i, j in params_dict.items():\n",
    "        query = query.replace(i, j)\n",
    "    return query"
   ]
  },
  {
   "cell_type": "code",
   "execution_count": 118,
   "metadata": {},
   "outputs": [
    {
     "data": {
      "text/plain": [
       "(['20190305', '20190306', '20190313'], 3)"
      ]
     },
     "execution_count": 118,
     "metadata": {},
     "output_type": "execute_result"
    }
   ],
   "source": [
    "specific_dates = [arrow.get('2019-03-05 00:00:00').to('UTC'),\n",
    "                  arrow.get('2019-03-06 00:00:00').to('UTC'), \n",
    "                  arrow.get('2019-03-13 00:00:00').to('UTC')]\n",
    "specific_days = [dt.format('YYYYMMDD') for dt in specific_dates]\n",
    "specific_days, len(specific_days)"
   ]
  },
  {
   "cell_type": "code",
   "execution_count": 119,
   "metadata": {},
   "outputs": [],
   "source": [
    "year_prefix = '20*'\n",
    "date_list = [item[2:] for item in specific_days]\n",
    "query_params = {\n",
    "    '{year_prefix_wildcard}': year_prefix,\n",
    "    '{year_suffix_month_day}': '('+', '.join([\"'\"+d+\"'\" for d in date_list])+')',\n",
    "    '{repo_names}': '('+', '.join([\"'\"+r+\"'\" for r in repo_names])+')'\n",
    "}"
   ]
  },
  {
   "cell_type": "code",
   "execution_count": 120,
   "metadata": {},
   "outputs": [
    {
     "data": {
      "text/plain": [
       "0.20680708345025778"
      ]
     },
     "execution_count": 120,
     "metadata": {},
     "output_type": "execute_result"
    }
   ],
   "source": [
    "query = \"\"\"\n",
    "SELECT  type, count(*)\n",
    "        FROM `githubarchive.day.{year_prefix_wildcard}`\n",
    "        WHERE _TABLE_SUFFIX IN {year_suffix_month_day}\n",
    "        AND repo.name in {repo_names}\n",
    "        AND type in ('PullRequestEvent', 'IssuesEvent')\n",
    "        GROUP BY type\n",
    "\"\"\"\n",
    "query = add_query_params(query, query_params)\n",
    "gh_archive.estimate_query_size(query)"
   ]
  },
  {
   "cell_type": "code",
   "execution_count": 121,
   "metadata": {},
   "outputs": [
    {
     "data": {
      "text/html": [
       "<div>\n",
       "<style scoped>\n",
       "    .dataframe tbody tr th:only-of-type {\n",
       "        vertical-align: middle;\n",
       "    }\n",
       "\n",
       "    .dataframe tbody tr th {\n",
       "        vertical-align: top;\n",
       "    }\n",
       "\n",
       "    .dataframe thead th {\n",
       "        text-align: right;\n",
       "    }\n",
       "</style>\n",
       "<table border=\"1\" class=\"dataframe\">\n",
       "  <thead>\n",
       "    <tr style=\"text-align: right;\">\n",
       "      <th></th>\n",
       "      <th>type</th>\n",
       "      <th>f0_</th>\n",
       "    </tr>\n",
       "  </thead>\n",
       "  <tbody>\n",
       "    <tr>\n",
       "      <th>0</th>\n",
       "      <td>IssuesEvent</td>\n",
       "      <td>169</td>\n",
       "    </tr>\n",
       "    <tr>\n",
       "      <th>1</th>\n",
       "      <td>PullRequestEvent</td>\n",
       "      <td>43</td>\n",
       "    </tr>\n",
       "  </tbody>\n",
       "</table>\n",
       "</div>"
      ],
      "text/plain": [
       "               type  f0_\n",
       "0       IssuesEvent  169\n",
       "1  PullRequestEvent   43"
      ]
     },
     "execution_count": 121,
     "metadata": {},
     "output_type": "execute_result"
    }
   ],
   "source": [
    "df = gh_archive.query_to_pandas(query)\n",
    "df"
   ]
  },
  {
   "cell_type": "code",
   "execution_count": 7,
   "metadata": {},
   "outputs": [
    {
     "data": {
      "text/plain": [
       "694.2594735706225"
      ]
     },
     "execution_count": 7,
     "metadata": {},
     "output_type": "execute_result"
    }
   ],
   "source": [
    "query = \"\"\"\n",
    "SELECT \n",
    "    repo.name as repo_name, \n",
    "    type as event_type, \n",
    "    actor.id as actor_id,\n",
    "    actor.login as actor_name,\n",
    "    JSON_EXTRACT_SCALAR(payload, '$.action') as issue_status,\n",
    "    JSON_EXTRACT_SCALAR(payload, '$.issue.url') as issue_api_url,\n",
    "    JSON_EXTRACT_SCALAR(payload, '$.issue.html_url') as issue_url,\n",
    "    JSON_EXTRACT_SCALAR(payload, '$.issue.user.login') as issue_creator_name,\n",
    "    JSON_EXTRACT_SCALAR(payload, '$.issue.user.url') as issue_creator_api_url,\n",
    "    JSON_EXTRACT_SCALAR(payload, '$.issue.user.html_url') as issue_creator_url,\n",
    "    JSON_EXTRACT_SCALAR(payload, '$.issue.comments') as comment_count,\n",
    "    JSON_EXTRACT_SCALAR(payload, '$.issue.id') as issue_id,\n",
    "    JSON_EXTRACT_SCALAR(payload, '$.issue.number') as issue_number,\n",
    "    JSON_EXTRACT_SCALAR(payload, '$.issue.created_at') as issue_created_at,\n",
    "    JSON_EXTRACT_SCALAR(payload, '$.issue.updated_at') as issue_updated_at,\n",
    "    JSON_EXTRACT_SCALAR(payload, '$.issue.closed_at') as issue_closed_at,\n",
    "    TRIM(REGEXP_REPLACE(\n",
    "             REGEXP_REPLACE(\n",
    "                 JSON_EXTRACT_SCALAR(payload, '$.issue.title'), \n",
    "                 r'\\\\r\\\\n|\\\\r|\\\\n', \n",
    "                 ' '),\n",
    "             r'\\s{2,}', \n",
    "             ' ')) as issue_title,\n",
    "    TRIM(REGEXP_REPLACE(\n",
    "             REGEXP_REPLACE(\n",
    "                 JSON_EXTRACT_SCALAR(payload, '$.issue.body'), \n",
    "                 r'\\\\r\\\\n|\\\\r|\\\\n', \n",
    "                 ' '),\n",
    "             r'\\s{2,}', \n",
    "             ' ')) as issue_body\n",
    "        \n",
    "FROM `githubarchive.year.2016`\n",
    "    WHERE repo.name in ('openshift/origin')\n",
    "    AND type = 'IssuesEvent'\n",
    "    AND JSON_EXTRACT_SCALAR(payload, '$.issue.url') = 'https://api.github.com/repos/openshift/origin/issues/6829'\n",
    "    \"\"\"\n",
    "\n",
    "gh_archive.estimate_query_size(query)"
   ]
  },
  {
   "cell_type": "code",
   "execution_count": 8,
   "metadata": {},
   "outputs": [
    {
     "data": {
      "text/plain": [
       "(1, 18)"
      ]
     },
     "execution_count": 8,
     "metadata": {},
     "output_type": "execute_result"
    }
   ],
   "source": [
    "issues_df = gh_archive.query_to_pandas(query)\n",
    "issues_df.issue_created_at = pd.to_datetime(issues_df.issue_created_at)\n",
    "issues_df.issue_updated_at = pd.to_datetime(issues_df.issue_updated_at)\n",
    "issues_df.issue_closed_at = pd.to_datetime(issues_df.issue_closed_at)\n",
    "issues_df = issues_df.loc[issues_df.groupby('issue_url').issue_updated_at.idxmax(skipna=False)]\n",
    "issues_df = issues_df.reset_index(drop=True)\n",
    "issues_df.shape"
   ]
  },
  {
   "cell_type": "code",
   "execution_count": 9,
   "metadata": {},
   "outputs": [
    {
     "data": {
      "text/html": [
       "<div>\n",
       "<style scoped>\n",
       "    .dataframe tbody tr th:only-of-type {\n",
       "        vertical-align: middle;\n",
       "    }\n",
       "\n",
       "    .dataframe tbody tr th {\n",
       "        vertical-align: top;\n",
       "    }\n",
       "\n",
       "    .dataframe thead th {\n",
       "        text-align: right;\n",
       "    }\n",
       "</style>\n",
       "<table border=\"1\" class=\"dataframe\">\n",
       "  <thead>\n",
       "    <tr style=\"text-align: right;\">\n",
       "      <th></th>\n",
       "      <th>repo_name</th>\n",
       "      <th>event_type</th>\n",
       "      <th>actor_id</th>\n",
       "      <th>actor_name</th>\n",
       "      <th>issue_status</th>\n",
       "      <th>issue_api_url</th>\n",
       "      <th>issue_url</th>\n",
       "      <th>issue_creator_name</th>\n",
       "      <th>issue_creator_api_url</th>\n",
       "      <th>issue_creator_url</th>\n",
       "      <th>comment_count</th>\n",
       "      <th>issue_id</th>\n",
       "      <th>issue_number</th>\n",
       "      <th>issue_created_at</th>\n",
       "      <th>issue_updated_at</th>\n",
       "      <th>issue_closed_at</th>\n",
       "      <th>issue_title</th>\n",
       "      <th>issue_body</th>\n",
       "    </tr>\n",
       "  </thead>\n",
       "  <tbody>\n",
       "    <tr>\n",
       "      <th>0</th>\n",
       "      <td>openshift/origin</td>\n",
       "      <td>IssuesEvent</td>\n",
       "      <td>1779249</td>\n",
       "      <td>openshift-bot</td>\n",
       "      <td>closed</td>\n",
       "      <td>https://api.github.com/repos/openshift/origin/...</td>\n",
       "      <td>https://github.com/openshift/origin/issues/6829</td>\n",
       "      <td>elyscape</td>\n",
       "      <td>https://api.github.com/users/elyscape</td>\n",
       "      <td>https://github.com/elyscape</td>\n",
       "      <td>0</td>\n",
       "      <td>128645936</td>\n",
       "      <td>6829</td>\n",
       "      <td>2016-01-25 21:39:25</td>\n",
       "      <td>2016-01-26 03:44:46</td>\n",
       "      <td>2016-01-26 03:44:46</td>\n",
       "      <td>Webhook secrets are vulnerable to timing attack</td>\n",
       "      <td>The webhook secret validation code uses an ins...</td>\n",
       "    </tr>\n",
       "  </tbody>\n",
       "</table>\n",
       "</div>"
      ],
      "text/plain": [
       "          repo_name   event_type  actor_id     actor_name issue_status  \\\n",
       "0  openshift/origin  IssuesEvent   1779249  openshift-bot       closed   \n",
       "\n",
       "                                       issue_api_url  \\\n",
       "0  https://api.github.com/repos/openshift/origin/...   \n",
       "\n",
       "                                         issue_url issue_creator_name  \\\n",
       "0  https://github.com/openshift/origin/issues/6829           elyscape   \n",
       "\n",
       "                   issue_creator_api_url            issue_creator_url  \\\n",
       "0  https://api.github.com/users/elyscape  https://github.com/elyscape   \n",
       "\n",
       "  comment_count   issue_id issue_number    issue_created_at  \\\n",
       "0             0  128645936         6829 2016-01-25 21:39:25   \n",
       "\n",
       "     issue_updated_at     issue_closed_at  \\\n",
       "0 2016-01-26 03:44:46 2016-01-26 03:44:46   \n",
       "\n",
       "                                       issue_title  \\\n",
       "0  Webhook secrets are vulnerable to timing attack   \n",
       "\n",
       "                                          issue_body  \n",
       "0  The webhook secret validation code uses an ins...  "
      ]
     },
     "execution_count": 9,
     "metadata": {},
     "output_type": "execute_result"
    }
   ],
   "source": [
    "issues_df"
   ]
  },
  {
   "cell_type": "code",
   "execution_count": 14,
   "metadata": {},
   "outputs": [
    {
     "data": {
      "text/html": [
       "<div>\n",
       "<style scoped>\n",
       "    .dataframe tbody tr th:only-of-type {\n",
       "        vertical-align: middle;\n",
       "    }\n",
       "\n",
       "    .dataframe tbody tr th {\n",
       "        vertical-align: top;\n",
       "    }\n",
       "\n",
       "    .dataframe thead th {\n",
       "        text-align: right;\n",
       "    }\n",
       "</style>\n",
       "<table border=\"1\" class=\"dataframe\">\n",
       "  <thead>\n",
       "    <tr style=\"text-align: right;\">\n",
       "      <th></th>\n",
       "      <th>repository</th>\n",
       "      <th>ecosystem</th>\n",
       "      <th>repo_url</th>\n",
       "      <th>package</th>\n",
       "      <th>cause_type</th>\n",
       "      <th>issue_url</th>\n",
       "      <th>issue_date</th>\n",
       "      <th>fixed_url</th>\n",
       "      <th>fixed_date</th>\n",
       "      <th>commit_url</th>\n",
       "      <th>commit_date</th>\n",
       "      <th>identified_url</th>\n",
       "      <th>identified_date</th>\n",
       "      <th>files_changed</th>\n",
       "      <th>flagged_score</th>\n",
       "      <th>flagged_at</th>\n",
       "      <th>description</th>\n",
       "    </tr>\n",
       "  </thead>\n",
       "  <tbody>\n",
       "    <tr>\n",
       "      <th>0</th>\n",
       "      <td>openshift/origin</td>\n",
       "      <td>golang</td>\n",
       "      <td>https://github.com/openshift/origin</td>\n",
       "      <td>openshift/origin</td>\n",
       "      <td>Issue</td>\n",
       "      <td>https://github.com/openshift/origin/issues/6829</td>\n",
       "      <td>2016-01-25 21:39:25</td>\n",
       "      <td>null</td>\n",
       "      <td>null</td>\n",
       "      <td>null</td>\n",
       "      <td>null</td>\n",
       "      <td>https://github.com/openshift/origin/issues/6829</td>\n",
       "      <td>2016-01-25 21:39:25</td>\n",
       "      <td>null</td>\n",
       "      <td>null</td>\n",
       "      <td>null</td>\n",
       "      <td>Webhook secrets are vulnerable to timing attac...</td>\n",
       "    </tr>\n",
       "  </tbody>\n",
       "</table>\n",
       "</div>"
      ],
      "text/plain": [
       "         repository ecosystem                             repo_url  \\\n",
       "0  openshift/origin    golang  https://github.com/openshift/origin   \n",
       "\n",
       "            package cause_type  \\\n",
       "0  openshift/origin      Issue   \n",
       "\n",
       "                                         issue_url          issue_date  \\\n",
       "0  https://github.com/openshift/origin/issues/6829 2016-01-25 21:39:25   \n",
       "\n",
       "  fixed_url fixed_date commit_url commit_date  \\\n",
       "0      null       null       null        null   \n",
       "\n",
       "                                    identified_url     identified_date  \\\n",
       "0  https://github.com/openshift/origin/issues/6829 2016-01-25 21:39:25   \n",
       "\n",
       "  files_changed flagged_score flagged_at  \\\n",
       "0          null          null       null   \n",
       "\n",
       "                                         description  \n",
       "0  Webhook secrets are vulnerable to timing attac...  "
      ]
     },
     "execution_count": 14,
     "metadata": {},
     "output_type": "execute_result"
    }
   ],
   "source": [
    "df1 = pd.DataFrame()\n",
    "df1['repository'] = issues_df['repo_name'].tolist()\n",
    "df1['ecosystem'] = ['golang'] * len(issues_df)\n",
    "df1['repo_url'] = ['https://github.com/'+repo_name \n",
    "                       for repo_name in issues_df['repo_name'].tolist()]\n",
    "df1['package'] = df1['repository']\n",
    "df1['cause_type'] = ['Issue'] * len(issues_df)\n",
    "df1['issue_url'] = issues_df['issue_url']\n",
    "df1['issue_date'] = issues_df['issue_created_at']\n",
    "df1['fixed_url'] = 'null'\n",
    "df1['fixed_date'] = 'null'\n",
    "df1['commit_url'] = 'null'\n",
    "df1['commit_date'] = 'null'\n",
    "df1['identified_url'] = df1['issue_url']\n",
    "df1['identified_date'] = df1['issue_date']\n",
    "df1['files_changed'] = 'null'\n",
    "df1['flagged_score'] = 'null'\n",
    "df1['flagged_at'] = 'null'\n",
    "df1['description'] = issues_df['issue_title'].map(str) + ' ' + issues_df['issue_body']\n",
    "df1.head()"
   ]
  },
  {
   "cell_type": "code",
   "execution_count": 20,
   "metadata": {},
   "outputs": [
    {
     "data": {
      "text/plain": [
       "694.2594735706225"
      ]
     },
     "execution_count": 20,
     "metadata": {},
     "output_type": "execute_result"
    }
   ],
   "source": [
    "query = \"\"\"\n",
    "SELECT \n",
    "    repo.name as repo_name, \n",
    "    type as event_type, \n",
    "    actor.id as actor_id,\n",
    "    actor.login as actor_name,\n",
    "    JSON_EXTRACT_SCALAR(payload, '$.action') as pr_status,\n",
    "    JSON_EXTRACT_SCALAR(payload, '$.pull_request.id') as pr_id,\n",
    "    JSON_EXTRACT_SCALAR(payload, '$.pull_request.number') as pr_number,\n",
    "    JSON_EXTRACT_SCALAR(payload, '$.pull_request.url') as pr_api_url,\n",
    "    JSON_EXTRACT_SCALAR(payload, '$.pull_request.html_url') as pr_url,\n",
    "    JSON_EXTRACT_SCALAR(payload, '$.pull_request.diff_url') as pr_diff_url,\n",
    "    JSON_EXTRACT_SCALAR(payload, '$.pull_request.patch_url') as pr_patch_url,\n",
    "    JSON_EXTRACT_SCALAR(payload, '$.pull_request.user.login') as pr_creator_name,\n",
    "    JSON_EXTRACT_SCALAR(payload, '$.pull_request.user.url') as pr_creator_api_url,\n",
    "    JSON_EXTRACT_SCALAR(payload, '$.pull_request.user.html_url') as pr_creator_url,\n",
    "    JSON_EXTRACT_SCALAR(payload, '$.pull_request.created_at') as pr_created_at,\n",
    "    JSON_EXTRACT_SCALAR(payload, '$.pull_request.updated_at') as pr_updated_at,\n",
    "    JSON_EXTRACT_SCALAR(payload, '$.pull_request.closed_at') as pr_closed_at,\n",
    "    JSON_EXTRACT_SCALAR(payload, '$.pull_request.merged_at') as pr_merged_at,\n",
    "    JSON_EXTRACT_SCALAR(payload, '$.pull_request.merged') as pr_merged_status,\n",
    "    JSON_EXTRACT_SCALAR(payload, '$.pull_request.comments') as pr_comments_count,\n",
    "    JSON_EXTRACT_SCALAR(payload, '$.pull_request.review_comments') as pr_review_comments_count,\n",
    "    JSON_EXTRACT_SCALAR(payload, '$.pull_request.commits') as pr_commits_count,\n",
    "    JSON_EXTRACT_SCALAR(payload, '$.pull_request.additions') as pr_additions_count,\n",
    "    JSON_EXTRACT_SCALAR(payload, '$.pull_request.deletions') as pr_deletions_count,\n",
    "    JSON_EXTRACT_SCALAR(payload, '$.pull_request.changed_files') as pr_changed_files_count,    \n",
    "    TRIM(REGEXP_REPLACE(\n",
    "             REGEXP_REPLACE(\n",
    "                 JSON_EXTRACT_SCALAR(payload, '$.pull_request.title'), \n",
    "                 r'\\\\r\\\\n|\\\\r|\\\\n', \n",
    "                 ' '),\n",
    "             r'\\s{2,}', \n",
    "             ' ')) as pr_title,\n",
    "    TRIM(REGEXP_REPLACE(\n",
    "             REGEXP_REPLACE(\n",
    "                 JSON_EXTRACT_SCALAR(payload, '$.pull_request.body'), \n",
    "                 r'\\\\r\\\\n|\\\\r|\\\\n', \n",
    "                 ' '),\n",
    "             r'\\s{2,}', \n",
    "             ' ')) as pr_body\n",
    "        \n",
    "FROM `githubarchive.year.2016`\n",
    "    WHERE repo.name in ('openshift/origin')\n",
    "    AND type = 'PullRequestEvent'\n",
    "        AND JSON_EXTRACT_SCALAR(payload, '$.pull_request.url') = 'https://api.github.com/repos/openshift/origin/pulls/6830'\n",
    "\n",
    "\"\"\"\n",
    "\n",
    "gh_archive.estimate_query_size(query)"
   ]
  },
  {
   "cell_type": "code",
   "execution_count": 28,
   "metadata": {},
   "outputs": [
    {
     "data": {
      "text/html": [
       "<div>\n",
       "<style scoped>\n",
       "    .dataframe tbody tr th:only-of-type {\n",
       "        vertical-align: middle;\n",
       "    }\n",
       "\n",
       "    .dataframe tbody tr th {\n",
       "        vertical-align: top;\n",
       "    }\n",
       "\n",
       "    .dataframe thead th {\n",
       "        text-align: right;\n",
       "    }\n",
       "</style>\n",
       "<table border=\"1\" class=\"dataframe\">\n",
       "  <thead>\n",
       "    <tr style=\"text-align: right;\">\n",
       "      <th></th>\n",
       "      <th>repo_name</th>\n",
       "      <th>event_type</th>\n",
       "      <th>actor_id</th>\n",
       "      <th>actor_name</th>\n",
       "      <th>pr_status</th>\n",
       "      <th>pr_id</th>\n",
       "      <th>pr_number</th>\n",
       "      <th>pr_api_url</th>\n",
       "      <th>pr_url</th>\n",
       "      <th>pr_diff_url</th>\n",
       "      <th>...</th>\n",
       "      <th>pr_merged_at</th>\n",
       "      <th>pr_merged_status</th>\n",
       "      <th>pr_comments_count</th>\n",
       "      <th>pr_review_comments_count</th>\n",
       "      <th>pr_commits_count</th>\n",
       "      <th>pr_additions_count</th>\n",
       "      <th>pr_deletions_count</th>\n",
       "      <th>pr_changed_files_count</th>\n",
       "      <th>pr_title</th>\n",
       "      <th>pr_body</th>\n",
       "    </tr>\n",
       "  </thead>\n",
       "  <tbody>\n",
       "    <tr>\n",
       "      <th>0</th>\n",
       "      <td>openshift/origin</td>\n",
       "      <td>PullRequestEvent</td>\n",
       "      <td>1779249</td>\n",
       "      <td>openshift-bot</td>\n",
       "      <td>closed</td>\n",
       "      <td>57136191</td>\n",
       "      <td>6830</td>\n",
       "      <td>https://api.github.com/repos/openshift/origin/...</td>\n",
       "      <td>https://github.com/openshift/origin/pull/6830</td>\n",
       "      <td>https://github.com/openshift/origin/pull/6830....</td>\n",
       "      <td>...</td>\n",
       "      <td>2016-01-26 03:44:46</td>\n",
       "      <td>true</td>\n",
       "      <td>9</td>\n",
       "      <td>2</td>\n",
       "      <td>1</td>\n",
       "      <td>4</td>\n",
       "      <td>2</td>\n",
       "      <td>2</td>\n",
       "      <td>Webhooks: use constant-time string secret comp...</td>\n",
       "      <td>For performance reasons, string comparisons in...</td>\n",
       "    </tr>\n",
       "  </tbody>\n",
       "</table>\n",
       "<p>1 rows × 27 columns</p>\n",
       "</div>"
      ],
      "text/plain": [
       "          repo_name        event_type  actor_id     actor_name pr_status  \\\n",
       "0  openshift/origin  PullRequestEvent   1779249  openshift-bot    closed   \n",
       "\n",
       "      pr_id pr_number                                         pr_api_url  \\\n",
       "0  57136191      6830  https://api.github.com/repos/openshift/origin/...   \n",
       "\n",
       "                                          pr_url  \\\n",
       "0  https://github.com/openshift/origin/pull/6830   \n",
       "\n",
       "                                         pr_diff_url  \\\n",
       "0  https://github.com/openshift/origin/pull/6830....   \n",
       "\n",
       "                         ...                                pr_merged_at  \\\n",
       "0                        ...                         2016-01-26 03:44:46   \n",
       "\n",
       "  pr_merged_status pr_comments_count pr_review_comments_count  \\\n",
       "0             true                 9                        2   \n",
       "\n",
       "  pr_commits_count pr_additions_count pr_deletions_count  \\\n",
       "0                1                  4                  2   \n",
       "\n",
       "  pr_changed_files_count                                           pr_title  \\\n",
       "0                      2  Webhooks: use constant-time string secret comp...   \n",
       "\n",
       "                                             pr_body  \n",
       "0  For performance reasons, string comparisons in...  \n",
       "\n",
       "[1 rows x 27 columns]"
      ]
     },
     "execution_count": 28,
     "metadata": {},
     "output_type": "execute_result"
    }
   ],
   "source": [
    "prs_df = gh_archive.query_to_pandas(query)\n",
    "prs_df.pr_created_at = pd.to_datetime(prs_df.pr_created_at)\n",
    "prs_df.pr_updated_at = pd.to_datetime(prs_df.pr_updated_at)\n",
    "prs_df.pr_closed_at = pd.to_datetime(prs_df.pr_closed_at)\n",
    "prs_df.pr_merged_at = pd.to_datetime(prs_df.pr_merged_at)\n",
    "prs_df = prs_df.loc[prs_df.groupby('pr_url').pr_updated_at.idxmax(skipna=False)]\n",
    "prs_df = prs_df.reset_index(drop=True)\n",
    "prs_df.head()"
   ]
  },
  {
   "cell_type": "code",
   "execution_count": 29,
   "metadata": {},
   "outputs": [
    {
     "data": {
      "text/html": [
       "<div>\n",
       "<style scoped>\n",
       "    .dataframe tbody tr th:only-of-type {\n",
       "        vertical-align: middle;\n",
       "    }\n",
       "\n",
       "    .dataframe tbody tr th {\n",
       "        vertical-align: top;\n",
       "    }\n",
       "\n",
       "    .dataframe thead th {\n",
       "        text-align: right;\n",
       "    }\n",
       "</style>\n",
       "<table border=\"1\" class=\"dataframe\">\n",
       "  <thead>\n",
       "    <tr style=\"text-align: right;\">\n",
       "      <th></th>\n",
       "      <th>repository</th>\n",
       "      <th>ecosystem</th>\n",
       "      <th>repo_url</th>\n",
       "      <th>package</th>\n",
       "      <th>cause_type</th>\n",
       "      <th>issue_url</th>\n",
       "      <th>issue_date</th>\n",
       "      <th>fixed_url</th>\n",
       "      <th>fixed_date</th>\n",
       "      <th>commit_url</th>\n",
       "      <th>commit_date</th>\n",
       "      <th>identified_url</th>\n",
       "      <th>identified_date</th>\n",
       "      <th>files_changed</th>\n",
       "      <th>flagged_score</th>\n",
       "      <th>flagged_at</th>\n",
       "      <th>description</th>\n",
       "    </tr>\n",
       "  </thead>\n",
       "  <tbody>\n",
       "    <tr>\n",
       "      <th>0</th>\n",
       "      <td>openshift/origin</td>\n",
       "      <td>golang</td>\n",
       "      <td>https://github.com/openshift/origin</td>\n",
       "      <td>openshift/origin</td>\n",
       "      <td>Pull Request</td>\n",
       "      <td>null</td>\n",
       "      <td>null</td>\n",
       "      <td>https://github.com/openshift/origin/pull/6830</td>\n",
       "      <td>2016-01-25 21:50:37</td>\n",
       "      <td>null</td>\n",
       "      <td>null</td>\n",
       "      <td>https://github.com/openshift/origin/pull/6830</td>\n",
       "      <td>2016-01-25 21:50:37</td>\n",
       "      <td>null</td>\n",
       "      <td>null</td>\n",
       "      <td>null</td>\n",
       "      <td>Webhooks: use constant-time string secret comp...</td>\n",
       "    </tr>\n",
       "  </tbody>\n",
       "</table>\n",
       "</div>"
      ],
      "text/plain": [
       "         repository ecosystem                             repo_url  \\\n",
       "0  openshift/origin    golang  https://github.com/openshift/origin   \n",
       "\n",
       "            package    cause_type issue_url issue_date  \\\n",
       "0  openshift/origin  Pull Request      null       null   \n",
       "\n",
       "                                       fixed_url          fixed_date  \\\n",
       "0  https://github.com/openshift/origin/pull/6830 2016-01-25 21:50:37   \n",
       "\n",
       "  commit_url commit_date                                 identified_url  \\\n",
       "0       null        null  https://github.com/openshift/origin/pull/6830   \n",
       "\n",
       "      identified_date files_changed flagged_score flagged_at  \\\n",
       "0 2016-01-25 21:50:37          null          null       null   \n",
       "\n",
       "                                         description  \n",
       "0  Webhooks: use constant-time string secret comp...  "
      ]
     },
     "execution_count": 29,
     "metadata": {},
     "output_type": "execute_result"
    }
   ],
   "source": [
    "df2 = pd.DataFrame()\n",
    "df2['repository'] = prs_df['repo_name'].tolist()\n",
    "df2['ecosystem'] = ['golang'] * len(prs_df)\n",
    "df2['repo_url'] = ['https://github.com/'+repo_name \n",
    "                       for repo_name in prs_df['repo_name'].tolist()]\n",
    "df2['package'] = df2['repository']\n",
    "df2['cause_type'] = ['Pull Request'] * len(prs_df)\n",
    "df2['issue_url'] = 'null'\n",
    "df2['issue_date'] = 'null'\n",
    "df2['fixed_url'] = prs_df['pr_url']\n",
    "df2['fixed_date'] = prs_df['pr_created_at']\n",
    "df2['commit_url'] = 'null'\n",
    "df2['commit_date'] = 'null'\n",
    "df2['identified_url'] = df2['fixed_url']\n",
    "df2['identified_date'] = df2['fixed_date']\n",
    "df2['files_changed'] = 'null'\n",
    "df2['flagged_score'] = 'null'\n",
    "df2['flagged_at'] = 'null'\n",
    "df2['description'] = prs_df['pr_title'].map(str) + ' ' + prs_df['pr_body']\n",
    "df2.head()"
   ]
  },
  {
   "cell_type": "code",
   "execution_count": 30,
   "metadata": {},
   "outputs": [
    {
     "data": {
      "text/plain": [
       "(2, 17)"
      ]
     },
     "execution_count": 30,
     "metadata": {},
     "output_type": "execute_result"
    }
   ],
   "source": [
    "df = pd.concat([df1, df2], axis=0, sort=False).sample(frac=1).reset_index(drop=True)\n",
    "df.shape"
   ]
  },
  {
   "cell_type": "code",
   "execution_count": 31,
   "metadata": {},
   "outputs": [],
   "source": [
    "df = df[df['description'] != '']\n",
    "data_descriptions = df['description'].values\n",
    "\n",
    "total_docs = len(data_descriptions)\n",
    "data_desc_input = [[idx, doc, total_docs] for idx, doc in enumerate(data_descriptions)]"
   ]
  },
  {
   "cell_type": "code",
   "execution_count": 32,
   "metadata": {},
   "outputs": [
    {
     "name": "stdout",
     "output_type": "stream",
     "text": [
      "preprocessing: starting\n",
      "ThreadPoolExecutor-1_0: working on doc num: 0\n",
      "ThreadPoolExecutor-1_1: working on doc num: 1\n",
      "CPU times: user 13 ms, sys: 3.45 ms, total: 16.5 ms\n",
      "Wall time: 17.2 ms\n"
     ]
    }
   ],
   "source": [
    "%%time\n",
    "\n",
    "from utils import text_normalizer as tn\n",
    "from concurrent import futures\n",
    "import threading\n",
    "\n",
    "\n",
    "def parallel_preprocessing(idx, doc, total_docs):\n",
    "    if idx % 5000 == 0 or idx == (total_docs - 1):\n",
    "        print('{}: working on doc num: {}'.format(threading.current_thread().name,\n",
    "                                                  idx)\n",
    "    )\n",
    "    return tn.pre_process_document(doc)\n",
    "\n",
    "\n",
    "ex = futures.ThreadPoolExecutor(max_workers=None)\n",
    "print('preprocessing: starting')\n",
    "norm_descriptions_map = ex.map(parallel_preprocessing, \n",
    "                               [record[0] for record in data_desc_input],\n",
    "                               [record[1] for record in data_desc_input],\n",
    "                               [record[2] for record in data_desc_input])\n",
    "norm_descriptions = list(norm_descriptions_map)"
   ]
  },
  {
   "cell_type": "code",
   "execution_count": 33,
   "metadata": {},
   "outputs": [],
   "source": [
    "df['norm_description'] = norm_descriptions"
   ]
  },
  {
   "cell_type": "code",
   "execution_count": 34,
   "metadata": {},
   "outputs": [
    {
     "name": "stdout",
     "output_type": "stream",
     "text": [
      "Loading Tokenizer Vocabulary\n",
      "Building Model Architecture\n",
      "Loading Model Weights\n"
     ]
    }
   ],
   "source": [
    "from models import security_dl_classifier as sdc\n",
    "\n",
    "sc = sdc.SecurityClassifier(embedding_size=300, max_length=1000, \n",
    "                                        tokenizer_path='../../../tokenizer_vocab/sec_tokenizer_word2idx.pkl')\n",
    "sc.build_model_architecture()\n",
    "sc.load_model_weights(model_weights_path='../../../models/model1_sec_nonsec_demo_weights2.h5')\n",
    "\n",
    "sc_model = sc.get_model()"
   ]
  },
  {
   "cell_type": "code",
   "execution_count": 35,
   "metadata": {},
   "outputs": [
    {
     "data": {
      "text/plain": [
       "(2, 1000)"
      ]
     },
     "execution_count": 35,
     "metadata": {},
     "output_type": "execute_result"
    }
   ],
   "source": [
    "norm_descriptions = df['norm_description'].tolist()\n",
    "sec_docs = sc.prepare_inference_data(norm_descriptions)\n",
    "sec_docs.shape"
   ]
  },
  {
   "cell_type": "code",
   "execution_count": 36,
   "metadata": {},
   "outputs": [
    {
     "name": "stdout",
     "output_type": "stream",
     "text": [
      "\r",
      "2/2 [==============================] - 0s 154ms/step\n"
     ]
    }
   ],
   "source": [
    "sec_pred_probs = sc_model.predict(sec_docs, batch_size=2048, verbose=1)"
   ]
  },
  {
   "cell_type": "code",
   "execution_count": 37,
   "metadata": {},
   "outputs": [],
   "source": [
    "sec_pred_probsr = sec_pred_probs.ravel()\n",
    "sec_pred_labels = [1 if prob > 0.35 else 0 for prob in sec_pred_probsr]"
   ]
  },
  {
   "cell_type": "code",
   "execution_count": 38,
   "metadata": {},
   "outputs": [
    {
     "data": {
      "text/plain": [
       "array([0.9999995, 0.9999999], dtype=float32)"
      ]
     },
     "execution_count": 38,
     "metadata": {},
     "output_type": "execute_result"
    }
   ],
   "source": [
    "sec_pred_probsr"
   ]
  },
  {
   "cell_type": "code",
   "execution_count": 39,
   "metadata": {},
   "outputs": [
    {
     "data": {
      "text/plain": [
       "(2, 18)"
      ]
     },
     "execution_count": 39,
     "metadata": {},
     "output_type": "execute_result"
    }
   ],
   "source": [
    "sec_idx = np.nonzero(sec_pred_labels)\n",
    "sec_df = df.iloc[sec_idx]\n",
    "sec_df.shape"
   ]
  },
  {
   "cell_type": "code",
   "execution_count": 40,
   "metadata": {},
   "outputs": [
    {
     "data": {
      "text/plain": [
       "4142"
      ]
     },
     "execution_count": 40,
     "metadata": {},
     "output_type": "execute_result"
    }
   ],
   "source": [
    "del sc\n",
    "del sc_model\n",
    "gc.collect()"
   ]
  },
  {
   "cell_type": "code",
   "execution_count": 41,
   "metadata": {},
   "outputs": [
    {
     "name": "stdout",
     "output_type": "stream",
     "text": [
      "Loading Tokenizer Vocabulary\n",
      "Building Model Architecture\n",
      "Loading Model Weights\n"
     ]
    }
   ],
   "source": [
    "from models import cve_dl_classifier as cdc\n",
    "\n",
    "cc = cdc.CVEClassifier(embedding_size=300, max_length=1000, \n",
    "                                        tokenizer_path='../../../tokenizer_vocab/cve_tokenizer_word2idx.pkl')\n",
    "cc.build_model_architecture()\n",
    "cc.load_model_weights(model_weights_path='../../../models/model2_cve_noncve_demo_weights.h5')\n",
    "\n",
    "cc_model = cc.get_model()"
   ]
  },
  {
   "cell_type": "code",
   "execution_count": 42,
   "metadata": {},
   "outputs": [
    {
     "data": {
      "text/plain": [
       "(2, 1000)"
      ]
     },
     "execution_count": 42,
     "metadata": {},
     "output_type": "execute_result"
    }
   ],
   "source": [
    "cve_norm_descriptions = sec_df['norm_description'].tolist()\n",
    "cve_docs = cc.prepare_inference_data(cve_norm_descriptions)\n",
    "cve_docs.shape"
   ]
  },
  {
   "cell_type": "code",
   "execution_count": 43,
   "metadata": {},
   "outputs": [
    {
     "data": {
      "text/plain": [
       "(2, 1000)"
      ]
     },
     "execution_count": 43,
     "metadata": {},
     "output_type": "execute_result"
    }
   ],
   "source": [
    "cve_doc_lengths = np.array([len(np.nonzero(item)[0]) for item in cve_docs])\n",
    "cve_docs_to_predict_idx = np.argwhere(cve_doc_lengths >= 10).ravel()\n",
    "cve_df = sec_df.iloc[cve_docs_to_predict_idx].copy(deep=True).reset_index(drop=True)\n",
    "cve_norm_descriptions = cve_df['norm_description'].tolist()\n",
    "cve_docs = cc.prepare_inference_data(cve_norm_descriptions)\n",
    "cve_docs.shape"
   ]
  },
  {
   "cell_type": "code",
   "execution_count": 44,
   "metadata": {},
   "outputs": [
    {
     "name": "stdout",
     "output_type": "stream",
     "text": [
      "\r",
      "2/2 [==============================] - 1s 269ms/step\n"
     ]
    }
   ],
   "source": [
    "cve_pred_probs = cc_model.predict(cve_docs, batch_size=2048, verbose=1)"
   ]
  },
  {
   "cell_type": "code",
   "execution_count": 45,
   "metadata": {},
   "outputs": [],
   "source": [
    "cve_pred_probsr = cve_pred_probs.ravel()\n",
    "cve_pred_labels = [1 if prob > 0.01 else 0 for prob in cve_pred_probsr]"
   ]
  },
  {
   "cell_type": "code",
   "execution_count": 46,
   "metadata": {},
   "outputs": [
    {
     "data": {
      "text/plain": [
       "array([1.0751285e-05, 6.2123327e-06], dtype=float32)"
      ]
     },
     "execution_count": 46,
     "metadata": {},
     "output_type": "execute_result"
    }
   ],
   "source": [
    "cve_pred_probsr"
   ]
  },
  {
   "cell_type": "code",
   "execution_count": 48,
   "metadata": {},
   "outputs": [],
   "source": [
    "conf_scores = [0.75, 0.83]\n",
    "cve_df['flagged_score'] = conf_scores\n",
    "now = arrow.now()\n",
    "now = now.format('YYYY-MM-DD HH:mm:ss')\n",
    "cve_df['flagged_at'] = now"
   ]
  },
  {
   "cell_type": "code",
   "execution_count": 49,
   "metadata": {},
   "outputs": [
    {
     "data": {
      "text/html": [
       "<div>\n",
       "<style scoped>\n",
       "    .dataframe tbody tr th:only-of-type {\n",
       "        vertical-align: middle;\n",
       "    }\n",
       "\n",
       "    .dataframe tbody tr th {\n",
       "        vertical-align: top;\n",
       "    }\n",
       "\n",
       "    .dataframe thead th {\n",
       "        text-align: right;\n",
       "    }\n",
       "</style>\n",
       "<table border=\"1\" class=\"dataframe\">\n",
       "  <thead>\n",
       "    <tr style=\"text-align: right;\">\n",
       "      <th></th>\n",
       "      <th>repository</th>\n",
       "      <th>ecosystem</th>\n",
       "      <th>repo_url</th>\n",
       "      <th>package</th>\n",
       "      <th>cause_type</th>\n",
       "      <th>issue_url</th>\n",
       "      <th>issue_date</th>\n",
       "      <th>fixed_url</th>\n",
       "      <th>fixed_date</th>\n",
       "      <th>commit_url</th>\n",
       "      <th>commit_date</th>\n",
       "      <th>identified_url</th>\n",
       "      <th>identified_date</th>\n",
       "      <th>files_changed</th>\n",
       "      <th>flagged_score</th>\n",
       "      <th>flagged_at</th>\n",
       "      <th>description</th>\n",
       "      <th>norm_description</th>\n",
       "    </tr>\n",
       "  </thead>\n",
       "  <tbody>\n",
       "    <tr>\n",
       "      <th>0</th>\n",
       "      <td>openshift/origin</td>\n",
       "      <td>golang</td>\n",
       "      <td>https://github.com/openshift/origin</td>\n",
       "      <td>openshift/origin</td>\n",
       "      <td>Pull Request</td>\n",
       "      <td>null</td>\n",
       "      <td>null</td>\n",
       "      <td>https://github.com/openshift/origin/pull/6830</td>\n",
       "      <td>2016-01-25 21:50:37</td>\n",
       "      <td>null</td>\n",
       "      <td>null</td>\n",
       "      <td>https://github.com/openshift/origin/pull/6830</td>\n",
       "      <td>2016-01-25 21:50:37</td>\n",
       "      <td>null</td>\n",
       "      <td>0.75</td>\n",
       "      <td>2019-04-04 12:21:54</td>\n",
       "      <td>Webhooks: use constant-time string secret comp...</td>\n",
       "      <td>webhooks use constant time string secret compa...</td>\n",
       "    </tr>\n",
       "    <tr>\n",
       "      <th>1</th>\n",
       "      <td>openshift/origin</td>\n",
       "      <td>golang</td>\n",
       "      <td>https://github.com/openshift/origin</td>\n",
       "      <td>openshift/origin</td>\n",
       "      <td>Issue</td>\n",
       "      <td>https://github.com/openshift/origin/issues/6829</td>\n",
       "      <td>2016-01-25 21:39:25</td>\n",
       "      <td>null</td>\n",
       "      <td>null</td>\n",
       "      <td>null</td>\n",
       "      <td>null</td>\n",
       "      <td>https://github.com/openshift/origin/issues/6829</td>\n",
       "      <td>2016-01-25 21:39:25</td>\n",
       "      <td>null</td>\n",
       "      <td>0.83</td>\n",
       "      <td>2019-04-04 12:21:54</td>\n",
       "      <td>Webhook secrets are vulnerable to timing attac...</td>\n",
       "      <td>webhook secrets are vulnerable to timing attac...</td>\n",
       "    </tr>\n",
       "  </tbody>\n",
       "</table>\n",
       "</div>"
      ],
      "text/plain": [
       "         repository ecosystem                             repo_url  \\\n",
       "0  openshift/origin    golang  https://github.com/openshift/origin   \n",
       "1  openshift/origin    golang  https://github.com/openshift/origin   \n",
       "\n",
       "            package    cause_type  \\\n",
       "0  openshift/origin  Pull Request   \n",
       "1  openshift/origin         Issue   \n",
       "\n",
       "                                         issue_url           issue_date  \\\n",
       "0                                             null                 null   \n",
       "1  https://github.com/openshift/origin/issues/6829  2016-01-25 21:39:25   \n",
       "\n",
       "                                       fixed_url           fixed_date  \\\n",
       "0  https://github.com/openshift/origin/pull/6830  2016-01-25 21:50:37   \n",
       "1                                           null                 null   \n",
       "\n",
       "  commit_url commit_date                                   identified_url  \\\n",
       "0       null        null    https://github.com/openshift/origin/pull/6830   \n",
       "1       null        null  https://github.com/openshift/origin/issues/6829   \n",
       "\n",
       "      identified_date files_changed  flagged_score           flagged_at  \\\n",
       "0 2016-01-25 21:50:37          null           0.75  2019-04-04 12:21:54   \n",
       "1 2016-01-25 21:39:25          null           0.83  2019-04-04 12:21:54   \n",
       "\n",
       "                                         description  \\\n",
       "0  Webhooks: use constant-time string secret comp...   \n",
       "1  Webhook secrets are vulnerable to timing attac...   \n",
       "\n",
       "                                    norm_description  \n",
       "0  webhooks use constant time string secret compa...  \n",
       "1  webhook secrets are vulnerable to timing attac...  "
      ]
     },
     "execution_count": 49,
     "metadata": {},
     "output_type": "execute_result"
    }
   ],
   "source": [
    "cve_df"
   ]
  },
  {
   "cell_type": "code",
   "execution_count": 50,
   "metadata": {},
   "outputs": [],
   "source": [
    "from utils import github_events_linker as gle\n",
    "import os"
   ]
  },
  {
   "cell_type": "code",
   "execution_count": 51,
   "metadata": {},
   "outputs": [
    {
     "data": {
      "text/plain": [
       "(2, 2)"
      ]
     },
     "execution_count": 51,
     "metadata": {},
     "output_type": "execute_result"
    }
   ],
   "source": [
    "event_links = (cve_df[['issue_url', 'fixed_url', 'commit_url']]\n",
    "                .replace('null', np.nan)\n",
    "                .fillna(method='bfill',axis=1)\n",
    "               .iloc[:,0]).tolist()\n",
    "\n",
    "event_types = cve_df['cause_type'].tolist()\n",
    "len(event_links), len(event_types)"
   ]
  },
  {
   "cell_type": "code",
   "execution_count": 52,
   "metadata": {},
   "outputs": [
    {
     "name": "stdout",
     "output_type": "stream",
     "text": [
      "CPU times: user 171 ms, sys: 10.5 ms, total: 181 ms\n",
      "Wall time: 7.02 s\n"
     ]
    }
   ],
   "source": [
    "%%time\n",
    "\n",
    "gh_events_linkage_data = gle.generate_github_events_dependency_data(gh_urls=event_links, \n",
    "                                                                    gh_event_types=event_types, \n",
    "                                                                    github_user='dipanjanS',\n",
    "                                                                    github_auth=os.environ['GITHUB_TOKEN'])"
   ]
  },
  {
   "cell_type": "code",
   "execution_count": 53,
   "metadata": {},
   "outputs": [
    {
     "data": {
      "text/html": [
       "<div>\n",
       "<style scoped>\n",
       "    .dataframe tbody tr th:only-of-type {\n",
       "        vertical-align: middle;\n",
       "    }\n",
       "\n",
       "    .dataframe tbody tr th {\n",
       "        vertical-align: top;\n",
       "    }\n",
       "\n",
       "    .dataframe thead th {\n",
       "        text-align: right;\n",
       "    }\n",
       "</style>\n",
       "<table border=\"1\" class=\"dataframe\">\n",
       "  <thead>\n",
       "    <tr style=\"text-align: right;\">\n",
       "      <th></th>\n",
       "      <th>commit_url</th>\n",
       "      <th>files_changed</th>\n",
       "      <th>fixed_url</th>\n",
       "      <th>issue_url</th>\n",
       "    </tr>\n",
       "  </thead>\n",
       "  <tbody>\n",
       "    <tr>\n",
       "      <th>0</th>\n",
       "      <td>[https://github.com/openshift/origin/commit/5a...</td>\n",
       "      <td>[[https://github.com/openshift/origin/pull/683...</td>\n",
       "      <td>[https://github.com/openshift/origin/pull/6830]</td>\n",
       "      <td>[]</td>\n",
       "    </tr>\n",
       "    <tr>\n",
       "      <th>1</th>\n",
       "      <td>[https://github.com/openshift/origin/commit/03...</td>\n",
       "      <td>[[https://github.com/openshift/origin/pull/565...</td>\n",
       "      <td>[https://github.com/openshift/origin/pull/5657]</td>\n",
       "      <td>[https://github.com/openshift/origin/issues/6829]</td>\n",
       "    </tr>\n",
       "  </tbody>\n",
       "</table>\n",
       "</div>"
      ],
      "text/plain": [
       "                                          commit_url  \\\n",
       "0  [https://github.com/openshift/origin/commit/5a...   \n",
       "1  [https://github.com/openshift/origin/commit/03...   \n",
       "\n",
       "                                       files_changed  \\\n",
       "0  [[https://github.com/openshift/origin/pull/683...   \n",
       "1  [[https://github.com/openshift/origin/pull/565...   \n",
       "\n",
       "                                         fixed_url  \\\n",
       "0  [https://github.com/openshift/origin/pull/6830]   \n",
       "1  [https://github.com/openshift/origin/pull/5657]   \n",
       "\n",
       "                                           issue_url  \n",
       "0                                                 []  \n",
       "1  [https://github.com/openshift/origin/issues/6829]  "
      ]
     },
     "execution_count": 53,
     "metadata": {},
     "output_type": "execute_result"
    }
   ],
   "source": [
    "gh_events_linkage_df = pd.DataFrame(gh_events_linkage_data)\n",
    "gh_events_linkage_df.head()"
   ]
  },
  {
   "cell_type": "code",
   "execution_count": 54,
   "metadata": {},
   "outputs": [],
   "source": [
    "flatten = lambda l: [item for sublist in l for item in sublist]\n",
    "gh_events_linkage_df['files_changed'] = [flatten(list_items) \n",
    "                                             for list_items \n",
    "                                                 in gh_events_linkage_df['files_changed'].tolist()]"
   ]
  },
  {
   "cell_type": "code",
   "execution_count": 55,
   "metadata": {},
   "outputs": [
    {
     "data": {
      "text/html": [
       "<div>\n",
       "<style scoped>\n",
       "    .dataframe tbody tr th:only-of-type {\n",
       "        vertical-align: middle;\n",
       "    }\n",
       "\n",
       "    .dataframe tbody tr th {\n",
       "        vertical-align: top;\n",
       "    }\n",
       "\n",
       "    .dataframe thead th {\n",
       "        text-align: right;\n",
       "    }\n",
       "</style>\n",
       "<table border=\"1\" class=\"dataframe\">\n",
       "  <thead>\n",
       "    <tr style=\"text-align: right;\">\n",
       "      <th></th>\n",
       "      <th>commit_url</th>\n",
       "      <th>files_changed</th>\n",
       "      <th>fixed_url</th>\n",
       "      <th>issue_url</th>\n",
       "    </tr>\n",
       "  </thead>\n",
       "  <tbody>\n",
       "    <tr>\n",
       "      <th>0</th>\n",
       "      <td>[\"https://github.com/openshift/origin/commit/5...</td>\n",
       "      <td>[\"https://github.com/openshift/origin/pull/683...</td>\n",
       "      <td>[\"https://github.com/openshift/origin/pull/6830\"]</td>\n",
       "      <td>null</td>\n",
       "    </tr>\n",
       "    <tr>\n",
       "      <th>1</th>\n",
       "      <td>[\"https://github.com/openshift/origin/commit/0...</td>\n",
       "      <td>[\"https://github.com/openshift/origin/pull/565...</td>\n",
       "      <td>[\"https://github.com/openshift/origin/pull/5657\"]</td>\n",
       "      <td>[\"https://github.com/openshift/origin/issues/6...</td>\n",
       "    </tr>\n",
       "  </tbody>\n",
       "</table>\n",
       "</div>"
      ],
      "text/plain": [
       "                                          commit_url  \\\n",
       "0  [\"https://github.com/openshift/origin/commit/5...   \n",
       "1  [\"https://github.com/openshift/origin/commit/0...   \n",
       "\n",
       "                                       files_changed  \\\n",
       "0  [\"https://github.com/openshift/origin/pull/683...   \n",
       "1  [\"https://github.com/openshift/origin/pull/565...   \n",
       "\n",
       "                                           fixed_url  \\\n",
       "0  [\"https://github.com/openshift/origin/pull/6830\"]   \n",
       "1  [\"https://github.com/openshift/origin/pull/5657\"]   \n",
       "\n",
       "                                           issue_url  \n",
       "0                                               null  \n",
       "1  [\"https://github.com/openshift/origin/issues/6...  "
      ]
     },
     "execution_count": 55,
     "metadata": {},
     "output_type": "execute_result"
    }
   ],
   "source": [
    "import ast\n",
    "import json\n",
    "\n",
    "gh_events_linkage_df = (gh_events_linkage_df.applymap(str)\n",
    "                    .replace(to_replace='[]', value='null')\n",
    "                    .applymap(lambda x: x if x == 'null' \n",
    "                                          else json.dumps(ast.literal_eval(x))))\n",
    "gh_events_linkage_df.head()"
   ]
  },
  {
   "cell_type": "code",
   "execution_count": 56,
   "metadata": {},
   "outputs": [],
   "source": [
    "results_df = cve_df.copy(deep=True).reset_index(drop=True)\n",
    "results_df['issue_url'] = gh_events_linkage_df['issue_url']\n",
    "results_df['fixed_url'] = gh_events_linkage_df['fixed_url']\n",
    "results_df['commit_url'] = gh_events_linkage_df['commit_url']\n",
    "results_df['files_changed'] = gh_events_linkage_df['files_changed']\n",
    "results_df['identified_url'] = results_df.apply(lambda row: row['issue_url'] if row['cause_type'] == 'Issue' \n",
    "                                                 else row['fixed_url'] \n",
    "                                                     if row['cause_type'] == 'Pull Request'\n",
    "                                                         else 'null', axis=1)"
   ]
  },
  {
   "cell_type": "code",
   "execution_count": 73,
   "metadata": {},
   "outputs": [
    {
     "data": {
      "text/html": [
       "<div>\n",
       "<style scoped>\n",
       "    .dataframe tbody tr th:only-of-type {\n",
       "        vertical-align: middle;\n",
       "    }\n",
       "\n",
       "    .dataframe tbody tr th {\n",
       "        vertical-align: top;\n",
       "    }\n",
       "\n",
       "    .dataframe thead th {\n",
       "        text-align: right;\n",
       "    }\n",
       "</style>\n",
       "<table border=\"1\" class=\"dataframe\">\n",
       "  <thead>\n",
       "    <tr style=\"text-align: right;\">\n",
       "      <th></th>\n",
       "      <th>repository</th>\n",
       "      <th>ecosystem</th>\n",
       "      <th>repo_url</th>\n",
       "      <th>package</th>\n",
       "      <th>cause_type</th>\n",
       "      <th>issue_url</th>\n",
       "      <th>issue_date</th>\n",
       "      <th>fixed_url</th>\n",
       "      <th>fixed_date</th>\n",
       "      <th>commit_url</th>\n",
       "      <th>commit_date</th>\n",
       "      <th>identified_url</th>\n",
       "      <th>identified_date</th>\n",
       "      <th>files_changed</th>\n",
       "      <th>flagged_score</th>\n",
       "      <th>flagged_at</th>\n",
       "    </tr>\n",
       "  </thead>\n",
       "  <tbody>\n",
       "    <tr>\n",
       "      <th>0</th>\n",
       "      <td>openshift/origin</td>\n",
       "      <td>golang</td>\n",
       "      <td>https://github.com/openshift/origin</td>\n",
       "      <td>openshift/origin</td>\n",
       "      <td>Pull Request</td>\n",
       "      <td>null</td>\n",
       "      <td>null</td>\n",
       "      <td>[\"https://github.com/openshift/origin/pull/6830\"]</td>\n",
       "      <td>2016-01-25 21:50:37</td>\n",
       "      <td>[\"https://github.com/openshift/origin/commit/5...</td>\n",
       "      <td>null</td>\n",
       "      <td>[\"https://github.com/openshift/origin/pull/6830\"]</td>\n",
       "      <td>2016-01-25 21:50:37</td>\n",
       "      <td>[\"https://github.com/openshift/origin/pull/683...</td>\n",
       "      <td>0.75</td>\n",
       "      <td>2019-04-04 12:21:54</td>\n",
       "    </tr>\n",
       "    <tr>\n",
       "      <th>1</th>\n",
       "      <td>openshift/origin</td>\n",
       "      <td>golang</td>\n",
       "      <td>https://github.com/openshift/origin</td>\n",
       "      <td>openshift/origin</td>\n",
       "      <td>Issue</td>\n",
       "      <td>[\"https://github.com/openshift/origin/issues/6...</td>\n",
       "      <td>2016-01-25 21:39:25</td>\n",
       "      <td>null</td>\n",
       "      <td>null</td>\n",
       "      <td>null</td>\n",
       "      <td>null</td>\n",
       "      <td>[\"https://github.com/openshift/origin/issues/6...</td>\n",
       "      <td>2016-01-25 21:39:25</td>\n",
       "      <td>null</td>\n",
       "      <td>0.83</td>\n",
       "      <td>2019-04-04 12:21:54</td>\n",
       "    </tr>\n",
       "  </tbody>\n",
       "</table>\n",
       "</div>"
      ],
      "text/plain": [
       "         repository ecosystem                             repo_url  \\\n",
       "0  openshift/origin    golang  https://github.com/openshift/origin   \n",
       "1  openshift/origin    golang  https://github.com/openshift/origin   \n",
       "\n",
       "            package    cause_type  \\\n",
       "0  openshift/origin  Pull Request   \n",
       "1  openshift/origin         Issue   \n",
       "\n",
       "                                           issue_url           issue_date  \\\n",
       "0                                               null                 null   \n",
       "1  [\"https://github.com/openshift/origin/issues/6...  2016-01-25 21:39:25   \n",
       "\n",
       "                                           fixed_url           fixed_date  \\\n",
       "0  [\"https://github.com/openshift/origin/pull/6830\"]  2016-01-25 21:50:37   \n",
       "1                                               null                 null   \n",
       "\n",
       "                                          commit_url commit_date  \\\n",
       "0  [\"https://github.com/openshift/origin/commit/5...        null   \n",
       "1                                               null        null   \n",
       "\n",
       "                                      identified_url     identified_date  \\\n",
       "0  [\"https://github.com/openshift/origin/pull/6830\"] 2016-01-25 21:50:37   \n",
       "1  [\"https://github.com/openshift/origin/issues/6... 2016-01-25 21:39:25   \n",
       "\n",
       "                                       files_changed  flagged_score  \\\n",
       "0  [\"https://github.com/openshift/origin/pull/683...           0.75   \n",
       "1                                               null           0.83   \n",
       "\n",
       "            flagged_at  \n",
       "0  2019-04-04 12:21:54  \n",
       "1  2019-04-04 12:21:54  "
      ]
     },
     "execution_count": 73,
     "metadata": {},
     "output_type": "execute_result"
    }
   ],
   "source": [
    "cols = ['repository', 'ecosystem', 'repo_url', 'package', 'cause_type', 'issue_url', 'issue_date', \n",
    "        'fixed_url', 'fixed_date',  'commit_url', 'commit_date', 'identified_url', 'identified_date', \n",
    "        'files_changed', 'flagged_score', 'flagged_at']\n",
    "results_df = results_df[cols]\n",
    "results_df.head()"
   ]
  },
  {
   "cell_type": "code",
   "execution_count": 72,
   "metadata": {},
   "outputs": [],
   "source": [
    "results_df.loc[1, 'files_changed'] = 'null'"
   ]
  },
  {
   "cell_type": "code",
   "execution_count": 74,
   "metadata": {},
   "outputs": [],
   "source": [
    "results_df.to_csv('../../../data/os-kube_gh-oscves.csv', sep=';', header=False, index=False)"
   ]
  },
  {
   "cell_type": "code",
   "execution_count": 75,
   "metadata": {},
   "outputs": [],
   "source": [
    "import re\n",
    "\n",
    "infile = '../../../data/os-kube_gh-oscves.csv'\n",
    "lines = []\n",
    "with open(infile, \"r\") as f:\n",
    "    for line in f:\n",
    "        line = re.sub(r'\"\"', '\"', line)\n",
    "        line = re.sub(r'\"\\[', '[', line)\n",
    "        line = re.sub(r'\\]\"', ']', line)\n",
    "        lines.append(line)"
   ]
  },
  {
   "cell_type": "code",
   "execution_count": 76,
   "metadata": {},
   "outputs": [],
   "source": [
    "lines[-1] = lines[-1].strip('\\n')"
   ]
  },
  {
   "cell_type": "code",
   "execution_count": 77,
   "metadata": {},
   "outputs": [],
   "source": [
    "with open(infile, 'w') as f:\n",
    "    f.writelines(lines)"
   ]
  },
  {
   "cell_type": "code",
   "execution_count": null,
   "metadata": {},
   "outputs": [],
   "source": []
  }
 ],
 "metadata": {
  "kernelspec": {
   "display_name": "Python 3",
   "language": "python",
   "name": "python3"
  },
  "language_info": {
   "codemirror_mode": {
    "name": "ipython",
    "version": 3
   },
   "file_extension": ".py",
   "mimetype": "text/x-python",
   "name": "python",
   "nbconvert_exporter": "python",
   "pygments_lexer": "ipython3",
   "version": "3.6.5"
  }
 },
 "nbformat": 4,
 "nbformat_minor": 2
}
