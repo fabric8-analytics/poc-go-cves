{
 "cells": [
  {
   "cell_type": "code",
   "execution_count": 176,
   "metadata": {},
   "outputs": [],
   "source": [
    "import re\n",
    "import numpy as np\n",
    "import os\n",
    "import requests\n",
    "import time"
   ]
  },
  {
   "cell_type": "markdown",
   "metadata": {},
   "source": [
    "# Issue - PR - Commits - Files Changed Linking Exploration"
   ]
  },
  {
   "cell_type": "code",
   "execution_count": 90,
   "metadata": {},
   "outputs": [],
   "source": [
    "issue_url = 'https://github.com/kubernetes/kubernetes/issues/16661'"
   ]
  },
  {
   "cell_type": "code",
   "execution_count": 91,
   "metadata": {},
   "outputs": [
    {
     "data": {
      "text/plain": [
       "'kubernetes/kubernetes'"
      ]
     },
     "execution_count": 91,
     "metadata": {},
     "output_type": "execute_result"
    }
   ],
   "source": [
    "pattern = re.compile(r'.*?github.com/(.*)/(.*)/.*', re.I)\n",
    "repo_name = pattern.search(issue_url).group(1)\n",
    "repo_name"
   ]
  },
  {
   "cell_type": "code",
   "execution_count": 92,
   "metadata": {},
   "outputs": [
    {
     "data": {
      "text/plain": [
       "'16661'"
      ]
     },
     "execution_count": 92,
     "metadata": {},
     "output_type": "execute_result"
    }
   ],
   "source": [
    "issue_num_pattern = re.compile('https://github.com/.*/issues/(.*)', re.I)\n",
    "issue_num = issue_num_pattern.search(issue_url).group(1)\n",
    "issue_num"
   ]
  },
  {
   "cell_type": "code",
   "execution_count": 93,
   "metadata": {},
   "outputs": [
    {
     "data": {
      "text/plain": [
       "'https://api.github.com/search/issues?q=is:pr issue:16661 repo:kubernetes/kubernetes'"
      ]
     },
     "execution_count": 93,
     "metadata": {},
     "output_type": "execute_result"
    }
   ],
   "source": [
    "pr_search_url = 'https://api.github.com/search/issues?q=is:pr issue:{issue_num} repo:{repo_name}'\n",
    "pr_search_url = pr_search_url.format(issue_num=issue_num, repo_name=repo_name)\n",
    "pr_search_url"
   ]
  },
  {
   "cell_type": "code",
   "execution_count": 95,
   "metadata": {},
   "outputs": [],
   "source": [
    "response = requests.get(pr_search_url, auth=('dipanjanS', os.environ['GITHUB_TOKEN']))"
   ]
  },
  {
   "cell_type": "code",
   "execution_count": 112,
   "metadata": {},
   "outputs": [
    {
     "data": {
      "text/plain": [
       "200"
      ]
     },
     "execution_count": 112,
     "metadata": {},
     "output_type": "execute_result"
    }
   ],
   "source": [
    "response.status_code"
   ]
  },
  {
   "cell_type": "code",
   "execution_count": 97,
   "metadata": {},
   "outputs": [
    {
     "data": {
      "text/plain": [
       "1"
      ]
     },
     "execution_count": 97,
     "metadata": {},
     "output_type": "execute_result"
    }
   ],
   "source": [
    "content = response.json()\n",
    "content['total_count']"
   ]
  },
  {
   "cell_type": "code",
   "execution_count": 99,
   "metadata": {},
   "outputs": [
    {
     "data": {
      "text/plain": [
       "['https://github.com/kubernetes/kubernetes/pull/16668']"
      ]
     },
     "execution_count": 99,
     "metadata": {},
     "output_type": "execute_result"
    }
   ],
   "source": [
    "pr_details = [record['pull_request'] for record in content['items']]\n",
    "pr_urls = [record['html_url'] for record in pr_details]\n",
    "pr_urls"
   ]
  },
  {
   "cell_type": "code",
   "execution_count": 101,
   "metadata": {},
   "outputs": [
    {
     "data": {
      "text/plain": [
       "['https://github.com/kubernetes/kubernetes/pull/16668.patch']"
      ]
     },
     "execution_count": 101,
     "metadata": {},
     "output_type": "execute_result"
    }
   ],
   "source": [
    "patch_urls = [record['patch_url'] for record in pr_details]\n",
    "patch_urls"
   ]
  },
  {
   "cell_type": "code",
   "execution_count": 109,
   "metadata": {},
   "outputs": [],
   "source": [
    "repo_url = 'https://github.com/'+repo_name\n",
    "commits = []\n",
    "changed_files = []\n",
    "\n",
    "for patch_url in patch_urls:\n",
    "    response = requests.get(patch_urls[0])\n",
    "    data = response.text\n",
    "    \n",
    "    commit_hashes = re.findall(r'(?:\\n|^)from (.*?)\\s', data, re.I)\n",
    "    if commit_hashes:\n",
    "        commit_hashes = [item for item in commit_hashes if item.isalnum()]\n",
    "        commit_links = [repo_url+'/commit/'+item.rstrip('/') for item in commit_hashes]\n",
    "        commits.extend(commit_links) \n",
    "    \n",
    "    changed_file_paths = re.findall(r'(?:\\n|^)diff\\s--git\\sa.*?\\sb(.*)', data, re.I)\n",
    "    if changed_file_paths:\n",
    "        changed_file_paths = [item.rstrip('/') for item in changed_file_paths]\n",
    "        changed_files.extend(changed_file_paths)\n",
    "\n",
    "commits = np.unique(commits)\n",
    "changed_files = np.unique(changed_files)"
   ]
  },
  {
   "cell_type": "code",
   "execution_count": 110,
   "metadata": {},
   "outputs": [
    {
     "data": {
      "text/plain": [
       "array(['https://github.com/kubernetes/kubernetes/commit/fd1c8e096a0ff352453376d47408a111f0c36439'],\n",
       "      dtype='<U88')"
      ]
     },
     "execution_count": 110,
     "metadata": {},
     "output_type": "execute_result"
    }
   ],
   "source": [
    "commits"
   ]
  },
  {
   "cell_type": "code",
   "execution_count": 111,
   "metadata": {},
   "outputs": [
    {
     "data": {
      "text/plain": [
       "array(['/api/swagger-spec/v1beta1.json',\n",
       "       '/docs/api-reference/extensions/v1beta1/definitions.html',\n",
       "       '/docs/api-reference/extensions/v1beta1/operations.html',\n",
       "       '/docs/api-reference/v1/definitions.html',\n",
       "       '/docs/api-reference/v1/operations.html',\n",
       "       '/pkg/apis/extensions/deep_copy_generated.go',\n",
       "       '/pkg/apis/extensions/types.generated.go',\n",
       "       '/pkg/apis/extensions/types.go',\n",
       "       '/pkg/apis/extensions/v1beta1/conversion_generated.go',\n",
       "       '/pkg/apis/extensions/v1beta1/deep_copy_generated.go',\n",
       "       '/pkg/apis/extensions/v1beta1/types.generated.go',\n",
       "       '/pkg/apis/extensions/v1beta1/types.go',\n",
       "       '/pkg/apis/extensions/v1beta1/types_swagger_doc_generated.go',\n",
       "       '/pkg/controller/podautoscaler/horizontal.go',\n",
       "       '/pkg/controller/podautoscaler/horizontal_test.go',\n",
       "       '/pkg/kubectl/autoscale.go', '/pkg/kubectl/cmd/autoscale.go',\n",
       "       '/pkg/kubectl/describe.go', '/pkg/kubectl/resource_printer.go',\n",
       "       '/test/e2e/horizontal_pod_autoscaling.go'], dtype='<U59')"
      ]
     },
     "execution_count": 111,
     "metadata": {},
     "output_type": "execute_result"
    }
   ],
   "source": [
    "changed_files"
   ]
  },
  {
   "cell_type": "code",
   "execution_count": 84,
   "metadata": {},
   "outputs": [],
   "source": [
    "pr_url = 'https://github.com/kubernetes/kubernetes/pull/16668'"
   ]
  },
  {
   "cell_type": "code",
   "execution_count": 85,
   "metadata": {},
   "outputs": [
    {
     "data": {
      "text/plain": [
       "'kubernetes/kubernetes'"
      ]
     },
     "execution_count": 85,
     "metadata": {},
     "output_type": "execute_result"
    }
   ],
   "source": [
    "pattern = re.compile(r'.*?github.com/(.*)/(.*)/.*', re.I)\n",
    "repo_name = pattern.search(issue_url).group(1)\n",
    "repo_name"
   ]
  },
  {
   "cell_type": "code",
   "execution_count": 117,
   "metadata": {},
   "outputs": [
    {
     "data": {
      "text/plain": [
       "'16668'"
      ]
     },
     "execution_count": 117,
     "metadata": {},
     "output_type": "execute_result"
    }
   ],
   "source": [
    "pr_num_pattern = re.compile('https://github.com/.*/pull/(.*)', re.I)\n",
    "pr_num = pr_num_pattern.search(pr_url).group(1)\n",
    "pr_num"
   ]
  },
  {
   "cell_type": "code",
   "execution_count": 119,
   "metadata": {},
   "outputs": [
    {
     "data": {
      "text/plain": [
       "'https://api.github.com/search/issues?q=is:issue pr:16668 repo:kubernetes/kubernetes'"
      ]
     },
     "execution_count": 119,
     "metadata": {},
     "output_type": "execute_result"
    }
   ],
   "source": [
    "issue_search_url = 'https://api.github.com/search/issues?q=is:issue pr:{pr_num} repo:{repo_name}'\n",
    "issue_search_url = issue_search_url.format(pr_num=pr_num, repo_name=repo_name)\n",
    "issue_search_url"
   ]
  },
  {
   "cell_type": "markdown",
   "metadata": {},
   "source": [
    "# Building Generic Function to get GitHub Events Linkage"
   ]
  },
  {
   "cell_type": "code",
   "execution_count": 185,
   "metadata": {},
   "outputs": [],
   "source": [
    "def link_github_events(url, event_type, github_user, github_auth):\n",
    "\n",
    "\n",
    "    def get_repo_name(url):\n",
    "        '''\n",
    "          Helps in getting the repository name which is useful\n",
    "          for querying in GitHub API queries. \n",
    "        '''\n",
    "        pattern = re.compile(r'.*?github.com/(.*)/(.*)/.*', re.I)\n",
    "        repo_name = pattern.search(url).group(1)\n",
    "        return repo_name\n",
    "\n",
    "\n",
    "    def get_commits_changed_files(patch_urls, repo_url):\n",
    "        '''\n",
    "          Helps in getting the relevant commits and files changed\n",
    "          from a list of GitHub patch URLs for a specfic repository\n",
    "        '''\n",
    "        commits = []\n",
    "        changed_files = []\n",
    "\n",
    "        for patch_url in patch_urls:\n",
    "            response = requests.get(patch_url)\n",
    "            data = response.text\n",
    "            if data:\n",
    "                commit_hashes = re.findall(r'(?:\\n|^)from (.*?)\\s', data, re.I)\n",
    "                if commit_hashes:\n",
    "                    commit_hashes = [item for item in commit_hashes if item.isalnum()]\n",
    "                    commit_links = [repo_url+'/commit/'+item.rstrip('/') for item in commit_hashes]\n",
    "                    commits.extend(commit_links) \n",
    "\n",
    "                changed_file_paths = re.findall(r\"(?:\\n|^)diff\\s--git\\sa.*?\\.go\\sb(.*\\.go)\", data, re.I)\n",
    "                if changed_file_paths:\n",
    "                    changed_file_paths = [item.rstrip('/') for item in changed_file_paths]\n",
    "                    changed_files.append([patch_url] + list(np.unique(changed_file_paths)))\n",
    "\n",
    "        commits = list(np.unique(commits))\n",
    "        return commits, changed_files\n",
    "\n",
    "\n",
    "    def get_dependent_links_from_issue(url, repo_name, repo_url, requests_made):\n",
    "        '''\n",
    "          Helps in getting the relevant and related PRs, commits \n",
    "          and files changed based on a GitHub issue, \n",
    "          for a specfic repository\n",
    "        '''\n",
    "        issue_urls = [url]\n",
    "        pr_urls = []\n",
    "        patch_urls = []\n",
    "        commit_urls = []\n",
    "        files_changed = []\n",
    "        \n",
    "        issue_num_pattern = re.compile('https://github.com/.*/issues/(.*)', re.I)\n",
    "        issue_num = issue_num_pattern.search(url).group(1)\n",
    "\n",
    "        pr_search_url = 'https://api.github.com/search/issues?q=is:pr issue:{issue_num} repo:{repo_name}'\n",
    "        pr_search_url = pr_search_url.format(issue_num=issue_num, repo_name=repo_name)\n",
    "        response = requests.get(pr_search_url, auth=(github_user, github_auth))\n",
    "        requests_made += 1\n",
    "        if response.status_code == 200:\n",
    "            content = response.json()\n",
    "            if content and content.get('items'):\n",
    "                                     \n",
    "                pr_details = list(filter(None, [record.get('pull_request') \n",
    "                                                      for record in content['items']]))\n",
    "                pr_urls = list(filter(None, [record.get('html_url') \n",
    "                                                 for record in pr_details]))\n",
    "                if pr_details:\n",
    "                    patch_urls = list(filter(None, [record.get('patch_url') \n",
    "                                                        for record in pr_details]))\n",
    "                    commit_urls, files_changed = get_commits_changed_files(patch_urls, repo_url)\n",
    "\n",
    "        return issue_urls, pr_urls, commit_urls, files_changed, requests_made\n",
    "\n",
    "\n",
    "    def get_dependent_links_from_pr(url, repo_name, repo_url, requests_made):\n",
    "        '''\n",
    "          Helps in getting the relevant and related issues, commits \n",
    "          and files changed based on a GitHub pull request (PR), \n",
    "          for a specfic repository\n",
    "        '''\n",
    "        issue_urls = []\n",
    "        pr_urls = [url]\n",
    "        patch_urls = []\n",
    "        commit_urls = []\n",
    "        files_changed = []\n",
    "\n",
    "        pr_num_pattern = re.compile('https://github.com/.*/pull/(.*)', re.I)\n",
    "        pr_num = pr_num_pattern.search(url).group(1)\n",
    "\n",
    "        issue_search_url = 'https://api.github.com/search/issues?q=is:issue pr:{pr_num} repo:{repo_name}'\n",
    "        issue_search_url = issue_search_url.format(pr_num=pr_num, repo_name=repo_name)\n",
    "        response = requests.get(issue_search_url, auth=(github_user, github_auth))\n",
    "        requests_made += 1\n",
    "        if response.status_code == 200:\n",
    "            content = response.json()\n",
    "            if content and content.get('items'):\n",
    "                issue_urls = list(filter(None, [record.get('html_url') \n",
    "                                                    for record in content['items']]))\n",
    "\n",
    "        patch_urls = [record+'.patch' for record in pr_urls]\n",
    "        commit_urls, files_changed = get_commits_changed_files(patch_urls, repo_url)\n",
    "\n",
    "        return issue_urls, pr_urls, commit_urls, files_changed, requests_made\n",
    "\n",
    "\n",
    "    def get_dependent_links_from_commit(url, repo_name, repo_url, requests_made):\n",
    "        '''\n",
    "          Helps in getting the relevant and related issues, PRs \n",
    "          and files changed based on a GitHub commit, \n",
    "          for a specfic repository\n",
    "        '''\n",
    "        issue_urls = []\n",
    "        pr_urls = []\n",
    "        patch_urls = []\n",
    "        commit_urls = [url]\n",
    "        files_changed = []\n",
    "\n",
    "        commit_num_pattern = re.compile('https://github.com/.*/commit/(.*)', re.I)\n",
    "        commit_num = commit_num_pattern.search(url).group(1)\n",
    "\n",
    "        pr_search_url = 'https://api.github.com/search/issues?q=is:pr commit:{commit_num} repo:{repo_name}'\n",
    "        pr_search_url = pr_search_url.format(commit_num=commit_num, repo_name=repo_name)\n",
    "        response = requests.get(pr_search_url, auth=(github_user, github_auth))\n",
    "        requests_made += 1\n",
    "        if response.status_code == 200:\n",
    "            content = response.json()\n",
    "            if content and content.get('items'):\n",
    "                pr_urls = list(filter(None, [record.get('html_url') \n",
    "                                                for record in content['items']]))\n",
    "                if pr_urls:\n",
    "                    patch_urls = [record+'.patch' for record in pr_urls]\n",
    "                    commit_urls, files_changed = get_commits_changed_files(patch_urls, repo_url)\n",
    "\n",
    "        pr_num_pattern = re.compile('https://github.com/.*/pull/(.*)', re.I)\n",
    "        for pr_url in pr_urls:\n",
    "            pr_num = pr_num_pattern.search(pr_url).group(1)\n",
    "            issue_search_url = 'https://api.github.com/search/issues?q=is:issue pr:{pr_num} repo:{repo_name}'\n",
    "            issue_search_url = issue_search_url.format(pr_num=pr_num, repo_name=repo_name)\n",
    "            response = requests.get(issue_search_url, auth=(github_user, github_auth))\n",
    "            requests_made += 1\n",
    "            if response.status_code == 200:\n",
    "                content = response.json()\n",
    "                if content and content.get('items'):\n",
    "                    issue_urls.extend(list(filter(None, [record.get('html_url') \n",
    "                                                             for record in content['items']])))\n",
    "\n",
    "        return issue_urls, pr_urls, commit_urls, files_changed, requests_made\n",
    "    \n",
    "    \n",
    "    try:\n",
    "        issue_urls = []\n",
    "        pr_urls = []\n",
    "        patch_urls = []\n",
    "        commit_urls = []\n",
    "        files_changed = []\n",
    "        requests_made=0\n",
    "        repo_name = get_repo_name(url)\n",
    "        repo_url = 'https://github.com/'+repo_name\n",
    "\n",
    "        if event_type.lower() == 'issue':\n",
    "            issue_urls, pr_urls, \\\n",
    "            commit_urls, files_changed, requests_made = get_dependent_links_from_issue(url, repo_name, \n",
    "                                                                                             repo_url, \n",
    "                                                                                             requests_made)\n",
    "        elif event_type.lower() == 'pull request':\n",
    "            issue_urls, pr_urls, \\\n",
    "            commit_urls, files_changed, requests_made = get_dependent_links_from_pr(url, repo_name, \n",
    "                                                                                          repo_url, \n",
    "                                                                                          requests_made)\n",
    "        elif event_type.lower() == 'commit':\n",
    "            issue_urls, pr_urls, \\\n",
    "            commit_urls, files_changed, requests_made = get_dependent_links_from_commit(url, repo_name, \n",
    "                                                                                              repo_url,\n",
    "                                                                                              requests_made)\n",
    "    except Exception as e:\n",
    "        print(repr(e)) # TODO: logging in the future\n",
    "            \n",
    "    return ({\n",
    "            'issue_url': issue_urls, \n",
    "            'fixed_url': pr_urls, \n",
    "            'commit_url': commit_urls, \n",
    "            'files_changed': files_changed        \n",
    "    }, requests_made) "
   ]
  },
  {
   "cell_type": "code",
   "execution_count": null,
   "metadata": {},
   "outputs": [],
   "source": []
  },
  {
   "cell_type": "code",
   "execution_count": 186,
   "metadata": {},
   "outputs": [],
   "source": [
    "def generate_github_events_dependency_data(gh_urls, gh_event_types, github_user, github_auth):\n",
    "    total_requests_made = 0\n",
    "    events_link_data = []\n",
    "    # TODO: needs to be handled better\n",
    "    # what if there is 10+ URLs in one function call itself \n",
    "    # (though probability is less, still need to be handled)\n",
    "    for gh_url, gh_event_type in zip(gh_urls, gh_event_types):\n",
    "        if total_requests_made >= 25:\n",
    "            time.sleep(65)\n",
    "            total_requests_made = 0\n",
    "        data, requests_made  = link_github_events(url, event_type, github_user, github_auth)\n",
    "        events_link_data.append(data)\n",
    "        total_requests_made += requests_made\n",
    "        \n",
    "    return events_link_data"
   ]
  },
  {
   "cell_type": "markdown",
   "metadata": {},
   "source": [
    "# Test Linkage Function"
   ]
  },
  {
   "cell_type": "code",
   "execution_count": 178,
   "metadata": {},
   "outputs": [
    {
     "data": {
      "text/plain": [
       "({'issue_url': ['https://github.com/kubernetes/kubernetes/issues/16661'],\n",
       "  'fixed_url': ['https://github.com/kubernetes/kubernetes/pull/16668'],\n",
       "  'commit_url': ['https://github.com/kubernetes/kubernetes/commit/fd1c8e096a0ff352453376d47408a111f0c36439'],\n",
       "  'files_changed': [['https://github.com/kubernetes/kubernetes/pull/16668.patch',\n",
       "    '/pkg/apis/extensions/deep_copy_generated.go',\n",
       "    '/pkg/apis/extensions/types.generated.go',\n",
       "    '/pkg/apis/extensions/types.go',\n",
       "    '/pkg/apis/extensions/v1beta1/conversion_generated.go',\n",
       "    '/pkg/apis/extensions/v1beta1/deep_copy_generated.go',\n",
       "    '/pkg/apis/extensions/v1beta1/types.generated.go',\n",
       "    '/pkg/apis/extensions/v1beta1/types.go',\n",
       "    '/pkg/apis/extensions/v1beta1/types_swagger_doc_generated.go',\n",
       "    '/pkg/controller/podautoscaler/horizontal.go',\n",
       "    '/pkg/controller/podautoscaler/horizontal_test.go',\n",
       "    '/pkg/kubectl/autoscale.go',\n",
       "    '/pkg/kubectl/cmd/autoscale.go',\n",
       "    '/pkg/kubectl/describe.go',\n",
       "    '/pkg/kubectl/resource_printer.go',\n",
       "    '/test/e2e/horizontal_pod_autoscaling.go']]},\n",
       " 1)"
      ]
     },
     "execution_count": 178,
     "metadata": {},
     "output_type": "execute_result"
    }
   ],
   "source": [
    "url = 'https://github.com/kubernetes/kubernetes/issues/16661'\n",
    "link_github_events(url=url, event_type='issue', \n",
    "                   github_user='dipanjanS', github_auth=os.environ['GITHUB_TOKEN'])"
   ]
  },
  {
   "cell_type": "code",
   "execution_count": 179,
   "metadata": {},
   "outputs": [
    {
     "data": {
      "text/plain": [
       "({'issue_url': ['https://github.com/kubernetes/kubernetes/issues/16661'],\n",
       "  'fixed_url': ['https://github.com/kubernetes/kubernetes/pull/16668'],\n",
       "  'commit_url': ['https://github.com/kubernetes/kubernetes/commit/fd1c8e096a0ff352453376d47408a111f0c36439'],\n",
       "  'files_changed': [['https://github.com/kubernetes/kubernetes/pull/16668.patch',\n",
       "    '/pkg/apis/extensions/deep_copy_generated.go',\n",
       "    '/pkg/apis/extensions/types.generated.go',\n",
       "    '/pkg/apis/extensions/types.go',\n",
       "    '/pkg/apis/extensions/v1beta1/conversion_generated.go',\n",
       "    '/pkg/apis/extensions/v1beta1/deep_copy_generated.go',\n",
       "    '/pkg/apis/extensions/v1beta1/types.generated.go',\n",
       "    '/pkg/apis/extensions/v1beta1/types.go',\n",
       "    '/pkg/apis/extensions/v1beta1/types_swagger_doc_generated.go',\n",
       "    '/pkg/controller/podautoscaler/horizontal.go',\n",
       "    '/pkg/controller/podautoscaler/horizontal_test.go',\n",
       "    '/pkg/kubectl/autoscale.go',\n",
       "    '/pkg/kubectl/cmd/autoscale.go',\n",
       "    '/pkg/kubectl/describe.go',\n",
       "    '/pkg/kubectl/resource_printer.go',\n",
       "    '/test/e2e/horizontal_pod_autoscaling.go']]},\n",
       " 1)"
      ]
     },
     "execution_count": 179,
     "metadata": {},
     "output_type": "execute_result"
    }
   ],
   "source": [
    "url = 'https://github.com/kubernetes/kubernetes/pull/16668'\n",
    "link_github_events(url=url, event_type='pull request', \n",
    "                   github_user='dipanjanS', github_auth=os.environ['GITHUB_TOKEN'])"
   ]
  },
  {
   "cell_type": "code",
   "execution_count": 180,
   "metadata": {},
   "outputs": [
    {
     "data": {
      "text/plain": [
       "({'issue_url': ['https://github.com/kubernetes/kubernetes/issues/16661'],\n",
       "  'fixed_url': ['https://github.com/kubernetes/kubernetes/pull/16668'],\n",
       "  'commit_url': ['https://github.com/kubernetes/kubernetes/commit/fd1c8e096a0ff352453376d47408a111f0c36439'],\n",
       "  'files_changed': [['https://github.com/kubernetes/kubernetes/pull/16668.patch',\n",
       "    '/pkg/apis/extensions/deep_copy_generated.go',\n",
       "    '/pkg/apis/extensions/types.generated.go',\n",
       "    '/pkg/apis/extensions/types.go',\n",
       "    '/pkg/apis/extensions/v1beta1/conversion_generated.go',\n",
       "    '/pkg/apis/extensions/v1beta1/deep_copy_generated.go',\n",
       "    '/pkg/apis/extensions/v1beta1/types.generated.go',\n",
       "    '/pkg/apis/extensions/v1beta1/types.go',\n",
       "    '/pkg/apis/extensions/v1beta1/types_swagger_doc_generated.go',\n",
       "    '/pkg/controller/podautoscaler/horizontal.go',\n",
       "    '/pkg/controller/podautoscaler/horizontal_test.go',\n",
       "    '/pkg/kubectl/autoscale.go',\n",
       "    '/pkg/kubectl/cmd/autoscale.go',\n",
       "    '/pkg/kubectl/describe.go',\n",
       "    '/pkg/kubectl/resource_printer.go',\n",
       "    '/test/e2e/horizontal_pod_autoscaling.go']]},\n",
       " 2)"
      ]
     },
     "execution_count": 180,
     "metadata": {},
     "output_type": "execute_result"
    }
   ],
   "source": [
    "url = 'https://github.com/kubernetes/kubernetes/commit/fd1c8e096a0ff352453376d47408a111f0c36439'\n",
    "link_github_events(url=url, event_type='commit', \n",
    "                   github_user='dipanjanS', github_auth=os.environ['GITHUB_TOKEN'])"
   ]
  },
  {
   "cell_type": "code",
   "execution_count": 181,
   "metadata": {},
   "outputs": [
    {
     "data": {
      "text/plain": [
       "({'issue_url': ['https://github.com/openshift/origin/issues/9584'],\n",
       "  'fixed_url': ['https://github.com/openshift/origin/pull/8434'],\n",
       "  'commit_url': ['https://github.com/openshift/origin/commit/c060bb84c8d0f6304170b429f95614dacf18bc04'],\n",
       "  'files_changed': [['https://github.com/openshift/origin/pull/8434.patch',\n",
       "    '/pkg/auth/authenticator/password/basicauthpassword/basicauthpassword.go',\n",
       "    '/test/integration/oauth_basicauth_test.go']]},\n",
       " 1)"
      ]
     },
     "execution_count": 181,
     "metadata": {},
     "output_type": "execute_result"
    }
   ],
   "source": [
    "url = 'https://github.com/openshift/origin/pull/8434'\n",
    "link_github_events(url=url, event_type='pull request', \n",
    "                   github_user='dipanjanS', github_auth=os.environ['GITHUB_TOKEN'])"
   ]
  },
  {
   "cell_type": "code",
   "execution_count": 190,
   "metadata": {},
   "outputs": [
    {
     "data": {
      "text/plain": [
       "({'issue_url': [],\n",
       "  'fixed_url': ['https://github.com/kubernetes/kubernetes/pull/65751'],\n",
       "  'commit_url': ['https://github.com/kubernetes/kubernetes/commit/27bc865cc1bffb97d4dff38492aa9f830f859e45'],\n",
       "  'files_changed': [['https://github.com/kubernetes/kubernetes/pull/65751.patch',\n",
       "    '/pkg/util/mount/mount_windows.go']]},\n",
       " 1)"
      ]
     },
     "execution_count": 190,
     "metadata": {},
     "output_type": "execute_result"
    }
   ],
   "source": [
    "url = 'https://github.com/kubernetes/kubernetes/pull/65751'\n",
    "link_github_events(url=url, event_type='pull request', \n",
    "                   github_user='dipanjanS', github_auth=os.environ['GITHUB_TOKEN'])"
   ]
  },
  {
   "cell_type": "code",
   "execution_count": 193,
   "metadata": {},
   "outputs": [
    {
     "name": "stdout",
     "output_type": "stream",
     "text": [
      "https://api.github.com/search/issues?q=is:pr issue:2382 repo:portainer/portainer\n"
     ]
    },
    {
     "data": {
      "text/plain": [
       "({'issue_url': ['https://github.com/portainer/portainer/issues/2382'],\n",
       "  'fixed_url': [],\n",
       "  'commit_url': [],\n",
       "  'files_changed': []},\n",
       " 1)"
      ]
     },
     "execution_count": 193,
     "metadata": {},
     "output_type": "execute_result"
    }
   ],
   "source": [
    "url = 'https://github.com/portainer/portainer/issues/2382'\n",
    "link_github_events(url=url, event_type='issue', \n",
    "                   github_user='dipanjanS', github_auth=os.environ['GITHUB_TOKEN'])"
   ]
  },
  {
   "cell_type": "code",
   "execution_count": null,
   "metadata": {},
   "outputs": [],
   "source": [
    "# TODOs\n",
    "\n",
    "# 1. for each patch file, store the patch link and the corresponding files changed in a separate list\n",
    "\n",
    "\n",
    "# 2. Each list from Point 1 should go to a master list which should be the value for the files_changed key\n",
    "# e.g depicted below\n",
    "# files_changed: [\n",
    "#                  [p1, f1, f2, f3],\n",
    "#                 [p2, f5, f7, f9]\n",
    "#                ]\n",
    "# for this you just need to look at the logic for patch url and files changed \n",
    "# in the get_commits_changed_files(..) function\n",
    "\n",
    "\n",
    "# 3. Change regex in the get_commits_changed_files(...) function in the changed_file_paths variable to include\n",
    "#    only files with .go extension\n",
    "\n",
    "\n",
    "# 4. The overall function should return the following fields as a dict\n",
    "#  { issue_urls: [list of issue urls even if there is only 1],\n",
    "#     'pr_urls': [list of PR urls even if there is only 1],\n",
    "#     'commit_urls': [list of commit urls even if there is only 1],\n",
    "#     'files_changed': [list of lists where each list has patch_url first \n",
    "#                          and then all .go files changed in that patch file]\n",
    "#  } \n",
    "\n",
    "\n",
    "# 5. Test out the changes for existing test links and some new ones from the spreadsheet"
   ]
  }
 ],
 "metadata": {
  "kernelspec": {
   "display_name": "Python 3",
   "language": "python",
   "name": "python3"
  },
  "language_info": {
   "codemirror_mode": {
    "name": "ipython",
    "version": 3
   },
   "file_extension": ".py",
   "mimetype": "text/x-python",
   "name": "python",
   "nbconvert_exporter": "python",
   "pygments_lexer": "ipython3",
   "version": "3.6.5"
  }
 },
 "nbformat": 4,
 "nbformat_minor": 2
}
