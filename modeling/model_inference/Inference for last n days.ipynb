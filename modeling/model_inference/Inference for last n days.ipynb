{
 "cells": [
  {
   "cell_type": "code",
   "execution_count": 31,
   "metadata": {},
   "outputs": [],
   "source": [
    "import bq_utils as bqu\n",
    "import pandas as pd\n",
    "import numpy as np\n",
    "import json\n",
    "from pandas.io.json import json_normalize\n",
    "import arrow\n",
    "import gc"
   ]
  },
  {
   "cell_type": "code",
   "execution_count": 32,
   "metadata": {},
   "outputs": [],
   "source": [
    "import os\n",
    "os.environ['GOOGLE_APPLICATION_CREDENTIALS'] = '../../../auth/bq_key.json'\n",
    "gh_archive = bqu.BigQueryHelper(active_project= \"githubarchive\", \n",
    "                                dataset_name = \"day\")"
   ]
  },
  {
   "cell_type": "code",
   "execution_count": 33,
   "metadata": {},
   "outputs": [
    {
     "data": {
      "text/plain": [
       "(array(['https://github.com/urfave/cli',\n",
       "        'https://github.com/mreiferson/go-httpclient',\n",
       "        'https://github.com/crewjam/rfc5424',\n",
       "        'https://github.com/kubernetes/heapster',\n",
       "        'https://github.com/go-openapi/spec',\n",
       "        'https://github.com/andygrunwald/go-gerrit',\n",
       "        'https://github.com/openshift/ci-secret-mirroring-controller',\n",
       "        'https://github.com/fsnotify/fsnotify',\n",
       "        'https://github.com/BurntSushi/toml',\n",
       "        'https://github.com/kubernetes-csi/drivers'], dtype='<U80'), (851,))"
      ]
     },
     "execution_count": 33,
     "metadata": {},
     "output_type": "execute_result"
    }
   ],
   "source": [
    "gh_repo_links = open('../../../data/golang-repo-list.txt').readlines()\n",
    "gh_repo_links = np.array([item.strip('\\n').strip() for item in gh_repo_links])\n",
    "gh_repo_links[:10], gh_repo_links.shape"
   ]
  },
  {
   "cell_type": "code",
   "execution_count": 34,
   "metadata": {},
   "outputs": [
    {
     "data": {
      "text/plain": [
       "(array(['urfave/cli', 'mreiferson/go-httpclient', 'crewjam/rfc5424',\n",
       "        'kubernetes/heapster', 'go-openapi/spec', 'andygrunwald/go-gerrit',\n",
       "        'openshift/ci-secret-mirroring-controller', 'fsnotify/fsnotify',\n",
       "        'BurntSushi/toml', 'kubernetes-csi/drivers'], dtype='<U61'), (845,))"
      ]
     },
     "execution_count": 34,
     "metadata": {},
     "output_type": "execute_result"
    }
   ],
   "source": [
    "import re\n",
    "\n",
    "pattern = re.compile(r'.*?github.com/(.*)', re.I)\n",
    "repo_names = np.array(list(filter(None,[pattern.search(item).group(1) \n",
    "                                            if pattern.search(item) else None \n",
    "                                               for item in gh_repo_links])))\n",
    "repo_names[:10], repo_names.shape"
   ]
  },
  {
   "cell_type": "code",
   "execution_count": 35,
   "metadata": {},
   "outputs": [],
   "source": [
    "def add_query_params(query, params_dict):\n",
    "    for i, j in params_dict.items():\n",
    "        query = query.replace(i, j)\n",
    "    return query"
   ]
  },
  {
   "cell_type": "code",
   "execution_count": 36,
   "metadata": {},
   "outputs": [
    {
     "data": {
      "text/plain": [
       "(['20190317', '20190318', '20190319', '20190320', '20190321', '20190322'], 6)"
      ]
     },
     "execution_count": 36,
     "metadata": {},
     "output_type": "execute_result"
    }
   ],
   "source": [
    "st = arrow.now().shift(days=-5)\n",
    "et = arrow.now()\n",
    "last_5_days = [dt.format('YYYYMMDD') for dt in arrow.Arrow.range('day', st, et)]\n",
    "last_5_days, len(last_5_days)"
   ]
  },
  {
   "cell_type": "code",
   "execution_count": 37,
   "metadata": {},
   "outputs": [],
   "source": [
    "year_prefix = '20*'\n",
    "date_list = [item[2:] for item in last_5_days]\n",
    "query_params = {\n",
    "    '{year_prefix_wildcard}': year_prefix,\n",
    "    '{year_suffix_month_day}': '('+', '.join([\"'\"+d+\"'\" for d in date_list])+')',\n",
    "    '{repo_names}': '('+', '.join([\"'\"+r+\"'\" for r in repo_names])+')'\n",
    "}"
   ]
  },
  {
   "cell_type": "code",
   "execution_count": 38,
   "metadata": {},
   "outputs": [
    {
     "data": {
      "text/plain": [
       "0.33943079970777035"
      ]
     },
     "execution_count": 38,
     "metadata": {},
     "output_type": "execute_result"
    }
   ],
   "source": [
    "query = \"\"\"\n",
    "SELECT  type, count(*)\n",
    "        FROM `githubarchive.day.{year_prefix_wildcard}`\n",
    "        WHERE _TABLE_SUFFIX IN {year_suffix_month_day}\n",
    "        AND repo.name in {repo_names}\n",
    "        AND type in ('PullRequestEvent', 'IssuesEvent')\n",
    "        GROUP BY type\n",
    "\"\"\"\n",
    "query = add_query_params(query, query_params)\n",
    "gh_archive.estimate_query_size(query)"
   ]
  },
  {
   "cell_type": "code",
   "execution_count": 39,
   "metadata": {},
   "outputs": [
    {
     "data": {
      "text/html": [
       "<div>\n",
       "<style scoped>\n",
       "    .dataframe tbody tr th:only-of-type {\n",
       "        vertical-align: middle;\n",
       "    }\n",
       "\n",
       "    .dataframe tbody tr th {\n",
       "        vertical-align: top;\n",
       "    }\n",
       "\n",
       "    .dataframe thead th {\n",
       "        text-align: right;\n",
       "    }\n",
       "</style>\n",
       "<table border=\"1\" class=\"dataframe\">\n",
       "  <thead>\n",
       "    <tr style=\"text-align: right;\">\n",
       "      <th></th>\n",
       "      <th>type</th>\n",
       "      <th>f0_</th>\n",
       "    </tr>\n",
       "  </thead>\n",
       "  <tbody>\n",
       "    <tr>\n",
       "      <th>0</th>\n",
       "      <td>PullRequestEvent</td>\n",
       "      <td>2934</td>\n",
       "    </tr>\n",
       "    <tr>\n",
       "      <th>1</th>\n",
       "      <td>IssuesEvent</td>\n",
       "      <td>1608</td>\n",
       "    </tr>\n",
       "  </tbody>\n",
       "</table>\n",
       "</div>"
      ],
      "text/plain": [
       "               type   f0_\n",
       "0  PullRequestEvent  2934\n",
       "1       IssuesEvent  1608"
      ]
     },
     "execution_count": 39,
     "metadata": {},
     "output_type": "execute_result"
    }
   ],
   "source": [
    "df = gh_archive.query_to_pandas(query)\n",
    "df"
   ]
  },
  {
   "cell_type": "code",
   "execution_count": 40,
   "metadata": {},
   "outputs": [
    {
     "data": {
      "text/plain": [
       "23.028084501624107"
      ]
     },
     "execution_count": 40,
     "metadata": {},
     "output_type": "execute_result"
    }
   ],
   "source": [
    "query = \"\"\"\n",
    "SELECT \n",
    "    repo.name as repo_name, \n",
    "    type as event_type, \n",
    "    actor.id as actor_id,\n",
    "    actor.login as actor_name,\n",
    "    JSON_EXTRACT_SCALAR(payload, '$.action') as issue_status,\n",
    "    JSON_EXTRACT_SCALAR(payload, '$.issue.url') as issue_api_url,\n",
    "    JSON_EXTRACT_SCALAR(payload, '$.issue.html_url') as issue_url,\n",
    "    JSON_EXTRACT_SCALAR(payload, '$.issue.user.login') as issue_creator_name,\n",
    "    JSON_EXTRACT_SCALAR(payload, '$.issue.user.url') as issue_creator_api_url,\n",
    "    JSON_EXTRACT_SCALAR(payload, '$.issue.user.html_url') as issue_creator_url,\n",
    "    JSON_EXTRACT_SCALAR(payload, '$.issue.comments') as comment_count,\n",
    "    JSON_EXTRACT_SCALAR(payload, '$.issue.id') as issue_id,\n",
    "    JSON_EXTRACT_SCALAR(payload, '$.issue.number') as issue_number,\n",
    "    JSON_EXTRACT_SCALAR(payload, '$.issue.created_at') as issue_created_at,\n",
    "    JSON_EXTRACT_SCALAR(payload, '$.issue.updated_at') as issue_updated_at,\n",
    "    JSON_EXTRACT_SCALAR(payload, '$.issue.closed_at') as issue_closed_at,\n",
    "    TRIM(REGEXP_REPLACE(\n",
    "             REGEXP_REPLACE(\n",
    "                 JSON_EXTRACT_SCALAR(payload, '$.issue.title'), \n",
    "                 r'\\\\r\\\\n|\\\\r|\\\\n', \n",
    "                 ' '),\n",
    "             r'\\s{2,}', \n",
    "             ' ')) as issue_title,\n",
    "    TRIM(REGEXP_REPLACE(\n",
    "             REGEXP_REPLACE(\n",
    "                 JSON_EXTRACT_SCALAR(payload, '$.issue.body'), \n",
    "                 r'\\\\r\\\\n|\\\\r|\\\\n', \n",
    "                 ' '),\n",
    "             r'\\s{2,}', \n",
    "             ' ')) as issue_body\n",
    "        \n",
    "FROM `githubarchive.day.{year_prefix_wildcard}`\n",
    "    WHERE _TABLE_SUFFIX IN {year_suffix_month_day}\n",
    "    AND repo.name in {repo_names}\n",
    "    AND type = 'IssuesEvent'\n",
    "    \"\"\"\n",
    "\n",
    "query = add_query_params(query, query_params)\n",
    "gh_archive.estimate_query_size(query)"
   ]
  },
  {
   "cell_type": "code",
   "execution_count": 41,
   "metadata": {},
   "outputs": [],
   "source": [
    "issues_df = gh_archive.query_to_pandas(query)"
   ]
  },
  {
   "cell_type": "code",
   "execution_count": 42,
   "metadata": {},
   "outputs": [
    {
     "data": {
      "text/plain": [
       "(1608, 18)"
      ]
     },
     "execution_count": 42,
     "metadata": {},
     "output_type": "execute_result"
    }
   ],
   "source": [
    "issues_df.shape"
   ]
  },
  {
   "cell_type": "code",
   "execution_count": 43,
   "metadata": {},
   "outputs": [
    {
     "data": {
      "text/plain": [
       "(1336, 18)"
      ]
     },
     "execution_count": 43,
     "metadata": {},
     "output_type": "execute_result"
    }
   ],
   "source": [
    "issues_df.issue_created_at = pd.to_datetime(issues_df.issue_created_at)\n",
    "issues_df.issue_updated_at = pd.to_datetime(issues_df.issue_updated_at)\n",
    "issues_df.issue_closed_at = pd.to_datetime(issues_df.issue_closed_at)\n",
    "issues_df = issues_df.loc[issues_df.groupby('issue_url').issue_updated_at.idxmax(skipna=False)].reset_index(drop=True)\n",
    "issues_df.shape"
   ]
  },
  {
   "cell_type": "code",
   "execution_count": 44,
   "metadata": {},
   "outputs": [
    {
     "data": {
      "text/plain": [
       "23.028084501624107"
      ]
     },
     "execution_count": 44,
     "metadata": {},
     "output_type": "execute_result"
    }
   ],
   "source": [
    "query = \"\"\"\n",
    "SELECT \n",
    "    repo.name as repo_name, \n",
    "    type as event_type, \n",
    "    actor.id as actor_id,\n",
    "    actor.login as actor_name,\n",
    "    JSON_EXTRACT_SCALAR(payload, '$.action') as pr_status,\n",
    "    JSON_EXTRACT_SCALAR(payload, '$.pull_request.id') as pr_id,\n",
    "    JSON_EXTRACT_SCALAR(payload, '$.pull_request.number') as pr_number,\n",
    "    JSON_EXTRACT_SCALAR(payload, '$.pull_request.url') as pr_api_url,\n",
    "    JSON_EXTRACT_SCALAR(payload, '$.pull_request.html_url') as pr_url,\n",
    "    JSON_EXTRACT_SCALAR(payload, '$.pull_request.diff_url') as pr_diff_url,\n",
    "    JSON_EXTRACT_SCALAR(payload, '$.pull_request.patch_url') as pr_patch_url,\n",
    "    JSON_EXTRACT_SCALAR(payload, '$.pull_request.user.login') as pr_creator_name,\n",
    "    JSON_EXTRACT_SCALAR(payload, '$.pull_request.user.url') as pr_creator_api_url,\n",
    "    JSON_EXTRACT_SCALAR(payload, '$.pull_request.user.html_url') as pr_creator_url,\n",
    "    JSON_EXTRACT_SCALAR(payload, '$.pull_request.created_at') as pr_created_at,\n",
    "    JSON_EXTRACT_SCALAR(payload, '$.pull_request.updated_at') as pr_updated_at,\n",
    "    JSON_EXTRACT_SCALAR(payload, '$.pull_request.closed_at') as pr_closed_at,\n",
    "    JSON_EXTRACT_SCALAR(payload, '$.pull_request.merged_at') as pr_merged_at,\n",
    "    JSON_EXTRACT_SCALAR(payload, '$.pull_request.merged') as pr_merged_status,\n",
    "    JSON_EXTRACT_SCALAR(payload, '$.pull_request.comments') as pr_comments_count,\n",
    "    JSON_EXTRACT_SCALAR(payload, '$.pull_request.review_comments') as pr_review_comments_count,\n",
    "    JSON_EXTRACT_SCALAR(payload, '$.pull_request.commits') as pr_commits_count,\n",
    "    JSON_EXTRACT_SCALAR(payload, '$.pull_request.additions') as pr_additions_count,\n",
    "    JSON_EXTRACT_SCALAR(payload, '$.pull_request.deletions') as pr_deletions_count,\n",
    "    JSON_EXTRACT_SCALAR(payload, '$.pull_request.changed_files') as pr_changed_files_count,    \n",
    "    TRIM(REGEXP_REPLACE(\n",
    "             REGEXP_REPLACE(\n",
    "                 JSON_EXTRACT_SCALAR(payload, '$.pull_request.title'), \n",
    "                 r'\\\\r\\\\n|\\\\r|\\\\n', \n",
    "                 ' '),\n",
    "             r'\\s{2,}', \n",
    "             ' ')) as pr_title,\n",
    "    TRIM(REGEXP_REPLACE(\n",
    "             REGEXP_REPLACE(\n",
    "                 JSON_EXTRACT_SCALAR(payload, '$.pull_request.body'), \n",
    "                 r'\\\\r\\\\n|\\\\r|\\\\n', \n",
    "                 ' '),\n",
    "             r'\\s{2,}', \n",
    "             ' ')) as pr_body\n",
    "        \n",
    "FROM `githubarchive.day.{year_prefix_wildcard}`\n",
    "    WHERE _TABLE_SUFFIX IN {year_suffix_month_day}\n",
    "    AND repo.name in {repo_names}\n",
    "    AND type = 'PullRequestEvent'\n",
    "\"\"\"\n",
    "\n",
    "query = add_query_params(query, query_params)\n",
    "gh_archive.estimate_query_size(query)"
   ]
  },
  {
   "cell_type": "code",
   "execution_count": 45,
   "metadata": {},
   "outputs": [
    {
     "data": {
      "text/plain": [
       "(2934, 27)"
      ]
     },
     "execution_count": 45,
     "metadata": {},
     "output_type": "execute_result"
    }
   ],
   "source": [
    "prs_df = gh_archive.query_to_pandas(query)\n",
    "prs_df.shape"
   ]
  },
  {
   "cell_type": "code",
   "execution_count": 46,
   "metadata": {},
   "outputs": [
    {
     "data": {
      "text/plain": [
       "(2010, 27)"
      ]
     },
     "execution_count": 46,
     "metadata": {},
     "output_type": "execute_result"
    }
   ],
   "source": [
    "prs_df.pr_created_at = pd.to_datetime(prs_df.pr_created_at)\n",
    "prs_df.pr_updated_at = pd.to_datetime(prs_df.pr_updated_at)\n",
    "prs_df.pr_closed_at = pd.to_datetime(prs_df.pr_closed_at)\n",
    "prs_df.pr_merged_at = pd.to_datetime(prs_df.pr_merged_at)\n",
    "prs_df = prs_df.loc[prs_df.groupby('pr_url').pr_updated_at.idxmax(skipna=False)].reset_index(drop=True)\n",
    "prs_df.shape"
   ]
  },
  {
   "cell_type": "code",
   "execution_count": 72,
   "metadata": {},
   "outputs": [
    {
     "data": {
      "text/plain": [
       "(3346, 17)"
      ]
     },
     "execution_count": 72,
     "metadata": {},
     "output_type": "execute_result"
    }
   ],
   "source": [
    "df1 = pd.DataFrame()\n",
    "df1['repository'] = issues_df['repo_name'].tolist()\n",
    "df1['ecosystem'] = ['golang'] * len(issues_df)\n",
    "df1['repo_url'] = ['https://github.com/'+repo_name \n",
    "                       for repo_name in issues_df['repo_name'].tolist()]\n",
    "df1['package'] = df1['repository']\n",
    "df1['cause_type'] = ['Issue'] * len(issues_df)\n",
    "df1['issue_url'] = issues_df['issue_url']\n",
    "df1['issue_date'] = issues_df['issue_created_at']\n",
    "df1['fixed_url'] = 'null'\n",
    "df1['fixed_date'] = 'null'\n",
    "df1['commit_url'] = 'null'\n",
    "df1['commit_date'] = 'null'\n",
    "df1['identified_url'] = df1['issue_url']\n",
    "df1['identified_date'] = df1['issue_date']\n",
    "df1['files_changed'] = 'null'\n",
    "df1['flagged_score'] = 'null'\n",
    "df1['flagged_at'] = 'null'\n",
    "df1['description'] = issues_df['issue_title'].fillna(value='').map(str) + ' ' + issues_df['issue_body'].fillna(value='')\n",
    "\n",
    "df2 = pd.DataFrame()\n",
    "df2['repository'] = prs_df['repo_name'].tolist()\n",
    "df2['ecosystem'] = ['golang'] * len(prs_df)\n",
    "df2['repo_url'] = ['https://github.com/'+repo_name \n",
    "                       for repo_name in prs_df['repo_name'].tolist()]\n",
    "df2['package'] = df2['repository']\n",
    "df2['cause_type'] = ['Pull Request'] * len(prs_df)\n",
    "df2['issue_url'] = 'null'\n",
    "df2['issue_date'] = 'null'\n",
    "df2['fixed_url'] = prs_df['pr_url']\n",
    "df2['fixed_date'] = prs_df['pr_created_at']\n",
    "df2['commit_url'] = 'null'\n",
    "df2['commit_date'] = 'null'\n",
    "df2['identified_url'] = df2['fixed_url']\n",
    "df2['identified_date'] = df2['fixed_date']\n",
    "df2['files_changed'] = 'null'\n",
    "df2['flagged_score'] = 'null'\n",
    "df2['flagged_at'] = 'null'\n",
    "df2['description'] = prs_df['pr_title'].fillna(value='').map(str) + ' ' + prs_df['pr_body'].fillna(value='')\n",
    "\n",
    "df = pd.concat([df1, df2], axis=0, sort=False).sample(frac=1)\n",
    "df = df[df['description'] != ''].reset_index(drop=True)\n",
    "df.shape"
   ]
  },
  {
   "cell_type": "code",
   "execution_count": 73,
   "metadata": {},
   "outputs": [],
   "source": [
    "data_descriptions = df['description'].values\n",
    "total_docs = len(data_descriptions)\n",
    "data_desc_input = [[idx, doc, total_docs] for idx, doc in enumerate(data_descriptions)]"
   ]
  },
  {
   "cell_type": "code",
   "execution_count": 74,
   "metadata": {},
   "outputs": [
    {
     "name": "stdout",
     "output_type": "stream",
     "text": [
      "preprocessing: starting\n",
      "ThreadPoolExecutor-3_0: working on doc num: 0\n",
      "ThreadPoolExecutor-3_14: working on doc num: 3345\n",
      "CPU times: user 8.95 s, sys: 192 ms, total: 9.14 s\n",
      "Wall time: 8.73 s\n"
     ]
    }
   ],
   "source": [
    "%%time\n",
    "\n",
    "from utils import text_normalizer as tn\n",
    "from concurrent import futures\n",
    "import threading\n",
    "\n",
    "\n",
    "def parallel_preprocessing(idx, doc, total_docs):\n",
    "    if idx % 5000 == 0 or idx == (total_docs - 1):\n",
    "        print('{}: working on doc num: {}'.format(threading.current_thread().name,\n",
    "                                                  idx)\n",
    "    )\n",
    "    return tn.pre_process_document(doc)\n",
    "\n",
    "\n",
    "ex = futures.ThreadPoolExecutor(max_workers=None)\n",
    "print('preprocessing: starting')\n",
    "norm_descriptions_map = ex.map(parallel_preprocessing, \n",
    "                               [record[0] for record in data_desc_input],\n",
    "                               [record[1] for record in data_desc_input],\n",
    "                               [record[2] for record in data_desc_input])\n",
    "norm_descriptions = list(norm_descriptions_map)"
   ]
  },
  {
   "cell_type": "code",
   "execution_count": 77,
   "metadata": {},
   "outputs": [],
   "source": [
    "df['norm_description'] = norm_descriptions"
   ]
  },
  {
   "cell_type": "code",
   "execution_count": 75,
   "metadata": {},
   "outputs": [
    {
     "name": "stderr",
     "output_type": "stream",
     "text": [
      "/home/dsarkar/anaconda3/lib/python3.6/site-packages/h5py/__init__.py:36: FutureWarning: Conversion of the second argument of issubdtype from `float` to `np.floating` is deprecated. In future, it will be treated as `np.float64 == np.dtype(float).type`.\n",
      "  from ._conv import register_converters as _register_converters\n",
      "Using TensorFlow backend.\n"
     ]
    },
    {
     "name": "stdout",
     "output_type": "stream",
     "text": [
      "Loading Tokenizer Vocabulary\n",
      "Building Model Architecture\n",
      "Loading Model Weights\n"
     ]
    }
   ],
   "source": [
    "from models import security_dl_classifier as sdc\n",
    "\n",
    "sc = sdc.SecurityClassifier(embedding_size=300, max_length=1000, \n",
    "                                        tokenizer_path='../../../tokenizer_vocab/sec_tokenizer_word2idx.pkl')\n",
    "sc.build_model_architecture()\n",
    "sc.load_model_weights(model_weights_path='../../../models/model1_sec_nonsec_demo_weights2.h5')\n",
    "\n",
    "sc_model = sc.get_model()"
   ]
  },
  {
   "cell_type": "code",
   "execution_count": 78,
   "metadata": {},
   "outputs": [
    {
     "data": {
      "text/plain": [
       "(3346, 1000)"
      ]
     },
     "execution_count": 78,
     "metadata": {},
     "output_type": "execute_result"
    }
   ],
   "source": [
    "norm_descriptions = df['norm_description'].tolist()\n",
    "sec_docs = sc.prepare_inference_data(norm_descriptions)\n",
    "sec_docs.shape"
   ]
  },
  {
   "cell_type": "code",
   "execution_count": 79,
   "metadata": {},
   "outputs": [
    {
     "name": "stdout",
     "output_type": "stream",
     "text": [
      "3346/3346 [==============================] - 60s 18ms/step\n"
     ]
    }
   ],
   "source": [
    "sec_pred_probs = sc_model.predict(sec_docs, batch_size=2048, verbose=1)"
   ]
  },
  {
   "cell_type": "code",
   "execution_count": 80,
   "metadata": {},
   "outputs": [],
   "source": [
    "sec_pred_probsr = sec_pred_probs.ravel()\n",
    "sec_pred_labels = [1 if prob > 0.35 else 0 for prob in sec_pred_probsr]"
   ]
  },
  {
   "cell_type": "code",
   "execution_count": 81,
   "metadata": {},
   "outputs": [
    {
     "data": {
      "text/plain": [
       "(441, 18)"
      ]
     },
     "execution_count": 81,
     "metadata": {},
     "output_type": "execute_result"
    }
   ],
   "source": [
    "sec_idx = np.nonzero(sec_pred_labels)\n",
    "sec_df = df.iloc[sec_idx]\n",
    "sec_df.shape"
   ]
  },
  {
   "cell_type": "code",
   "execution_count": 82,
   "metadata": {},
   "outputs": [
    {
     "data": {
      "text/plain": [
       "2059"
      ]
     },
     "execution_count": 82,
     "metadata": {},
     "output_type": "execute_result"
    }
   ],
   "source": [
    "del sc\n",
    "del sc_model\n",
    "gc.collect()"
   ]
  },
  {
   "cell_type": "code",
   "execution_count": 83,
   "metadata": {},
   "outputs": [
    {
     "name": "stdout",
     "output_type": "stream",
     "text": [
      "Loading Tokenizer Vocabulary\n",
      "Building Model Architecture\n",
      "Loading Model Weights\n"
     ]
    }
   ],
   "source": [
    "from models import cve_dl_classifier as cdc\n",
    "\n",
    "cc = cdc.CVEClassifier(embedding_size=300, max_length=1000, \n",
    "                                        tokenizer_path='../../../tokenizer_vocab/cve_tokenizer_word2idx.pkl')\n",
    "cc.build_model_architecture()\n",
    "cc.load_model_weights(model_weights_path='../../../models/model2_cve_noncve_demo_weights.h5')\n",
    "\n",
    "cc_model = cc.get_model()"
   ]
  },
  {
   "cell_type": "code",
   "execution_count": 84,
   "metadata": {},
   "outputs": [
    {
     "data": {
      "text/plain": [
       "(441, 1000)"
      ]
     },
     "execution_count": 84,
     "metadata": {},
     "output_type": "execute_result"
    }
   ],
   "source": [
    "cve_norm_descriptions = sec_df['norm_description'].tolist()\n",
    "cve_docs = cc.prepare_inference_data(cve_norm_descriptions)\n",
    "cve_docs.shape"
   ]
  },
  {
   "cell_type": "code",
   "execution_count": 85,
   "metadata": {},
   "outputs": [
    {
     "data": {
      "text/plain": [
       "(429, 1000)"
      ]
     },
     "execution_count": 85,
     "metadata": {},
     "output_type": "execute_result"
    }
   ],
   "source": [
    "cve_doc_lengths = np.array([len(np.nonzero(item)[0]) for item in cve_docs])\n",
    "cve_docs_to_predict_idx = np.argwhere(cve_doc_lengths >= 10).ravel()\n",
    "cve_df = sec_df.iloc[cve_docs_to_predict_idx].copy(deep=True).reset_index(drop=True)\n",
    "cve_norm_descriptions = cve_df['norm_description'].tolist()\n",
    "cve_docs = cc.prepare_inference_data(cve_norm_descriptions)\n",
    "cve_docs.shape"
   ]
  },
  {
   "cell_type": "code",
   "execution_count": 87,
   "metadata": {},
   "outputs": [
    {
     "name": "stdout",
     "output_type": "stream",
     "text": [
      "\r",
      "429/429 [==============================] - 11s 25ms/step\n"
     ]
    }
   ],
   "source": [
    "cve_pred_probs = cc_model.predict(cve_docs, batch_size=2048, verbose=1)"
   ]
  },
  {
   "cell_type": "code",
   "execution_count": 88,
   "metadata": {},
   "outputs": [],
   "source": [
    "cve_pred_probsr = cve_pred_probs.ravel()\n",
    "cve_pred_labels = [1 if prob > 0.01 else 0 for prob in cve_pred_probsr]"
   ]
  },
  {
   "cell_type": "code",
   "execution_count": 90,
   "metadata": {},
   "outputs": [],
   "source": [
    "cve_idx = np.nonzero(cve_pred_labels)\n",
    "cve_df = cve_df.iloc[cve_idx].copy(deep=True)\n",
    "conf_scores = cve_pred_probsr[cve_idx]\n",
    "cve_df['flagged_score'] = conf_scores\n",
    "\n",
    "import arrow\n",
    "\n",
    "now = arrow.now()\n",
    "now = now.format('YYYY-MM-DD HH:mm:ss')\n",
    "cve_df['flagged_at'] = now"
   ]
  },
  {
   "cell_type": "code",
   "execution_count": 91,
   "metadata": {},
   "outputs": [
    {
     "data": {
      "text/html": [
       "<div>\n",
       "<style scoped>\n",
       "    .dataframe tbody tr th:only-of-type {\n",
       "        vertical-align: middle;\n",
       "    }\n",
       "\n",
       "    .dataframe tbody tr th {\n",
       "        vertical-align: top;\n",
       "    }\n",
       "\n",
       "    .dataframe thead th {\n",
       "        text-align: right;\n",
       "    }\n",
       "</style>\n",
       "<table border=\"1\" class=\"dataframe\">\n",
       "  <thead>\n",
       "    <tr style=\"text-align: right;\">\n",
       "      <th></th>\n",
       "      <th>repository</th>\n",
       "      <th>ecosystem</th>\n",
       "      <th>repo_url</th>\n",
       "      <th>package</th>\n",
       "      <th>cause_type</th>\n",
       "      <th>issue_url</th>\n",
       "      <th>issue_date</th>\n",
       "      <th>fixed_url</th>\n",
       "      <th>fixed_date</th>\n",
       "      <th>commit_url</th>\n",
       "      <th>commit_date</th>\n",
       "      <th>identified_url</th>\n",
       "      <th>identified_date</th>\n",
       "      <th>files_changed</th>\n",
       "      <th>flagged_score</th>\n",
       "      <th>flagged_at</th>\n",
       "      <th>description</th>\n",
       "      <th>norm_description</th>\n",
       "    </tr>\n",
       "  </thead>\n",
       "  <tbody>\n",
       "    <tr>\n",
       "      <th>14</th>\n",
       "      <td>json-iterator/go</td>\n",
       "      <td>golang</td>\n",
       "      <td>https://github.com/json-iterator/go</td>\n",
       "      <td>json-iterator/go</td>\n",
       "      <td>Issue</td>\n",
       "      <td>https://github.com/json-iterator/go/issues/349</td>\n",
       "      <td>2019-03-21 16:20:47</td>\n",
       "      <td>null</td>\n",
       "      <td>null</td>\n",
       "      <td>null</td>\n",
       "      <td>null</td>\n",
       "      <td>https://github.com/json-iterator/go/issues/349</td>\n",
       "      <td>2019-03-21 16:20:47</td>\n",
       "      <td>null</td>\n",
       "      <td>0.019789</td>\n",
       "      <td>2019-03-22 11:05:08</td>\n",
       "      <td>[Java] Retriving string from Any Object Greeti...</td>\n",
       "      <td>java retriving string from any object greeting...</td>\n",
       "    </tr>\n",
       "    <tr>\n",
       "      <th>49</th>\n",
       "      <td>istio/istio</td>\n",
       "      <td>golang</td>\n",
       "      <td>https://github.com/istio/istio</td>\n",
       "      <td>istio/istio</td>\n",
       "      <td>Issue</td>\n",
       "      <td>https://github.com/istio/istio/issues/10822</td>\n",
       "      <td>2019-01-09 07:54:40</td>\n",
       "      <td>null</td>\n",
       "      <td>null</td>\n",
       "      <td>null</td>\n",
       "      <td>null</td>\n",
       "      <td>https://github.com/istio/istio/issues/10822</td>\n",
       "      <td>2019-01-09 07:54:40</td>\n",
       "      <td>null</td>\n",
       "      <td>0.921935</td>\n",
       "      <td>2019-03-22 11:05:08</td>\n",
       "      <td>Pilot goroutine leak and memory leak **Describ...</td>\n",
       "      <td>pilot goroutine leak and memory leak describe ...</td>\n",
       "    </tr>\n",
       "    <tr>\n",
       "      <th>54</th>\n",
       "      <td>istio/istio</td>\n",
       "      <td>golang</td>\n",
       "      <td>https://github.com/istio/istio</td>\n",
       "      <td>istio/istio</td>\n",
       "      <td>Pull Request</td>\n",
       "      <td>null</td>\n",
       "      <td>null</td>\n",
       "      <td>https://github.com/istio/istio/pull/12609</td>\n",
       "      <td>2019-03-19 20:16:37</td>\n",
       "      <td>null</td>\n",
       "      <td>null</td>\n",
       "      <td>https://github.com/istio/istio/pull/12609</td>\n",
       "      <td>2019-03-19 20:16:37</td>\n",
       "      <td>null</td>\n",
       "      <td>0.057859</td>\n",
       "      <td>2019-03-22 11:05:08</td>\n",
       "      <td>Add helm value to make whitebox default mode T...</td>\n",
       "      <td>add helm value to make whitebox default mode t...</td>\n",
       "    </tr>\n",
       "    <tr>\n",
       "      <th>63</th>\n",
       "      <td>coreos/ignition</td>\n",
       "      <td>golang</td>\n",
       "      <td>https://github.com/coreos/ignition</td>\n",
       "      <td>coreos/ignition</td>\n",
       "      <td>Issue</td>\n",
       "      <td>https://github.com/coreos/ignition/issues/762</td>\n",
       "      <td>2019-03-20 18:41:21</td>\n",
       "      <td>null</td>\n",
       "      <td>null</td>\n",
       "      <td>null</td>\n",
       "      <td>null</td>\n",
       "      <td>https://github.com/coreos/ignition/issues/762</td>\n",
       "      <td>2019-03-20 18:41:21</td>\n",
       "      <td>null</td>\n",
       "      <td>0.088262</td>\n",
       "      <td>2019-03-22 11:05:08</td>\n",
       "      <td>Adding users ends up with unlabeled /etc/subui...</td>\n",
       "      <td>adding users ends up with unlabeled etc subuid...</td>\n",
       "    </tr>\n",
       "    <tr>\n",
       "      <th>79</th>\n",
       "      <td>brancz/kube-rbac-proxy</td>\n",
       "      <td>golang</td>\n",
       "      <td>https://github.com/brancz/kube-rbac-proxy</td>\n",
       "      <td>brancz/kube-rbac-proxy</td>\n",
       "      <td>Issue</td>\n",
       "      <td>https://github.com/brancz/kube-rbac-proxy/issu...</td>\n",
       "      <td>2019-03-21 04:27:32</td>\n",
       "      <td>null</td>\n",
       "      <td>null</td>\n",
       "      <td>null</td>\n",
       "      <td>null</td>\n",
       "      <td>https://github.com/brancz/kube-rbac-proxy/issu...</td>\n",
       "      <td>2019-03-21 04:27:32</td>\n",
       "      <td>null</td>\n",
       "      <td>0.994179</td>\n",
       "      <td>2019-03-22 11:05:08</td>\n",
       "      <td>Is versio 0.4.1 supported for Openshift Origin...</td>\n",
       "      <td>is versio supported for openshift origin consi...</td>\n",
       "    </tr>\n",
       "    <tr>\n",
       "      <th>95</th>\n",
       "      <td>libopenstorage/openstorage</td>\n",
       "      <td>golang</td>\n",
       "      <td>https://github.com/libopenstorage/openstorage</td>\n",
       "      <td>libopenstorage/openstorage</td>\n",
       "      <td>Pull Request</td>\n",
       "      <td>null</td>\n",
       "      <td>null</td>\n",
       "      <td>https://github.com/libopenstorage/openstorage/...</td>\n",
       "      <td>2019-03-18 21:02:42</td>\n",
       "      <td>null</td>\n",
       "      <td>null</td>\n",
       "      <td>https://github.com/libopenstorage/openstorage/...</td>\n",
       "      <td>2019-03-18 21:02:42</td>\n",
       "      <td>null</td>\n",
       "      <td>0.952010</td>\n",
       "      <td>2019-03-22 11:05:08</td>\n",
       "      <td>Add authentication to REST Calls for Migration...</td>\n",
       "      <td>add authentication to rest calls for migration...</td>\n",
       "    </tr>\n",
       "    <tr>\n",
       "      <th>144</th>\n",
       "      <td>knative/serving</td>\n",
       "      <td>golang</td>\n",
       "      <td>https://github.com/knative/serving</td>\n",
       "      <td>knative/serving</td>\n",
       "      <td>Pull Request</td>\n",
       "      <td>null</td>\n",
       "      <td>null</td>\n",
       "      <td>https://github.com/knative/serving/pull/3451</td>\n",
       "      <td>2019-03-18 22:11:30</td>\n",
       "      <td>null</td>\n",
       "      <td>null</td>\n",
       "      <td>https://github.com/knative/serving/pull/3451</td>\n",
       "      <td>2019-03-18 22:11:30</td>\n",
       "      <td>null</td>\n",
       "      <td>0.998960</td>\n",
       "      <td>2019-03-22 11:05:08</td>\n",
       "      <td>Remove SetConditions and GetConditions for Clu...</td>\n",
       "      <td>remove setconditions and getconditions for clu...</td>\n",
       "    </tr>\n",
       "    <tr>\n",
       "      <th>147</th>\n",
       "      <td>openshift/openshift-azure</td>\n",
       "      <td>golang</td>\n",
       "      <td>https://github.com/openshift/openshift-azure</td>\n",
       "      <td>openshift/openshift-azure</td>\n",
       "      <td>Pull Request</td>\n",
       "      <td>null</td>\n",
       "      <td>null</td>\n",
       "      <td>https://github.com/openshift/openshift-azure/p...</td>\n",
       "      <td>2019-03-19 14:44:02</td>\n",
       "      <td>null</td>\n",
       "      <td>null</td>\n",
       "      <td>https://github.com/openshift/openshift-azure/p...</td>\n",
       "      <td>2019-03-19 14:44:02</td>\n",
       "      <td>null</td>\n",
       "      <td>0.565799</td>\n",
       "      <td>2019-03-22 11:05:08</td>\n",
       "      <td>disable docker build strategy ```release-note ...</td>\n",
       "      <td>disable docker build strategy release note non...</td>\n",
       "    </tr>\n",
       "    <tr>\n",
       "      <th>193</th>\n",
       "      <td>fsouza/fake-gcs-server</td>\n",
       "      <td>golang</td>\n",
       "      <td>https://github.com/fsouza/fake-gcs-server</td>\n",
       "      <td>fsouza/fake-gcs-server</td>\n",
       "      <td>Pull Request</td>\n",
       "      <td>null</td>\n",
       "      <td>null</td>\n",
       "      <td>https://github.com/fsouza/fake-gcs-server/pull/20</td>\n",
       "      <td>2019-03-18 20:51:34</td>\n",
       "      <td>null</td>\n",
       "      <td>null</td>\n",
       "      <td>https://github.com/fsouza/fake-gcs-server/pull/20</td>\n",
       "      <td>2019-03-18 20:51:34</td>\n",
       "      <td>null</td>\n",
       "      <td>0.999584</td>\n",
       "      <td>2019-03-22 11:05:08</td>\n",
       "      <td>Add CodeLingo Tenets It looks like this is a G...</td>\n",
       "      <td>add codelingo tenets it looks like this is a g...</td>\n",
       "    </tr>\n",
       "    <tr>\n",
       "      <th>217</th>\n",
       "      <td>containerd/containerd</td>\n",
       "      <td>golang</td>\n",
       "      <td>https://github.com/containerd/containerd</td>\n",
       "      <td>containerd/containerd</td>\n",
       "      <td>Issue</td>\n",
       "      <td>https://github.com/containerd/containerd/issue...</td>\n",
       "      <td>2019-03-19 09:54:49</td>\n",
       "      <td>null</td>\n",
       "      <td>null</td>\n",
       "      <td>null</td>\n",
       "      <td>null</td>\n",
       "      <td>https://github.com/containerd/containerd/issue...</td>\n",
       "      <td>2019-03-19 09:54:49</td>\n",
       "      <td>null</td>\n",
       "      <td>0.860145</td>\n",
       "      <td>2019-03-22 11:05:08</td>\n",
       "      <td>io_pgetevents is blocked by the default seccom...</td>\n",
       "      <td>io pgetevents is blocked by the default seccom...</td>\n",
       "    </tr>\n",
       "    <tr>\n",
       "      <th>344</th>\n",
       "      <td>containernetworking/cni</td>\n",
       "      <td>golang</td>\n",
       "      <td>https://github.com/containernetworking/cni</td>\n",
       "      <td>containernetworking/cni</td>\n",
       "      <td>Pull Request</td>\n",
       "      <td>null</td>\n",
       "      <td>null</td>\n",
       "      <td>https://github.com/containernetworking/cni/pul...</td>\n",
       "      <td>2019-02-15 03:21:10</td>\n",
       "      <td>null</td>\n",
       "      <td>null</td>\n",
       "      <td>https://github.com/containernetworking/cni/pul...</td>\n",
       "      <td>2019-02-15 03:21:10</td>\n",
       "      <td>null</td>\n",
       "      <td>0.421236</td>\n",
       "      <td>2019-03-22 11:05:08</td>\n",
       "      <td>Change http to https for security links Signed...</td>\n",
       "      <td>change http to https for security links signed...</td>\n",
       "    </tr>\n",
       "  </tbody>\n",
       "</table>\n",
       "</div>"
      ],
      "text/plain": [
       "                     repository ecosystem  \\\n",
       "14             json-iterator/go    golang   \n",
       "49                  istio/istio    golang   \n",
       "54                  istio/istio    golang   \n",
       "63              coreos/ignition    golang   \n",
       "79       brancz/kube-rbac-proxy    golang   \n",
       "95   libopenstorage/openstorage    golang   \n",
       "144             knative/serving    golang   \n",
       "147   openshift/openshift-azure    golang   \n",
       "193      fsouza/fake-gcs-server    golang   \n",
       "217       containerd/containerd    golang   \n",
       "344     containernetworking/cni    golang   \n",
       "\n",
       "                                          repo_url  \\\n",
       "14             https://github.com/json-iterator/go   \n",
       "49                  https://github.com/istio/istio   \n",
       "54                  https://github.com/istio/istio   \n",
       "63              https://github.com/coreos/ignition   \n",
       "79       https://github.com/brancz/kube-rbac-proxy   \n",
       "95   https://github.com/libopenstorage/openstorage   \n",
       "144             https://github.com/knative/serving   \n",
       "147   https://github.com/openshift/openshift-azure   \n",
       "193      https://github.com/fsouza/fake-gcs-server   \n",
       "217       https://github.com/containerd/containerd   \n",
       "344     https://github.com/containernetworking/cni   \n",
       "\n",
       "                        package    cause_type  \\\n",
       "14             json-iterator/go         Issue   \n",
       "49                  istio/istio         Issue   \n",
       "54                  istio/istio  Pull Request   \n",
       "63              coreos/ignition         Issue   \n",
       "79       brancz/kube-rbac-proxy         Issue   \n",
       "95   libopenstorage/openstorage  Pull Request   \n",
       "144             knative/serving  Pull Request   \n",
       "147   openshift/openshift-azure  Pull Request   \n",
       "193      fsouza/fake-gcs-server  Pull Request   \n",
       "217       containerd/containerd         Issue   \n",
       "344     containernetworking/cni  Pull Request   \n",
       "\n",
       "                                             issue_url           issue_date  \\\n",
       "14      https://github.com/json-iterator/go/issues/349  2019-03-21 16:20:47   \n",
       "49         https://github.com/istio/istio/issues/10822  2019-01-09 07:54:40   \n",
       "54                                                null                 null   \n",
       "63       https://github.com/coreos/ignition/issues/762  2019-03-20 18:41:21   \n",
       "79   https://github.com/brancz/kube-rbac-proxy/issu...  2019-03-21 04:27:32   \n",
       "95                                                null                 null   \n",
       "144                                               null                 null   \n",
       "147                                               null                 null   \n",
       "193                                               null                 null   \n",
       "217  https://github.com/containerd/containerd/issue...  2019-03-19 09:54:49   \n",
       "344                                               null                 null   \n",
       "\n",
       "                                             fixed_url           fixed_date  \\\n",
       "14                                                null                 null   \n",
       "49                                                null                 null   \n",
       "54           https://github.com/istio/istio/pull/12609  2019-03-19 20:16:37   \n",
       "63                                                null                 null   \n",
       "79                                                null                 null   \n",
       "95   https://github.com/libopenstorage/openstorage/...  2019-03-18 21:02:42   \n",
       "144       https://github.com/knative/serving/pull/3451  2019-03-18 22:11:30   \n",
       "147  https://github.com/openshift/openshift-azure/p...  2019-03-19 14:44:02   \n",
       "193  https://github.com/fsouza/fake-gcs-server/pull/20  2019-03-18 20:51:34   \n",
       "217                                               null                 null   \n",
       "344  https://github.com/containernetworking/cni/pul...  2019-02-15 03:21:10   \n",
       "\n",
       "    commit_url commit_date                                     identified_url  \\\n",
       "14        null        null     https://github.com/json-iterator/go/issues/349   \n",
       "49        null        null        https://github.com/istio/istio/issues/10822   \n",
       "54        null        null          https://github.com/istio/istio/pull/12609   \n",
       "63        null        null      https://github.com/coreos/ignition/issues/762   \n",
       "79        null        null  https://github.com/brancz/kube-rbac-proxy/issu...   \n",
       "95        null        null  https://github.com/libopenstorage/openstorage/...   \n",
       "144       null        null       https://github.com/knative/serving/pull/3451   \n",
       "147       null        null  https://github.com/openshift/openshift-azure/p...   \n",
       "193       null        null  https://github.com/fsouza/fake-gcs-server/pull/20   \n",
       "217       null        null  https://github.com/containerd/containerd/issue...   \n",
       "344       null        null  https://github.com/containernetworking/cni/pul...   \n",
       "\n",
       "        identified_date files_changed  flagged_score           flagged_at  \\\n",
       "14  2019-03-21 16:20:47          null       0.019789  2019-03-22 11:05:08   \n",
       "49  2019-01-09 07:54:40          null       0.921935  2019-03-22 11:05:08   \n",
       "54  2019-03-19 20:16:37          null       0.057859  2019-03-22 11:05:08   \n",
       "63  2019-03-20 18:41:21          null       0.088262  2019-03-22 11:05:08   \n",
       "79  2019-03-21 04:27:32          null       0.994179  2019-03-22 11:05:08   \n",
       "95  2019-03-18 21:02:42          null       0.952010  2019-03-22 11:05:08   \n",
       "144 2019-03-18 22:11:30          null       0.998960  2019-03-22 11:05:08   \n",
       "147 2019-03-19 14:44:02          null       0.565799  2019-03-22 11:05:08   \n",
       "193 2019-03-18 20:51:34          null       0.999584  2019-03-22 11:05:08   \n",
       "217 2019-03-19 09:54:49          null       0.860145  2019-03-22 11:05:08   \n",
       "344 2019-02-15 03:21:10          null       0.421236  2019-03-22 11:05:08   \n",
       "\n",
       "                                           description  \\\n",
       "14   [Java] Retriving string from Any Object Greeti...   \n",
       "49   Pilot goroutine leak and memory leak **Describ...   \n",
       "54   Add helm value to make whitebox default mode T...   \n",
       "63   Adding users ends up with unlabeled /etc/subui...   \n",
       "79   Is versio 0.4.1 supported for Openshift Origin...   \n",
       "95   Add authentication to REST Calls for Migration...   \n",
       "144  Remove SetConditions and GetConditions for Clu...   \n",
       "147  disable docker build strategy ```release-note ...   \n",
       "193  Add CodeLingo Tenets It looks like this is a G...   \n",
       "217  io_pgetevents is blocked by the default seccom...   \n",
       "344  Change http to https for security links Signed...   \n",
       "\n",
       "                                      norm_description  \n",
       "14   java retriving string from any object greeting...  \n",
       "49   pilot goroutine leak and memory leak describe ...  \n",
       "54   add helm value to make whitebox default mode t...  \n",
       "63   adding users ends up with unlabeled etc subuid...  \n",
       "79   is versio supported for openshift origin consi...  \n",
       "95   add authentication to rest calls for migration...  \n",
       "144  remove setconditions and getconditions for clu...  \n",
       "147  disable docker build strategy release note non...  \n",
       "193  add codelingo tenets it looks like this is a g...  \n",
       "217  io pgetevents is blocked by the default seccom...  \n",
       "344  change http to https for security links signed...  "
      ]
     },
     "execution_count": 91,
     "metadata": {},
     "output_type": "execute_result"
    }
   ],
   "source": [
    "cve_df"
   ]
  },
  {
   "cell_type": "code",
   "execution_count": 93,
   "metadata": {},
   "outputs": [
    {
     "data": {
      "text/plain": [
       "array(['[Java] Retriving string from Any Object Greetings. I have a simple String object like this String blabla = \"{\"id\": 8,\"name\": \"SANTARÉM\"}\", in which i use JsonIterator.deserialize(blabla).get(\"name\") and what i get is \"SANTARɍ\" and not \"SANTARÉM\"; I already try to check if JsonIterator has some configuration for enconding strings but didn\\'t find anything. Kind Regards,',\n",
       "       'Pilot goroutine leak and memory leak **Describe the bug** When Pilot Ads pushAll function return err , the goroutine will return at once . this will cause the receiveThread goroutine leak and also leak the XdsConnection instance which may has large data in a big istio cluster. The bug relative code is in pilot/pkg/proxy/v2/ads.go , (s *DiscoveryServer) StreamAggregatedResources function . **Expected behavior** no goroutine leak no memory leak **Steps to reproduce the bug** 1. building lots of service in your istio cluster 2. try to make pushAll fail , in our production environment there has an config update delay problem in sidecar which cause pilot pushAll fail 3. check the pilot log , you can find some log like \"CDS: Send failure \" or \"LDS: Send failure, closing grpc\" 4. use pprof to check the goroutine , you can find goroutine is increase with lots of goroutine block at ``` pilot/pkg/proxy/envoy/v2/ads.go : func receiveThread { ...... reqChannel <- req //here } ``` here is some of goroutine file [detail:] ``` goroutine profile: total 12178 7252 @ 0x42c94a 0x42c9fe 0x4035bb 0x403355 0x140e66e 0x459d31 0x140e66d\\tistio.io/istio/pilot/pkg/proxy/envoy/v2.receiveThread+0x7d\\t/home/nemo/install/gopath/src/istio.io/istio/pilot/pkg/proxy/envoy/v2/ads.go:332 1565 @ 0x42c94a 0x427c6a 0x4272e7 0x493bdb 0x493c5d 0x494abd 0x500c5f 0x5121aa 0x52e018 0x470de6 0x470f58 0x83463b 0x834ec4 0x98f93c 0x9b9f8b 0x9c5a4c 0x9c5a87 0x459d31 0x4272e6\\tinternal/poll.runtime_pollWait+0x56 /opt/go/src/runtime/netpoll.go:173 0x493bda\\tinternal/poll.(*pollDesc).wait+0x9a /opt/go/src/internal/poll/fd_poll_runtime.go:85 0x493c5c\\tinternal/poll.(*pollDesc).waitRead+0x3c /opt/go/src/internal/poll/fd_poll_runtime.go:90 0x494abc\\tinternal/poll.(*FD).Read+0x17c /opt/go/src/internal/poll/fd_unix.go:157 0x500c5e\\tnet.(*netFD).Read+0x4e /opt/go/src/net/fd_unix.go:202 0x5121a9\\tnet.(*conn).Read+0x69 /opt/go/src/net/net.go:176 0x52e017\\tbufio.(*Reader).Read+0x237 /opt/go/src/bufio/bufio.go:216 0x470de5\\tio.ReadAtLeast+0x85 /opt/go/src/io/io.go:309 0x470f57\\tio.ReadFull+0x57 /opt/go/src/io/io.go:327 0x83463a\\tistio.io/istio/vendor/golang.org/x/net/http2.readFrameHeader+0x7a /home/nemo/install/gopath/src/istio.io/istio/vendor/golang.org/x/net/http2/frame.go:237 0x834ec3\\tistio.io/istio/vendor/golang.org/x/net/http2.(*Framer).ReadFrame+0xa3 /home/nemo/install/gopath/src/istio.io/istio/vendor/golang.org/x/net/http2/frame.go:492 0x98f93b\\tistio.io/istio/vendor/google.golang.org/grpc/transport.(*http2Server).HandleStreams+0x7b\\t/home/nemo/install/gopath/src/istio.io/istio/vendor/google.golang.org/grpc/transport/http2_server.go:426 0x9b9f8a\\tistio.io/istio/vendor/google.golang.org/grpc.(*Server).serveStreams+0xea /home/nemo/install/gopath/src/istio.io/istio/vendor/google.golang.org/grpc/server.go:676 0x9c5a4b\\tistio.io/istio/vendor/google.golang.org/grpc.(*Server).handleRawConn.func2+0x3b /home/nemo/install/gopath/src/istio.io/istio/vendor/google.golang.org/grpc/server.go:631 0x9c5a86\\tistio.io/istio/vendor/google.golang.org/grpc.(*Server).handleRawConn.func3+0x26 /home/nemo/install/gopath/src/istio.io/istio/vendor/google.golang.org/grpc/server.go:639 1565 @ 0x42c94a 0x43c600 0x97cf53 0x97d69c 0x99cb52 0x459d31 0x97cf52\\tistio.io/istio/vendor/google.golang.org/grpc/transport.(*controlBuffer).get+0x132\\t/home/nemo/install/gopath/src/istio.io/istio/vendor/google.golang.org/grpc/transport/controlbuf.go:289 0x97d69b\\tistio.io/istio/vendor/google.golang.org/grpc/transport.(*loopyWriter).run+0x1bb /home/nemo/install/gopath/src/istio.io/istio/vendor/google.golang.org/grpc/transport/controlbuf.go:374 0x99cb51\\tistio.io/istio/vendor/google.golang.org/grpc/transport.newHTTP2Server.func2+0xd1\\t/home/nemo/install/gopath/src/istio.io/istio/vendor/google.golang.org/grpc/transport/http2_server.go:276 1565 @ 0x42c94a 0x43c600 0x993f21 0x459d31 0x993f20\\tistio.io/istio/vendor/google.golang.org/grpc/transport.(*http2Server).keepalive+0x240\\t/home/nemo/install/gopath/src/istio.io/istio/vendor/google.golang.org/grpc/transport/http2_server.go:867 21 @ 0x42c94a 0x42c9fe 0x404212 0x403ecb 0x1175246 0x117a714 0x866e31 0x866eef 0x459d31 0x1175245\\tistio.io/istio/vendor/k8s.io/client-go/tools/cache.(*sharedProcessor).run+0x45 /home/nemo/install/gopath/src/istio.io/istio/vendor/k8s.io/client-go/tools/cache/shared_informer.go:425 0x117a713\\tistio.io/istio/vendor/k8s.io/client-go/tools/cache.(*sharedProcessor).(istio.io/istio/vendor/k8s.io/client-go/tools/cache.run)-fm+0x33\\t/home/nemo/install/gopath/src/istio.io/istio/vendor/k8s.io/client-go/tools/cache/shared_informer.go:220 0x866e30\\tistio.io/istio/vendor/k8s.io/apimachinery/pkg/util/wait.(*Group).StartWithChannel.func1+0x30 /home/nemo/install/gopath/src/istio.io/istio/vendor/k8s.io/apimachinery/pkg/util/wait/wait.go:54 0x866eee\\tistio.io/istio/vendor/k8s.io/apimachinery/pkg/util/wait.(*Group).Start.func1+0x4e /home/nemo/install/gopath/src/istio.io/istio/vendor/k8s.io/apimachinery/pkg/util/wait/wait.go:71 21 @ 0x42c94a 0x42c9fe 0x404212 0x403ecb 0x1179524 0x459d31 0x1179523\\tistio.io/istio/vendor/k8s.io/client-go/tools/cache.(*controller).Run.func1+0x33\\t/home/nemo/install/gopath/src/istio.io/istio/vendor/k8s.io/client-go/tools/cache/controller.go:103 ``` **Version** We are using istio 1.0.2 , but we have custom the istio for our production environment , so i\\'m sorry the code line may be not match the 1.0.2 tag . But we have check the master branch (565aaa99dcfc7d584e9f8eb9a04844b0b0faa1d5) code that still have the same bug , so we want to commit a PR for this . Please check this PR. https://github.com/istio/istio/pull/10823 Thank you **Installation** we install the istio use helm like this . https://istio.io/docs/setup/kubernetes/helm-install/',\n",
       "       'Add helm value to make whitebox default mode This will allow interceptionMode: NONE to be the default value for injection, disabling the init container creation by default. Fixes https://github.com/istio/istio/issues/12543',\n",
       "       'Adding users ends up with unlabeled /etc/subuid In FCOS today if we add a user in Ignition we end up with `/etc/subuid` (and `/etc/subgid`) being `unlabeled_t`. We need to add those files to our list of things that get relabeled if a user is added.',\n",
       "       'Is versio 0.4.1 supported for Openshift Origin 3.11 Considering the below bugzilla; is version 0.4.1 supported with Openshift Origin 3.11 https://bugzilla.redhat.com/show_bug.cgi?id=CVE-2019-3818 Thanks, Sreekanth',\n",
       "       'Add authentication to REST Calls for Migration. (#936) Cherry-pick Migration Auth from Master.',\n",
       "       'Remove SetConditions and GetConditions for ClusterIngress <!-- Request Prow to automatically lint any go code in this PR: /lint --> Fixes # ## Proposed Changes This PR follows the PR https://github.com/knative/serving/pull/3441 to clean up the `SetConditions` and `GetConditions` in clusteringress_lifecycle.go',\n",
       "       'disable docker build strategy ```release-note NONE ``` For security reasons - brings us in line with OSD',\n",
       "       'Add CodeLingo Tenets It looks like this is a Go project. This pull request will add a codelingo.yaml file with some common Go Tenets that CodeLingo will use to review Pull Requests to this repository.',\n",
       "       'io_pgetevents is blocked by the default seccomp filter **Description** The `io_pgetevents` is a new Linux system call, similar to `io_getevents`. It has the same security implications as `io_getevents`, which is allowed by the filter **Steps to reproduce the issue:** 1. Run an application that uses `io_pgetevents` **Describe the results you received:** Unexpected EPERM **Describe the results you expected:** No EPERM',\n",
       "       'Change http to https for security links Signed-off-by: Nguyen Van Trung <trungnv@vn.fujitsu.com>'],\n",
       "      dtype=object)"
      ]
     },
     "execution_count": 93,
     "metadata": {},
     "output_type": "execute_result"
    }
   ],
   "source": [
    "cve_df.description.values"
   ]
  },
  {
   "cell_type": "code",
   "execution_count": null,
   "metadata": {},
   "outputs": [],
   "source": []
  }
 ],
 "metadata": {
  "kernelspec": {
   "display_name": "Python 3",
   "language": "python",
   "name": "python3"
  },
  "language_info": {
   "codemirror_mode": {
    "name": "ipython",
    "version": 3
   },
   "file_extension": ".py",
   "mimetype": "text/x-python",
   "name": "python",
   "nbconvert_exporter": "python",
   "pygments_lexer": "ipython3",
   "version": "3.6.5"
  }
 },
 "nbformat": 4,
 "nbformat_minor": 2
}
