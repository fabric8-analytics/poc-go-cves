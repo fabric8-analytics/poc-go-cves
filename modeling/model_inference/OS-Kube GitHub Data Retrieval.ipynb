{
 "cells": [
  {
   "cell_type": "code",
   "execution_count": 1,
   "metadata": {},
   "outputs": [],
   "source": [
    "import bq_utils as bqu\n",
    "import pandas as pd\n",
    "import numpy as np\n",
    "import json\n",
    "from pandas.io.json import json_normalize\n",
    "import arrow"
   ]
  },
  {
   "cell_type": "code",
   "execution_count": 2,
   "metadata": {},
   "outputs": [
    {
     "data": {
      "text/plain": [
       "<bq_utils.BigQueryHelper at 0x7fbcc9e242b0>"
      ]
     },
     "execution_count": 2,
     "metadata": {},
     "output_type": "execute_result"
    }
   ],
   "source": [
    "import os\n",
    "os.environ['GOOGLE_APPLICATION_CREDENTIALS'] = '../../../auth/bq_key.json'\n",
    "gh_archive = bqu.BigQueryHelper(active_project= \"githubarchive\", \n",
    "                                dataset_name = \"day\")\n",
    "gh_archive"
   ]
  },
  {
   "cell_type": "code",
   "execution_count": 3,
   "metadata": {},
   "outputs": [
    {
     "data": {
      "text/plain": [
       "['20190304',\n",
       " '20190305',\n",
       " '20190306',\n",
       " '20190307',\n",
       " '20190308',\n",
       " '20190309',\n",
       " '20190310',\n",
       " '20190311',\n",
       " '20190312',\n",
       " 'yesterday']"
      ]
     },
     "execution_count": 3,
     "metadata": {},
     "output_type": "execute_result"
    }
   ],
   "source": [
    "gh_archive.list_tables()[-10:]"
   ]
  },
  {
   "cell_type": "code",
   "execution_count": 4,
   "metadata": {},
   "outputs": [
    {
     "data": {
      "text/plain": [
       "(array(['https://github.com/urfave/cli',\n",
       "        'https://github.com/mreiferson/go-httpclient',\n",
       "        'https://github.com/crewjam/rfc5424',\n",
       "        'https://github.com/kubernetes/heapster',\n",
       "        'https://github.com/go-openapi/spec',\n",
       "        'https://github.com/andygrunwald/go-gerrit',\n",
       "        'https://github.com/openshift/ci-secret-mirroring-controller',\n",
       "        'https://github.com/fsnotify/fsnotify',\n",
       "        'https://github.com/BurntSushi/toml',\n",
       "        'https://github.com/kubernetes-csi/drivers'], dtype='<U80'), (851,))"
      ]
     },
     "execution_count": 4,
     "metadata": {},
     "output_type": "execute_result"
    }
   ],
   "source": [
    "gh_repo_links = open('../../../data/golang-repo-list.txt').readlines()\n",
    "gh_repo_links = np.array([item.strip('\\n').strip() for item in gh_repo_links])\n",
    "gh_repo_links[:10], gh_repo_links.shape"
   ]
  },
  {
   "cell_type": "code",
   "execution_count": 5,
   "metadata": {},
   "outputs": [
    {
     "data": {
      "text/plain": [
       "(array(['urfave/cli', 'mreiferson/go-httpclient', 'crewjam/rfc5424',\n",
       "        'kubernetes/heapster', 'go-openapi/spec', 'andygrunwald/go-gerrit',\n",
       "        'openshift/ci-secret-mirroring-controller', 'fsnotify/fsnotify',\n",
       "        'BurntSushi/toml', 'kubernetes-csi/drivers'], dtype='<U61'), (845,))"
      ]
     },
     "execution_count": 5,
     "metadata": {},
     "output_type": "execute_result"
    }
   ],
   "source": [
    "import re\n",
    "\n",
    "pattern = re.compile(r'.*?github.com/(.*)', re.I)\n",
    "repo_names = np.array(list(filter(None,[pattern.search(item).group(1) \n",
    "                                            if pattern.search(item) else None \n",
    "                                               for item in gh_repo_links])))\n",
    "repo_names[:10], repo_names.shape"
   ]
  },
  {
   "cell_type": "markdown",
   "metadata": {},
   "source": [
    "# GitHub Issues\\PRs count for last ten days"
   ]
  },
  {
   "cell_type": "code",
   "execution_count": 7,
   "metadata": {},
   "outputs": [],
   "source": [
    "def add_query_params(query, params_dict):\n",
    "    for i, j in params_dict.items():\n",
    "        query = query.replace(i, j)\n",
    "    return query"
   ]
  },
  {
   "cell_type": "code",
   "execution_count": 13,
   "metadata": {},
   "outputs": [
    {
     "data": {
      "text/plain": [
       "(['20190301',\n",
       "  '20190302',\n",
       "  '20190303',\n",
       "  '20190304',\n",
       "  '20190305',\n",
       "  '20190306',\n",
       "  '20190307',\n",
       "  '20190308',\n",
       "  '20190309',\n",
       "  '20190310',\n",
       "  '20190311'],\n",
       " 11)"
      ]
     },
     "execution_count": 13,
     "metadata": {},
     "output_type": "execute_result"
    }
   ],
   "source": [
    "st = arrow.now().shift(days=-11)\n",
    "et = arrow.now().shift(days=-1)\n",
    "last_3_days = [dt.format('YYYYMMDD') for dt in arrow.Arrow.range('day', st, et)]\n",
    "last_3_days, len(last_3_days)"
   ]
  },
  {
   "cell_type": "code",
   "execution_count": 10,
   "metadata": {},
   "outputs": [],
   "source": [
    "year_prefix = '20*'\n",
    "date_list = [item[2:] for item in last_3_days]\n",
    "query_params = {\n",
    "    '{year_prefix_wildcard}': year_prefix,\n",
    "    '{year_suffix_month_day}': str(tuple(date_list)),\n",
    "    '{repo_names}': str(tuple(repo_names))\n",
    "}"
   ]
  },
  {
   "cell_type": "code",
   "execution_count": 11,
   "metadata": {},
   "outputs": [
    {
     "data": {
      "text/plain": [
       "0.6571597261354327"
      ]
     },
     "execution_count": 11,
     "metadata": {},
     "output_type": "execute_result"
    }
   ],
   "source": [
    "query = \"\"\"\n",
    "SELECT  type, count(*)\n",
    "        FROM `githubarchive.day.{year_prefix_wildcard}`\n",
    "        WHERE _TABLE_SUFFIX IN {year_suffix_month_day}\n",
    "        AND repo.name in {repo_names}\n",
    "        AND type in ('PullRequestEvent', 'IssuesEvent')\n",
    "        GROUP BY type\n",
    "\"\"\"\n",
    "query = add_query_params(query, query_params)\n",
    "gh_archive.estimate_query_size(query)"
   ]
  },
  {
   "cell_type": "code",
   "execution_count": 12,
   "metadata": {},
   "outputs": [
    {
     "data": {
      "text/html": [
       "<div>\n",
       "<style scoped>\n",
       "    .dataframe tbody tr th:only-of-type {\n",
       "        vertical-align: middle;\n",
       "    }\n",
       "\n",
       "    .dataframe tbody tr th {\n",
       "        vertical-align: top;\n",
       "    }\n",
       "\n",
       "    .dataframe thead th {\n",
       "        text-align: right;\n",
       "    }\n",
       "</style>\n",
       "<table border=\"1\" class=\"dataframe\">\n",
       "  <thead>\n",
       "    <tr style=\"text-align: right;\">\n",
       "      <th></th>\n",
       "      <th>type</th>\n",
       "      <th>f0_</th>\n",
       "    </tr>\n",
       "  </thead>\n",
       "  <tbody>\n",
       "    <tr>\n",
       "      <th>0</th>\n",
       "      <td>IssuesEvent</td>\n",
       "      <td>3237</td>\n",
       "    </tr>\n",
       "    <tr>\n",
       "      <th>1</th>\n",
       "      <td>PullRequestEvent</td>\n",
       "      <td>5430</td>\n",
       "    </tr>\n",
       "  </tbody>\n",
       "</table>\n",
       "</div>"
      ],
      "text/plain": [
       "               type   f0_\n",
       "0       IssuesEvent  3237\n",
       "1  PullRequestEvent  5430"
      ]
     },
     "execution_count": 12,
     "metadata": {},
     "output_type": "execute_result"
    }
   ],
   "source": [
    "df = gh_archive.query_to_pandas(query)\n",
    "df"
   ]
  },
  {
   "cell_type": "markdown",
   "metadata": {},
   "source": [
    "# GitHub Issues\\PRs count for 1-2 days around the time of past CVEs "
   ]
  },
  {
   "cell_type": "code",
   "execution_count": 14,
   "metadata": {},
   "outputs": [
    {
     "data": {
      "text/plain": [
       "(array(['20150729', '20150730', '20150731', '20150825', '20150826',\n",
       "        '20150827', '20150923', '20150924', '20150925', '20151006',\n",
       "        '20151007', '20151008', '20151101', '20151102', '20151103',\n",
       "        '20160111', '20160112', '20160113', '20160222', '20160223',\n",
       "        '20160224', '20160308', '20160309', '20160310', '20160316',\n",
       "        '20160317', '20160318', '20160324', '20160325', '20160326',\n",
       "        '20160712', '20160713', '20160714', '20160803', '20160804',\n",
       "        '20160805', '20161020', '20161021', '20161022', '20170312',\n",
       "        '20170313', '20170314', '20170329', '20170330', '20170331',\n",
       "        '20170412', '20170413', '20170414', '20171001', '20171002',\n",
       "        '20171003', '20171004', '20171005', '20171217', '20171218',\n",
       "        '20171219', '20180202', '20180203', '20180204', '20180209',\n",
       "        '20180210', '20180211', '20180215', '20180216', '20180217',\n",
       "        '20180511', '20180512', '20180513', '20180617', '20180618',\n",
       "        '20180619', '20180702', '20180703', '20180704', '20180705',\n",
       "        '20180723', '20180724', '20180725', '20180728', '20180729',\n",
       "        '20180730', '20180826', '20180827', '20180828', '20180829',\n",
       "        '20180830', '20180924', '20180925', '20180926', '20181002',\n",
       "        '20181003', '20181004', '20181008', '20181009', '20181010',\n",
       "        '20181011', '20181012', '20181013', '20181014', '20181015',\n",
       "        '20181021', '20181022', '20181023', '20181101', '20181102',\n",
       "        '20181103', '20181107', '20181108', '20181109', '20181110',\n",
       "        '20181111', '20181118', '20181119', '20181120', '20181121',\n",
       "        '20181125', '20181126', '20181127', '20181213', '20181214',\n",
       "        '20181215', '20181217', '20181218', '20181219', '20181220',\n",
       "        '20181221', '20190123', '20190124', '20190125', '20190129',\n",
       "        '20190130', '20190131'], dtype='<U8'), (132,))"
      ]
     },
     "execution_count": 14,
     "metadata": {},
     "output_type": "execute_result"
    }
   ],
   "source": [
    "dates_of_interest = ['12-Oct-2018', '24-Jan-2019', '30-Mar-2017', '14-Dec-2018', '19-Nov-2018', '18-Dec-2018',\n",
    "                     '30-Jan-2019', '12-May-2018', '26-Nov-2018', '13-Apr-2017', '23-Feb-2016', '2-Oct-2017',\n",
    "                     '12-Jan-2016', '22-Oct-2018', '22-Oct-2018', '4-Aug-2016', '19-Dec-2018', '16-Feb-2018',\n",
    "                     '2-Nov-2018', '9-Mar-2016', '3-Oct-2018', '29-Aug-2018', '13-Mar-2017', '9-Oct-2018',\n",
    "                     '4-Jul-2018', '20-Dec-2018', '29-Jul-2018', '3-Feb-2018', '3-Jul-2018', '20-Nov-2018',\n",
    "                     '18-Dec-2017', '24-Jul-2018', '25-Sep-2018', '10-Nov-2018', '4-Oct-2017', '24-Sep-2015',\n",
    "                     '23-Feb-2016', '8-Nov-2018', '18-Jun-2018', '25-Mar-2016', '25-Sep-2018', '10-Feb-2018',\n",
    "                     '14-Oct-2018', '7-Oct-2015', '13-Jul-2016', '2-Nov-2015', '27-Aug-2018', '26-Aug-2015',\n",
    "                     '21-Oct-2016', '17-Mar-2016', '30-Jul-2015']\n",
    "dates_of_interest = [record \n",
    "                         for dt_tuple in [(\n",
    "                                            arrow.get(dt, 'D-MMM-YYYY').shift(days=-1).format('YYYYMMDD'),\n",
    "                                            arrow.get(dt, 'D-MMM-YYYY').format('YYYYMMDD'),\n",
    "                                            arrow.get(dt, 'D-MMM-YYYY').shift(days=+1).format('YYYYMMDD')\n",
    "                                          ) for dt in dates_of_interest]\n",
    "                         for record in dt_tuple]\n",
    "dates_of_interest = np.unique(dates_of_interest)\n",
    "dates_of_interest, dates_of_interest.shape"
   ]
  },
  {
   "cell_type": "code",
   "execution_count": 15,
   "metadata": {},
   "outputs": [],
   "source": [
    "year_prefix = '20*'\n",
    "date_list = [item[2:] for item in dates_of_interest]\n",
    "query_params = {\n",
    "    '{year_prefix_wildcard}': year_prefix,\n",
    "    '{year_suffix_month_day}': str(tuple(date_list)),\n",
    "    '{repo_names}': str(tuple(repo_names))\n",
    "}"
   ]
  },
  {
   "cell_type": "code",
   "execution_count": 16,
   "metadata": {},
   "outputs": [
    {
     "data": {
      "text/plain": [
       "5.574660442769527"
      ]
     },
     "execution_count": 16,
     "metadata": {},
     "output_type": "execute_result"
    }
   ],
   "source": [
    "query = \"\"\"\n",
    "SELECT  type, count(*)\n",
    "        FROM `githubarchive.day.{year_prefix_wildcard}`\n",
    "        WHERE _TABLE_SUFFIX IN {year_suffix_month_day}\n",
    "        AND repo.name in {repo_names}\n",
    "        AND type in ('PullRequestEvent', 'IssuesEvent')\n",
    "        GROUP BY type\n",
    "\"\"\"\n",
    "query = add_query_params(query, query_params)\n",
    "gh_archive.estimate_query_size(query)"
   ]
  },
  {
   "cell_type": "code",
   "execution_count": 17,
   "metadata": {},
   "outputs": [
    {
     "data": {
      "text/html": [
       "<div>\n",
       "<style scoped>\n",
       "    .dataframe tbody tr th:only-of-type {\n",
       "        vertical-align: middle;\n",
       "    }\n",
       "\n",
       "    .dataframe tbody tr th {\n",
       "        vertical-align: top;\n",
       "    }\n",
       "\n",
       "    .dataframe thead th {\n",
       "        text-align: right;\n",
       "    }\n",
       "</style>\n",
       "<table border=\"1\" class=\"dataframe\">\n",
       "  <thead>\n",
       "    <tr style=\"text-align: right;\">\n",
       "      <th></th>\n",
       "      <th>type</th>\n",
       "      <th>f0_</th>\n",
       "    </tr>\n",
       "  </thead>\n",
       "  <tbody>\n",
       "    <tr>\n",
       "      <th>0</th>\n",
       "      <td>PullRequestEvent</td>\n",
       "      <td>46875</td>\n",
       "    </tr>\n",
       "    <tr>\n",
       "      <th>1</th>\n",
       "      <td>IssuesEvent</td>\n",
       "      <td>30237</td>\n",
       "    </tr>\n",
       "  </tbody>\n",
       "</table>\n",
       "</div>"
      ],
      "text/plain": [
       "               type    f0_\n",
       "0  PullRequestEvent  46875\n",
       "1       IssuesEvent  30237"
      ]
     },
     "execution_count": 17,
     "metadata": {},
     "output_type": "execute_result"
    }
   ],
   "source": [
    "df = gh_archive.query_to_pandas(query)\n",
    "df"
   ]
  },
  {
   "cell_type": "markdown",
   "metadata": {},
   "source": [
    "# BigQuery GitHub Data Retrieval (Issues & PRs)"
   ]
  },
  {
   "cell_type": "code",
   "execution_count": 18,
   "metadata": {},
   "outputs": [
    {
     "data": {
      "text/plain": [
       "(143,\n",
       " ['20150729',\n",
       "  '20150730',\n",
       "  '20150731',\n",
       "  '20150825',\n",
       "  '20150826',\n",
       "  '20150827',\n",
       "  '20150923',\n",
       "  '20150924',\n",
       "  '20150925',\n",
       "  '20151006'])"
      ]
     },
     "execution_count": 18,
     "metadata": {},
     "output_type": "execute_result"
    }
   ],
   "source": [
    "dates_of_interest = ['12-Oct-2018', '24-Jan-2019', '30-Mar-2017', '14-Dec-2018', '19-Nov-2018', '18-Dec-2018',\n",
    "                     '30-Jan-2019', '12-May-2018', '26-Nov-2018', '13-Apr-2017', '23-Feb-2016', '2-Oct-2017',\n",
    "                     '12-Jan-2016', '22-Oct-2018', '22-Oct-2018', '4-Aug-2016', '19-Dec-2018', '16-Feb-2018',\n",
    "                     '2-Nov-2018', '9-Mar-2016', '3-Oct-2018', '29-Aug-2018', '13-Mar-2017', '9-Oct-2018',\n",
    "                     '4-Jul-2018', '20-Dec-2018', '29-Jul-2018', '3-Feb-2018', '3-Jul-2018', '20-Nov-2018',\n",
    "                     '18-Dec-2017', '24-Jul-2018', '25-Sep-2018', '10-Nov-2018', '4-Oct-2017', '24-Sep-2015',\n",
    "                     '23-Feb-2016', '8-Nov-2018', '18-Jun-2018', '25-Mar-2016', '25-Sep-2018', '10-Feb-2018',\n",
    "                     '14-Oct-2018', '7-Oct-2015', '13-Jul-2016', '2-Nov-2015', '27-Aug-2018', '26-Aug-2015',\n",
    "                     '21-Oct-2016', '17-Mar-2016', '30-Jul-2015']\n",
    "dates_of_interest = [record \n",
    "                         for dt_tuple in [(\n",
    "                                            arrow.get(dt, 'D-MMM-YYYY').shift(days=-1).format('YYYYMMDD'),\n",
    "                                            arrow.get(dt, 'D-MMM-YYYY').format('YYYYMMDD'),\n",
    "                                            arrow.get(dt, 'D-MMM-YYYY').shift(days=+1).format('YYYYMMDD')\n",
    "                                          ) for dt in dates_of_interest]\n",
    "                         for record in dt_tuple]\n",
    "dates_of_interest = list(np.unique(dates_of_interest))\n",
    "st = arrow.now().shift(days=-11)\n",
    "et = arrow.now().shift(days=-1)\n",
    "last_3_days = [dt.format('YYYYMMDD') for dt in arrow.Arrow.range('day', st, et)]\n",
    "query_dates = dates_of_interest + last_3_days\n",
    "len(query_dates), query_dates[:10]"
   ]
  },
  {
   "cell_type": "code",
   "execution_count": 19,
   "metadata": {},
   "outputs": [],
   "source": [
    "year_prefix = '20*'\n",
    "date_list = [item[2:] for item in query_dates]\n",
    "query_params = {\n",
    "    '{year_prefix_wildcard}': year_prefix,\n",
    "    '{year_suffix_month_day}': str(tuple(date_list)),\n",
    "    '{repo_names}': str(tuple(repo_names))\n",
    "}"
   ]
  },
  {
   "cell_type": "markdown",
   "metadata": {},
   "source": [
    "## Getting Issues"
   ]
  },
  {
   "cell_type": "code",
   "execution_count": 20,
   "metadata": {},
   "outputs": [
    {
     "data": {
      "text/plain": [
       "399.72557612042874"
      ]
     },
     "execution_count": 20,
     "metadata": {},
     "output_type": "execute_result"
    }
   ],
   "source": [
    "query = \"\"\"\n",
    "SELECT \n",
    "    repo.name as repo_name, \n",
    "    type as event_type, \n",
    "    actor.id as actor_id,\n",
    "    actor.login as actor_name,\n",
    "    JSON_EXTRACT_SCALAR(payload, '$.action') as issue_status,\n",
    "    JSON_EXTRACT_SCALAR(payload, '$.issue.url') as issue_api_url,\n",
    "    JSON_EXTRACT_SCALAR(payload, '$.issue.html_url') as issue_url,\n",
    "    JSON_EXTRACT_SCALAR(payload, '$.issue.user.login') as issue_creator_name,\n",
    "    JSON_EXTRACT_SCALAR(payload, '$.issue.user.url') as issue_creator_api_url,\n",
    "    JSON_EXTRACT_SCALAR(payload, '$.issue.user.html_url') as issue_creator_url,\n",
    "    JSON_EXTRACT_SCALAR(payload, '$.issue.comments') as comment_count,\n",
    "    JSON_EXTRACT_SCALAR(payload, '$.issue.id') as issue_id,\n",
    "    JSON_EXTRACT_SCALAR(payload, '$.issue.number') as issue_number,\n",
    "    JSON_EXTRACT_SCALAR(payload, '$.issue.created_at') as issue_created_at,\n",
    "    JSON_EXTRACT_SCALAR(payload, '$.issue.updated_at') as issue_updated_at,\n",
    "    JSON_EXTRACT_SCALAR(payload, '$.issue.closed_at') as issue_closed_at,\n",
    "    TRIM(REGEXP_REPLACE(\n",
    "             REGEXP_REPLACE(\n",
    "                 JSON_EXTRACT_SCALAR(payload, '$.issue.title'), \n",
    "                 r'\\\\r\\\\n|\\\\r|\\\\n', \n",
    "                 ' '),\n",
    "             r'\\s{2,}', \n",
    "             ' ')) as issue_title,\n",
    "    TRIM(REGEXP_REPLACE(\n",
    "             REGEXP_REPLACE(\n",
    "                 JSON_EXTRACT_SCALAR(payload, '$.issue.body'), \n",
    "                 r'\\\\r\\\\n|\\\\r|\\\\n', \n",
    "                 ' '),\n",
    "             r'\\s{2,}', \n",
    "             ' ')) as issue_body\n",
    "        \n",
    "FROM `githubarchive.day.{year_prefix_wildcard}`\n",
    "    WHERE _TABLE_SUFFIX IN {year_suffix_month_day}\n",
    "    AND repo.name in {repo_names}\n",
    "    AND type = 'IssuesEvent'\n",
    "    \"\"\"\n",
    "\n",
    "query = add_query_params(query, query_params)\n",
    "gh_archive.estimate_query_size(query)"
   ]
  },
  {
   "cell_type": "code",
   "execution_count": 21,
   "metadata": {},
   "outputs": [],
   "source": [
    "issues_df = gh_archive.query_to_pandas(query)"
   ]
  },
  {
   "cell_type": "code",
   "execution_count": 22,
   "metadata": {},
   "outputs": [
    {
     "data": {
      "text/plain": [
       "(33474, 18)"
      ]
     },
     "execution_count": 22,
     "metadata": {},
     "output_type": "execute_result"
    }
   ],
   "source": [
    "issues_df.shape"
   ]
  },
  {
   "cell_type": "code",
   "execution_count": 23,
   "metadata": {},
   "outputs": [
    {
     "name": "stdout",
     "output_type": "stream",
     "text": [
      "<class 'pandas.core.frame.DataFrame'>\n",
      "RangeIndex: 33474 entries, 0 to 33473\n",
      "Data columns (total 18 columns):\n",
      "repo_name                33474 non-null object\n",
      "event_type               33474 non-null object\n",
      "actor_id                 33474 non-null int64\n",
      "actor_name               33474 non-null object\n",
      "issue_status             33474 non-null object\n",
      "issue_api_url            33474 non-null object\n",
      "issue_url                33474 non-null object\n",
      "issue_creator_name       33474 non-null object\n",
      "issue_creator_api_url    33474 non-null object\n",
      "issue_creator_url        33474 non-null object\n",
      "comment_count            33474 non-null object\n",
      "issue_id                 33474 non-null object\n",
      "issue_number             33474 non-null object\n",
      "issue_created_at         33474 non-null object\n",
      "issue_updated_at         33474 non-null object\n",
      "issue_closed_at          15563 non-null object\n",
      "issue_title              33474 non-null object\n",
      "issue_body               33466 non-null object\n",
      "dtypes: int64(1), object(17)\n",
      "memory usage: 4.6+ MB\n"
     ]
    }
   ],
   "source": [
    "issues_df.info()"
   ]
  },
  {
   "cell_type": "code",
   "execution_count": 24,
   "metadata": {},
   "outputs": [
    {
     "data": {
      "text/html": [
       "<div>\n",
       "<style scoped>\n",
       "    .dataframe tbody tr th:only-of-type {\n",
       "        vertical-align: middle;\n",
       "    }\n",
       "\n",
       "    .dataframe tbody tr th {\n",
       "        vertical-align: top;\n",
       "    }\n",
       "\n",
       "    .dataframe thead th {\n",
       "        text-align: right;\n",
       "    }\n",
       "</style>\n",
       "<table border=\"1\" class=\"dataframe\">\n",
       "  <thead>\n",
       "    <tr style=\"text-align: right;\">\n",
       "      <th></th>\n",
       "      <th>repo_name</th>\n",
       "      <th>event_type</th>\n",
       "      <th>actor_id</th>\n",
       "      <th>actor_name</th>\n",
       "      <th>issue_status</th>\n",
       "      <th>issue_api_url</th>\n",
       "      <th>issue_url</th>\n",
       "      <th>issue_creator_name</th>\n",
       "      <th>issue_creator_api_url</th>\n",
       "      <th>issue_creator_url</th>\n",
       "      <th>comment_count</th>\n",
       "      <th>issue_id</th>\n",
       "      <th>issue_number</th>\n",
       "      <th>issue_created_at</th>\n",
       "      <th>issue_updated_at</th>\n",
       "      <th>issue_closed_at</th>\n",
       "      <th>issue_title</th>\n",
       "      <th>issue_body</th>\n",
       "    </tr>\n",
       "  </thead>\n",
       "  <tbody>\n",
       "    <tr>\n",
       "      <th>0</th>\n",
       "      <td>kubernetes/kubernetes</td>\n",
       "      <td>IssuesEvent</td>\n",
       "      <td>9358478</td>\n",
       "      <td>goltermann</td>\n",
       "      <td>closed</td>\n",
       "      <td>https://api.github.com/repos/kubernetes/kubern...</td>\n",
       "      <td>https://github.com/kubernetes/kubernetes/issue...</td>\n",
       "      <td>vishvananda</td>\n",
       "      <td>https://api.github.com/users/vishvananda</td>\n",
       "      <td>https://github.com/vishvananda</td>\n",
       "      <td>17</td>\n",
       "      <td>59309340</td>\n",
       "      <td>4914</td>\n",
       "      <td>2015-02-27T23:24:35Z</td>\n",
       "      <td>2015-08-26T21:00:57Z</td>\n",
       "      <td>2015-08-26T21:00:57Z</td>\n",
       "      <td>Clustered redis example fails to re-elect and ...</td>\n",
       "      <td>Following the clustered redis example, everyth...</td>\n",
       "    </tr>\n",
       "    <tr>\n",
       "      <th>1</th>\n",
       "      <td>influxdb/influxdb</td>\n",
       "      <td>IssuesEvent</td>\n",
       "      <td>219935</td>\n",
       "      <td>jwilder</td>\n",
       "      <td>closed</td>\n",
       "      <td>https://api.github.com/repos/influxdb/influxdb...</td>\n",
       "      <td>https://github.com/influxdb/influxdb/issues/3607</td>\n",
       "      <td>shilpisharma</td>\n",
       "      <td>https://api.github.com/users/shilpisharma</td>\n",
       "      <td>https://github.com/shilpisharma</td>\n",
       "      <td>42</td>\n",
       "      <td>100075419</td>\n",
       "      <td>3607</td>\n",
       "      <td>2015-08-10T14:06:42Z</td>\n",
       "      <td>2015-08-26T20:50:32Z</td>\n",
       "      <td>2015-08-26T20:50:32Z</td>\n",
       "      <td>[0.9.3-rc2] Unable to query influxdb</td>\n",
       "      <td>Hi, We are doing feasibility testing. We inser...</td>\n",
       "    </tr>\n",
       "    <tr>\n",
       "      <th>2</th>\n",
       "      <td>docker/docker</td>\n",
       "      <td>IssuesEvent</td>\n",
       "      <td>799078</td>\n",
       "      <td>cpuguy83</td>\n",
       "      <td>closed</td>\n",
       "      <td>https://api.github.com/repos/docker/docker/iss...</td>\n",
       "      <td>https://github.com/docker/docker/issues/9661</td>\n",
       "      <td>liuyunsh</td>\n",
       "      <td>https://api.github.com/users/liuyunsh</td>\n",
       "      <td>https://github.com/liuyunsh</td>\n",
       "      <td>14</td>\n",
       "      <td>51912295</td>\n",
       "      <td>9661</td>\n",
       "      <td>2014-12-14T07:12:24Z</td>\n",
       "      <td>2015-08-26T01:07:36Z</td>\n",
       "      <td>2015-08-26T01:07:36Z</td>\n",
       "      <td>Can not restart container after stopped contai...</td>\n",
       "      <td>Environment CentOS7 Kernel: [root@tengzhen ~]#...</td>\n",
       "    </tr>\n",
       "    <tr>\n",
       "      <th>3</th>\n",
       "      <td>kubernetes/kubernetes</td>\n",
       "      <td>IssuesEvent</td>\n",
       "      <td>9358478</td>\n",
       "      <td>goltermann</td>\n",
       "      <td>closed</td>\n",
       "      <td>https://api.github.com/repos/kubernetes/kubern...</td>\n",
       "      <td>https://github.com/kubernetes/kubernetes/issue...</td>\n",
       "      <td>Icedroid</td>\n",
       "      <td>https://api.github.com/users/Icedroid</td>\n",
       "      <td>https://github.com/Icedroid</td>\n",
       "      <td>25</td>\n",
       "      <td>94526384</td>\n",
       "      <td>11123</td>\n",
       "      <td>2015-07-12T02:28:36Z</td>\n",
       "      <td>2015-08-26T21:20:27Z</td>\n",
       "      <td>2015-08-26T21:20:27Z</td>\n",
       "      <td>Kubernetes 0.21 with flannel on CentOS 7</td>\n",
       "      <td>I have two machines installed CentOS 7, I call...</td>\n",
       "    </tr>\n",
       "    <tr>\n",
       "      <th>4</th>\n",
       "      <td>docker/docker</td>\n",
       "      <td>IssuesEvent</td>\n",
       "      <td>799078</td>\n",
       "      <td>cpuguy83</td>\n",
       "      <td>closed</td>\n",
       "      <td>https://api.github.com/repos/docker/docker/iss...</td>\n",
       "      <td>https://github.com/docker/docker/issues/8363</td>\n",
       "      <td>cpuguy83</td>\n",
       "      <td>https://api.github.com/users/cpuguy83</td>\n",
       "      <td>https://github.com/cpuguy83</td>\n",
       "      <td>14</td>\n",
       "      <td>44726927</td>\n",
       "      <td>8363</td>\n",
       "      <td>2014-10-02T19:09:52Z</td>\n",
       "      <td>2015-08-26T20:08:24Z</td>\n",
       "      <td>2015-08-26T20:08:24Z</td>\n",
       "      <td>PROPOSAL: docker volumes list command</td>\n",
       "      <td>### Problem Volumes remain a hidden piece with...</td>\n",
       "    </tr>\n",
       "  </tbody>\n",
       "</table>\n",
       "</div>"
      ],
      "text/plain": [
       "               repo_name   event_type  actor_id  actor_name issue_status  \\\n",
       "0  kubernetes/kubernetes  IssuesEvent   9358478  goltermann       closed   \n",
       "1      influxdb/influxdb  IssuesEvent    219935     jwilder       closed   \n",
       "2          docker/docker  IssuesEvent    799078    cpuguy83       closed   \n",
       "3  kubernetes/kubernetes  IssuesEvent   9358478  goltermann       closed   \n",
       "4          docker/docker  IssuesEvent    799078    cpuguy83       closed   \n",
       "\n",
       "                                       issue_api_url  \\\n",
       "0  https://api.github.com/repos/kubernetes/kubern...   \n",
       "1  https://api.github.com/repos/influxdb/influxdb...   \n",
       "2  https://api.github.com/repos/docker/docker/iss...   \n",
       "3  https://api.github.com/repos/kubernetes/kubern...   \n",
       "4  https://api.github.com/repos/docker/docker/iss...   \n",
       "\n",
       "                                           issue_url issue_creator_name  \\\n",
       "0  https://github.com/kubernetes/kubernetes/issue...        vishvananda   \n",
       "1   https://github.com/influxdb/influxdb/issues/3607       shilpisharma   \n",
       "2       https://github.com/docker/docker/issues/9661           liuyunsh   \n",
       "3  https://github.com/kubernetes/kubernetes/issue...           Icedroid   \n",
       "4       https://github.com/docker/docker/issues/8363           cpuguy83   \n",
       "\n",
       "                       issue_creator_api_url                issue_creator_url  \\\n",
       "0   https://api.github.com/users/vishvananda   https://github.com/vishvananda   \n",
       "1  https://api.github.com/users/shilpisharma  https://github.com/shilpisharma   \n",
       "2      https://api.github.com/users/liuyunsh      https://github.com/liuyunsh   \n",
       "3      https://api.github.com/users/Icedroid      https://github.com/Icedroid   \n",
       "4      https://api.github.com/users/cpuguy83      https://github.com/cpuguy83   \n",
       "\n",
       "  comment_count   issue_id issue_number      issue_created_at  \\\n",
       "0            17   59309340         4914  2015-02-27T23:24:35Z   \n",
       "1            42  100075419         3607  2015-08-10T14:06:42Z   \n",
       "2            14   51912295         9661  2014-12-14T07:12:24Z   \n",
       "3            25   94526384        11123  2015-07-12T02:28:36Z   \n",
       "4            14   44726927         8363  2014-10-02T19:09:52Z   \n",
       "\n",
       "       issue_updated_at       issue_closed_at  \\\n",
       "0  2015-08-26T21:00:57Z  2015-08-26T21:00:57Z   \n",
       "1  2015-08-26T20:50:32Z  2015-08-26T20:50:32Z   \n",
       "2  2015-08-26T01:07:36Z  2015-08-26T01:07:36Z   \n",
       "3  2015-08-26T21:20:27Z  2015-08-26T21:20:27Z   \n",
       "4  2015-08-26T20:08:24Z  2015-08-26T20:08:24Z   \n",
       "\n",
       "                                         issue_title  \\\n",
       "0  Clustered redis example fails to re-elect and ...   \n",
       "1               [0.9.3-rc2] Unable to query influxdb   \n",
       "2  Can not restart container after stopped contai...   \n",
       "3           Kubernetes 0.21 with flannel on CentOS 7   \n",
       "4              PROPOSAL: docker volumes list command   \n",
       "\n",
       "                                          issue_body  \n",
       "0  Following the clustered redis example, everyth...  \n",
       "1  Hi, We are doing feasibility testing. We inser...  \n",
       "2  Environment CentOS7 Kernel: [root@tengzhen ~]#...  \n",
       "3  I have two machines installed CentOS 7, I call...  \n",
       "4  ### Problem Volumes remain a hidden piece with...  "
      ]
     },
     "execution_count": 24,
     "metadata": {},
     "output_type": "execute_result"
    }
   ],
   "source": [
    "issues_df.head()"
   ]
  },
  {
   "cell_type": "code",
   "execution_count": 25,
   "metadata": {},
   "outputs": [
    {
     "data": {
      "text/plain": [
       "https://github.com/kubernetes/kubernetes/issues/56876    31\n",
       "https://github.com/golang/go/issues/28673                 8\n",
       "https://github.com/kubernetes/kubernetes/issues/70760     8\n",
       "https://github.com/openshift/origin/issues/18826          8\n",
       "https://github.com/kubernetes/test-infra/issues/11591     6\n",
       "https://github.com/kubernetes/kubernetes/issues/53358     5\n",
       "https://github.com/golang/go/issues/23867                 5\n",
       "https://github.com/kubernetes/kubernetes/issues/15747     5\n",
       "https://github.com/golang/go/issues/28948                 5\n",
       "https://github.com/cockroachdb/cockroach/issues/18932     4\n",
       "Name: issue_url, dtype: int64"
      ]
     },
     "execution_count": 25,
     "metadata": {},
     "output_type": "execute_result"
    }
   ],
   "source": [
    "issues_df.issue_url.value_counts()[:10]"
   ]
  },
  {
   "cell_type": "code",
   "execution_count": 26,
   "metadata": {},
   "outputs": [],
   "source": [
    "issues_df.issue_created_at = pd.to_datetime(issues_df.issue_created_at)\n",
    "issues_df.issue_updated_at = pd.to_datetime(issues_df.issue_updated_at)\n",
    "issues_df.issue_closed_at = pd.to_datetime(issues_df.issue_closed_at)"
   ]
  },
  {
   "cell_type": "code",
   "execution_count": 27,
   "metadata": {},
   "outputs": [
    {
     "data": {
      "text/plain": [
       "(27109, 18)"
      ]
     },
     "execution_count": 27,
     "metadata": {},
     "output_type": "execute_result"
    }
   ],
   "source": [
    "issues_df = issues_df.loc[issues_df.groupby('issue_url').issue_updated_at.idxmax(skipna=False)]\n",
    "issues_df.shape"
   ]
  },
  {
   "cell_type": "code",
   "execution_count": 28,
   "metadata": {},
   "outputs": [
    {
     "data": {
      "text/plain": [
       "https://github.com/cockroachdb/cockroach/issues/27183          1\n",
       "https://github.com/istio/istio/issues/8268                     1\n",
       "https://github.com/kubernetes/kubernetes/issues/67975          1\n",
       "https://github.com/influxdata/influxdb/issues/12181            1\n",
       "https://github.com/DataDog/dd-trace-go/issues/283              1\n",
       "https://github.com/openshift/origin/issues/20841               1\n",
       "https://github.com/openshift/oauth-proxy/issues/90             1\n",
       "https://github.com/openshift/openshift-ansible/issues/11098    1\n",
       "https://github.com/kubernetes/kubernetes/issues/34056          1\n",
       "https://github.com/kubernetes/helm/issues/4300                 1\n",
       "Name: issue_url, dtype: int64"
      ]
     },
     "execution_count": 28,
     "metadata": {},
     "output_type": "execute_result"
    }
   ],
   "source": [
    "issues_df.issue_url.value_counts()[:10]"
   ]
  },
  {
   "cell_type": "code",
   "execution_count": 29,
   "metadata": {},
   "outputs": [],
   "source": [
    "issues_df.to_csv('../../../data/os-kube_gh-issues-12Mar.csv', index=False)"
   ]
  },
  {
   "cell_type": "markdown",
   "metadata": {},
   "source": [
    "## Getting PRs"
   ]
  },
  {
   "cell_type": "code",
   "execution_count": 30,
   "metadata": {},
   "outputs": [
    {
     "data": {
      "text/plain": [
       "399.72557612042874"
      ]
     },
     "execution_count": 30,
     "metadata": {},
     "output_type": "execute_result"
    }
   ],
   "source": [
    "query = \"\"\"\n",
    "SELECT \n",
    "    repo.name as repo_name, \n",
    "    type as event_type, \n",
    "    actor.id as actor_id,\n",
    "    actor.login as actor_name,\n",
    "    JSON_EXTRACT_SCALAR(payload, '$.action') as pr_status,\n",
    "    JSON_EXTRACT_SCALAR(payload, '$.pull_request.id') as pr_id,\n",
    "    JSON_EXTRACT_SCALAR(payload, '$.pull_request.number') as pr_number,\n",
    "    JSON_EXTRACT_SCALAR(payload, '$.pull_request.url') as pr_api_url,\n",
    "    JSON_EXTRACT_SCALAR(payload, '$.pull_request.html_url') as pr_url,\n",
    "    JSON_EXTRACT_SCALAR(payload, '$.pull_request.diff_url') as pr_diff_url,\n",
    "    JSON_EXTRACT_SCALAR(payload, '$.pull_request.patch_url') as pr_patch_url,\n",
    "    JSON_EXTRACT_SCALAR(payload, '$.pull_request.user.login') as pr_creator_name,\n",
    "    JSON_EXTRACT_SCALAR(payload, '$.pull_request.user.url') as pr_creator_api_url,\n",
    "    JSON_EXTRACT_SCALAR(payload, '$.pull_request.user.html_url') as pr_creator_url,\n",
    "    JSON_EXTRACT_SCALAR(payload, '$.pull_request.created_at') as pr_created_at,\n",
    "    JSON_EXTRACT_SCALAR(payload, '$.pull_request.updated_at') as pr_updated_at,\n",
    "    JSON_EXTRACT_SCALAR(payload, '$.pull_request.closed_at') as pr_closed_at,\n",
    "    JSON_EXTRACT_SCALAR(payload, '$.pull_request.merged_at') as pr_merged_at,\n",
    "    JSON_EXTRACT_SCALAR(payload, '$.pull_request.merged') as pr_merged_status,\n",
    "    JSON_EXTRACT_SCALAR(payload, '$.pull_request.comments') as pr_comments_count,\n",
    "    JSON_EXTRACT_SCALAR(payload, '$.pull_request.review_comments') as pr_review_comments_count,\n",
    "    JSON_EXTRACT_SCALAR(payload, '$.pull_request.commits') as pr_commits_count,\n",
    "    JSON_EXTRACT_SCALAR(payload, '$.pull_request.additions') as pr_additions_count,\n",
    "    JSON_EXTRACT_SCALAR(payload, '$.pull_request.deletions') as pr_deletions_count,\n",
    "    JSON_EXTRACT_SCALAR(payload, '$.pull_request.changed_files') as pr_changed_files_count,    \n",
    "    TRIM(REGEXP_REPLACE(\n",
    "             REGEXP_REPLACE(\n",
    "                 JSON_EXTRACT_SCALAR(payload, '$.pull_request.title'), \n",
    "                 r'\\\\r\\\\n|\\\\r|\\\\n', \n",
    "                 ' '),\n",
    "             r'\\s{2,}', \n",
    "             ' ')) as pr_title,\n",
    "    TRIM(REGEXP_REPLACE(\n",
    "             REGEXP_REPLACE(\n",
    "                 JSON_EXTRACT_SCALAR(payload, '$.pull_request.body'), \n",
    "                 r'\\\\r\\\\n|\\\\r|\\\\n', \n",
    "                 ' '),\n",
    "             r'\\s{2,}', \n",
    "             ' ')) as pr_body\n",
    "        \n",
    "FROM `githubarchive.day.{year_prefix_wildcard}`\n",
    "    WHERE _TABLE_SUFFIX IN {year_suffix_month_day}\n",
    "    AND repo.name in {repo_names}\n",
    "    AND type = 'PullRequestEvent'\n",
    "\"\"\"\n",
    "\n",
    "query = add_query_params(query, query_params)\n",
    "gh_archive.estimate_query_size(query)"
   ]
  },
  {
   "cell_type": "code",
   "execution_count": 31,
   "metadata": {},
   "outputs": [],
   "source": [
    "prs_df = gh_archive.query_to_pandas(query)"
   ]
  },
  {
   "cell_type": "code",
   "execution_count": 32,
   "metadata": {},
   "outputs": [
    {
     "data": {
      "text/plain": [
       "(52305, 27)"
      ]
     },
     "execution_count": 32,
     "metadata": {},
     "output_type": "execute_result"
    }
   ],
   "source": [
    "prs_df.shape"
   ]
  },
  {
   "cell_type": "code",
   "execution_count": 33,
   "metadata": {},
   "outputs": [
    {
     "name": "stdout",
     "output_type": "stream",
     "text": [
      "<class 'pandas.core.frame.DataFrame'>\n",
      "RangeIndex: 52305 entries, 0 to 52304\n",
      "Data columns (total 27 columns):\n",
      "repo_name                   52305 non-null object\n",
      "event_type                  52305 non-null object\n",
      "actor_id                    52305 non-null int64\n",
      "actor_name                  52305 non-null object\n",
      "pr_status                   52305 non-null object\n",
      "pr_id                       52305 non-null object\n",
      "pr_number                   52305 non-null object\n",
      "pr_api_url                  52305 non-null object\n",
      "pr_url                      52305 non-null object\n",
      "pr_diff_url                 52305 non-null object\n",
      "pr_patch_url                52305 non-null object\n",
      "pr_creator_name             52305 non-null object\n",
      "pr_creator_api_url          52305 non-null object\n",
      "pr_creator_url              52305 non-null object\n",
      "pr_created_at               52305 non-null object\n",
      "pr_updated_at               52305 non-null object\n",
      "pr_closed_at                25866 non-null object\n",
      "pr_merged_at                20477 non-null object\n",
      "pr_merged_status            52305 non-null object\n",
      "pr_comments_count           52305 non-null object\n",
      "pr_review_comments_count    52305 non-null object\n",
      "pr_commits_count            52305 non-null object\n",
      "pr_additions_count          52305 non-null object\n",
      "pr_deletions_count          52305 non-null object\n",
      "pr_changed_files_count      52305 non-null object\n",
      "pr_title                    52305 non-null object\n",
      "pr_body                     51195 non-null object\n",
      "dtypes: int64(1), object(26)\n",
      "memory usage: 10.8+ MB\n"
     ]
    }
   ],
   "source": [
    "prs_df.info()"
   ]
  },
  {
   "cell_type": "code",
   "execution_count": 34,
   "metadata": {},
   "outputs": [
    {
     "data": {
      "text/plain": [
       "https://github.com/openshift/release/pull/2752                               16\n",
       "https://github.com/google/cadvisor/pull/909                                  12\n",
       "https://github.com/kubernetes/kubernetes/pull/15124                           9\n",
       "https://github.com/docker/docker/pull/16787                                   8\n",
       "https://github.com/kubernetes/kubernetes/pull/13857                           8\n",
       "https://github.com/openshift/release/pull/2748                                8\n",
       "https://github.com/openshift/telemeter/pull/55                                8\n",
       "https://github.com/kubernetes/heapster/pull/869                               7\n",
       "https://github.com/operator-framework/operator-lifecycle-manager/pull/551     7\n",
       "https://github.com/kubernetes/heapster/pull/1098                              6\n",
       "Name: pr_url, dtype: int64"
      ]
     },
     "execution_count": 34,
     "metadata": {},
     "output_type": "execute_result"
    }
   ],
   "source": [
    "prs_df.pr_url.value_counts()[:10]"
   ]
  },
  {
   "cell_type": "code",
   "execution_count": 35,
   "metadata": {},
   "outputs": [],
   "source": [
    "prs_df.pr_created_at = pd.to_datetime(prs_df.pr_created_at)\n",
    "prs_df.pr_updated_at = pd.to_datetime(prs_df.pr_updated_at)\n",
    "prs_df.pr_closed_at = pd.to_datetime(prs_df.pr_closed_at)\n",
    "prs_df.pr_merged_at = pd.to_datetime(prs_df.pr_merged_at)"
   ]
  },
  {
   "cell_type": "code",
   "execution_count": 36,
   "metadata": {},
   "outputs": [
    {
     "data": {
      "text/plain": [
       "(36271, 27)"
      ]
     },
     "execution_count": 36,
     "metadata": {},
     "output_type": "execute_result"
    }
   ],
   "source": [
    "prs_df = prs_df.loc[prs_df.groupby('pr_url').pr_updated_at.idxmax(skipna=False)]\n",
    "prs_df.shape"
   ]
  },
  {
   "cell_type": "code",
   "execution_count": 37,
   "metadata": {},
   "outputs": [
    {
     "data": {
      "text/plain": [
       "https://github.com/kubernetes/test-infra/pull/10907                              1\n",
       "https://github.com/Azure/azure-sdk-for-go/pull/3110                              1\n",
       "https://github.com/kubernetes/kubernetes/pull/44385                              1\n",
       "https://github.com/cockroachdb/cockroach/pull/35608                              1\n",
       "https://github.com/influxdata/influxdb/pull/5786                                 1\n",
       "https://github.com/openshift/origin/pull/21917                                   1\n",
       "https://github.com/cockroachdb/cockroach/pull/31089                              1\n",
       "https://github.com/kubernetes/test-infra/pull/10523                              1\n",
       "https://github.com/Azure/azure-sdk-for-go/pull/3101                              1\n",
       "https://github.com/openshift/cluster-kube-controller-manager-operator/pull/69    1\n",
       "Name: pr_url, dtype: int64"
      ]
     },
     "execution_count": 37,
     "metadata": {},
     "output_type": "execute_result"
    }
   ],
   "source": [
    "prs_df.pr_url.value_counts()[:10]"
   ]
  },
  {
   "cell_type": "code",
   "execution_count": 38,
   "metadata": {},
   "outputs": [],
   "source": [
    "prs_df.to_csv('../../../data/os-kube_gh-pull_requests-12Mar.csv', index=False)"
   ]
  },
  {
   "cell_type": "code",
   "execution_count": null,
   "metadata": {},
   "outputs": [],
   "source": []
  }
 ],
 "metadata": {
  "kernelspec": {
   "display_name": "Python 3",
   "language": "python",
   "name": "python3"
  },
  "language_info": {
   "codemirror_mode": {
    "name": "ipython",
    "version": 3
   },
   "file_extension": ".py",
   "mimetype": "text/x-python",
   "name": "python",
   "nbconvert_exporter": "python",
   "pygments_lexer": "ipython3",
   "version": "3.6.5"
  }
 },
 "nbformat": 4,
 "nbformat_minor": 2
}
