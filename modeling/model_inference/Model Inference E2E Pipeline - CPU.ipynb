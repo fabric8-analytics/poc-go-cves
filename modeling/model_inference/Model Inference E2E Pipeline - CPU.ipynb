{
 "cells": [
  {
   "cell_type": "code",
   "execution_count": 1,
   "metadata": {},
   "outputs": [],
   "source": [
    "import pandas as pd\n",
    "import numpy as np\n",
    "import gc"
   ]
  },
  {
   "cell_type": "code",
   "execution_count": 2,
   "metadata": {},
   "outputs": [
    {
     "data": {
      "text/html": [
       "<div>\n",
       "<style scoped>\n",
       "    .dataframe tbody tr th:only-of-type {\n",
       "        vertical-align: middle;\n",
       "    }\n",
       "\n",
       "    .dataframe tbody tr th {\n",
       "        vertical-align: top;\n",
       "    }\n",
       "\n",
       "    .dataframe thead th {\n",
       "        text-align: right;\n",
       "    }\n",
       "</style>\n",
       "<table border=\"1\" class=\"dataframe\">\n",
       "  <thead>\n",
       "    <tr style=\"text-align: right;\">\n",
       "      <th></th>\n",
       "      <th>repo_name</th>\n",
       "      <th>event_type</th>\n",
       "      <th>actor_id</th>\n",
       "      <th>actor_name</th>\n",
       "      <th>issue_status</th>\n",
       "      <th>issue_api_url</th>\n",
       "      <th>issue_url</th>\n",
       "      <th>issue_creator_name</th>\n",
       "      <th>issue_creator_api_url</th>\n",
       "      <th>issue_creator_url</th>\n",
       "      <th>comment_count</th>\n",
       "      <th>issue_id</th>\n",
       "      <th>issue_number</th>\n",
       "      <th>issue_created_at</th>\n",
       "      <th>issue_updated_at</th>\n",
       "      <th>issue_closed_at</th>\n",
       "      <th>issue_title</th>\n",
       "      <th>issue_body</th>\n",
       "    </tr>\n",
       "  </thead>\n",
       "  <tbody>\n",
       "    <tr>\n",
       "      <th>0</th>\n",
       "      <td>AlecAivazis/survey</td>\n",
       "      <td>IssuesEvent</td>\n",
       "      <td>507464</td>\n",
       "      <td>geocine</td>\n",
       "      <td>opened</td>\n",
       "      <td>https://api.github.com/repos/AlecAivazis/surve...</td>\n",
       "      <td>https://github.com/AlecAivazis/survey/issues/142</td>\n",
       "      <td>geocine</td>\n",
       "      <td>https://api.github.com/users/geocine</td>\n",
       "      <td>https://github.com/geocine</td>\n",
       "      <td>0</td>\n",
       "      <td>322481117</td>\n",
       "      <td>142</td>\n",
       "      <td>2018-05-12 04:16:24</td>\n",
       "      <td>2018-05-12 04:16:24</td>\n",
       "      <td></td>\n",
       "      <td>Add option to auto-select first value from fil...</td>\n",
       "      <td>I have this Question: ```Go { Name: \"type\", Va...</td>\n",
       "    </tr>\n",
       "    <tr>\n",
       "      <th>1</th>\n",
       "      <td>AlecAivazis/survey</td>\n",
       "      <td>IssuesEvent</td>\n",
       "      <td>711748</td>\n",
       "      <td>gaptoothclan</td>\n",
       "      <td>opened</td>\n",
       "      <td>https://api.github.com/repos/AlecAivazis/surve...</td>\n",
       "      <td>https://github.com/AlecAivazis/survey/issues/145</td>\n",
       "      <td>gaptoothclan</td>\n",
       "      <td>https://api.github.com/users/gaptoothclan</td>\n",
       "      <td>https://github.com/gaptoothclan</td>\n",
       "      <td>0</td>\n",
       "      <td>333631007</td>\n",
       "      <td>145</td>\n",
       "      <td>2018-06-19 11:30:45</td>\n",
       "      <td>2018-06-19 11:30:45</td>\n",
       "      <td></td>\n",
       "      <td>Return id of select / multi select</td>\n",
       "      <td>I have been using your survey package for a li...</td>\n",
       "    </tr>\n",
       "  </tbody>\n",
       "</table>\n",
       "</div>"
      ],
      "text/plain": [
       "            repo_name   event_type  actor_id    actor_name issue_status  \\\n",
       "0  AlecAivazis/survey  IssuesEvent    507464       geocine       opened   \n",
       "1  AlecAivazis/survey  IssuesEvent    711748  gaptoothclan       opened   \n",
       "\n",
       "                                       issue_api_url  \\\n",
       "0  https://api.github.com/repos/AlecAivazis/surve...   \n",
       "1  https://api.github.com/repos/AlecAivazis/surve...   \n",
       "\n",
       "                                          issue_url issue_creator_name  \\\n",
       "0  https://github.com/AlecAivazis/survey/issues/142            geocine   \n",
       "1  https://github.com/AlecAivazis/survey/issues/145       gaptoothclan   \n",
       "\n",
       "                       issue_creator_api_url                issue_creator_url  \\\n",
       "0       https://api.github.com/users/geocine       https://github.com/geocine   \n",
       "1  https://api.github.com/users/gaptoothclan  https://github.com/gaptoothclan   \n",
       "\n",
       "   comment_count   issue_id  issue_number     issue_created_at  \\\n",
       "0              0  322481117           142  2018-05-12 04:16:24   \n",
       "1              0  333631007           145  2018-06-19 11:30:45   \n",
       "\n",
       "      issue_updated_at issue_closed_at  \\\n",
       "0  2018-05-12 04:16:24                   \n",
       "1  2018-06-19 11:30:45                   \n",
       "\n",
       "                                         issue_title  \\\n",
       "0  Add option to auto-select first value from fil...   \n",
       "1                 Return id of select / multi select   \n",
       "\n",
       "                                          issue_body  \n",
       "0  I have this Question: ```Go { Name: \"type\", Va...  \n",
       "1  I have been using your survey package for a li...  "
      ]
     },
     "execution_count": 2,
     "metadata": {},
     "output_type": "execute_result"
    }
   ],
   "source": [
    "issues_df = pd.read_csv('../../../data/os-kube_gh-issues-12Mar.csv', keep_default_na=False)\n",
    "issues_df.head(2)"
   ]
  },
  {
   "cell_type": "code",
   "execution_count": 3,
   "metadata": {},
   "outputs": [
    {
     "data": {
      "text/plain": [
       "(27109, 18)"
      ]
     },
     "execution_count": 3,
     "metadata": {},
     "output_type": "execute_result"
    }
   ],
   "source": [
    "issues_df.shape"
   ]
  },
  {
   "cell_type": "code",
   "execution_count": 5,
   "metadata": {},
   "outputs": [],
   "source": [
    "df1 = pd.DataFrame()\n",
    "df1['repository'] = issues_df['repo_name'].tolist()\n",
    "df1['ecosystem'] = ['golang'] * len(issues_df)\n",
    "df1['repo_url'] = ['https://github.com/'+repo_name \n",
    "                       for repo_name in issues_df['repo_name'].tolist()]\n",
    "df1['package'] = df1['repository']\n",
    "df1['cause_type'] = ['Issue'] * len(issues_df)\n",
    "df1['issue_url'] = issues_df['issue_url']\n",
    "df1['issue_date'] = issues_df['issue_created_at']\n",
    "df1['fixed_url'] = 'null'\n",
    "df1['fixed_date'] = 'null'\n",
    "df1['commit_url'] = 'null'\n",
    "df1['commit_date'] = 'null'\n",
    "df1['identified_url'] = df1['issue_url']\n",
    "df1['identified_date'] = df1['issue_date']\n",
    "df1['files_changed'] = 'null'\n",
    "df1['flagged_score'] = 'null'\n",
    "df1['flagged_at'] = 'null'\n",
    "df1['description'] = issues_df['issue_title'].map(str) + ' ' + issues_df['issue_body']"
   ]
  },
  {
   "cell_type": "code",
   "execution_count": 6,
   "metadata": {},
   "outputs": [
    {
     "data": {
      "text/plain": [
       "(27109, 17)"
      ]
     },
     "execution_count": 6,
     "metadata": {},
     "output_type": "execute_result"
    }
   ],
   "source": [
    "df1.shape"
   ]
  },
  {
   "cell_type": "code",
   "execution_count": 7,
   "metadata": {},
   "outputs": [
    {
     "data": {
      "text/html": [
       "<div>\n",
       "<style scoped>\n",
       "    .dataframe tbody tr th:only-of-type {\n",
       "        vertical-align: middle;\n",
       "    }\n",
       "\n",
       "    .dataframe tbody tr th {\n",
       "        vertical-align: top;\n",
       "    }\n",
       "\n",
       "    .dataframe thead th {\n",
       "        text-align: right;\n",
       "    }\n",
       "</style>\n",
       "<table border=\"1\" class=\"dataframe\">\n",
       "  <thead>\n",
       "    <tr style=\"text-align: right;\">\n",
       "      <th></th>\n",
       "      <th>repository</th>\n",
       "      <th>ecosystem</th>\n",
       "      <th>repo_url</th>\n",
       "      <th>package</th>\n",
       "      <th>cause_type</th>\n",
       "      <th>issue_url</th>\n",
       "      <th>issue_date</th>\n",
       "      <th>fixed_url</th>\n",
       "      <th>fixed_date</th>\n",
       "      <th>commit_url</th>\n",
       "      <th>commit_date</th>\n",
       "      <th>identified_url</th>\n",
       "      <th>identified_date</th>\n",
       "      <th>files_changed</th>\n",
       "      <th>flagged_score</th>\n",
       "      <th>flagged_at</th>\n",
       "      <th>description</th>\n",
       "    </tr>\n",
       "  </thead>\n",
       "  <tbody>\n",
       "    <tr>\n",
       "      <th>0</th>\n",
       "      <td>AlecAivazis/survey</td>\n",
       "      <td>golang</td>\n",
       "      <td>https://github.com/AlecAivazis/survey</td>\n",
       "      <td>AlecAivazis/survey</td>\n",
       "      <td>Issue</td>\n",
       "      <td>https://github.com/AlecAivazis/survey/issues/142</td>\n",
       "      <td>2018-05-12 04:16:24</td>\n",
       "      <td>null</td>\n",
       "      <td>null</td>\n",
       "      <td>null</td>\n",
       "      <td>null</td>\n",
       "      <td>https://github.com/AlecAivazis/survey/issues/142</td>\n",
       "      <td>2018-05-12 04:16:24</td>\n",
       "      <td>null</td>\n",
       "      <td>null</td>\n",
       "      <td>null</td>\n",
       "      <td>Add option to auto-select first value from fil...</td>\n",
       "    </tr>\n",
       "    <tr>\n",
       "      <th>1</th>\n",
       "      <td>AlecAivazis/survey</td>\n",
       "      <td>golang</td>\n",
       "      <td>https://github.com/AlecAivazis/survey</td>\n",
       "      <td>AlecAivazis/survey</td>\n",
       "      <td>Issue</td>\n",
       "      <td>https://github.com/AlecAivazis/survey/issues/145</td>\n",
       "      <td>2018-06-19 11:30:45</td>\n",
       "      <td>null</td>\n",
       "      <td>null</td>\n",
       "      <td>null</td>\n",
       "      <td>null</td>\n",
       "      <td>https://github.com/AlecAivazis/survey/issues/145</td>\n",
       "      <td>2018-06-19 11:30:45</td>\n",
       "      <td>null</td>\n",
       "      <td>null</td>\n",
       "      <td>null</td>\n",
       "      <td>Return id of select / multi select I have been...</td>\n",
       "    </tr>\n",
       "  </tbody>\n",
       "</table>\n",
       "</div>"
      ],
      "text/plain": [
       "           repository ecosystem                               repo_url  \\\n",
       "0  AlecAivazis/survey    golang  https://github.com/AlecAivazis/survey   \n",
       "1  AlecAivazis/survey    golang  https://github.com/AlecAivazis/survey   \n",
       "\n",
       "              package cause_type  \\\n",
       "0  AlecAivazis/survey      Issue   \n",
       "1  AlecAivazis/survey      Issue   \n",
       "\n",
       "                                          issue_url           issue_date  \\\n",
       "0  https://github.com/AlecAivazis/survey/issues/142  2018-05-12 04:16:24   \n",
       "1  https://github.com/AlecAivazis/survey/issues/145  2018-06-19 11:30:45   \n",
       "\n",
       "  fixed_url fixed_date commit_url commit_date  \\\n",
       "0      null       null       null        null   \n",
       "1      null       null       null        null   \n",
       "\n",
       "                                     identified_url      identified_date  \\\n",
       "0  https://github.com/AlecAivazis/survey/issues/142  2018-05-12 04:16:24   \n",
       "1  https://github.com/AlecAivazis/survey/issues/145  2018-06-19 11:30:45   \n",
       "\n",
       "  files_changed flagged_score flagged_at  \\\n",
       "0          null          null       null   \n",
       "1          null          null       null   \n",
       "\n",
       "                                         description  \n",
       "0  Add option to auto-select first value from fil...  \n",
       "1  Return id of select / multi select I have been...  "
      ]
     },
     "execution_count": 7,
     "metadata": {},
     "output_type": "execute_result"
    }
   ],
   "source": [
    "df1.head(2)"
   ]
  },
  {
   "cell_type": "code",
   "execution_count": 8,
   "metadata": {},
   "outputs": [
    {
     "data": {
      "text/html": [
       "<div>\n",
       "<style scoped>\n",
       "    .dataframe tbody tr th:only-of-type {\n",
       "        vertical-align: middle;\n",
       "    }\n",
       "\n",
       "    .dataframe tbody tr th {\n",
       "        vertical-align: top;\n",
       "    }\n",
       "\n",
       "    .dataframe thead th {\n",
       "        text-align: right;\n",
       "    }\n",
       "</style>\n",
       "<table border=\"1\" class=\"dataframe\">\n",
       "  <thead>\n",
       "    <tr style=\"text-align: right;\">\n",
       "      <th></th>\n",
       "      <th>repo_name</th>\n",
       "      <th>event_type</th>\n",
       "      <th>actor_id</th>\n",
       "      <th>actor_name</th>\n",
       "      <th>pr_status</th>\n",
       "      <th>pr_id</th>\n",
       "      <th>pr_number</th>\n",
       "      <th>pr_api_url</th>\n",
       "      <th>pr_url</th>\n",
       "      <th>pr_diff_url</th>\n",
       "      <th>...</th>\n",
       "      <th>pr_merged_at</th>\n",
       "      <th>pr_merged_status</th>\n",
       "      <th>pr_comments_count</th>\n",
       "      <th>pr_review_comments_count</th>\n",
       "      <th>pr_commits_count</th>\n",
       "      <th>pr_additions_count</th>\n",
       "      <th>pr_deletions_count</th>\n",
       "      <th>pr_changed_files_count</th>\n",
       "      <th>pr_title</th>\n",
       "      <th>pr_body</th>\n",
       "    </tr>\n",
       "  </thead>\n",
       "  <tbody>\n",
       "    <tr>\n",
       "      <th>0</th>\n",
       "      <td>18F/hmacauth</td>\n",
       "      <td>PullRequestEvent</td>\n",
       "      <td>301547</td>\n",
       "      <td>mbland</td>\n",
       "      <td>closed</td>\n",
       "      <td>46903936</td>\n",
       "      <td>2</td>\n",
       "      <td>https://api.github.com/repos/18F/hmacauth/pulls/2</td>\n",
       "      <td>https://github.com/18F/hmacauth/pull/2</td>\n",
       "      <td>https://github.com/18F/hmacauth/pull/2.diff</td>\n",
       "      <td>...</td>\n",
       "      <td>2015-10-06 13:51:12</td>\n",
       "      <td>True</td>\n",
       "      <td>0</td>\n",
       "      <td>0</td>\n",
       "      <td>1</td>\n",
       "      <td>18</td>\n",
       "      <td>0</td>\n",
       "      <td>2</td>\n",
       "      <td>Add travis build and code coverage</td>\n",
       "      <td></td>\n",
       "    </tr>\n",
       "    <tr>\n",
       "      <th>1</th>\n",
       "      <td>18F/hmacauth</td>\n",
       "      <td>PullRequestEvent</td>\n",
       "      <td>7788930</td>\n",
       "      <td>jcscottiii</td>\n",
       "      <td>closed</td>\n",
       "      <td>47146128</td>\n",
       "      <td>3</td>\n",
       "      <td>https://api.github.com/repos/18F/hmacauth/pulls/3</td>\n",
       "      <td>https://github.com/18F/hmacauth/pull/3</td>\n",
       "      <td>https://github.com/18F/hmacauth/pull/3.diff</td>\n",
       "      <td>...</td>\n",
       "      <td>2015-10-08 13:48:11</td>\n",
       "      <td>True</td>\n",
       "      <td>0</td>\n",
       "      <td>0</td>\n",
       "      <td>1</td>\n",
       "      <td>15</td>\n",
       "      <td>14</td>\n",
       "      <td>4</td>\n",
       "      <td>s/Validate/Authenticate/g</td>\n",
       "      <td>Also thinking of bumping the version tag to 1....</td>\n",
       "    </tr>\n",
       "  </tbody>\n",
       "</table>\n",
       "<p>2 rows × 27 columns</p>\n",
       "</div>"
      ],
      "text/plain": [
       "      repo_name        event_type  actor_id  actor_name pr_status     pr_id  \\\n",
       "0  18F/hmacauth  PullRequestEvent    301547      mbland    closed  46903936   \n",
       "1  18F/hmacauth  PullRequestEvent   7788930  jcscottiii    closed  47146128   \n",
       "\n",
       "   pr_number                                         pr_api_url  \\\n",
       "0          2  https://api.github.com/repos/18F/hmacauth/pulls/2   \n",
       "1          3  https://api.github.com/repos/18F/hmacauth/pulls/3   \n",
       "\n",
       "                                   pr_url  \\\n",
       "0  https://github.com/18F/hmacauth/pull/2   \n",
       "1  https://github.com/18F/hmacauth/pull/3   \n",
       "\n",
       "                                   pr_diff_url  \\\n",
       "0  https://github.com/18F/hmacauth/pull/2.diff   \n",
       "1  https://github.com/18F/hmacauth/pull/3.diff   \n",
       "\n",
       "                         ...                                 pr_merged_at  \\\n",
       "0                        ...                          2015-10-06 13:51:12   \n",
       "1                        ...                          2015-10-08 13:48:11   \n",
       "\n",
       "  pr_merged_status pr_comments_count pr_review_comments_count  \\\n",
       "0             True                 0                        0   \n",
       "1             True                 0                        0   \n",
       "\n",
       "  pr_commits_count pr_additions_count pr_deletions_count  \\\n",
       "0                1                 18                  0   \n",
       "1                1                 15                 14   \n",
       "\n",
       "  pr_changed_files_count                            pr_title  \\\n",
       "0                      2  Add travis build and code coverage   \n",
       "1                      4           s/Validate/Authenticate/g   \n",
       "\n",
       "                                             pr_body  \n",
       "0                                                     \n",
       "1  Also thinking of bumping the version tag to 1....  \n",
       "\n",
       "[2 rows x 27 columns]"
      ]
     },
     "execution_count": 8,
     "metadata": {},
     "output_type": "execute_result"
    }
   ],
   "source": [
    "prs_df = pd.read_csv('../../../data/os-kube_gh-pull_requests-12Mar.csv', keep_default_na=False)\n",
    "prs_df.head(2)"
   ]
  },
  {
   "cell_type": "code",
   "execution_count": 9,
   "metadata": {},
   "outputs": [
    {
     "data": {
      "text/plain": [
       "Index(['repo_name', 'event_type', 'actor_id', 'actor_name', 'pr_status',\n",
       "       'pr_id', 'pr_number', 'pr_api_url', 'pr_url', 'pr_diff_url',\n",
       "       'pr_patch_url', 'pr_creator_name', 'pr_creator_api_url',\n",
       "       'pr_creator_url', 'pr_created_at', 'pr_updated_at', 'pr_closed_at',\n",
       "       'pr_merged_at', 'pr_merged_status', 'pr_comments_count',\n",
       "       'pr_review_comments_count', 'pr_commits_count', 'pr_additions_count',\n",
       "       'pr_deletions_count', 'pr_changed_files_count', 'pr_title', 'pr_body'],\n",
       "      dtype='object')"
      ]
     },
     "execution_count": 9,
     "metadata": {},
     "output_type": "execute_result"
    }
   ],
   "source": [
    "prs_df.columns"
   ]
  },
  {
   "cell_type": "code",
   "execution_count": 10,
   "metadata": {},
   "outputs": [
    {
     "data": {
      "text/plain": [
       "(36271, 27)"
      ]
     },
     "execution_count": 10,
     "metadata": {},
     "output_type": "execute_result"
    }
   ],
   "source": [
    "prs_df.shape"
   ]
  },
  {
   "cell_type": "code",
   "execution_count": 11,
   "metadata": {},
   "outputs": [],
   "source": [
    "df2 = pd.DataFrame()\n",
    "df2['repository'] = prs_df['repo_name'].tolist()\n",
    "df2['ecosystem'] = ['golang'] * len(prs_df)\n",
    "df2['repo_url'] = ['https://github.com/'+repo_name \n",
    "                       for repo_name in prs_df['repo_name'].tolist()]\n",
    "df2['package'] = df2['repository']\n",
    "df2['cause_type'] = ['Pull Request'] * len(prs_df)\n",
    "df2['issue_url'] = 'null'\n",
    "df2['issue_date'] = 'null'\n",
    "df2['fixed_url'] = prs_df['pr_url']\n",
    "df2['fixed_date'] = prs_df['pr_created_at']\n",
    "df2['commit_url'] = 'null'\n",
    "df2['commit_date'] = 'null'\n",
    "df2['identified_url'] = df2['fixed_url']\n",
    "df2['identified_date'] = df2['fixed_date']\n",
    "df2['files_changed'] = 'null'\n",
    "df2['flagged_score'] = 'null'\n",
    "df2['flagged_at'] = 'null'\n",
    "df2['description'] = prs_df['pr_title'].map(str) + ' ' + prs_df['pr_body']"
   ]
  },
  {
   "cell_type": "code",
   "execution_count": 12,
   "metadata": {},
   "outputs": [
    {
     "data": {
      "text/plain": [
       "(36271, 17)"
      ]
     },
     "execution_count": 12,
     "metadata": {},
     "output_type": "execute_result"
    }
   ],
   "source": [
    "df2.shape"
   ]
  },
  {
   "cell_type": "code",
   "execution_count": 13,
   "metadata": {},
   "outputs": [
    {
     "data": {
      "text/html": [
       "<div>\n",
       "<style scoped>\n",
       "    .dataframe tbody tr th:only-of-type {\n",
       "        vertical-align: middle;\n",
       "    }\n",
       "\n",
       "    .dataframe tbody tr th {\n",
       "        vertical-align: top;\n",
       "    }\n",
       "\n",
       "    .dataframe thead th {\n",
       "        text-align: right;\n",
       "    }\n",
       "</style>\n",
       "<table border=\"1\" class=\"dataframe\">\n",
       "  <thead>\n",
       "    <tr style=\"text-align: right;\">\n",
       "      <th></th>\n",
       "      <th>repository</th>\n",
       "      <th>ecosystem</th>\n",
       "      <th>repo_url</th>\n",
       "      <th>package</th>\n",
       "      <th>cause_type</th>\n",
       "      <th>issue_url</th>\n",
       "      <th>issue_date</th>\n",
       "      <th>fixed_url</th>\n",
       "      <th>fixed_date</th>\n",
       "      <th>commit_url</th>\n",
       "      <th>commit_date</th>\n",
       "      <th>identified_url</th>\n",
       "      <th>identified_date</th>\n",
       "      <th>files_changed</th>\n",
       "      <th>flagged_score</th>\n",
       "      <th>flagged_at</th>\n",
       "      <th>description</th>\n",
       "    </tr>\n",
       "  </thead>\n",
       "  <tbody>\n",
       "    <tr>\n",
       "      <th>0</th>\n",
       "      <td>18F/hmacauth</td>\n",
       "      <td>golang</td>\n",
       "      <td>https://github.com/18F/hmacauth</td>\n",
       "      <td>18F/hmacauth</td>\n",
       "      <td>Pull Request</td>\n",
       "      <td>null</td>\n",
       "      <td>null</td>\n",
       "      <td>https://github.com/18F/hmacauth/pull/2</td>\n",
       "      <td>2015-10-06 13:42:05</td>\n",
       "      <td>null</td>\n",
       "      <td>null</td>\n",
       "      <td>https://github.com/18F/hmacauth/pull/2</td>\n",
       "      <td>2015-10-06 13:42:05</td>\n",
       "      <td>null</td>\n",
       "      <td>null</td>\n",
       "      <td>null</td>\n",
       "      <td>Add travis build and code coverage</td>\n",
       "    </tr>\n",
       "    <tr>\n",
       "      <th>1</th>\n",
       "      <td>18F/hmacauth</td>\n",
       "      <td>golang</td>\n",
       "      <td>https://github.com/18F/hmacauth</td>\n",
       "      <td>18F/hmacauth</td>\n",
       "      <td>Pull Request</td>\n",
       "      <td>null</td>\n",
       "      <td>null</td>\n",
       "      <td>https://github.com/18F/hmacauth/pull/3</td>\n",
       "      <td>2015-10-08 12:28:47</td>\n",
       "      <td>null</td>\n",
       "      <td>null</td>\n",
       "      <td>https://github.com/18F/hmacauth/pull/3</td>\n",
       "      <td>2015-10-08 12:28:47</td>\n",
       "      <td>null</td>\n",
       "      <td>null</td>\n",
       "      <td>null</td>\n",
       "      <td>s/Validate/Authenticate/g Also thinking of bum...</td>\n",
       "    </tr>\n",
       "  </tbody>\n",
       "</table>\n",
       "</div>"
      ],
      "text/plain": [
       "     repository ecosystem                         repo_url       package  \\\n",
       "0  18F/hmacauth    golang  https://github.com/18F/hmacauth  18F/hmacauth   \n",
       "1  18F/hmacauth    golang  https://github.com/18F/hmacauth  18F/hmacauth   \n",
       "\n",
       "     cause_type issue_url issue_date                               fixed_url  \\\n",
       "0  Pull Request      null       null  https://github.com/18F/hmacauth/pull/2   \n",
       "1  Pull Request      null       null  https://github.com/18F/hmacauth/pull/3   \n",
       "\n",
       "            fixed_date commit_url commit_date  \\\n",
       "0  2015-10-06 13:42:05       null        null   \n",
       "1  2015-10-08 12:28:47       null        null   \n",
       "\n",
       "                           identified_url      identified_date files_changed  \\\n",
       "0  https://github.com/18F/hmacauth/pull/2  2015-10-06 13:42:05          null   \n",
       "1  https://github.com/18F/hmacauth/pull/3  2015-10-08 12:28:47          null   \n",
       "\n",
       "  flagged_score flagged_at                                        description  \n",
       "0          null       null                Add travis build and code coverage   \n",
       "1          null       null  s/Validate/Authenticate/g Also thinking of bum...  "
      ]
     },
     "execution_count": 13,
     "metadata": {},
     "output_type": "execute_result"
    }
   ],
   "source": [
    "df2.head(2)"
   ]
  },
  {
   "cell_type": "code",
   "execution_count": 14,
   "metadata": {},
   "outputs": [
    {
     "data": {
      "text/plain": [
       "(63380, 17)"
      ]
     },
     "execution_count": 14,
     "metadata": {},
     "output_type": "execute_result"
    }
   ],
   "source": [
    "df = pd.concat([df1, df2], axis=0, sort=False).sample(frac=1).reset_index(drop=True)\n",
    "df.shape"
   ]
  },
  {
   "cell_type": "code",
   "execution_count": 15,
   "metadata": {},
   "outputs": [
    {
     "data": {
      "text/plain": [
       "(63380, 17)"
      ]
     },
     "execution_count": 15,
     "metadata": {},
     "output_type": "execute_result"
    }
   ],
   "source": [
    "df = df[df['description'] != '']\n",
    "df.shape"
   ]
  },
  {
   "cell_type": "code",
   "execution_count": 16,
   "metadata": {},
   "outputs": [
    {
     "data": {
      "text/html": [
       "<div>\n",
       "<style scoped>\n",
       "    .dataframe tbody tr th:only-of-type {\n",
       "        vertical-align: middle;\n",
       "    }\n",
       "\n",
       "    .dataframe tbody tr th {\n",
       "        vertical-align: top;\n",
       "    }\n",
       "\n",
       "    .dataframe thead th {\n",
       "        text-align: right;\n",
       "    }\n",
       "</style>\n",
       "<table border=\"1\" class=\"dataframe\">\n",
       "  <thead>\n",
       "    <tr style=\"text-align: right;\">\n",
       "      <th></th>\n",
       "      <th>repository</th>\n",
       "      <th>ecosystem</th>\n",
       "      <th>repo_url</th>\n",
       "      <th>package</th>\n",
       "      <th>cause_type</th>\n",
       "      <th>issue_url</th>\n",
       "      <th>issue_date</th>\n",
       "      <th>fixed_url</th>\n",
       "      <th>fixed_date</th>\n",
       "      <th>commit_url</th>\n",
       "      <th>commit_date</th>\n",
       "      <th>identified_url</th>\n",
       "      <th>identified_date</th>\n",
       "      <th>files_changed</th>\n",
       "      <th>flagged_score</th>\n",
       "      <th>flagged_at</th>\n",
       "      <th>description</th>\n",
       "    </tr>\n",
       "  </thead>\n",
       "  <tbody>\n",
       "    <tr>\n",
       "      <th>0</th>\n",
       "      <td>kubernetes/kubernetes</td>\n",
       "      <td>golang</td>\n",
       "      <td>https://github.com/kubernetes/kubernetes</td>\n",
       "      <td>kubernetes/kubernetes</td>\n",
       "      <td>Issue</td>\n",
       "      <td>https://github.com/kubernetes/kubernetes/issue...</td>\n",
       "      <td>2018-09-13 22:03:01</td>\n",
       "      <td>null</td>\n",
       "      <td>null</td>\n",
       "      <td>null</td>\n",
       "      <td>null</td>\n",
       "      <td>https://github.com/kubernetes/kubernetes/issue...</td>\n",
       "      <td>2018-09-13 22:03:01</td>\n",
       "      <td>null</td>\n",
       "      <td>null</td>\n",
       "      <td>null</td>\n",
       "      <td>Improve dependency injection for volume plugin...</td>\n",
       "    </tr>\n",
       "    <tr>\n",
       "      <th>1</th>\n",
       "      <td>kubernetes/kubernetes</td>\n",
       "      <td>golang</td>\n",
       "      <td>https://github.com/kubernetes/kubernetes</td>\n",
       "      <td>kubernetes/kubernetes</td>\n",
       "      <td>Pull Request</td>\n",
       "      <td>null</td>\n",
       "      <td>null</td>\n",
       "      <td>https://github.com/kubernetes/kubernetes/pull/...</td>\n",
       "      <td>2018-08-30 18:12:02</td>\n",
       "      <td>null</td>\n",
       "      <td>null</td>\n",
       "      <td>https://github.com/kubernetes/kubernetes/pull/...</td>\n",
       "      <td>2018-08-30 18:12:02</td>\n",
       "      <td>null</td>\n",
       "      <td>null</td>\n",
       "      <td>null</td>\n",
       "      <td>Enable ImageLocalityPriority by default with i...</td>\n",
       "    </tr>\n",
       "  </tbody>\n",
       "</table>\n",
       "</div>"
      ],
      "text/plain": [
       "              repository ecosystem                                  repo_url  \\\n",
       "0  kubernetes/kubernetes    golang  https://github.com/kubernetes/kubernetes   \n",
       "1  kubernetes/kubernetes    golang  https://github.com/kubernetes/kubernetes   \n",
       "\n",
       "                 package    cause_type  \\\n",
       "0  kubernetes/kubernetes         Issue   \n",
       "1  kubernetes/kubernetes  Pull Request   \n",
       "\n",
       "                                           issue_url           issue_date  \\\n",
       "0  https://github.com/kubernetes/kubernetes/issue...  2018-09-13 22:03:01   \n",
       "1                                               null                 null   \n",
       "\n",
       "                                           fixed_url           fixed_date  \\\n",
       "0                                               null                 null   \n",
       "1  https://github.com/kubernetes/kubernetes/pull/...  2018-08-30 18:12:02   \n",
       "\n",
       "  commit_url commit_date                                     identified_url  \\\n",
       "0       null        null  https://github.com/kubernetes/kubernetes/issue...   \n",
       "1       null        null  https://github.com/kubernetes/kubernetes/pull/...   \n",
       "\n",
       "       identified_date files_changed flagged_score flagged_at  \\\n",
       "0  2018-09-13 22:03:01          null          null       null   \n",
       "1  2018-08-30 18:12:02          null          null       null   \n",
       "\n",
       "                                         description  \n",
       "0  Improve dependency injection for volume plugin...  \n",
       "1  Enable ImageLocalityPriority by default with i...  "
      ]
     },
     "execution_count": 16,
     "metadata": {},
     "output_type": "execute_result"
    }
   ],
   "source": [
    "df.head(2)"
   ]
  },
  {
   "cell_type": "code",
   "execution_count": 17,
   "metadata": {},
   "outputs": [
    {
     "data": {
      "text/plain": [
       "(63380,)"
      ]
     },
     "execution_count": 17,
     "metadata": {},
     "output_type": "execute_result"
    }
   ],
   "source": [
    "data_descriptions = df['description'].values\n",
    "data_descriptions.shape"
   ]
  },
  {
   "cell_type": "code",
   "execution_count": 18,
   "metadata": {},
   "outputs": [],
   "source": [
    "total_docs = len(data_descriptions)\n",
    "data_desc_input = [[idx, doc, total_docs] for idx, doc in enumerate(data_descriptions)]"
   ]
  },
  {
   "cell_type": "code",
   "execution_count": 19,
   "metadata": {},
   "outputs": [
    {
     "name": "stdout",
     "output_type": "stream",
     "text": [
      "preprocessing: starting\n",
      "ThreadPoolExecutor-0_0: working on doc num: 0\n",
      "ThreadPoolExecutor-0_16: working on doc num: 5000\n",
      "ThreadPoolExecutor-0_4: working on doc num: 10000\n",
      "ThreadPoolExecutor-0_13: working on doc num: 15000\n",
      "ThreadPoolExecutor-0_17: working on doc num: 20000\n",
      "ThreadPoolExecutor-0_3: working on doc num: 25000\n",
      "ThreadPoolExecutor-0_11: working on doc num: 30000\n",
      "ThreadPoolExecutor-0_13: working on doc num: 35000\n",
      "ThreadPoolExecutor-0_16: working on doc num: 40000\n",
      "ThreadPoolExecutor-0_13: working on doc num: 45000\n",
      "ThreadPoolExecutor-0_16: working on doc num: 50000\n",
      "ThreadPoolExecutor-0_1: working on doc num: 55000\n",
      "ThreadPoolExecutor-0_6: working on doc num: 60000\n",
      "ThreadPoolExecutor-0_6: working on doc num: 63379\n",
      "CPU times: user 3min 19s, sys: 3.18 s, total: 3min 22s\n",
      "Wall time: 3min 16s\n"
     ]
    }
   ],
   "source": [
    "%%time\n",
    "\n",
    "from utils import text_normalizer as tn\n",
    "from concurrent import futures\n",
    "import threading\n",
    "\n",
    "\n",
    "def parallel_preprocessing(idx, doc, total_docs):\n",
    "    if idx % 5000 == 0 or idx == (total_docs - 1):\n",
    "        print('{}: working on doc num: {}'.format(threading.current_thread().name,\n",
    "                                                  idx)\n",
    "    )\n",
    "    return tn.pre_process_document(doc)\n",
    "\n",
    "\n",
    "ex = futures.ThreadPoolExecutor(max_workers=None)\n",
    "print('preprocessing: starting')\n",
    "norm_descriptions_map = ex.map(parallel_preprocessing, \n",
    "                               [record[0] for record in data_desc_input],\n",
    "                               [record[1] for record in data_desc_input],\n",
    "                               [record[2] for record in data_desc_input])\n",
    "norm_descriptions = list(norm_descriptions_map)"
   ]
  },
  {
   "cell_type": "code",
   "execution_count": 20,
   "metadata": {},
   "outputs": [
    {
     "data": {
      "text/plain": [
       "63380"
      ]
     },
     "execution_count": 20,
     "metadata": {},
     "output_type": "execute_result"
    }
   ],
   "source": [
    "len(norm_descriptions)"
   ]
  },
  {
   "cell_type": "code",
   "execution_count": 21,
   "metadata": {},
   "outputs": [],
   "source": [
    "df['norm_description'] = norm_descriptions"
   ]
  },
  {
   "cell_type": "code",
   "execution_count": 22,
   "metadata": {},
   "outputs": [],
   "source": [
    "df.to_csv('../../../data/os-kube_gh-data-pre-modeling.csv', index=False)"
   ]
  },
  {
   "cell_type": "code",
   "execution_count": 23,
   "metadata": {},
   "outputs": [
    {
     "name": "stdout",
     "output_type": "stream",
     "text": [
      "<class 'pandas.core.frame.DataFrame'>\n",
      "Int64Index: 63380 entries, 0 to 63379\n",
      "Data columns (total 18 columns):\n",
      "repository          63380 non-null object\n",
      "ecosystem           63380 non-null object\n",
      "repo_url            63380 non-null object\n",
      "package             63380 non-null object\n",
      "cause_type          63380 non-null object\n",
      "issue_url           63380 non-null object\n",
      "issue_date          63380 non-null object\n",
      "fixed_url           63380 non-null object\n",
      "fixed_date          63380 non-null object\n",
      "commit_url          63380 non-null object\n",
      "commit_date         63380 non-null object\n",
      "identified_url      63380 non-null object\n",
      "identified_date     63380 non-null object\n",
      "files_changed       63380 non-null object\n",
      "flagged_score       63380 non-null object\n",
      "flagged_at          63380 non-null object\n",
      "description         63380 non-null object\n",
      "norm_description    63380 non-null object\n",
      "dtypes: object(18)\n",
      "memory usage: 9.2+ MB\n"
     ]
    }
   ],
   "source": [
    "df.info()"
   ]
  },
  {
   "cell_type": "code",
   "execution_count": 24,
   "metadata": {},
   "outputs": [
    {
     "name": "stdout",
     "output_type": "stream",
     "text": [
      "<class 'pandas.core.frame.DataFrame'>\n",
      "RangeIndex: 63380 entries, 0 to 63379\n",
      "Data columns (total 18 columns):\n",
      "repository          63380 non-null object\n",
      "ecosystem           63380 non-null object\n",
      "repo_url            63380 non-null object\n",
      "package             63380 non-null object\n",
      "cause_type          63380 non-null object\n",
      "issue_url           63380 non-null object\n",
      "issue_date          63380 non-null object\n",
      "fixed_url           63380 non-null object\n",
      "fixed_date          63380 non-null object\n",
      "commit_url          63380 non-null object\n",
      "commit_date         63380 non-null object\n",
      "identified_url      63380 non-null object\n",
      "identified_date     63380 non-null object\n",
      "files_changed       63380 non-null object\n",
      "flagged_score       63380 non-null object\n",
      "flagged_at          63380 non-null object\n",
      "description         63380 non-null object\n",
      "norm_description    63380 non-null object\n",
      "dtypes: object(18)\n",
      "memory usage: 8.7+ MB\n"
     ]
    }
   ],
   "source": [
    "df = pd.read_csv('../../../data/os-kube_gh-data-pre-modeling.csv', keep_default_na=False)\n",
    "df.info()"
   ]
  },
  {
   "cell_type": "code",
   "execution_count": 25,
   "metadata": {},
   "outputs": [
    {
     "name": "stderr",
     "output_type": "stream",
     "text": [
      "/home/dsarkar/anaconda3/lib/python3.6/site-packages/h5py/__init__.py:36: FutureWarning: Conversion of the second argument of issubdtype from `float` to `np.floating` is deprecated. In future, it will be treated as `np.float64 == np.dtype(float).type`.\n",
      "  from ._conv import register_converters as _register_converters\n",
      "Using TensorFlow backend.\n"
     ]
    },
    {
     "name": "stdout",
     "output_type": "stream",
     "text": [
      "Loading Tokenizer Vocabulary\n",
      "Building Model Architecture\n",
      "Loading Model Weights\n"
     ]
    }
   ],
   "source": [
    "from models import security_dl_classifier as sdc\n",
    "\n",
    "sc = sdc.SecurityClassifier(embedding_size=300, max_length=1000, \n",
    "                                        tokenizer_path='../../../tokenizer_vocab/sec_tokenizer_word2idx.pkl')\n",
    "sc.build_model_architecture()\n",
    "sc.load_model_weights(model_weights_path='../../../models/model1_sec_nonsec_demo_weights2.h5')"
   ]
  },
  {
   "cell_type": "code",
   "execution_count": 26,
   "metadata": {},
   "outputs": [
    {
     "name": "stdout",
     "output_type": "stream",
     "text": [
      "_________________________________________________________________\n",
      "Layer (type)                 Output Shape              Param #   \n",
      "=================================================================\n",
      "input_1 (InputLayer)         (None, 1000)              0         \n",
      "_________________________________________________________________\n",
      "embedding_1 (Embedding)      (None, 1000, 300)         240000000 \n",
      "_________________________________________________________________\n",
      "bidirectional_1 (Bidirection (None, 1000, 64)          64128     \n",
      "_________________________________________________________________\n",
      "attention_layer_1 (Attention (None, 64)                1064      \n",
      "_________________________________________________________________\n",
      "dense_1 (Dense)              (None, 32)                2080      \n",
      "_________________________________________________________________\n",
      "dropout_1 (Dropout)          (None, 32)                0         \n",
      "_________________________________________________________________\n",
      "dense_2 (Dense)              (None, 1)                 33        \n",
      "=================================================================\n",
      "Total params: 240,067,305\n",
      "Trainable params: 240,067,305\n",
      "Non-trainable params: 0\n",
      "_________________________________________________________________\n"
     ]
    }
   ],
   "source": [
    "sc_model = sc.get_model()\n",
    "sc_model.summary()"
   ]
  },
  {
   "cell_type": "code",
   "execution_count": 27,
   "metadata": {},
   "outputs": [
    {
     "data": {
      "text/plain": [
       "(63380, 1000)"
      ]
     },
     "execution_count": 27,
     "metadata": {},
     "output_type": "execute_result"
    }
   ],
   "source": [
    "norm_descriptions = df['norm_description'].tolist()\n",
    "sec_docs = sc.prepare_inference_data(norm_descriptions)\n",
    "sec_docs.shape"
   ]
  },
  {
   "cell_type": "code",
   "execution_count": 28,
   "metadata": {},
   "outputs": [
    {
     "data": {
      "text/html": [
       "<div>\n",
       "<style scoped>\n",
       "    .dataframe tbody tr th:only-of-type {\n",
       "        vertical-align: middle;\n",
       "    }\n",
       "\n",
       "    .dataframe tbody tr th {\n",
       "        vertical-align: top;\n",
       "    }\n",
       "\n",
       "    .dataframe thead th {\n",
       "        text-align: right;\n",
       "    }\n",
       "</style>\n",
       "<table border=\"1\" class=\"dataframe\">\n",
       "  <thead>\n",
       "    <tr style=\"text-align: right;\">\n",
       "      <th></th>\n",
       "      <th>repository</th>\n",
       "      <th>ecosystem</th>\n",
       "      <th>repo_url</th>\n",
       "      <th>package</th>\n",
       "      <th>cause_type</th>\n",
       "      <th>issue_url</th>\n",
       "      <th>issue_date</th>\n",
       "      <th>fixed_url</th>\n",
       "      <th>fixed_date</th>\n",
       "      <th>commit_url</th>\n",
       "      <th>commit_date</th>\n",
       "      <th>identified_url</th>\n",
       "      <th>identified_date</th>\n",
       "      <th>files_changed</th>\n",
       "      <th>flagged_score</th>\n",
       "      <th>flagged_at</th>\n",
       "      <th>description</th>\n",
       "      <th>norm_description</th>\n",
       "    </tr>\n",
       "  </thead>\n",
       "  <tbody>\n",
       "    <tr>\n",
       "      <th>56416</th>\n",
       "      <td>kubernetes/kubernetes</td>\n",
       "      <td>golang</td>\n",
       "      <td>https://github.com/kubernetes/kubernetes</td>\n",
       "      <td>kubernetes/kubernetes</td>\n",
       "      <td>Issue</td>\n",
       "      <td>https://github.com/kubernetes/kubernetes/issue...</td>\n",
       "      <td>2015-11-02 13:50:47</td>\n",
       "      <td>null</td>\n",
       "      <td>null</td>\n",
       "      <td>null</td>\n",
       "      <td>null</td>\n",
       "      <td>https://github.com/kubernetes/kubernetes/issue...</td>\n",
       "      <td>2015-11-02 13:50:47</td>\n",
       "      <td>null</td>\n",
       "      <td>null</td>\n",
       "      <td>null</td>\n",
       "      <td>Cross-namespace privilege escalation attack al...</td>\n",
       "      <td>cross namespace privilege escalation attack al...</td>\n",
       "    </tr>\n",
       "  </tbody>\n",
       "</table>\n",
       "</div>"
      ],
      "text/plain": [
       "                  repository ecosystem  \\\n",
       "56416  kubernetes/kubernetes    golang   \n",
       "\n",
       "                                       repo_url                package  \\\n",
       "56416  https://github.com/kubernetes/kubernetes  kubernetes/kubernetes   \n",
       "\n",
       "      cause_type                                          issue_url  \\\n",
       "56416      Issue  https://github.com/kubernetes/kubernetes/issue...   \n",
       "\n",
       "                issue_date fixed_url fixed_date commit_url commit_date  \\\n",
       "56416  2015-11-02 13:50:47      null       null       null        null   \n",
       "\n",
       "                                          identified_url      identified_date  \\\n",
       "56416  https://github.com/kubernetes/kubernetes/issue...  2015-11-02 13:50:47   \n",
       "\n",
       "      files_changed flagged_score flagged_at  \\\n",
       "56416          null          null       null   \n",
       "\n",
       "                                             description  \\\n",
       "56416  Cross-namespace privilege escalation attack al...   \n",
       "\n",
       "                                        norm_description  \n",
       "56416  cross namespace privilege escalation attack al...  "
      ]
     },
     "execution_count": 28,
     "metadata": {},
     "output_type": "execute_result"
    }
   ],
   "source": [
    "df[df.issue_url == 'https://github.com/kubernetes/kubernetes/issues/16661']"
   ]
  },
  {
   "cell_type": "code",
   "execution_count": 29,
   "metadata": {},
   "outputs": [
    {
     "name": "stdout",
     "output_type": "stream",
     "text": [
      "63380/63380 [==============================] - 924s 15ms/step\n"
     ]
    }
   ],
   "source": [
    "sec_pred_probs = sc_model.predict(sec_docs, batch_size=2048, verbose=1)"
   ]
  },
  {
   "cell_type": "code",
   "execution_count": 30,
   "metadata": {},
   "outputs": [
    {
     "data": {
      "text/plain": [
       "array([[9.9999988e-01],\n",
       "       [3.6337107e-04],\n",
       "       [2.5354262e-04],\n",
       "       ...,\n",
       "       [3.6346515e-05],\n",
       "       [1.7709865e-05],\n",
       "       [2.1621367e-05]], dtype=float32)"
      ]
     },
     "execution_count": 30,
     "metadata": {},
     "output_type": "execute_result"
    }
   ],
   "source": [
    "sec_pred_probs"
   ]
  },
  {
   "cell_type": "code",
   "execution_count": 31,
   "metadata": {},
   "outputs": [],
   "source": [
    "sec_pred_probsr = sec_pred_probs.ravel()\n",
    "sec_pred_labels = [1 if prob > 0.35 else 0 for prob in sec_pred_probsr]"
   ]
  },
  {
   "cell_type": "code",
   "execution_count": 33,
   "metadata": {},
   "outputs": [
    {
     "data": {
      "text/plain": [
       "0.9999994"
      ]
     },
     "execution_count": 33,
     "metadata": {},
     "output_type": "execute_result"
    }
   ],
   "source": [
    "sec_pred_probsr[56416]"
   ]
  },
  {
   "cell_type": "code",
   "execution_count": 34,
   "metadata": {},
   "outputs": [
    {
     "data": {
      "text/plain": [
       "(9322, 18)"
      ]
     },
     "execution_count": 34,
     "metadata": {},
     "output_type": "execute_result"
    }
   ],
   "source": [
    "sec_idx = np.nonzero(sec_pred_labels)\n",
    "sec_df = df.iloc[sec_idx]\n",
    "sec_df.shape"
   ]
  },
  {
   "cell_type": "code",
   "execution_count": 35,
   "metadata": {},
   "outputs": [
    {
     "data": {
      "text/html": [
       "<div>\n",
       "<style scoped>\n",
       "    .dataframe tbody tr th:only-of-type {\n",
       "        vertical-align: middle;\n",
       "    }\n",
       "\n",
       "    .dataframe tbody tr th {\n",
       "        vertical-align: top;\n",
       "    }\n",
       "\n",
       "    .dataframe thead th {\n",
       "        text-align: right;\n",
       "    }\n",
       "</style>\n",
       "<table border=\"1\" class=\"dataframe\">\n",
       "  <thead>\n",
       "    <tr style=\"text-align: right;\">\n",
       "      <th></th>\n",
       "      <th>repository</th>\n",
       "      <th>ecosystem</th>\n",
       "      <th>repo_url</th>\n",
       "      <th>package</th>\n",
       "      <th>cause_type</th>\n",
       "      <th>issue_url</th>\n",
       "      <th>issue_date</th>\n",
       "      <th>fixed_url</th>\n",
       "      <th>fixed_date</th>\n",
       "      <th>commit_url</th>\n",
       "      <th>commit_date</th>\n",
       "      <th>identified_url</th>\n",
       "      <th>identified_date</th>\n",
       "      <th>files_changed</th>\n",
       "      <th>flagged_score</th>\n",
       "      <th>flagged_at</th>\n",
       "      <th>description</th>\n",
       "      <th>norm_description</th>\n",
       "    </tr>\n",
       "  </thead>\n",
       "  <tbody>\n",
       "    <tr>\n",
       "      <th>0</th>\n",
       "      <td>kubernetes/kubernetes</td>\n",
       "      <td>golang</td>\n",
       "      <td>https://github.com/kubernetes/kubernetes</td>\n",
       "      <td>kubernetes/kubernetes</td>\n",
       "      <td>Issue</td>\n",
       "      <td>https://github.com/kubernetes/kubernetes/issue...</td>\n",
       "      <td>2018-09-13 22:03:01</td>\n",
       "      <td>null</td>\n",
       "      <td>null</td>\n",
       "      <td>null</td>\n",
       "      <td>null</td>\n",
       "      <td>https://github.com/kubernetes/kubernetes/issue...</td>\n",
       "      <td>2018-09-13 22:03:01</td>\n",
       "      <td>null</td>\n",
       "      <td>null</td>\n",
       "      <td>null</td>\n",
       "      <td>Improve dependency injection for volume plugin...</td>\n",
       "      <td>improve dependency injection for volume plugin...</td>\n",
       "    </tr>\n",
       "    <tr>\n",
       "      <th>8</th>\n",
       "      <td>cockroachdb/cockroach</td>\n",
       "      <td>golang</td>\n",
       "      <td>https://github.com/cockroachdb/cockroach</td>\n",
       "      <td>cockroachdb/cockroach</td>\n",
       "      <td>Issue</td>\n",
       "      <td>https://github.com/cockroachdb/cockroach/issue...</td>\n",
       "      <td>2017-11-03 17:16:21</td>\n",
       "      <td>null</td>\n",
       "      <td>null</td>\n",
       "      <td>null</td>\n",
       "      <td>null</td>\n",
       "      <td>https://github.com/cockroachdb/cockroach/issue...</td>\n",
       "      <td>2017-11-03 17:16:21</td>\n",
       "      <td>null</td>\n",
       "      <td>null</td>\n",
       "      <td>null</td>\n",
       "      <td>sql_safe_updates documentation is incorrect **...</td>\n",
       "      <td>sql safe updates documentation is incorrect bu...</td>\n",
       "    </tr>\n",
       "    <tr>\n",
       "      <th>16</th>\n",
       "      <td>cockroachdb/cockroach</td>\n",
       "      <td>golang</td>\n",
       "      <td>https://github.com/cockroachdb/cockroach</td>\n",
       "      <td>cockroachdb/cockroach</td>\n",
       "      <td>Pull Request</td>\n",
       "      <td>null</td>\n",
       "      <td>null</td>\n",
       "      <td>https://github.com/cockroachdb/cockroach/pull/...</td>\n",
       "      <td>2016-07-13 12:22:59</td>\n",
       "      <td>null</td>\n",
       "      <td>null</td>\n",
       "      <td>https://github.com/cockroachdb/cockroach/pull/...</td>\n",
       "      <td>2016-07-13 12:22:59</td>\n",
       "      <td>null</td>\n",
       "      <td>null</td>\n",
       "      <td>null</td>\n",
       "      <td>storage: avoid opportunity for deadlock in tes...</td>\n",
       "      <td>storage avoid opportunity for deadlock in test...</td>\n",
       "    </tr>\n",
       "    <tr>\n",
       "      <th>20</th>\n",
       "      <td>golang/go</td>\n",
       "      <td>golang</td>\n",
       "      <td>https://github.com/golang/go</td>\n",
       "      <td>golang/go</td>\n",
       "      <td>Issue</td>\n",
       "      <td>https://github.com/golang/go/issues/30510</td>\n",
       "      <td>2019-03-01 15:14:00</td>\n",
       "      <td>null</td>\n",
       "      <td>null</td>\n",
       "      <td>null</td>\n",
       "      <td>null</td>\n",
       "      <td>https://github.com/golang/go/issues/30510</td>\n",
       "      <td>2019-03-01 15:14:00</td>\n",
       "      <td>null</td>\n",
       "      <td>null</td>\n",
       "      <td>null</td>\n",
       "      <td>Please document error behavior for crypto.Sign...</td>\n",
       "      <td>please document error behavior for crypto sign...</td>\n",
       "    </tr>\n",
       "    <tr>\n",
       "      <th>23</th>\n",
       "      <td>prometheus/prometheus</td>\n",
       "      <td>golang</td>\n",
       "      <td>https://github.com/prometheus/prometheus</td>\n",
       "      <td>prometheus/prometheus</td>\n",
       "      <td>Pull Request</td>\n",
       "      <td>null</td>\n",
       "      <td>null</td>\n",
       "      <td>https://github.com/prometheus/prometheus/pull/...</td>\n",
       "      <td>2018-07-24 22:49:50</td>\n",
       "      <td>null</td>\n",
       "      <td>null</td>\n",
       "      <td>https://github.com/prometheus/prometheus/pull/...</td>\n",
       "      <td>2018-07-24 22:49:50</td>\n",
       "      <td>null</td>\n",
       "      <td>null</td>\n",
       "      <td>null</td>\n",
       "      <td>Pass Authorization header to RR backend Using ...</td>\n",
       "      <td>pass authorization header to rr backend using ...</td>\n",
       "    </tr>\n",
       "  </tbody>\n",
       "</table>\n",
       "</div>"
      ],
      "text/plain": [
       "               repository ecosystem                                  repo_url  \\\n",
       "0   kubernetes/kubernetes    golang  https://github.com/kubernetes/kubernetes   \n",
       "8   cockroachdb/cockroach    golang  https://github.com/cockroachdb/cockroach   \n",
       "16  cockroachdb/cockroach    golang  https://github.com/cockroachdb/cockroach   \n",
       "20              golang/go    golang              https://github.com/golang/go   \n",
       "23  prometheus/prometheus    golang  https://github.com/prometheus/prometheus   \n",
       "\n",
       "                  package    cause_type  \\\n",
       "0   kubernetes/kubernetes         Issue   \n",
       "8   cockroachdb/cockroach         Issue   \n",
       "16  cockroachdb/cockroach  Pull Request   \n",
       "20              golang/go         Issue   \n",
       "23  prometheus/prometheus  Pull Request   \n",
       "\n",
       "                                            issue_url           issue_date  \\\n",
       "0   https://github.com/kubernetes/kubernetes/issue...  2018-09-13 22:03:01   \n",
       "8   https://github.com/cockroachdb/cockroach/issue...  2017-11-03 17:16:21   \n",
       "16                                               null                 null   \n",
       "20          https://github.com/golang/go/issues/30510  2019-03-01 15:14:00   \n",
       "23                                               null                 null   \n",
       "\n",
       "                                            fixed_url           fixed_date  \\\n",
       "0                                                null                 null   \n",
       "8                                                null                 null   \n",
       "16  https://github.com/cockroachdb/cockroach/pull/...  2016-07-13 12:22:59   \n",
       "20                                               null                 null   \n",
       "23  https://github.com/prometheus/prometheus/pull/...  2018-07-24 22:49:50   \n",
       "\n",
       "   commit_url commit_date                                     identified_url  \\\n",
       "0        null        null  https://github.com/kubernetes/kubernetes/issue...   \n",
       "8        null        null  https://github.com/cockroachdb/cockroach/issue...   \n",
       "16       null        null  https://github.com/cockroachdb/cockroach/pull/...   \n",
       "20       null        null          https://github.com/golang/go/issues/30510   \n",
       "23       null        null  https://github.com/prometheus/prometheus/pull/...   \n",
       "\n",
       "        identified_date files_changed flagged_score flagged_at  \\\n",
       "0   2018-09-13 22:03:01          null          null       null   \n",
       "8   2017-11-03 17:16:21          null          null       null   \n",
       "16  2016-07-13 12:22:59          null          null       null   \n",
       "20  2019-03-01 15:14:00          null          null       null   \n",
       "23  2018-07-24 22:49:50          null          null       null   \n",
       "\n",
       "                                          description  \\\n",
       "0   Improve dependency injection for volume plugin...   \n",
       "8   sql_safe_updates documentation is incorrect **...   \n",
       "16  storage: avoid opportunity for deadlock in tes...   \n",
       "20  Please document error behavior for crypto.Sign...   \n",
       "23  Pass Authorization header to RR backend Using ...   \n",
       "\n",
       "                                     norm_description  \n",
       "0   improve dependency injection for volume plugin...  \n",
       "8   sql safe updates documentation is incorrect bu...  \n",
       "16  storage avoid opportunity for deadlock in test...  \n",
       "20  please document error behavior for crypto sign...  \n",
       "23  pass authorization header to rr backend using ...  "
      ]
     },
     "execution_count": 35,
     "metadata": {},
     "output_type": "execute_result"
    }
   ],
   "source": [
    "sec_df.head()"
   ]
  },
  {
   "cell_type": "code",
   "execution_count": 36,
   "metadata": {},
   "outputs": [
    {
     "data": {
      "text/html": [
       "<div>\n",
       "<style scoped>\n",
       "    .dataframe tbody tr th:only-of-type {\n",
       "        vertical-align: middle;\n",
       "    }\n",
       "\n",
       "    .dataframe tbody tr th {\n",
       "        vertical-align: top;\n",
       "    }\n",
       "\n",
       "    .dataframe thead th {\n",
       "        text-align: right;\n",
       "    }\n",
       "</style>\n",
       "<table border=\"1\" class=\"dataframe\">\n",
       "  <thead>\n",
       "    <tr style=\"text-align: right;\">\n",
       "      <th></th>\n",
       "      <th>repository</th>\n",
       "      <th>ecosystem</th>\n",
       "      <th>repo_url</th>\n",
       "      <th>package</th>\n",
       "      <th>cause_type</th>\n",
       "      <th>issue_url</th>\n",
       "      <th>issue_date</th>\n",
       "      <th>fixed_url</th>\n",
       "      <th>fixed_date</th>\n",
       "      <th>commit_url</th>\n",
       "      <th>commit_date</th>\n",
       "      <th>identified_url</th>\n",
       "      <th>identified_date</th>\n",
       "      <th>files_changed</th>\n",
       "      <th>flagged_score</th>\n",
       "      <th>flagged_at</th>\n",
       "      <th>description</th>\n",
       "      <th>norm_description</th>\n",
       "    </tr>\n",
       "  </thead>\n",
       "  <tbody>\n",
       "    <tr>\n",
       "      <th>56416</th>\n",
       "      <td>kubernetes/kubernetes</td>\n",
       "      <td>golang</td>\n",
       "      <td>https://github.com/kubernetes/kubernetes</td>\n",
       "      <td>kubernetes/kubernetes</td>\n",
       "      <td>Issue</td>\n",
       "      <td>https://github.com/kubernetes/kubernetes/issue...</td>\n",
       "      <td>2015-11-02 13:50:47</td>\n",
       "      <td>null</td>\n",
       "      <td>null</td>\n",
       "      <td>null</td>\n",
       "      <td>null</td>\n",
       "      <td>https://github.com/kubernetes/kubernetes/issue...</td>\n",
       "      <td>2015-11-02 13:50:47</td>\n",
       "      <td>null</td>\n",
       "      <td>null</td>\n",
       "      <td>null</td>\n",
       "      <td>Cross-namespace privilege escalation attack al...</td>\n",
       "      <td>cross namespace privilege escalation attack al...</td>\n",
       "    </tr>\n",
       "  </tbody>\n",
       "</table>\n",
       "</div>"
      ],
      "text/plain": [
       "                  repository ecosystem  \\\n",
       "56416  kubernetes/kubernetes    golang   \n",
       "\n",
       "                                       repo_url                package  \\\n",
       "56416  https://github.com/kubernetes/kubernetes  kubernetes/kubernetes   \n",
       "\n",
       "      cause_type                                          issue_url  \\\n",
       "56416      Issue  https://github.com/kubernetes/kubernetes/issue...   \n",
       "\n",
       "                issue_date fixed_url fixed_date commit_url commit_date  \\\n",
       "56416  2015-11-02 13:50:47      null       null       null        null   \n",
       "\n",
       "                                          identified_url      identified_date  \\\n",
       "56416  https://github.com/kubernetes/kubernetes/issue...  2015-11-02 13:50:47   \n",
       "\n",
       "      files_changed flagged_score flagged_at  \\\n",
       "56416          null          null       null   \n",
       "\n",
       "                                             description  \\\n",
       "56416  Cross-namespace privilege escalation attack al...   \n",
       "\n",
       "                                        norm_description  \n",
       "56416  cross namespace privilege escalation attack al...  "
      ]
     },
     "execution_count": 36,
     "metadata": {},
     "output_type": "execute_result"
    }
   ],
   "source": [
    "sec_df[sec_df.issue_url == 'https://github.com/kubernetes/kubernetes/issues/16661']"
   ]
  },
  {
   "cell_type": "code",
   "execution_count": 37,
   "metadata": {},
   "outputs": [],
   "source": [
    "sec_df.to_csv('../../../data/os-kube_gh-data-sec-data.csv', index=False)"
   ]
  },
  {
   "cell_type": "code",
   "execution_count": 38,
   "metadata": {},
   "outputs": [
    {
     "data": {
      "text/plain": [
       "78"
      ]
     },
     "execution_count": 38,
     "metadata": {},
     "output_type": "execute_result"
    }
   ],
   "source": [
    "del sc\n",
    "del sc_model\n",
    "gc.collect()"
   ]
  },
  {
   "cell_type": "code",
   "execution_count": null,
   "metadata": {},
   "outputs": [],
   "source": []
  },
  {
   "cell_type": "code",
   "execution_count": 39,
   "metadata": {},
   "outputs": [
    {
     "name": "stdout",
     "output_type": "stream",
     "text": [
      "Loading Tokenizer Vocabulary\n",
      "Building Model Architecture\n",
      "Loading Model Weights\n"
     ]
    }
   ],
   "source": [
    "from models import cve_dl_classifier as cdc\n",
    "\n",
    "cc = cdc.CVEClassifier(embedding_size=300, max_length=1000, \n",
    "                                        tokenizer_path='../../../tokenizer_vocab/cve_tokenizer_word2idx.pkl')\n",
    "cc.build_model_architecture()\n",
    "cc.load_model_weights(model_weights_path='../../../models/model2_cve_noncve_demo_weights.h5')"
   ]
  },
  {
   "cell_type": "code",
   "execution_count": 40,
   "metadata": {},
   "outputs": [
    {
     "name": "stdout",
     "output_type": "stream",
     "text": [
      "_________________________________________________________________\n",
      "Layer (type)                 Output Shape              Param #   \n",
      "=================================================================\n",
      "input_2 (InputLayer)         (None, 1000)              0         \n",
      "_________________________________________________________________\n",
      "embedding_2 (Embedding)      (None, 1000, 300)         167100600 \n",
      "_________________________________________________________________\n",
      "bidirectional_2 (Bidirection (None, 1000, 128)         140544    \n",
      "_________________________________________________________________\n",
      "bidirectional_3 (Bidirection (None, 1000, 64)          31104     \n",
      "_________________________________________________________________\n",
      "attention_layer_2 (Attention (None, 64)                1064      \n",
      "_________________________________________________________________\n",
      "dense_3 (Dense)              (None, 32)                2080      \n",
      "_________________________________________________________________\n",
      "dropout_2 (Dropout)          (None, 32)                0         \n",
      "_________________________________________________________________\n",
      "dense_4 (Dense)              (None, 16)                528       \n",
      "_________________________________________________________________\n",
      "dropout_3 (Dropout)          (None, 16)                0         \n",
      "_________________________________________________________________\n",
      "dense_5 (Dense)              (None, 1)                 17        \n",
      "=================================================================\n",
      "Total params: 167,275,937\n",
      "Trainable params: 167,275,937\n",
      "Non-trainable params: 0\n",
      "_________________________________________________________________\n"
     ]
    }
   ],
   "source": [
    "cc_model = cc.get_model()\n",
    "cc_model.summary()"
   ]
  },
  {
   "cell_type": "code",
   "execution_count": 41,
   "metadata": {},
   "outputs": [
    {
     "data": {
      "text/plain": [
       "(9322, 1000)"
      ]
     },
     "execution_count": 41,
     "metadata": {},
     "output_type": "execute_result"
    }
   ],
   "source": [
    "cve_norm_descriptions = sec_df['norm_description'].tolist()\n",
    "cve_docs = cc.prepare_inference_data(cve_norm_descriptions)\n",
    "cve_docs.shape"
   ]
  },
  {
   "cell_type": "code",
   "execution_count": 42,
   "metadata": {},
   "outputs": [
    {
     "data": {
      "text/plain": [
       "(9004, 1000)"
      ]
     },
     "execution_count": 42,
     "metadata": {},
     "output_type": "execute_result"
    }
   ],
   "source": [
    "cve_doc_lengths = np.array([len(np.nonzero(item)[0]) for item in cve_docs])\n",
    "cve_docs_to_predict_idx = np.argwhere(cve_doc_lengths >= 10).ravel()\n",
    "cve_df = sec_df.iloc[cve_docs_to_predict_idx].copy(deep=True).reset_index(drop=True)\n",
    "cve_norm_descriptions = cve_df['norm_description'].tolist()\n",
    "cve_docs = cc.prepare_inference_data(cve_norm_descriptions)\n",
    "cve_docs.shape\n",
    "#cve_docs_to_predict = cve_docs[cve_docs_to_predict_idx]\n",
    "#cve_docs_to_predict.shape"
   ]
  },
  {
   "cell_type": "code",
   "execution_count": 43,
   "metadata": {},
   "outputs": [
    {
     "data": {
      "text/html": [
       "<div>\n",
       "<style scoped>\n",
       "    .dataframe tbody tr th:only-of-type {\n",
       "        vertical-align: middle;\n",
       "    }\n",
       "\n",
       "    .dataframe tbody tr th {\n",
       "        vertical-align: top;\n",
       "    }\n",
       "\n",
       "    .dataframe thead th {\n",
       "        text-align: right;\n",
       "    }\n",
       "</style>\n",
       "<table border=\"1\" class=\"dataframe\">\n",
       "  <thead>\n",
       "    <tr style=\"text-align: right;\">\n",
       "      <th></th>\n",
       "      <th>repository</th>\n",
       "      <th>ecosystem</th>\n",
       "      <th>repo_url</th>\n",
       "      <th>package</th>\n",
       "      <th>cause_type</th>\n",
       "      <th>issue_url</th>\n",
       "      <th>issue_date</th>\n",
       "      <th>fixed_url</th>\n",
       "      <th>fixed_date</th>\n",
       "      <th>commit_url</th>\n",
       "      <th>commit_date</th>\n",
       "      <th>identified_url</th>\n",
       "      <th>identified_date</th>\n",
       "      <th>files_changed</th>\n",
       "      <th>flagged_score</th>\n",
       "      <th>flagged_at</th>\n",
       "      <th>description</th>\n",
       "      <th>norm_description</th>\n",
       "    </tr>\n",
       "  </thead>\n",
       "  <tbody>\n",
       "    <tr>\n",
       "      <th>7993</th>\n",
       "      <td>kubernetes/kubernetes</td>\n",
       "      <td>golang</td>\n",
       "      <td>https://github.com/kubernetes/kubernetes</td>\n",
       "      <td>kubernetes/kubernetes</td>\n",
       "      <td>Issue</td>\n",
       "      <td>https://github.com/kubernetes/kubernetes/issue...</td>\n",
       "      <td>2015-11-02 13:50:47</td>\n",
       "      <td>null</td>\n",
       "      <td>null</td>\n",
       "      <td>null</td>\n",
       "      <td>null</td>\n",
       "      <td>https://github.com/kubernetes/kubernetes/issue...</td>\n",
       "      <td>2015-11-02 13:50:47</td>\n",
       "      <td>null</td>\n",
       "      <td>null</td>\n",
       "      <td>null</td>\n",
       "      <td>Cross-namespace privilege escalation attack al...</td>\n",
       "      <td>cross namespace privilege escalation attack al...</td>\n",
       "    </tr>\n",
       "  </tbody>\n",
       "</table>\n",
       "</div>"
      ],
      "text/plain": [
       "                 repository ecosystem  \\\n",
       "7993  kubernetes/kubernetes    golang   \n",
       "\n",
       "                                      repo_url                package  \\\n",
       "7993  https://github.com/kubernetes/kubernetes  kubernetes/kubernetes   \n",
       "\n",
       "     cause_type                                          issue_url  \\\n",
       "7993      Issue  https://github.com/kubernetes/kubernetes/issue...   \n",
       "\n",
       "               issue_date fixed_url fixed_date commit_url commit_date  \\\n",
       "7993  2015-11-02 13:50:47      null       null       null        null   \n",
       "\n",
       "                                         identified_url      identified_date  \\\n",
       "7993  https://github.com/kubernetes/kubernetes/issue...  2015-11-02 13:50:47   \n",
       "\n",
       "     files_changed flagged_score flagged_at  \\\n",
       "7993          null          null       null   \n",
       "\n",
       "                                            description  \\\n",
       "7993  Cross-namespace privilege escalation attack al...   \n",
       "\n",
       "                                       norm_description  \n",
       "7993  cross namespace privilege escalation attack al...  "
      ]
     },
     "execution_count": 43,
     "metadata": {},
     "output_type": "execute_result"
    }
   ],
   "source": [
    "cve_df[cve_df.issue_url == 'https://github.com/kubernetes/kubernetes/issues/16661']"
   ]
  },
  {
   "cell_type": "code",
   "execution_count": 44,
   "metadata": {},
   "outputs": [
    {
     "name": "stdout",
     "output_type": "stream",
     "text": [
      "9004/9004 [==============================] - 199s 22ms/step\n"
     ]
    }
   ],
   "source": [
    "cve_pred_probs = cc_model.predict(cve_docs, batch_size=2048, verbose=1)"
   ]
  },
  {
   "cell_type": "code",
   "execution_count": 45,
   "metadata": {},
   "outputs": [
    {
     "data": {
      "text/plain": [
       "array([[1.5856219e-06],\n",
       "       [1.1159707e-05],\n",
       "       [1.3632773e-04],\n",
       "       ...,\n",
       "       [1.3152344e-06],\n",
       "       [4.4641849e-05],\n",
       "       [8.9498913e-05]], dtype=float32)"
      ]
     },
     "execution_count": 45,
     "metadata": {},
     "output_type": "execute_result"
    }
   ],
   "source": [
    "cve_pred_probs"
   ]
  },
  {
   "cell_type": "code",
   "execution_count": 46,
   "metadata": {},
   "outputs": [],
   "source": [
    "cve_pred_probsr = cve_pred_probs.ravel()\n",
    "cve_pred_labels = [1 if prob > 0.01 else 0 for prob in cve_pred_probsr]"
   ]
  },
  {
   "cell_type": "code",
   "execution_count": 47,
   "metadata": {},
   "outputs": [],
   "source": [
    "cve_idx = np.nonzero(cve_pred_labels)\n",
    "cve_df = cve_df.iloc[cve_idx].copy(deep=True)\n",
    "conf_scores = cve_pred_probsr[cve_idx]\n",
    "cve_df['flagged_score'] = conf_scores"
   ]
  },
  {
   "cell_type": "code",
   "execution_count": 48,
   "metadata": {},
   "outputs": [],
   "source": [
    "import arrow\n",
    "\n",
    "now = arrow.now()\n",
    "now = now.format('YYYY-MM-DD HH:mm:ss')\n",
    "cve_df['flagged_at'] = now"
   ]
  },
  {
   "cell_type": "code",
   "execution_count": 49,
   "metadata": {},
   "outputs": [
    {
     "data": {
      "text/html": [
       "<div>\n",
       "<style scoped>\n",
       "    .dataframe tbody tr th:only-of-type {\n",
       "        vertical-align: middle;\n",
       "    }\n",
       "\n",
       "    .dataframe tbody tr th {\n",
       "        vertical-align: top;\n",
       "    }\n",
       "\n",
       "    .dataframe thead th {\n",
       "        text-align: right;\n",
       "    }\n",
       "</style>\n",
       "<table border=\"1\" class=\"dataframe\">\n",
       "  <thead>\n",
       "    <tr style=\"text-align: right;\">\n",
       "      <th></th>\n",
       "      <th>repository</th>\n",
       "      <th>ecosystem</th>\n",
       "      <th>repo_url</th>\n",
       "      <th>package</th>\n",
       "      <th>cause_type</th>\n",
       "      <th>issue_url</th>\n",
       "      <th>issue_date</th>\n",
       "      <th>fixed_url</th>\n",
       "      <th>fixed_date</th>\n",
       "      <th>commit_url</th>\n",
       "      <th>commit_date</th>\n",
       "      <th>identified_url</th>\n",
       "      <th>identified_date</th>\n",
       "      <th>files_changed</th>\n",
       "      <th>flagged_score</th>\n",
       "      <th>flagged_at</th>\n",
       "      <th>description</th>\n",
       "      <th>norm_description</th>\n",
       "    </tr>\n",
       "  </thead>\n",
       "  <tbody>\n",
       "    <tr>\n",
       "      <th>31</th>\n",
       "      <td>golang/go</td>\n",
       "      <td>golang</td>\n",
       "      <td>https://github.com/golang/go</td>\n",
       "      <td>golang/go</td>\n",
       "      <td>Issue</td>\n",
       "      <td>https://github.com/golang/go/issues/23673</td>\n",
       "      <td>2018-02-02 21:36:48</td>\n",
       "      <td>null</td>\n",
       "      <td>null</td>\n",
       "      <td>null</td>\n",
       "      <td>null</td>\n",
       "      <td>https://github.com/golang/go/issues/23673</td>\n",
       "      <td>2018-02-02 21:36:48</td>\n",
       "      <td>null</td>\n",
       "      <td>0.999182</td>\n",
       "      <td>2019-03-12 11:44:13</td>\n",
       "      <td>security: issue [Go 1.9] Placeholder issue for...</td>\n",
       "      <td>security issue go placeholder issue for becaus...</td>\n",
       "    </tr>\n",
       "    <tr>\n",
       "      <th>98</th>\n",
       "      <td>gorilla/websocket</td>\n",
       "      <td>golang</td>\n",
       "      <td>https://github.com/gorilla/websocket</td>\n",
       "      <td>gorilla/websocket</td>\n",
       "      <td>Pull Request</td>\n",
       "      <td>null</td>\n",
       "      <td>null</td>\n",
       "      <td>https://github.com/gorilla/websocket/pull/94</td>\n",
       "      <td>2015-11-01 16:40:54</td>\n",
       "      <td>null</td>\n",
       "      <td>null</td>\n",
       "      <td>https://github.com/gorilla/websocket/pull/94</td>\n",
       "      <td>2015-11-01 16:40:54</td>\n",
       "      <td>null</td>\n",
       "      <td>0.695237</td>\n",
       "      <td>2019-03-12 11:44:13</td>\n",
       "      <td>Allow cross-origin requests for example For th...</td>\n",
       "      <td>allow cross origin requests for example for th...</td>\n",
       "    </tr>\n",
       "    <tr>\n",
       "      <th>136</th>\n",
       "      <td>kubernetes-sigs/cluster-api</td>\n",
       "      <td>golang</td>\n",
       "      <td>https://github.com/kubernetes-sigs/cluster-api</td>\n",
       "      <td>kubernetes-sigs/cluster-api</td>\n",
       "      <td>Pull Request</td>\n",
       "      <td>null</td>\n",
       "      <td>null</td>\n",
       "      <td>https://github.com/kubernetes-sigs/cluster-api...</td>\n",
       "      <td>2019-01-24 04:12:18</td>\n",
       "      <td>null</td>\n",
       "      <td>null</td>\n",
       "      <td>https://github.com/kubernetes-sigs/cluster-api...</td>\n",
       "      <td>2019-01-24 04:12:18</td>\n",
       "      <td>null</td>\n",
       "      <td>0.377671</td>\n",
       "      <td>2019-03-12 11:44:13</td>\n",
       "      <td>use latest security patch release of golang La...</td>\n",
       "      <td>use latest security patch release of golang la...</td>\n",
       "    </tr>\n",
       "    <tr>\n",
       "      <th>222</th>\n",
       "      <td>openshift/origin</td>\n",
       "      <td>golang</td>\n",
       "      <td>https://github.com/openshift/origin</td>\n",
       "      <td>openshift/origin</td>\n",
       "      <td>Pull Request</td>\n",
       "      <td>null</td>\n",
       "      <td>null</td>\n",
       "      <td>https://github.com/openshift/origin/pull/11408</td>\n",
       "      <td>2016-10-18 08:41:37</td>\n",
       "      <td>null</td>\n",
       "      <td>null</td>\n",
       "      <td>https://github.com/openshift/origin/pull/11408</td>\n",
       "      <td>2016-10-18 08:41:37</td>\n",
       "      <td>null</td>\n",
       "      <td>0.026786</td>\n",
       "      <td>2019-03-12 11:44:13</td>\n",
       "      <td>Fix an imperfect if statement The tag number i...</td>\n",
       "      <td>fix an imperfect if statement the tag number i...</td>\n",
       "    </tr>\n",
       "    <tr>\n",
       "      <th>223</th>\n",
       "      <td>gorilla/mux</td>\n",
       "      <td>golang</td>\n",
       "      <td>https://github.com/gorilla/mux</td>\n",
       "      <td>gorilla/mux</td>\n",
       "      <td>Issue</td>\n",
       "      <td>https://github.com/gorilla/mux/issues/2</td>\n",
       "      <td>2012-10-05 13:25:48</td>\n",
       "      <td>null</td>\n",
       "      <td>null</td>\n",
       "      <td>null</td>\n",
       "      <td>null</td>\n",
       "      <td>https://github.com/gorilla/mux/issues/2</td>\n",
       "      <td>2012-10-05 13:25:48</td>\n",
       "      <td>null</td>\n",
       "      <td>0.149246</td>\n",
       "      <td>2019-03-12 11:44:13</td>\n",
       "      <td>Host() with a port fails to match when the hos...</td>\n",
       "      <td>host with a port fails to match when the host ...</td>\n",
       "    </tr>\n",
       "  </tbody>\n",
       "</table>\n",
       "</div>"
      ],
      "text/plain": [
       "                      repository ecosystem  \\\n",
       "31                     golang/go    golang   \n",
       "98             gorilla/websocket    golang   \n",
       "136  kubernetes-sigs/cluster-api    golang   \n",
       "222             openshift/origin    golang   \n",
       "223                  gorilla/mux    golang   \n",
       "\n",
       "                                           repo_url  \\\n",
       "31                     https://github.com/golang/go   \n",
       "98             https://github.com/gorilla/websocket   \n",
       "136  https://github.com/kubernetes-sigs/cluster-api   \n",
       "222             https://github.com/openshift/origin   \n",
       "223                  https://github.com/gorilla/mux   \n",
       "\n",
       "                         package    cause_type  \\\n",
       "31                     golang/go         Issue   \n",
       "98             gorilla/websocket  Pull Request   \n",
       "136  kubernetes-sigs/cluster-api  Pull Request   \n",
       "222             openshift/origin  Pull Request   \n",
       "223                  gorilla/mux         Issue   \n",
       "\n",
       "                                     issue_url           issue_date  \\\n",
       "31   https://github.com/golang/go/issues/23673  2018-02-02 21:36:48   \n",
       "98                                        null                 null   \n",
       "136                                       null                 null   \n",
       "222                                       null                 null   \n",
       "223    https://github.com/gorilla/mux/issues/2  2012-10-05 13:25:48   \n",
       "\n",
       "                                             fixed_url           fixed_date  \\\n",
       "31                                                null                 null   \n",
       "98        https://github.com/gorilla/websocket/pull/94  2015-11-01 16:40:54   \n",
       "136  https://github.com/kubernetes-sigs/cluster-api...  2019-01-24 04:12:18   \n",
       "222     https://github.com/openshift/origin/pull/11408  2016-10-18 08:41:37   \n",
       "223                                               null                 null   \n",
       "\n",
       "    commit_url commit_date                                     identified_url  \\\n",
       "31        null        null          https://github.com/golang/go/issues/23673   \n",
       "98        null        null       https://github.com/gorilla/websocket/pull/94   \n",
       "136       null        null  https://github.com/kubernetes-sigs/cluster-api...   \n",
       "222       null        null     https://github.com/openshift/origin/pull/11408   \n",
       "223       null        null            https://github.com/gorilla/mux/issues/2   \n",
       "\n",
       "         identified_date files_changed  flagged_score           flagged_at  \\\n",
       "31   2018-02-02 21:36:48          null       0.999182  2019-03-12 11:44:13   \n",
       "98   2015-11-01 16:40:54          null       0.695237  2019-03-12 11:44:13   \n",
       "136  2019-01-24 04:12:18          null       0.377671  2019-03-12 11:44:13   \n",
       "222  2016-10-18 08:41:37          null       0.026786  2019-03-12 11:44:13   \n",
       "223  2012-10-05 13:25:48          null       0.149246  2019-03-12 11:44:13   \n",
       "\n",
       "                                           description  \\\n",
       "31   security: issue [Go 1.9] Placeholder issue for...   \n",
       "98   Allow cross-origin requests for example For th...   \n",
       "136  use latest security patch release of golang La...   \n",
       "222  Fix an imperfect if statement The tag number i...   \n",
       "223  Host() with a port fails to match when the hos...   \n",
       "\n",
       "                                      norm_description  \n",
       "31   security issue go placeholder issue for becaus...  \n",
       "98   allow cross origin requests for example for th...  \n",
       "136  use latest security patch release of golang la...  \n",
       "222  fix an imperfect if statement the tag number i...  \n",
       "223  host with a port fails to match when the host ...  "
      ]
     },
     "execution_count": 49,
     "metadata": {},
     "output_type": "execute_result"
    }
   ],
   "source": [
    "cve_df.head()"
   ]
  },
  {
   "cell_type": "code",
   "execution_count": 50,
   "metadata": {},
   "outputs": [
    {
     "data": {
      "text/plain": [
       "(195, 18)"
      ]
     },
     "execution_count": 50,
     "metadata": {},
     "output_type": "execute_result"
    }
   ],
   "source": [
    "cve_df.shape"
   ]
  },
  {
   "cell_type": "code",
   "execution_count": 51,
   "metadata": {},
   "outputs": [],
   "source": [
    "cve_df.to_csv('../../../data/os-kube_gh-data-cve-data.csv', index=False)"
   ]
  },
  {
   "cell_type": "code",
   "execution_count": 52,
   "metadata": {},
   "outputs": [],
   "source": [
    "cve_df.to_json('../../../data/os-kube_gh-data-cve-data.json', orient='records')"
   ]
  },
  {
   "cell_type": "code",
   "execution_count": 53,
   "metadata": {},
   "outputs": [
    {
     "data": {
      "text/plain": [
       "(195, 18)"
      ]
     },
     "execution_count": 53,
     "metadata": {},
     "output_type": "execute_result"
    }
   ],
   "source": [
    "cve_df = pd.read_csv('../../../data/os-kube_gh-data-cve-data.csv', keep_default_na=False)\n",
    "cve_df.shape"
   ]
  },
  {
   "cell_type": "code",
   "execution_count": 54,
   "metadata": {},
   "outputs": [],
   "source": [
    "from utils import github_events_linker as gle\n",
    "import os"
   ]
  },
  {
   "cell_type": "code",
   "execution_count": 55,
   "metadata": {},
   "outputs": [
    {
     "data": {
      "text/plain": [
       "(195, 195)"
      ]
     },
     "execution_count": 55,
     "metadata": {},
     "output_type": "execute_result"
    }
   ],
   "source": [
    "event_links = (cve_df[['issue_url', 'fixed_url', 'commit_url']]\n",
    "                .replace('null', np.nan)\n",
    "                .fillna(method='bfill',axis=1)\n",
    "               .iloc[:,0]).tolist()\n",
    "\n",
    "event_types = cve_df['cause_type'].tolist()\n",
    "len(event_links), len(event_types)"
   ]
  },
  {
   "cell_type": "code",
   "execution_count": 56,
   "metadata": {},
   "outputs": [
    {
     "name": "stdout",
     "output_type": "stream",
     "text": [
      "Total Requests Made: 25 Sleeping for a minute\n",
      "Total Requests Made: 25 Sleeping for a minute\n",
      "Total Requests Made: 25 Sleeping for a minute\n",
      "Total Requests Made: 25 Sleeping for a minute\n",
      "Total Requests Made: 25 Sleeping for a minute\n",
      "Total Requests Made: 25 Sleeping for a minute\n",
      "Total Requests Made: 25 Sleeping for a minute\n",
      "CPU times: user 12.5 s, sys: 549 ms, total: 13.1 s\n",
      "Wall time: 18min 40s\n"
     ]
    }
   ],
   "source": [
    "%%time\n",
    "\n",
    "gh_events_linkage_data = gle.generate_github_events_dependency_data(gh_urls=event_links, \n",
    "                                                                    gh_event_types=event_types, \n",
    "                                                                    github_user='dipanjanS',\n",
    "                                                                    github_auth=os.environ['GITHUB_TOKEN'])"
   ]
  },
  {
   "cell_type": "code",
   "execution_count": 255,
   "metadata": {},
   "outputs": [
    {
     "data": {
      "text/html": [
       "<div>\n",
       "<style scoped>\n",
       "    .dataframe tbody tr th:only-of-type {\n",
       "        vertical-align: middle;\n",
       "    }\n",
       "\n",
       "    .dataframe tbody tr th {\n",
       "        vertical-align: top;\n",
       "    }\n",
       "\n",
       "    .dataframe thead th {\n",
       "        text-align: right;\n",
       "    }\n",
       "</style>\n",
       "<table border=\"1\" class=\"dataframe\">\n",
       "  <thead>\n",
       "    <tr style=\"text-align: right;\">\n",
       "      <th></th>\n",
       "      <th>commit_url</th>\n",
       "      <th>files_changed</th>\n",
       "      <th>fixed_url</th>\n",
       "      <th>issue_url</th>\n",
       "    </tr>\n",
       "  </thead>\n",
       "  <tbody>\n",
       "    <tr>\n",
       "      <th>0</th>\n",
       "      <td>[]</td>\n",
       "      <td>[]</td>\n",
       "      <td>[]</td>\n",
       "      <td>[https://github.com/golang/go/issues/23673]</td>\n",
       "    </tr>\n",
       "    <tr>\n",
       "      <th>1</th>\n",
       "      <td>[https://github.com/gorilla/websocket/commit/7...</td>\n",
       "      <td>[[https://github.com/gorilla/websocket/pull/94...</td>\n",
       "      <td>[https://github.com/gorilla/websocket/pull/94]</td>\n",
       "      <td>[https://github.com/gorilla/websocket/issues/203]</td>\n",
       "    </tr>\n",
       "    <tr>\n",
       "      <th>2</th>\n",
       "      <td>[https://github.com/kubernetes-sigs/cluster-ap...</td>\n",
       "      <td>[]</td>\n",
       "      <td>[https://github.com/kubernetes-sigs/cluster-ap...</td>\n",
       "      <td>[]</td>\n",
       "    </tr>\n",
       "    <tr>\n",
       "      <th>3</th>\n",
       "      <td>[https://github.com/openshift/origin/commit/b5...</td>\n",
       "      <td>[[https://github.com/openshift/origin/pull/114...</td>\n",
       "      <td>[https://github.com/openshift/origin/pull/11408]</td>\n",
       "      <td>[]</td>\n",
       "    </tr>\n",
       "    <tr>\n",
       "      <th>4</th>\n",
       "      <td>[https://github.com/gorilla/mux/commit/050b884...</td>\n",
       "      <td>[[https://github.com/gorilla/mux/pull/431.patc...</td>\n",
       "      <td>[https://github.com/gorilla/mux/pull/431, http...</td>\n",
       "      <td>[https://github.com/gorilla/mux/issues/2]</td>\n",
       "    </tr>\n",
       "  </tbody>\n",
       "</table>\n",
       "</div>"
      ],
      "text/plain": [
       "                                          commit_url  \\\n",
       "0                                                 []   \n",
       "1  [https://github.com/gorilla/websocket/commit/7...   \n",
       "2  [https://github.com/kubernetes-sigs/cluster-ap...   \n",
       "3  [https://github.com/openshift/origin/commit/b5...   \n",
       "4  [https://github.com/gorilla/mux/commit/050b884...   \n",
       "\n",
       "                                       files_changed  \\\n",
       "0                                                 []   \n",
       "1  [[https://github.com/gorilla/websocket/pull/94...   \n",
       "2                                                 []   \n",
       "3  [[https://github.com/openshift/origin/pull/114...   \n",
       "4  [[https://github.com/gorilla/mux/pull/431.patc...   \n",
       "\n",
       "                                           fixed_url  \\\n",
       "0                                                 []   \n",
       "1     [https://github.com/gorilla/websocket/pull/94]   \n",
       "2  [https://github.com/kubernetes-sigs/cluster-ap...   \n",
       "3   [https://github.com/openshift/origin/pull/11408]   \n",
       "4  [https://github.com/gorilla/mux/pull/431, http...   \n",
       "\n",
       "                                           issue_url  \n",
       "0        [https://github.com/golang/go/issues/23673]  \n",
       "1  [https://github.com/gorilla/websocket/issues/203]  \n",
       "2                                                 []  \n",
       "3                                                 []  \n",
       "4          [https://github.com/gorilla/mux/issues/2]  "
      ]
     },
     "execution_count": 255,
     "metadata": {},
     "output_type": "execute_result"
    }
   ],
   "source": [
    "gh_events_linkage_df = pd.DataFrame(gh_events_linkage_data)\n",
    "gh_events_linkage_df.head()"
   ]
  },
  {
   "cell_type": "code",
   "execution_count": 256,
   "metadata": {},
   "outputs": [
    {
     "data": {
      "text/html": [
       "<div>\n",
       "<style scoped>\n",
       "    .dataframe tbody tr th:only-of-type {\n",
       "        vertical-align: middle;\n",
       "    }\n",
       "\n",
       "    .dataframe tbody tr th {\n",
       "        vertical-align: top;\n",
       "    }\n",
       "\n",
       "    .dataframe thead th {\n",
       "        text-align: right;\n",
       "    }\n",
       "</style>\n",
       "<table border=\"1\" class=\"dataframe\">\n",
       "  <thead>\n",
       "    <tr style=\"text-align: right;\">\n",
       "      <th></th>\n",
       "      <th>commit_url</th>\n",
       "      <th>files_changed</th>\n",
       "      <th>fixed_url</th>\n",
       "      <th>issue_url</th>\n",
       "    </tr>\n",
       "  </thead>\n",
       "  <tbody>\n",
       "    <tr>\n",
       "      <th>0</th>\n",
       "      <td>null</td>\n",
       "      <td>null</td>\n",
       "      <td>null</td>\n",
       "      <td>[\"https://github.com/golang/go/issues/23673\"]</td>\n",
       "    </tr>\n",
       "    <tr>\n",
       "      <th>1</th>\n",
       "      <td>[\"https://github.com/gorilla/websocket/commit/...</td>\n",
       "      <td>[[\"https://github.com/gorilla/websocket/pull/9...</td>\n",
       "      <td>[\"https://github.com/gorilla/websocket/pull/94\"]</td>\n",
       "      <td>[\"https://github.com/gorilla/websocket/issues/...</td>\n",
       "    </tr>\n",
       "    <tr>\n",
       "      <th>2</th>\n",
       "      <td>[\"https://github.com/kubernetes-sigs/cluster-a...</td>\n",
       "      <td>null</td>\n",
       "      <td>[\"https://github.com/kubernetes-sigs/cluster-a...</td>\n",
       "      <td>null</td>\n",
       "    </tr>\n",
       "    <tr>\n",
       "      <th>3</th>\n",
       "      <td>[\"https://github.com/openshift/origin/commit/b...</td>\n",
       "      <td>[[\"https://github.com/openshift/origin/pull/11...</td>\n",
       "      <td>[\"https://github.com/openshift/origin/pull/114...</td>\n",
       "      <td>null</td>\n",
       "    </tr>\n",
       "    <tr>\n",
       "      <th>4</th>\n",
       "      <td>[\"https://github.com/gorilla/mux/commit/050b88...</td>\n",
       "      <td>[[\"https://github.com/gorilla/mux/pull/431.pat...</td>\n",
       "      <td>[\"https://github.com/gorilla/mux/pull/431\", \"h...</td>\n",
       "      <td>[\"https://github.com/gorilla/mux/issues/2\"]</td>\n",
       "    </tr>\n",
       "  </tbody>\n",
       "</table>\n",
       "</div>"
      ],
      "text/plain": [
       "                                          commit_url  \\\n",
       "0                                               null   \n",
       "1  [\"https://github.com/gorilla/websocket/commit/...   \n",
       "2  [\"https://github.com/kubernetes-sigs/cluster-a...   \n",
       "3  [\"https://github.com/openshift/origin/commit/b...   \n",
       "4  [\"https://github.com/gorilla/mux/commit/050b88...   \n",
       "\n",
       "                                       files_changed  \\\n",
       "0                                               null   \n",
       "1  [[\"https://github.com/gorilla/websocket/pull/9...   \n",
       "2                                               null   \n",
       "3  [[\"https://github.com/openshift/origin/pull/11...   \n",
       "4  [[\"https://github.com/gorilla/mux/pull/431.pat...   \n",
       "\n",
       "                                           fixed_url  \\\n",
       "0                                               null   \n",
       "1   [\"https://github.com/gorilla/websocket/pull/94\"]   \n",
       "2  [\"https://github.com/kubernetes-sigs/cluster-a...   \n",
       "3  [\"https://github.com/openshift/origin/pull/114...   \n",
       "4  [\"https://github.com/gorilla/mux/pull/431\", \"h...   \n",
       "\n",
       "                                           issue_url  \n",
       "0      [\"https://github.com/golang/go/issues/23673\"]  \n",
       "1  [\"https://github.com/gorilla/websocket/issues/...  \n",
       "2                                               null  \n",
       "3                                               null  \n",
       "4        [\"https://github.com/gorilla/mux/issues/2\"]  "
      ]
     },
     "execution_count": 256,
     "metadata": {},
     "output_type": "execute_result"
    }
   ],
   "source": [
    "import ast\n",
    "import json\n",
    "\n",
    "gh_events_linkage_df = (gh_events_linkage_df.applymap(str)\n",
    "                    .replace(to_replace='[]', value='null')\n",
    "                    .applymap(lambda x: x if x == 'null' \n",
    "                                          else json.dumps(ast.literal_eval(x))))\n",
    "gh_events_linkage_df.head()"
   ]
  },
  {
   "cell_type": "code",
   "execution_count": 257,
   "metadata": {},
   "outputs": [
    {
     "data": {
      "text/plain": [
       "'[\"https://github.com/golang/go/issues/23673\"]'"
      ]
     },
     "execution_count": 257,
     "metadata": {},
     "output_type": "execute_result"
    }
   ],
   "source": [
    "gh_events_linkage_df.iloc[0].issue_url"
   ]
  },
  {
   "cell_type": "code",
   "execution_count": 258,
   "metadata": {},
   "outputs": [],
   "source": [
    "results_df = cve_df.copy(deep=True)\n",
    "results_df['issue_url'] = gh_events_linkage_df['issue_url']\n",
    "results_df['fixed_url'] = gh_events_linkage_df['fixed_url']\n",
    "results_df['commit_url'] = gh_events_linkage_df['commit_url']\n",
    "results_df['files_changed'] = gh_events_linkage_df['files_changed']\n",
    "results_df['identified_url'] = results_df.apply(lambda row: row['issue_url'] if row['cause_type'] == 'Issue' \n",
    "                                                 else row['fixed_url'] \n",
    "                                                     if row['cause_type'] == 'Pull Request'\n",
    "                                                         else 'null', axis=1)"
   ]
  },
  {
   "cell_type": "code",
   "execution_count": 259,
   "metadata": {},
   "outputs": [],
   "source": [
    "results_df.to_json('../../../data/os-kube_gh-results2.json', orient='records')"
   ]
  },
  {
   "cell_type": "code",
   "execution_count": 260,
   "metadata": {},
   "outputs": [
    {
     "data": {
      "text/html": [
       "<div>\n",
       "<style scoped>\n",
       "    .dataframe tbody tr th:only-of-type {\n",
       "        vertical-align: middle;\n",
       "    }\n",
       "\n",
       "    .dataframe tbody tr th {\n",
       "        vertical-align: top;\n",
       "    }\n",
       "\n",
       "    .dataframe thead th {\n",
       "        text-align: right;\n",
       "    }\n",
       "</style>\n",
       "<table border=\"1\" class=\"dataframe\">\n",
       "  <thead>\n",
       "    <tr style=\"text-align: right;\">\n",
       "      <th></th>\n",
       "      <th>repository</th>\n",
       "      <th>ecosystem</th>\n",
       "      <th>repo_url</th>\n",
       "      <th>package</th>\n",
       "      <th>cause_type</th>\n",
       "      <th>issue_url</th>\n",
       "      <th>issue_date</th>\n",
       "      <th>fixed_url</th>\n",
       "      <th>fixed_date</th>\n",
       "      <th>commit_url</th>\n",
       "      <th>commit_date</th>\n",
       "      <th>identified_url</th>\n",
       "      <th>identified_date</th>\n",
       "      <th>files_changed</th>\n",
       "      <th>flagged_score</th>\n",
       "      <th>flagged_at</th>\n",
       "    </tr>\n",
       "  </thead>\n",
       "  <tbody>\n",
       "    <tr>\n",
       "      <th>0</th>\n",
       "      <td>golang/go</td>\n",
       "      <td>golang</td>\n",
       "      <td>https://github.com/golang/go</td>\n",
       "      <td>golang/go</td>\n",
       "      <td>Issue</td>\n",
       "      <td>[\"https://github.com/golang/go/issues/23673\"]</td>\n",
       "      <td>2018-02-02 21:36:48</td>\n",
       "      <td>null</td>\n",
       "      <td>null</td>\n",
       "      <td>null</td>\n",
       "      <td>null</td>\n",
       "      <td>[\"https://github.com/golang/go/issues/23673\"]</td>\n",
       "      <td>2018-02-02 21:36:48</td>\n",
       "      <td>null</td>\n",
       "      <td>0.999182</td>\n",
       "      <td>2019-03-12 11:44:13</td>\n",
       "    </tr>\n",
       "    <tr>\n",
       "      <th>1</th>\n",
       "      <td>gorilla/websocket</td>\n",
       "      <td>golang</td>\n",
       "      <td>https://github.com/gorilla/websocket</td>\n",
       "      <td>gorilla/websocket</td>\n",
       "      <td>Pull Request</td>\n",
       "      <td>[\"https://github.com/gorilla/websocket/issues/...</td>\n",
       "      <td>null</td>\n",
       "      <td>[\"https://github.com/gorilla/websocket/pull/94\"]</td>\n",
       "      <td>2015-11-01 16:40:54</td>\n",
       "      <td>[\"https://github.com/gorilla/websocket/commit/...</td>\n",
       "      <td>null</td>\n",
       "      <td>[\"https://github.com/gorilla/websocket/pull/94\"]</td>\n",
       "      <td>2015-11-01 16:40:54</td>\n",
       "      <td>[[\"https://github.com/gorilla/websocket/pull/9...</td>\n",
       "      <td>0.695237</td>\n",
       "      <td>2019-03-12 11:44:13</td>\n",
       "    </tr>\n",
       "    <tr>\n",
       "      <th>2</th>\n",
       "      <td>kubernetes-sigs/cluster-api</td>\n",
       "      <td>golang</td>\n",
       "      <td>https://github.com/kubernetes-sigs/cluster-api</td>\n",
       "      <td>kubernetes-sigs/cluster-api</td>\n",
       "      <td>Pull Request</td>\n",
       "      <td>null</td>\n",
       "      <td>null</td>\n",
       "      <td>[\"https://github.com/kubernetes-sigs/cluster-a...</td>\n",
       "      <td>2019-01-24 04:12:18</td>\n",
       "      <td>[\"https://github.com/kubernetes-sigs/cluster-a...</td>\n",
       "      <td>null</td>\n",
       "      <td>[\"https://github.com/kubernetes-sigs/cluster-a...</td>\n",
       "      <td>2019-01-24 04:12:18</td>\n",
       "      <td>null</td>\n",
       "      <td>0.377671</td>\n",
       "      <td>2019-03-12 11:44:13</td>\n",
       "    </tr>\n",
       "    <tr>\n",
       "      <th>3</th>\n",
       "      <td>openshift/origin</td>\n",
       "      <td>golang</td>\n",
       "      <td>https://github.com/openshift/origin</td>\n",
       "      <td>openshift/origin</td>\n",
       "      <td>Pull Request</td>\n",
       "      <td>null</td>\n",
       "      <td>null</td>\n",
       "      <td>[\"https://github.com/openshift/origin/pull/114...</td>\n",
       "      <td>2016-10-18 08:41:37</td>\n",
       "      <td>[\"https://github.com/openshift/origin/commit/b...</td>\n",
       "      <td>null</td>\n",
       "      <td>[\"https://github.com/openshift/origin/pull/114...</td>\n",
       "      <td>2016-10-18 08:41:37</td>\n",
       "      <td>[[\"https://github.com/openshift/origin/pull/11...</td>\n",
       "      <td>0.026786</td>\n",
       "      <td>2019-03-12 11:44:13</td>\n",
       "    </tr>\n",
       "    <tr>\n",
       "      <th>4</th>\n",
       "      <td>gorilla/mux</td>\n",
       "      <td>golang</td>\n",
       "      <td>https://github.com/gorilla/mux</td>\n",
       "      <td>gorilla/mux</td>\n",
       "      <td>Issue</td>\n",
       "      <td>[\"https://github.com/gorilla/mux/issues/2\"]</td>\n",
       "      <td>2012-10-05 13:25:48</td>\n",
       "      <td>[\"https://github.com/gorilla/mux/pull/431\", \"h...</td>\n",
       "      <td>null</td>\n",
       "      <td>[\"https://github.com/gorilla/mux/commit/050b88...</td>\n",
       "      <td>null</td>\n",
       "      <td>[\"https://github.com/gorilla/mux/issues/2\"]</td>\n",
       "      <td>2012-10-05 13:25:48</td>\n",
       "      <td>[[\"https://github.com/gorilla/mux/pull/431.pat...</td>\n",
       "      <td>0.149246</td>\n",
       "      <td>2019-03-12 11:44:13</td>\n",
       "    </tr>\n",
       "  </tbody>\n",
       "</table>\n",
       "</div>"
      ],
      "text/plain": [
       "                    repository ecosystem  \\\n",
       "0                    golang/go    golang   \n",
       "1            gorilla/websocket    golang   \n",
       "2  kubernetes-sigs/cluster-api    golang   \n",
       "3             openshift/origin    golang   \n",
       "4                  gorilla/mux    golang   \n",
       "\n",
       "                                         repo_url  \\\n",
       "0                    https://github.com/golang/go   \n",
       "1            https://github.com/gorilla/websocket   \n",
       "2  https://github.com/kubernetes-sigs/cluster-api   \n",
       "3             https://github.com/openshift/origin   \n",
       "4                  https://github.com/gorilla/mux   \n",
       "\n",
       "                       package    cause_type  \\\n",
       "0                    golang/go         Issue   \n",
       "1            gorilla/websocket  Pull Request   \n",
       "2  kubernetes-sigs/cluster-api  Pull Request   \n",
       "3             openshift/origin  Pull Request   \n",
       "4                  gorilla/mux         Issue   \n",
       "\n",
       "                                           issue_url           issue_date  \\\n",
       "0      [\"https://github.com/golang/go/issues/23673\"]  2018-02-02 21:36:48   \n",
       "1  [\"https://github.com/gorilla/websocket/issues/...                 null   \n",
       "2                                               null                 null   \n",
       "3                                               null                 null   \n",
       "4        [\"https://github.com/gorilla/mux/issues/2\"]  2012-10-05 13:25:48   \n",
       "\n",
       "                                           fixed_url           fixed_date  \\\n",
       "0                                               null                 null   \n",
       "1   [\"https://github.com/gorilla/websocket/pull/94\"]  2015-11-01 16:40:54   \n",
       "2  [\"https://github.com/kubernetes-sigs/cluster-a...  2019-01-24 04:12:18   \n",
       "3  [\"https://github.com/openshift/origin/pull/114...  2016-10-18 08:41:37   \n",
       "4  [\"https://github.com/gorilla/mux/pull/431\", \"h...                 null   \n",
       "\n",
       "                                          commit_url commit_date  \\\n",
       "0                                               null        null   \n",
       "1  [\"https://github.com/gorilla/websocket/commit/...        null   \n",
       "2  [\"https://github.com/kubernetes-sigs/cluster-a...        null   \n",
       "3  [\"https://github.com/openshift/origin/commit/b...        null   \n",
       "4  [\"https://github.com/gorilla/mux/commit/050b88...        null   \n",
       "\n",
       "                                      identified_url      identified_date  \\\n",
       "0      [\"https://github.com/golang/go/issues/23673\"]  2018-02-02 21:36:48   \n",
       "1   [\"https://github.com/gorilla/websocket/pull/94\"]  2015-11-01 16:40:54   \n",
       "2  [\"https://github.com/kubernetes-sigs/cluster-a...  2019-01-24 04:12:18   \n",
       "3  [\"https://github.com/openshift/origin/pull/114...  2016-10-18 08:41:37   \n",
       "4        [\"https://github.com/gorilla/mux/issues/2\"]  2012-10-05 13:25:48   \n",
       "\n",
       "                                       files_changed  flagged_score  \\\n",
       "0                                               null       0.999182   \n",
       "1  [[\"https://github.com/gorilla/websocket/pull/9...       0.695237   \n",
       "2                                               null       0.377671   \n",
       "3  [[\"https://github.com/openshift/origin/pull/11...       0.026786   \n",
       "4  [[\"https://github.com/gorilla/mux/pull/431.pat...       0.149246   \n",
       "\n",
       "            flagged_at  \n",
       "0  2019-03-12 11:44:13  \n",
       "1  2019-03-12 11:44:13  \n",
       "2  2019-03-12 11:44:13  \n",
       "3  2019-03-12 11:44:13  \n",
       "4  2019-03-12 11:44:13  "
      ]
     },
     "execution_count": 260,
     "metadata": {},
     "output_type": "execute_result"
    }
   ],
   "source": [
    "cols = ['repository', 'ecosystem', 'repo_url', 'package', 'cause_type', 'issue_url', 'issue_date', \n",
    "        'fixed_url', 'fixed_date',  'commit_url', 'commit_date', 'identified_url', 'identified_date', \n",
    "        'files_changed', 'flagged_score', 'flagged_at']\n",
    "results_df = results_df[cols]\n",
    "results_df.head()"
   ]
  },
  {
   "cell_type": "code",
   "execution_count": 262,
   "metadata": {},
   "outputs": [],
   "source": [
    "import csv\n",
    "results_df.to_csv('../../../data/os-kube_gh-results.csv', \n",
    "                  index=False, quoting=csv.QUOTE_MINIMAL, header=False)"
   ]
  },
  {
   "cell_type": "code",
   "execution_count": 263,
   "metadata": {},
   "outputs": [],
   "source": [
    "import re\n",
    "\n",
    "infile = '../../../data/os-kube_gh-results.csv'\n",
    "lines = []\n",
    "with open(infile, \"r\") as f:\n",
    "    for line in f:\n",
    "        line = re.sub(r'\"\"', '\"', line)\n",
    "        line = re.sub(r'\"\\[', '[', line)\n",
    "        line = re.sub(r'\\]\"', ']', line)\n",
    "        lines.append(line)"
   ]
  },
  {
   "cell_type": "code",
   "execution_count": 264,
   "metadata": {},
   "outputs": [],
   "source": [
    "lines[-1] = lines[-1].strip('\\n')"
   ]
  },
  {
   "cell_type": "code",
   "execution_count": 265,
   "metadata": {},
   "outputs": [],
   "source": [
    "with open(infile, 'w') as f:\n",
    "    f.writelines(lines)"
   ]
  },
  {
   "cell_type": "code",
   "execution_count": 198,
   "metadata": {},
   "outputs": [],
   "source": [
    "results_df.to_json('../../../data/os-kube_gh-results.json', orient='records')"
   ]
  },
  {
   "cell_type": "code",
   "execution_count": 103,
   "metadata": {},
   "outputs": [
    {
     "data": {
      "text/plain": [
       "(195, 16)"
      ]
     },
     "execution_count": 103,
     "metadata": {},
     "output_type": "execute_result"
    }
   ],
   "source": [
    "results_df.shape"
   ]
  },
  {
   "cell_type": "code",
   "execution_count": 89,
   "metadata": {},
   "outputs": [
    {
     "data": {
      "text/plain": [
       "Issue           5939\n",
       "Pull Request    3383\n",
       "Name: cause_type, dtype: int64"
      ]
     },
     "execution_count": 89,
     "metadata": {},
     "output_type": "execute_result"
    }
   ],
   "source": [
    "sec_df.cause_type.value_counts()"
   ]
  },
  {
   "cell_type": "code",
   "execution_count": 90,
   "metadata": {},
   "outputs": [
    {
     "data": {
      "text/plain": [
       "Pull Request    126\n",
       "Issue            69\n",
       "Name: cause_type, dtype: int64"
      ]
     },
     "execution_count": 90,
     "metadata": {},
     "output_type": "execute_result"
    }
   ],
   "source": [
    "results_df.cause_type.value_counts()"
   ]
  },
  {
   "cell_type": "code",
   "execution_count": 93,
   "metadata": {},
   "outputs": [
    {
     "data": {
      "text/html": [
       "<div>\n",
       "<style scoped>\n",
       "    .dataframe tbody tr th:only-of-type {\n",
       "        vertical-align: middle;\n",
       "    }\n",
       "\n",
       "    .dataframe tbody tr th {\n",
       "        vertical-align: top;\n",
       "    }\n",
       "\n",
       "    .dataframe thead th {\n",
       "        text-align: right;\n",
       "    }\n",
       "</style>\n",
       "<table border=\"1\" class=\"dataframe\">\n",
       "  <thead>\n",
       "    <tr style=\"text-align: right;\">\n",
       "      <th></th>\n",
       "      <th>0</th>\n",
       "      <th>1</th>\n",
       "      <th>2</th>\n",
       "      <th>3</th>\n",
       "      <th>4</th>\n",
       "      <th>5</th>\n",
       "      <th>6</th>\n",
       "      <th>7</th>\n",
       "      <th>8</th>\n",
       "      <th>9</th>\n",
       "      <th>10</th>\n",
       "      <th>11</th>\n",
       "      <th>12</th>\n",
       "      <th>13</th>\n",
       "      <th>14</th>\n",
       "      <th>15</th>\n",
       "    </tr>\n",
       "  </thead>\n",
       "  <tbody>\n",
       "    <tr>\n",
       "      <th>0</th>\n",
       "      <td>golang/go</td>\n",
       "      <td>golang</td>\n",
       "      <td>https://github.com/golang/go</td>\n",
       "      <td>golang/go</td>\n",
       "      <td>Issue</td>\n",
       "      <td>['https://github.com/golang/go/issues/23673']</td>\n",
       "      <td>2018-02-02 21:36:48</td>\n",
       "      <td>null</td>\n",
       "      <td>null</td>\n",
       "      <td>null</td>\n",
       "      <td>null</td>\n",
       "      <td>https://github.com/golang/go/issues/23673</td>\n",
       "      <td>2018-02-02 21:36:48</td>\n",
       "      <td>null</td>\n",
       "      <td>0.999182</td>\n",
       "      <td>2019-03-12 11:44:13</td>\n",
       "    </tr>\n",
       "    <tr>\n",
       "      <th>1</th>\n",
       "      <td>gorilla/websocket</td>\n",
       "      <td>golang</td>\n",
       "      <td>https://github.com/gorilla/websocket</td>\n",
       "      <td>gorilla/websocket</td>\n",
       "      <td>Pull Request</td>\n",
       "      <td>['https://github.com/gorilla/websocket/issues/...</td>\n",
       "      <td>null</td>\n",
       "      <td>['https://github.com/gorilla/websocket/pull/94']</td>\n",
       "      <td>2015-11-01 16:40:54</td>\n",
       "      <td>['https://github.com/gorilla/websocket/commit/...</td>\n",
       "      <td>null</td>\n",
       "      <td>https://github.com/gorilla/websocket/pull/94</td>\n",
       "      <td>2015-11-01 16:40:54</td>\n",
       "      <td>[['https://github.com/gorilla/websocket/pull/9...</td>\n",
       "      <td>0.695237</td>\n",
       "      <td>2019-03-12 11:44:13</td>\n",
       "    </tr>\n",
       "    <tr>\n",
       "      <th>2</th>\n",
       "      <td>kubernetes-sigs/cluster-api</td>\n",
       "      <td>golang</td>\n",
       "      <td>https://github.com/kubernetes-sigs/cluster-api</td>\n",
       "      <td>kubernetes-sigs/cluster-api</td>\n",
       "      <td>Pull Request</td>\n",
       "      <td>null</td>\n",
       "      <td>null</td>\n",
       "      <td>['https://github.com/kubernetes-sigs/cluster-a...</td>\n",
       "      <td>2019-01-24 04:12:18</td>\n",
       "      <td>['https://github.com/kubernetes-sigs/cluster-a...</td>\n",
       "      <td>null</td>\n",
       "      <td>https://github.com/kubernetes-sigs/cluster-api...</td>\n",
       "      <td>2019-01-24 04:12:18</td>\n",
       "      <td>null</td>\n",
       "      <td>0.377671</td>\n",
       "      <td>2019-03-12 11:44:13</td>\n",
       "    </tr>\n",
       "    <tr>\n",
       "      <th>3</th>\n",
       "      <td>openshift/origin</td>\n",
       "      <td>golang</td>\n",
       "      <td>https://github.com/openshift/origin</td>\n",
       "      <td>openshift/origin</td>\n",
       "      <td>Pull Request</td>\n",
       "      <td>null</td>\n",
       "      <td>null</td>\n",
       "      <td>['https://github.com/openshift/origin/pull/114...</td>\n",
       "      <td>2016-10-18 08:41:37</td>\n",
       "      <td>['https://github.com/openshift/origin/commit/b...</td>\n",
       "      <td>null</td>\n",
       "      <td>https://github.com/openshift/origin/pull/11408</td>\n",
       "      <td>2016-10-18 08:41:37</td>\n",
       "      <td>[['https://github.com/openshift/origin/pull/11...</td>\n",
       "      <td>0.026786</td>\n",
       "      <td>2019-03-12 11:44:13</td>\n",
       "    </tr>\n",
       "    <tr>\n",
       "      <th>4</th>\n",
       "      <td>gorilla/mux</td>\n",
       "      <td>golang</td>\n",
       "      <td>https://github.com/gorilla/mux</td>\n",
       "      <td>gorilla/mux</td>\n",
       "      <td>Issue</td>\n",
       "      <td>['https://github.com/gorilla/mux/issues/2']</td>\n",
       "      <td>2012-10-05 13:25:48</td>\n",
       "      <td>['https://github.com/gorilla/mux/pull/431', 'h...</td>\n",
       "      <td>null</td>\n",
       "      <td>['https://github.com/gorilla/mux/commit/050b88...</td>\n",
       "      <td>null</td>\n",
       "      <td>https://github.com/gorilla/mux/issues/2</td>\n",
       "      <td>2012-10-05 13:25:48</td>\n",
       "      <td>[['https://github.com/gorilla/mux/pull/431.pat...</td>\n",
       "      <td>0.149246</td>\n",
       "      <td>2019-03-12 11:44:13</td>\n",
       "    </tr>\n",
       "  </tbody>\n",
       "</table>\n",
       "</div>"
      ],
      "text/plain": [
       "                            0       1   \\\n",
       "0                    golang/go  golang   \n",
       "1            gorilla/websocket  golang   \n",
       "2  kubernetes-sigs/cluster-api  golang   \n",
       "3             openshift/origin  golang   \n",
       "4                  gorilla/mux  golang   \n",
       "\n",
       "                                               2   \\\n",
       "0                    https://github.com/golang/go   \n",
       "1            https://github.com/gorilla/websocket   \n",
       "2  https://github.com/kubernetes-sigs/cluster-api   \n",
       "3             https://github.com/openshift/origin   \n",
       "4                  https://github.com/gorilla/mux   \n",
       "\n",
       "                            3             4   \\\n",
       "0                    golang/go         Issue   \n",
       "1            gorilla/websocket  Pull Request   \n",
       "2  kubernetes-sigs/cluster-api  Pull Request   \n",
       "3             openshift/origin  Pull Request   \n",
       "4                  gorilla/mux         Issue   \n",
       "\n",
       "                                                  5                    6   \\\n",
       "0      ['https://github.com/golang/go/issues/23673']  2018-02-02 21:36:48   \n",
       "1  ['https://github.com/gorilla/websocket/issues/...                 null   \n",
       "2                                               null                 null   \n",
       "3                                               null                 null   \n",
       "4        ['https://github.com/gorilla/mux/issues/2']  2012-10-05 13:25:48   \n",
       "\n",
       "                                                  7                    8   \\\n",
       "0                                               null                 null   \n",
       "1   ['https://github.com/gorilla/websocket/pull/94']  2015-11-01 16:40:54   \n",
       "2  ['https://github.com/kubernetes-sigs/cluster-a...  2019-01-24 04:12:18   \n",
       "3  ['https://github.com/openshift/origin/pull/114...  2016-10-18 08:41:37   \n",
       "4  ['https://github.com/gorilla/mux/pull/431', 'h...                 null   \n",
       "\n",
       "                                                  9     10  \\\n",
       "0                                               null  null   \n",
       "1  ['https://github.com/gorilla/websocket/commit/...  null   \n",
       "2  ['https://github.com/kubernetes-sigs/cluster-a...  null   \n",
       "3  ['https://github.com/openshift/origin/commit/b...  null   \n",
       "4  ['https://github.com/gorilla/mux/commit/050b88...  null   \n",
       "\n",
       "                                                  11                   12  \\\n",
       "0          https://github.com/golang/go/issues/23673  2018-02-02 21:36:48   \n",
       "1       https://github.com/gorilla/websocket/pull/94  2015-11-01 16:40:54   \n",
       "2  https://github.com/kubernetes-sigs/cluster-api...  2019-01-24 04:12:18   \n",
       "3     https://github.com/openshift/origin/pull/11408  2016-10-18 08:41:37   \n",
       "4            https://github.com/gorilla/mux/issues/2  2012-10-05 13:25:48   \n",
       "\n",
       "                                                  13        14  \\\n",
       "0                                               null  0.999182   \n",
       "1  [['https://github.com/gorilla/websocket/pull/9...  0.695237   \n",
       "2                                               null  0.377671   \n",
       "3  [['https://github.com/openshift/origin/pull/11...  0.026786   \n",
       "4  [['https://github.com/gorilla/mux/pull/431.pat...  0.149246   \n",
       "\n",
       "                    15  \n",
       "0  2019-03-12 11:44:13  \n",
       "1  2019-03-12 11:44:13  \n",
       "2  2019-03-12 11:44:13  \n",
       "3  2019-03-12 11:44:13  \n",
       "4  2019-03-12 11:44:13  "
      ]
     },
     "execution_count": 93,
     "metadata": {},
     "output_type": "execute_result"
    }
   ],
   "source": [
    "a = pd.read_csv('../../../data/os-kube_gh-results.csv', header=None, keep_default_na=False)\n",
    "a.head()"
   ]
  },
  {
   "cell_type": "code",
   "execution_count": null,
   "metadata": {},
   "outputs": [],
   "source": []
  }
 ],
 "metadata": {
  "kernelspec": {
   "display_name": "Python 3",
   "language": "python",
   "name": "python3"
  },
  "language_info": {
   "codemirror_mode": {
    "name": "ipython",
    "version": 3
   },
   "file_extension": ".py",
   "mimetype": "text/x-python",
   "name": "python",
   "nbconvert_exporter": "python",
   "pygments_lexer": "ipython3",
   "version": "3.6.5"
  }
 },
 "nbformat": 4,
 "nbformat_minor": 2
}
