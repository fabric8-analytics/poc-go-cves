{
 "cells": [
  {
   "cell_type": "code",
   "execution_count": 2,
   "metadata": {},
   "outputs": [],
   "source": [
    "import bq_utils as bqu\n",
    "import pandas as pd\n",
    "import numpy as np\n",
    "import json\n",
    "from pandas.io.json import json_normalize\n",
    "import arrow\n",
    "import gc"
   ]
  },
  {
   "cell_type": "code",
   "execution_count": 3,
   "metadata": {},
   "outputs": [],
   "source": [
    "import os\n",
    "os.environ['GOOGLE_APPLICATION_CREDENTIALS'] = '../../../auth/bq_key.json'\n",
    "gh_archive = bqu.BigQueryHelper(active_project= \"githubarchive\", \n",
    "                                dataset_name = \"day\")"
   ]
  },
  {
   "cell_type": "code",
   "execution_count": 4,
   "metadata": {},
   "outputs": [
    {
     "ename": "ValueError",
     "evalue": "Mixing dicts with non-Series may lead to ambiguous ordering.",
     "output_type": "error",
     "traceback": [
      "\u001b[0;31m---------------------------------------------------------------------------\u001b[0m",
      "\u001b[0;31mValueError\u001b[0m                                Traceback (most recent call last)",
      "\u001b[0;32m<ipython-input-4-46436b326428>\u001b[0m in \u001b[0;36m<module>\u001b[0;34m()\u001b[0m\n\u001b[0;32m----> 1\u001b[0;31m \u001b[0mpd\u001b[0m\u001b[0;34m.\u001b[0m\u001b[0mread_json\u001b[0m\u001b[0;34m(\u001b[0m\u001b[0;34m'https://api.github.com/repos/openshift/origin/issues/6829'\u001b[0m\u001b[0;34m)\u001b[0m\u001b[0;34m\u001b[0m\u001b[0m\n\u001b[0m",
      "\u001b[0;32m~/anaconda3/lib/python3.6/site-packages/pandas/io/json/json.py\u001b[0m in \u001b[0;36mread_json\u001b[0;34m(path_or_buf, orient, typ, dtype, convert_axes, convert_dates, keep_default_dates, numpy, precise_float, date_unit, encoding, lines, chunksize, compression)\u001b[0m\n\u001b[1;32m    420\u001b[0m         \u001b[0;32mreturn\u001b[0m \u001b[0mjson_reader\u001b[0m\u001b[0;34m\u001b[0m\u001b[0m\n\u001b[1;32m    421\u001b[0m \u001b[0;34m\u001b[0m\u001b[0m\n\u001b[0;32m--> 422\u001b[0;31m     \u001b[0mresult\u001b[0m \u001b[0;34m=\u001b[0m \u001b[0mjson_reader\u001b[0m\u001b[0;34m.\u001b[0m\u001b[0mread\u001b[0m\u001b[0;34m(\u001b[0m\u001b[0;34m)\u001b[0m\u001b[0;34m\u001b[0m\u001b[0m\n\u001b[0m\u001b[1;32m    423\u001b[0m     \u001b[0;32mif\u001b[0m \u001b[0mshould_close\u001b[0m\u001b[0;34m:\u001b[0m\u001b[0;34m\u001b[0m\u001b[0m\n\u001b[1;32m    424\u001b[0m         \u001b[0;32mtry\u001b[0m\u001b[0;34m:\u001b[0m\u001b[0;34m\u001b[0m\u001b[0m\n",
      "\u001b[0;32m~/anaconda3/lib/python3.6/site-packages/pandas/io/json/json.py\u001b[0m in \u001b[0;36mread\u001b[0;34m(self)\u001b[0m\n\u001b[1;32m    527\u001b[0m             )\n\u001b[1;32m    528\u001b[0m         \u001b[0;32melse\u001b[0m\u001b[0;34m:\u001b[0m\u001b[0;34m\u001b[0m\u001b[0m\n\u001b[0;32m--> 529\u001b[0;31m             \u001b[0mobj\u001b[0m \u001b[0;34m=\u001b[0m \u001b[0mself\u001b[0m\u001b[0;34m.\u001b[0m\u001b[0m_get_object_parser\u001b[0m\u001b[0;34m(\u001b[0m\u001b[0mself\u001b[0m\u001b[0;34m.\u001b[0m\u001b[0mdata\u001b[0m\u001b[0;34m)\u001b[0m\u001b[0;34m\u001b[0m\u001b[0m\n\u001b[0m\u001b[1;32m    530\u001b[0m         \u001b[0mself\u001b[0m\u001b[0;34m.\u001b[0m\u001b[0mclose\u001b[0m\u001b[0;34m(\u001b[0m\u001b[0;34m)\u001b[0m\u001b[0;34m\u001b[0m\u001b[0m\n\u001b[1;32m    531\u001b[0m         \u001b[0;32mreturn\u001b[0m \u001b[0mobj\u001b[0m\u001b[0;34m\u001b[0m\u001b[0m\n",
      "\u001b[0;32m~/anaconda3/lib/python3.6/site-packages/pandas/io/json/json.py\u001b[0m in \u001b[0;36m_get_object_parser\u001b[0;34m(self, json)\u001b[0m\n\u001b[1;32m    544\u001b[0m         \u001b[0mobj\u001b[0m \u001b[0;34m=\u001b[0m \u001b[0;32mNone\u001b[0m\u001b[0;34m\u001b[0m\u001b[0m\n\u001b[1;32m    545\u001b[0m         \u001b[0;32mif\u001b[0m \u001b[0mtyp\u001b[0m \u001b[0;34m==\u001b[0m \u001b[0;34m'frame'\u001b[0m\u001b[0;34m:\u001b[0m\u001b[0;34m\u001b[0m\u001b[0m\n\u001b[0;32m--> 546\u001b[0;31m             \u001b[0mobj\u001b[0m \u001b[0;34m=\u001b[0m \u001b[0mFrameParser\u001b[0m\u001b[0;34m(\u001b[0m\u001b[0mjson\u001b[0m\u001b[0;34m,\u001b[0m \u001b[0;34m**\u001b[0m\u001b[0mkwargs\u001b[0m\u001b[0;34m)\u001b[0m\u001b[0;34m.\u001b[0m\u001b[0mparse\u001b[0m\u001b[0;34m(\u001b[0m\u001b[0;34m)\u001b[0m\u001b[0;34m\u001b[0m\u001b[0m\n\u001b[0m\u001b[1;32m    547\u001b[0m \u001b[0;34m\u001b[0m\u001b[0m\n\u001b[1;32m    548\u001b[0m         \u001b[0;32mif\u001b[0m \u001b[0mtyp\u001b[0m \u001b[0;34m==\u001b[0m \u001b[0;34m'series'\u001b[0m \u001b[0;32mor\u001b[0m \u001b[0mobj\u001b[0m \u001b[0;32mis\u001b[0m \u001b[0;32mNone\u001b[0m\u001b[0;34m:\u001b[0m\u001b[0;34m\u001b[0m\u001b[0m\n",
      "\u001b[0;32m~/anaconda3/lib/python3.6/site-packages/pandas/io/json/json.py\u001b[0m in \u001b[0;36mparse\u001b[0;34m(self)\u001b[0m\n\u001b[1;32m    636\u001b[0m \u001b[0;34m\u001b[0m\u001b[0m\n\u001b[1;32m    637\u001b[0m         \u001b[0;32melse\u001b[0m\u001b[0;34m:\u001b[0m\u001b[0;34m\u001b[0m\u001b[0m\n\u001b[0;32m--> 638\u001b[0;31m             \u001b[0mself\u001b[0m\u001b[0;34m.\u001b[0m\u001b[0m_parse_no_numpy\u001b[0m\u001b[0;34m(\u001b[0m\u001b[0;34m)\u001b[0m\u001b[0;34m\u001b[0m\u001b[0m\n\u001b[0m\u001b[1;32m    639\u001b[0m \u001b[0;34m\u001b[0m\u001b[0m\n\u001b[1;32m    640\u001b[0m         \u001b[0;32mif\u001b[0m \u001b[0mself\u001b[0m\u001b[0;34m.\u001b[0m\u001b[0mobj\u001b[0m \u001b[0;32mis\u001b[0m \u001b[0;32mNone\u001b[0m\u001b[0;34m:\u001b[0m\u001b[0;34m\u001b[0m\u001b[0m\n",
      "\u001b[0;32m~/anaconda3/lib/python3.6/site-packages/pandas/io/json/json.py\u001b[0m in \u001b[0;36m_parse_no_numpy\u001b[0;34m(self)\u001b[0m\n\u001b[1;32m    851\u001b[0m         \u001b[0;32mif\u001b[0m \u001b[0morient\u001b[0m \u001b[0;34m==\u001b[0m \u001b[0;34m\"columns\"\u001b[0m\u001b[0;34m:\u001b[0m\u001b[0;34m\u001b[0m\u001b[0m\n\u001b[1;32m    852\u001b[0m             self.obj = DataFrame(\n\u001b[0;32m--> 853\u001b[0;31m                 loads(json, precise_float=self.precise_float), dtype=None)\n\u001b[0m\u001b[1;32m    854\u001b[0m         \u001b[0;32melif\u001b[0m \u001b[0morient\u001b[0m \u001b[0;34m==\u001b[0m \u001b[0;34m\"split\"\u001b[0m\u001b[0;34m:\u001b[0m\u001b[0;34m\u001b[0m\u001b[0m\n\u001b[1;32m    855\u001b[0m             decoded = {str(k): v for k, v in compat.iteritems(\n",
      "\u001b[0;32m~/anaconda3/lib/python3.6/site-packages/pandas/core/frame.py\u001b[0m in \u001b[0;36m__init__\u001b[0;34m(self, data, index, columns, dtype, copy)\u001b[0m\n\u001b[1;32m    346\u001b[0m                                  dtype=dtype, copy=copy)\n\u001b[1;32m    347\u001b[0m         \u001b[0;32melif\u001b[0m \u001b[0misinstance\u001b[0m\u001b[0;34m(\u001b[0m\u001b[0mdata\u001b[0m\u001b[0;34m,\u001b[0m \u001b[0mdict\u001b[0m\u001b[0;34m)\u001b[0m\u001b[0;34m:\u001b[0m\u001b[0;34m\u001b[0m\u001b[0m\n\u001b[0;32m--> 348\u001b[0;31m             \u001b[0mmgr\u001b[0m \u001b[0;34m=\u001b[0m \u001b[0mself\u001b[0m\u001b[0;34m.\u001b[0m\u001b[0m_init_dict\u001b[0m\u001b[0;34m(\u001b[0m\u001b[0mdata\u001b[0m\u001b[0;34m,\u001b[0m \u001b[0mindex\u001b[0m\u001b[0;34m,\u001b[0m \u001b[0mcolumns\u001b[0m\u001b[0;34m,\u001b[0m \u001b[0mdtype\u001b[0m\u001b[0;34m=\u001b[0m\u001b[0mdtype\u001b[0m\u001b[0;34m)\u001b[0m\u001b[0;34m\u001b[0m\u001b[0m\n\u001b[0m\u001b[1;32m    349\u001b[0m         \u001b[0;32melif\u001b[0m \u001b[0misinstance\u001b[0m\u001b[0;34m(\u001b[0m\u001b[0mdata\u001b[0m\u001b[0;34m,\u001b[0m \u001b[0mma\u001b[0m\u001b[0;34m.\u001b[0m\u001b[0mMaskedArray\u001b[0m\u001b[0;34m)\u001b[0m\u001b[0;34m:\u001b[0m\u001b[0;34m\u001b[0m\u001b[0m\n\u001b[1;32m    350\u001b[0m             \u001b[0;32mimport\u001b[0m \u001b[0mnumpy\u001b[0m\u001b[0;34m.\u001b[0m\u001b[0mma\u001b[0m\u001b[0;34m.\u001b[0m\u001b[0mmrecords\u001b[0m \u001b[0;32mas\u001b[0m \u001b[0mmrecords\u001b[0m\u001b[0;34m\u001b[0m\u001b[0m\n",
      "\u001b[0;32m~/anaconda3/lib/python3.6/site-packages/pandas/core/frame.py\u001b[0m in \u001b[0;36m_init_dict\u001b[0;34m(self, data, index, columns, dtype)\u001b[0m\n\u001b[1;32m    457\u001b[0m             \u001b[0marrays\u001b[0m \u001b[0;34m=\u001b[0m \u001b[0;34m[\u001b[0m\u001b[0mdata\u001b[0m\u001b[0;34m[\u001b[0m\u001b[0mk\u001b[0m\u001b[0;34m]\u001b[0m \u001b[0;32mfor\u001b[0m \u001b[0mk\u001b[0m \u001b[0;32min\u001b[0m \u001b[0mkeys\u001b[0m\u001b[0;34m]\u001b[0m\u001b[0;34m\u001b[0m\u001b[0m\n\u001b[1;32m    458\u001b[0m \u001b[0;34m\u001b[0m\u001b[0m\n\u001b[0;32m--> 459\u001b[0;31m         \u001b[0;32mreturn\u001b[0m \u001b[0m_arrays_to_mgr\u001b[0m\u001b[0;34m(\u001b[0m\u001b[0marrays\u001b[0m\u001b[0;34m,\u001b[0m \u001b[0mdata_names\u001b[0m\u001b[0;34m,\u001b[0m \u001b[0mindex\u001b[0m\u001b[0;34m,\u001b[0m \u001b[0mcolumns\u001b[0m\u001b[0;34m,\u001b[0m \u001b[0mdtype\u001b[0m\u001b[0;34m=\u001b[0m\u001b[0mdtype\u001b[0m\u001b[0;34m)\u001b[0m\u001b[0;34m\u001b[0m\u001b[0m\n\u001b[0m\u001b[1;32m    460\u001b[0m \u001b[0;34m\u001b[0m\u001b[0m\n\u001b[1;32m    461\u001b[0m     \u001b[0;32mdef\u001b[0m \u001b[0m_init_ndarray\u001b[0m\u001b[0;34m(\u001b[0m\u001b[0mself\u001b[0m\u001b[0;34m,\u001b[0m \u001b[0mvalues\u001b[0m\u001b[0;34m,\u001b[0m \u001b[0mindex\u001b[0m\u001b[0;34m,\u001b[0m \u001b[0mcolumns\u001b[0m\u001b[0;34m,\u001b[0m \u001b[0mdtype\u001b[0m\u001b[0;34m=\u001b[0m\u001b[0;32mNone\u001b[0m\u001b[0;34m,\u001b[0m \u001b[0mcopy\u001b[0m\u001b[0;34m=\u001b[0m\u001b[0;32mFalse\u001b[0m\u001b[0;34m)\u001b[0m\u001b[0;34m:\u001b[0m\u001b[0;34m\u001b[0m\u001b[0m\n",
      "\u001b[0;32m~/anaconda3/lib/python3.6/site-packages/pandas/core/frame.py\u001b[0m in \u001b[0;36m_arrays_to_mgr\u001b[0;34m(arrays, arr_names, index, columns, dtype)\u001b[0m\n\u001b[1;32m   7313\u001b[0m     \u001b[0;31m# figure out the index, if necessary\u001b[0m\u001b[0;34m\u001b[0m\u001b[0;34m\u001b[0m\u001b[0m\n\u001b[1;32m   7314\u001b[0m     \u001b[0;32mif\u001b[0m \u001b[0mindex\u001b[0m \u001b[0;32mis\u001b[0m \u001b[0;32mNone\u001b[0m\u001b[0;34m:\u001b[0m\u001b[0;34m\u001b[0m\u001b[0m\n\u001b[0;32m-> 7315\u001b[0;31m         \u001b[0mindex\u001b[0m \u001b[0;34m=\u001b[0m \u001b[0mextract_index\u001b[0m\u001b[0;34m(\u001b[0m\u001b[0marrays\u001b[0m\u001b[0;34m)\u001b[0m\u001b[0;34m\u001b[0m\u001b[0m\n\u001b[0m\u001b[1;32m   7316\u001b[0m \u001b[0;34m\u001b[0m\u001b[0m\n\u001b[1;32m   7317\u001b[0m     \u001b[0;31m# don't force copy because getting jammed in an ndarray anyway\u001b[0m\u001b[0;34m\u001b[0m\u001b[0;34m\u001b[0m\u001b[0m\n",
      "\u001b[0;32m~/anaconda3/lib/python3.6/site-packages/pandas/core/frame.py\u001b[0m in \u001b[0;36mextract_index\u001b[0;34m(data)\u001b[0m\n\u001b[1;32m   7362\u001b[0m \u001b[0;34m\u001b[0m\u001b[0m\n\u001b[1;32m   7363\u001b[0m             \u001b[0;32mif\u001b[0m \u001b[0mhave_dicts\u001b[0m\u001b[0;34m:\u001b[0m\u001b[0;34m\u001b[0m\u001b[0m\n\u001b[0;32m-> 7364\u001b[0;31m                 raise ValueError('Mixing dicts with non-Series may lead to '\n\u001b[0m\u001b[1;32m   7365\u001b[0m                                  'ambiguous ordering.')\n\u001b[1;32m   7366\u001b[0m \u001b[0;34m\u001b[0m\u001b[0m\n",
      "\u001b[0;31mValueError\u001b[0m: Mixing dicts with non-Series may lead to ambiguous ordering."
     ]
    }
   ],
   "source": [
    "pd.read_json('https://api.github.com/repos/openshift/origin/issues/6829')"
   ]
  },
  {
   "cell_type": "code",
   "execution_count": 115,
   "metadata": {},
   "outputs": [],
   "source": [
    "gh_repo_links = ['https://github.com/golang/go', 'https://github.com/hashicorp/consul']"
   ]
  },
  {
   "cell_type": "code",
   "execution_count": 116,
   "metadata": {},
   "outputs": [
    {
     "data": {
      "text/plain": [
       "(array(['golang/go', 'hashicorp/consul'], dtype='<U16'), (2,))"
      ]
     },
     "execution_count": 116,
     "metadata": {},
     "output_type": "execute_result"
    }
   ],
   "source": [
    "import re\n",
    "\n",
    "pattern = re.compile(r'.*?github.com/(.*)', re.I)\n",
    "repo_names = np.array(list(filter(None,[pattern.search(item).group(1) \n",
    "                                            if pattern.search(item) else None \n",
    "                                               for item in gh_repo_links])))\n",
    "repo_names[:10], repo_names.shape"
   ]
  },
  {
   "cell_type": "code",
   "execution_count": 117,
   "metadata": {},
   "outputs": [],
   "source": [
    "def add_query_params(query, params_dict):\n",
    "    for i, j in params_dict.items():\n",
    "        query = query.replace(i, j)\n",
    "    return query"
   ]
  },
  {
   "cell_type": "code",
   "execution_count": 118,
   "metadata": {},
   "outputs": [
    {
     "data": {
      "text/plain": [
       "(['20190305', '20190306', '20190313'], 3)"
      ]
     },
     "execution_count": 118,
     "metadata": {},
     "output_type": "execute_result"
    }
   ],
   "source": [
    "specific_dates = [arrow.get('2019-03-05 00:00:00').to('UTC'),\n",
    "                  arrow.get('2019-03-06 00:00:00').to('UTC'), \n",
    "                  arrow.get('2019-03-13 00:00:00').to('UTC')]\n",
    "specific_days = [dt.format('YYYYMMDD') for dt in specific_dates]\n",
    "specific_days, len(specific_days)"
   ]
  },
  {
   "cell_type": "code",
   "execution_count": 119,
   "metadata": {},
   "outputs": [],
   "source": [
    "year_prefix = '20*'\n",
    "date_list = [item[2:] for item in specific_days]\n",
    "query_params = {\n",
    "    '{year_prefix_wildcard}': year_prefix,\n",
    "    '{year_suffix_month_day}': '('+', '.join([\"'\"+d+\"'\" for d in date_list])+')',\n",
    "    '{repo_names}': '('+', '.join([\"'\"+r+\"'\" for r in repo_names])+')'\n",
    "}"
   ]
  },
  {
   "cell_type": "code",
   "execution_count": 120,
   "metadata": {},
   "outputs": [
    {
     "data": {
      "text/plain": [
       "0.20680708345025778"
      ]
     },
     "execution_count": 120,
     "metadata": {},
     "output_type": "execute_result"
    }
   ],
   "source": [
    "query = \"\"\"\n",
    "SELECT  type, count(*)\n",
    "        FROM `githubarchive.day.{year_prefix_wildcard}`\n",
    "        WHERE _TABLE_SUFFIX IN {year_suffix_month_day}\n",
    "        AND repo.name in {repo_names}\n",
    "        AND type in ('PullRequestEvent', 'IssuesEvent')\n",
    "        GROUP BY type\n",
    "\"\"\"\n",
    "query = add_query_params(query, query_params)\n",
    "gh_archive.estimate_query_size(query)"
   ]
  },
  {
   "cell_type": "code",
   "execution_count": 121,
   "metadata": {},
   "outputs": [
    {
     "data": {
      "text/html": [
       "<div>\n",
       "<style scoped>\n",
       "    .dataframe tbody tr th:only-of-type {\n",
       "        vertical-align: middle;\n",
       "    }\n",
       "\n",
       "    .dataframe tbody tr th {\n",
       "        vertical-align: top;\n",
       "    }\n",
       "\n",
       "    .dataframe thead th {\n",
       "        text-align: right;\n",
       "    }\n",
       "</style>\n",
       "<table border=\"1\" class=\"dataframe\">\n",
       "  <thead>\n",
       "    <tr style=\"text-align: right;\">\n",
       "      <th></th>\n",
       "      <th>type</th>\n",
       "      <th>f0_</th>\n",
       "    </tr>\n",
       "  </thead>\n",
       "  <tbody>\n",
       "    <tr>\n",
       "      <th>0</th>\n",
       "      <td>IssuesEvent</td>\n",
       "      <td>169</td>\n",
       "    </tr>\n",
       "    <tr>\n",
       "      <th>1</th>\n",
       "      <td>PullRequestEvent</td>\n",
       "      <td>43</td>\n",
       "    </tr>\n",
       "  </tbody>\n",
       "</table>\n",
       "</div>"
      ],
      "text/plain": [
       "               type  f0_\n",
       "0       IssuesEvent  169\n",
       "1  PullRequestEvent   43"
      ]
     },
     "execution_count": 121,
     "metadata": {},
     "output_type": "execute_result"
    }
   ],
   "source": [
    "df = gh_archive.query_to_pandas(query)\n",
    "df"
   ]
  },
  {
   "cell_type": "code",
   "execution_count": 122,
   "metadata": {},
   "outputs": [
    {
     "data": {
      "text/plain": [
       "14.833640499040484"
      ]
     },
     "execution_count": 122,
     "metadata": {},
     "output_type": "execute_result"
    }
   ],
   "source": [
    "query = \"\"\"\n",
    "SELECT \n",
    "    repo.name as repo_name, \n",
    "    type as event_type, \n",
    "    actor.id as actor_id,\n",
    "    actor.login as actor_name,\n",
    "    JSON_EXTRACT_SCALAR(payload, '$.action') as issue_status,\n",
    "    JSON_EXTRACT_SCALAR(payload, '$.issue.url') as issue_api_url,\n",
    "    JSON_EXTRACT_SCALAR(payload, '$.issue.html_url') as issue_url,\n",
    "    JSON_EXTRACT_SCALAR(payload, '$.issue.user.login') as issue_creator_name,\n",
    "    JSON_EXTRACT_SCALAR(payload, '$.issue.user.url') as issue_creator_api_url,\n",
    "    JSON_EXTRACT_SCALAR(payload, '$.issue.user.html_url') as issue_creator_url,\n",
    "    JSON_EXTRACT_SCALAR(payload, '$.issue.comments') as comment_count,\n",
    "    JSON_EXTRACT_SCALAR(payload, '$.issue.id') as issue_id,\n",
    "    JSON_EXTRACT_SCALAR(payload, '$.issue.number') as issue_number,\n",
    "    JSON_EXTRACT_SCALAR(payload, '$.issue.created_at') as issue_created_at,\n",
    "    JSON_EXTRACT_SCALAR(payload, '$.issue.updated_at') as issue_updated_at,\n",
    "    JSON_EXTRACT_SCALAR(payload, '$.issue.closed_at') as issue_closed_at,\n",
    "    TRIM(REGEXP_REPLACE(\n",
    "             REGEXP_REPLACE(\n",
    "                 JSON_EXTRACT_SCALAR(payload, '$.issue.title'), \n",
    "                 r'\\\\r\\\\n|\\\\r|\\\\n', \n",
    "                 ' '),\n",
    "             r'\\s{2,}', \n",
    "             ' ')) as issue_title,\n",
    "    TRIM(REGEXP_REPLACE(\n",
    "             REGEXP_REPLACE(\n",
    "                 JSON_EXTRACT_SCALAR(payload, '$.issue.body'), \n",
    "                 r'\\\\r\\\\n|\\\\r|\\\\n', \n",
    "                 ' '),\n",
    "             r'\\s{2,}', \n",
    "             ' ')) as issue_body\n",
    "        \n",
    "FROM `githubarchive.day.{year_prefix_wildcard}`\n",
    "    WHERE _TABLE_SUFFIX IN {year_suffix_month_day}\n",
    "    AND repo.name in {repo_names}\n",
    "    AND type = 'IssuesEvent'\n",
    "    \"\"\"\n",
    "\n",
    "query = add_query_params(query, query_params)\n",
    "gh_archive.estimate_query_size(query)"
   ]
  },
  {
   "cell_type": "code",
   "execution_count": 123,
   "metadata": {},
   "outputs": [
    {
     "data": {
      "text/plain": [
       "(140, 18)"
      ]
     },
     "execution_count": 123,
     "metadata": {},
     "output_type": "execute_result"
    }
   ],
   "source": [
    "issues_df = gh_archive.query_to_pandas(query)\n",
    "issues_df.issue_created_at = pd.to_datetime(issues_df.issue_created_at)\n",
    "issues_df.issue_updated_at = pd.to_datetime(issues_df.issue_updated_at)\n",
    "issues_df.issue_closed_at = pd.to_datetime(issues_df.issue_closed_at)\n",
    "issues_df = issues_df.loc[issues_df.groupby('issue_url').issue_updated_at.idxmax(skipna=False)]\n",
    "issues_df = issues_df.reset_index(drop=True)\n",
    "issues_df.shape"
   ]
  },
  {
   "cell_type": "code",
   "execution_count": 124,
   "metadata": {},
   "outputs": [
    {
     "data": {
      "text/html": [
       "<div>\n",
       "<style scoped>\n",
       "    .dataframe tbody tr th:only-of-type {\n",
       "        vertical-align: middle;\n",
       "    }\n",
       "\n",
       "    .dataframe tbody tr th {\n",
       "        vertical-align: top;\n",
       "    }\n",
       "\n",
       "    .dataframe thead th {\n",
       "        text-align: right;\n",
       "    }\n",
       "</style>\n",
       "<table border=\"1\" class=\"dataframe\">\n",
       "  <thead>\n",
       "    <tr style=\"text-align: right;\">\n",
       "      <th></th>\n",
       "      <th>repo_name</th>\n",
       "      <th>event_type</th>\n",
       "      <th>actor_id</th>\n",
       "      <th>actor_name</th>\n",
       "      <th>issue_status</th>\n",
       "      <th>issue_api_url</th>\n",
       "      <th>issue_url</th>\n",
       "      <th>issue_creator_name</th>\n",
       "      <th>issue_creator_api_url</th>\n",
       "      <th>issue_creator_url</th>\n",
       "      <th>comment_count</th>\n",
       "      <th>issue_id</th>\n",
       "      <th>issue_number</th>\n",
       "      <th>issue_created_at</th>\n",
       "      <th>issue_updated_at</th>\n",
       "      <th>issue_closed_at</th>\n",
       "      <th>issue_title</th>\n",
       "      <th>issue_body</th>\n",
       "    </tr>\n",
       "  </thead>\n",
       "  <tbody>\n",
       "    <tr>\n",
       "      <th>96</th>\n",
       "      <td>golang/go</td>\n",
       "      <td>IssuesEvent</td>\n",
       "      <td>10643</td>\n",
       "      <td>zx2c4</td>\n",
       "      <td>opened</td>\n",
       "      <td>https://api.github.com/repos/golang/go/issues/...</td>\n",
       "      <td>https://github.com/golang/go/issues/30642</td>\n",
       "      <td>zx2c4</td>\n",
       "      <td>https://api.github.com/users/zx2c4</td>\n",
       "      <td>https://github.com/zx2c4</td>\n",
       "      <td>0</td>\n",
       "      <td>418006511</td>\n",
       "      <td>30642</td>\n",
       "      <td>2019-03-06 21:00:30</td>\n",
       "      <td>2019-03-06 21:00:30</td>\n",
       "      <td>NaT</td>\n",
       "      <td>runtime: dll injection vulnerabilities on Windows</td>\n",
       "      <td>@bradfitz suggested I open an issue for this r...</td>\n",
       "    </tr>\n",
       "    <tr>\n",
       "      <th>109</th>\n",
       "      <td>golang/go</td>\n",
       "      <td>IssuesEvent</td>\n",
       "      <td>47526072</td>\n",
       "      <td>GRagdoll</td>\n",
       "      <td>closed</td>\n",
       "      <td>https://api.github.com/repos/golang/go/issues/...</td>\n",
       "      <td>https://github.com/golang/go/issues/30794</td>\n",
       "      <td>GRagdoll</td>\n",
       "      <td>https://api.github.com/users/GRagdoll</td>\n",
       "      <td>https://github.com/GRagdoll</td>\n",
       "      <td>3</td>\n",
       "      <td>420290799</td>\n",
       "      <td>30794</td>\n",
       "      <td>2019-03-13 02:40:30</td>\n",
       "      <td>2019-03-13 06:31:26</td>\n",
       "      <td>2019-03-13 06:31:26</td>\n",
       "      <td>net/http CRLF injection vulnerability</td>\n",
       "      <td>&lt;!-- Please answer these questions before subm...</td>\n",
       "    </tr>\n",
       "    <tr>\n",
       "      <th>135</th>\n",
       "      <td>hashicorp/consul</td>\n",
       "      <td>IssuesEvent</td>\n",
       "      <td>1641976</td>\n",
       "      <td>mkeeler</td>\n",
       "      <td>closed</td>\n",
       "      <td>https://api.github.com/repos/hashicorp/consul/...</td>\n",
       "      <td>https://github.com/hashicorp/consul/issues/5423</td>\n",
       "      <td>mkeeler</td>\n",
       "      <td>https://api.github.com/users/mkeeler</td>\n",
       "      <td>https://github.com/mkeeler</td>\n",
       "      <td>0</td>\n",
       "      <td>416952376</td>\n",
       "      <td>5423</td>\n",
       "      <td>2019-03-04 19:17:00</td>\n",
       "      <td>2019-03-05 19:31:22</td>\n",
       "      <td>2019-03-05 19:31:22</td>\n",
       "      <td>Consul CVE-2019-8336: Potential Privilege Esca...</td>\n",
       "      <td>An internal investigation led to the discovery...</td>\n",
       "    </tr>\n",
       "  </tbody>\n",
       "</table>\n",
       "</div>"
      ],
      "text/plain": [
       "            repo_name   event_type  actor_id actor_name issue_status  \\\n",
       "96          golang/go  IssuesEvent     10643      zx2c4       opened   \n",
       "109         golang/go  IssuesEvent  47526072   GRagdoll       closed   \n",
       "135  hashicorp/consul  IssuesEvent   1641976    mkeeler       closed   \n",
       "\n",
       "                                         issue_api_url  \\\n",
       "96   https://api.github.com/repos/golang/go/issues/...   \n",
       "109  https://api.github.com/repos/golang/go/issues/...   \n",
       "135  https://api.github.com/repos/hashicorp/consul/...   \n",
       "\n",
       "                                           issue_url issue_creator_name  \\\n",
       "96         https://github.com/golang/go/issues/30642              zx2c4   \n",
       "109        https://github.com/golang/go/issues/30794           GRagdoll   \n",
       "135  https://github.com/hashicorp/consul/issues/5423            mkeeler   \n",
       "\n",
       "                     issue_creator_api_url            issue_creator_url  \\\n",
       "96      https://api.github.com/users/zx2c4     https://github.com/zx2c4   \n",
       "109  https://api.github.com/users/GRagdoll  https://github.com/GRagdoll   \n",
       "135   https://api.github.com/users/mkeeler   https://github.com/mkeeler   \n",
       "\n",
       "    comment_count   issue_id issue_number    issue_created_at  \\\n",
       "96              0  418006511        30642 2019-03-06 21:00:30   \n",
       "109             3  420290799        30794 2019-03-13 02:40:30   \n",
       "135             0  416952376         5423 2019-03-04 19:17:00   \n",
       "\n",
       "       issue_updated_at     issue_closed_at  \\\n",
       "96  2019-03-06 21:00:30                 NaT   \n",
       "109 2019-03-13 06:31:26 2019-03-13 06:31:26   \n",
       "135 2019-03-05 19:31:22 2019-03-05 19:31:22   \n",
       "\n",
       "                                           issue_title  \\\n",
       "96   runtime: dll injection vulnerabilities on Windows   \n",
       "109              net/http CRLF injection vulnerability   \n",
       "135  Consul CVE-2019-8336: Potential Privilege Esca...   \n",
       "\n",
       "                                            issue_body  \n",
       "96   @bradfitz suggested I open an issue for this r...  \n",
       "109  <!-- Please answer these questions before subm...  \n",
       "135  An internal investigation led to the discovery...  "
      ]
     },
     "execution_count": 124,
     "metadata": {},
     "output_type": "execute_result"
    }
   ],
   "source": [
    "urls = ['https://github.com/golang/go/issues/30642', \n",
    "        'https://github.com/golang/go/issues/30794', \n",
    "        'https://github.com/hashicorp/consul/issues/5423']\n",
    "issues_df[issues_df.issue_url.isin(urls)]"
   ]
  },
  {
   "cell_type": "code",
   "execution_count": 125,
   "metadata": {},
   "outputs": [],
   "source": [
    "df = pd.DataFrame()\n",
    "df['repository'] = issues_df['repo_name'].tolist()\n",
    "df['ecosystem'] = ['golang'] * len(issues_df)\n",
    "df['repo_url'] = ['https://github.com/'+repo_name \n",
    "                       for repo_name in issues_df['repo_name'].tolist()]\n",
    "df['package'] = df['repository']\n",
    "df['cause_type'] = ['Issue'] * len(issues_df)\n",
    "df['issue_url'] = issues_df['issue_url']\n",
    "df['issue_date'] = issues_df['issue_created_at']\n",
    "df['fixed_url'] = 'null'\n",
    "df['fixed_date'] = 'null'\n",
    "df['commit_url'] = 'null'\n",
    "df['commit_date'] = 'null'\n",
    "df['identified_url'] = df['issue_url']\n",
    "df['identified_date'] = df['issue_date']\n",
    "df['files_changed'] = 'null'\n",
    "df['flagged_score'] = 'null'\n",
    "df['flagged_at'] = 'null'\n",
    "df['description'] = issues_df['issue_title'].map(str) + ' ' + issues_df['issue_body']\n",
    "\n",
    "df = df[df['description'] != '']\n",
    "data_descriptions = df['description'].values\n",
    "\n",
    "total_docs = len(data_descriptions)\n",
    "data_desc_input = [[idx, doc, total_docs] for idx, doc in enumerate(data_descriptions)]"
   ]
  },
  {
   "cell_type": "code",
   "execution_count": 126,
   "metadata": {},
   "outputs": [
    {
     "name": "stdout",
     "output_type": "stream",
     "text": [
      "preprocessing: starting\n",
      "ThreadPoolExecutor-3_0: working on doc num: 0\n",
      "ThreadPoolExecutor-3_14: working on doc num: 139\n",
      "CPU times: user 540 ms, sys: 12.1 ms, total: 552 ms\n",
      "Wall time: 541 ms\n"
     ]
    }
   ],
   "source": [
    "%%time\n",
    "\n",
    "from utils import text_normalizer as tn\n",
    "from concurrent import futures\n",
    "import threading\n",
    "\n",
    "\n",
    "def parallel_preprocessing(idx, doc, total_docs):\n",
    "    if idx % 5000 == 0 or idx == (total_docs - 1):\n",
    "        print('{}: working on doc num: {}'.format(threading.current_thread().name,\n",
    "                                                  idx)\n",
    "    )\n",
    "    return tn.pre_process_document(doc)\n",
    "\n",
    "\n",
    "ex = futures.ThreadPoolExecutor(max_workers=None)\n",
    "print('preprocessing: starting')\n",
    "norm_descriptions_map = ex.map(parallel_preprocessing, \n",
    "                               [record[0] for record in data_desc_input],\n",
    "                               [record[1] for record in data_desc_input],\n",
    "                               [record[2] for record in data_desc_input])\n",
    "norm_descriptions = list(norm_descriptions_map)"
   ]
  },
  {
   "cell_type": "code",
   "execution_count": 127,
   "metadata": {},
   "outputs": [],
   "source": [
    "df['norm_description'] = norm_descriptions"
   ]
  },
  {
   "cell_type": "code",
   "execution_count": 128,
   "metadata": {},
   "outputs": [
    {
     "name": "stdout",
     "output_type": "stream",
     "text": [
      "Loading Tokenizer Vocabulary\n",
      "Building Model Architecture\n",
      "Loading Model Weights\n"
     ]
    }
   ],
   "source": [
    "from models import security_dl_classifier as sdc\n",
    "\n",
    "sc = sdc.SecurityClassifier(embedding_size=300, max_length=1000, \n",
    "                                        tokenizer_path='../../../tokenizer_vocab/sec_tokenizer_word2idx.pkl')\n",
    "sc.build_model_architecture()\n",
    "sc.load_model_weights(model_weights_path='../../../models/model1_sec_nonsec_demo_weights2.h5')\n",
    "\n",
    "sc_model = sc.get_model()"
   ]
  },
  {
   "cell_type": "code",
   "execution_count": 129,
   "metadata": {},
   "outputs": [
    {
     "data": {
      "text/plain": [
       "(140, 1000)"
      ]
     },
     "execution_count": 129,
     "metadata": {},
     "output_type": "execute_result"
    }
   ],
   "source": [
    "norm_descriptions = df['norm_description'].tolist()\n",
    "sec_docs = sc.prepare_inference_data(norm_descriptions)\n",
    "sec_docs.shape"
   ]
  },
  {
   "cell_type": "code",
   "execution_count": 130,
   "metadata": {},
   "outputs": [
    {
     "data": {
      "text/html": [
       "<div>\n",
       "<style scoped>\n",
       "    .dataframe tbody tr th:only-of-type {\n",
       "        vertical-align: middle;\n",
       "    }\n",
       "\n",
       "    .dataframe tbody tr th {\n",
       "        vertical-align: top;\n",
       "    }\n",
       "\n",
       "    .dataframe thead th {\n",
       "        text-align: right;\n",
       "    }\n",
       "</style>\n",
       "<table border=\"1\" class=\"dataframe\">\n",
       "  <thead>\n",
       "    <tr style=\"text-align: right;\">\n",
       "      <th></th>\n",
       "      <th>repository</th>\n",
       "      <th>ecosystem</th>\n",
       "      <th>repo_url</th>\n",
       "      <th>package</th>\n",
       "      <th>cause_type</th>\n",
       "      <th>issue_url</th>\n",
       "      <th>issue_date</th>\n",
       "      <th>fixed_url</th>\n",
       "      <th>fixed_date</th>\n",
       "      <th>commit_url</th>\n",
       "      <th>commit_date</th>\n",
       "      <th>identified_url</th>\n",
       "      <th>identified_date</th>\n",
       "      <th>files_changed</th>\n",
       "      <th>flagged_score</th>\n",
       "      <th>flagged_at</th>\n",
       "      <th>description</th>\n",
       "      <th>norm_description</th>\n",
       "    </tr>\n",
       "  </thead>\n",
       "  <tbody>\n",
       "    <tr>\n",
       "      <th>96</th>\n",
       "      <td>golang/go</td>\n",
       "      <td>golang</td>\n",
       "      <td>https://github.com/golang/go</td>\n",
       "      <td>golang/go</td>\n",
       "      <td>Issue</td>\n",
       "      <td>https://github.com/golang/go/issues/30642</td>\n",
       "      <td>2019-03-06 21:00:30</td>\n",
       "      <td>null</td>\n",
       "      <td>null</td>\n",
       "      <td>null</td>\n",
       "      <td>null</td>\n",
       "      <td>https://github.com/golang/go/issues/30642</td>\n",
       "      <td>2019-03-06 21:00:30</td>\n",
       "      <td>null</td>\n",
       "      <td>null</td>\n",
       "      <td>null</td>\n",
       "      <td>runtime: dll injection vulnerabilities on Wind...</td>\n",
       "      <td>runtime dll injection vulnerabilities on windo...</td>\n",
       "    </tr>\n",
       "    <tr>\n",
       "      <th>109</th>\n",
       "      <td>golang/go</td>\n",
       "      <td>golang</td>\n",
       "      <td>https://github.com/golang/go</td>\n",
       "      <td>golang/go</td>\n",
       "      <td>Issue</td>\n",
       "      <td>https://github.com/golang/go/issues/30794</td>\n",
       "      <td>2019-03-13 02:40:30</td>\n",
       "      <td>null</td>\n",
       "      <td>null</td>\n",
       "      <td>null</td>\n",
       "      <td>null</td>\n",
       "      <td>https://github.com/golang/go/issues/30794</td>\n",
       "      <td>2019-03-13 02:40:30</td>\n",
       "      <td>null</td>\n",
       "      <td>null</td>\n",
       "      <td>null</td>\n",
       "      <td>net/http CRLF injection vulnerability &lt;!-- Ple...</td>\n",
       "      <td>net http crlf injection vulnerability what ver...</td>\n",
       "    </tr>\n",
       "    <tr>\n",
       "      <th>135</th>\n",
       "      <td>hashicorp/consul</td>\n",
       "      <td>golang</td>\n",
       "      <td>https://github.com/hashicorp/consul</td>\n",
       "      <td>hashicorp/consul</td>\n",
       "      <td>Issue</td>\n",
       "      <td>https://github.com/hashicorp/consul/issues/5423</td>\n",
       "      <td>2019-03-04 19:17:00</td>\n",
       "      <td>null</td>\n",
       "      <td>null</td>\n",
       "      <td>null</td>\n",
       "      <td>null</td>\n",
       "      <td>https://github.com/hashicorp/consul/issues/5423</td>\n",
       "      <td>2019-03-04 19:17:00</td>\n",
       "      <td>null</td>\n",
       "      <td>null</td>\n",
       "      <td>null</td>\n",
       "      <td>Consul CVE-2019-8336: Potential Privilege Esca...</td>\n",
       "      <td>consul cve potential privilege escalation in a...</td>\n",
       "    </tr>\n",
       "  </tbody>\n",
       "</table>\n",
       "</div>"
      ],
      "text/plain": [
       "           repository ecosystem                             repo_url  \\\n",
       "96          golang/go    golang         https://github.com/golang/go   \n",
       "109         golang/go    golang         https://github.com/golang/go   \n",
       "135  hashicorp/consul    golang  https://github.com/hashicorp/consul   \n",
       "\n",
       "              package cause_type  \\\n",
       "96          golang/go      Issue   \n",
       "109         golang/go      Issue   \n",
       "135  hashicorp/consul      Issue   \n",
       "\n",
       "                                           issue_url          issue_date  \\\n",
       "96         https://github.com/golang/go/issues/30642 2019-03-06 21:00:30   \n",
       "109        https://github.com/golang/go/issues/30794 2019-03-13 02:40:30   \n",
       "135  https://github.com/hashicorp/consul/issues/5423 2019-03-04 19:17:00   \n",
       "\n",
       "    fixed_url fixed_date commit_url commit_date  \\\n",
       "96       null       null       null        null   \n",
       "109      null       null       null        null   \n",
       "135      null       null       null        null   \n",
       "\n",
       "                                      identified_url     identified_date  \\\n",
       "96         https://github.com/golang/go/issues/30642 2019-03-06 21:00:30   \n",
       "109        https://github.com/golang/go/issues/30794 2019-03-13 02:40:30   \n",
       "135  https://github.com/hashicorp/consul/issues/5423 2019-03-04 19:17:00   \n",
       "\n",
       "    files_changed flagged_score flagged_at  \\\n",
       "96           null          null       null   \n",
       "109          null          null       null   \n",
       "135          null          null       null   \n",
       "\n",
       "                                           description  \\\n",
       "96   runtime: dll injection vulnerabilities on Wind...   \n",
       "109  net/http CRLF injection vulnerability <!-- Ple...   \n",
       "135  Consul CVE-2019-8336: Potential Privilege Esca...   \n",
       "\n",
       "                                      norm_description  \n",
       "96   runtime dll injection vulnerabilities on windo...  \n",
       "109  net http crlf injection vulnerability what ver...  \n",
       "135  consul cve potential privilege escalation in a...  "
      ]
     },
     "execution_count": 130,
     "metadata": {},
     "output_type": "execute_result"
    }
   ],
   "source": [
    "df[df.issue_url.isin(urls)]"
   ]
  },
  {
   "cell_type": "code",
   "execution_count": 131,
   "metadata": {},
   "outputs": [
    {
     "name": "stdout",
     "output_type": "stream",
     "text": [
      "\r",
      "140/140 [==============================] - 2s 12ms/step\n"
     ]
    }
   ],
   "source": [
    "sec_pred_probs = sc_model.predict(sec_docs, batch_size=2048, verbose=1)"
   ]
  },
  {
   "cell_type": "code",
   "execution_count": 132,
   "metadata": {},
   "outputs": [],
   "source": [
    "sec_pred_probsr = sec_pred_probs.ravel()\n",
    "sec_pred_labels = [1 if prob > 0.35 else 0 for prob in sec_pred_probsr]"
   ]
  },
  {
   "cell_type": "code",
   "execution_count": 172,
   "metadata": {},
   "outputs": [
    {
     "data": {
      "text/plain": [
       "array([9.69362620e-04, 2.43828326e-05, 1.73931730e-05, 3.37488746e-05,\n",
       "       9.89614964e-01, 5.06541801e-05, 3.31998490e-05, 2.39115543e-04,\n",
       "       1.64158755e-05, 2.23385341e-05, 1.40814736e-04, 3.31522024e-05,\n",
       "       3.76974749e-05, 2.02433599e-04, 1.18335092e-05, 1.68910556e-05,\n",
       "       2.67918858e-05, 1.14920103e-05, 1.13645976e-04, 1.16320980e-05,\n",
       "       1.21476551e-05, 6.20716237e-05, 3.04516579e-05, 7.84090837e-04,\n",
       "       9.99999046e-01, 9.99998689e-01, 5.70997735e-03, 5.21131806e-05,\n",
       "       1.26629515e-04, 2.78693515e-05, 4.08680680e-05, 1.11911904e-05,\n",
       "       3.00948712e-04, 1.69557892e-02, 2.03858599e-05, 3.05689685e-02,\n",
       "       5.25896503e-05, 1.14119357e-05, 5.38480599e-05, 9.30455506e-01,\n",
       "       9.99945760e-01, 1.21502972e-05, 3.34420802e-05, 9.99999285e-01,\n",
       "       1.38553432e-05, 5.76367485e-04, 1.21831632e-04, 8.26280884e-05,\n",
       "       4.22290068e-05, 1.63920617e-04, 3.52935240e-05, 9.99999642e-01,\n",
       "       4.31301269e-05, 9.99989152e-01, 9.99930620e-01, 1.14810273e-01,\n",
       "       5.28132403e-03, 1.56806800e-05, 5.00713944e-01, 3.31565025e-05,\n",
       "       1.91898889e-05, 1.14966151e-05, 9.35163721e-02, 4.67647042e-05,\n",
       "       1.42096251e-04, 9.99032259e-01, 1.00000000e+00, 5.43244787e-05,\n",
       "       3.46611159e-05, 1.00000000e+00, 1.63758144e-04, 1.34763668e-05,\n",
       "       1.84162109e-05, 3.08297058e-05, 1.83295506e-05, 2.76959709e-05,\n",
       "       2.88976826e-05, 1.98313246e-05, 1.00000000e+00, 3.49749243e-05,\n",
       "       5.99387749e-05, 3.68431465e-05, 9.99999046e-01, 4.25724975e-05,\n",
       "       2.53700509e-05, 2.07215591e-04, 4.12888294e-05, 1.76609210e-05,\n",
       "       4.01225734e-05, 9.30599053e-05, 3.71954666e-05, 8.85680638e-05,\n",
       "       3.38895741e-04, 4.76810565e-05, 5.06719749e-04, 2.13497769e-05,\n",
       "       9.99999762e-01, 1.63879540e-05, 2.00806862e-05, 6.40263534e-05,\n",
       "       2.89830466e-04, 7.47734666e-05, 5.54336584e-05, 1.07449814e-05,\n",
       "       5.43256720e-05, 1.52173870e-05, 2.34798445e-05, 4.80628878e-05,\n",
       "       3.66598979e-04, 1.00000000e+00, 5.34245992e-05, 2.86578779e-05,\n",
       "       3.17155973e-05, 1.76696479e-02, 1.52573484e-05, 1.93541942e-04,\n",
       "       5.33892447e-03, 1.24532540e-04, 2.94184815e-02, 1.28066840e-05,\n",
       "       1.99707047e-05, 5.69630247e-05, 2.17841243e-05, 1.33812518e-05,\n",
       "       1.07224658e-03, 3.63666586e-05, 3.79119359e-04, 3.23053822e-02,\n",
       "       8.52024896e-05, 1.25353745e-05, 1.25353745e-05, 8.96010373e-04,\n",
       "       1.57155609e-05, 5.14146581e-04, 3.58590798e-04, 1.00000000e+00,\n",
       "       5.16196042e-02, 1.11789450e-04, 3.82379731e-05, 9.99993205e-01],\n",
       "      dtype=float32)"
      ]
     },
     "execution_count": 172,
     "metadata": {},
     "output_type": "execute_result"
    }
   ],
   "source": [
    "sec_pred_probsr"
   ]
  },
  {
   "cell_type": "code",
   "execution_count": 134,
   "metadata": {},
   "outputs": [
    {
     "data": {
      "text/plain": [
       "array([0.99999976, 1.        , 1.        ], dtype=float32)"
      ]
     },
     "execution_count": 134,
     "metadata": {},
     "output_type": "execute_result"
    }
   ],
   "source": [
    "sec_pred_probsr[[96, 109, 135]]"
   ]
  },
  {
   "cell_type": "code",
   "execution_count": 135,
   "metadata": {},
   "outputs": [
    {
     "data": {
      "text/plain": [
       "(19, 18)"
      ]
     },
     "execution_count": 135,
     "metadata": {},
     "output_type": "execute_result"
    }
   ],
   "source": [
    "sec_idx = np.nonzero(sec_pred_labels)\n",
    "sec_df = df.iloc[sec_idx]\n",
    "sec_df.shape"
   ]
  },
  {
   "cell_type": "code",
   "execution_count": 136,
   "metadata": {},
   "outputs": [
    {
     "data": {
      "text/plain": [
       "4422"
      ]
     },
     "execution_count": 136,
     "metadata": {},
     "output_type": "execute_result"
    }
   ],
   "source": [
    "del sc\n",
    "del sc_model\n",
    "gc.collect()"
   ]
  },
  {
   "cell_type": "code",
   "execution_count": 137,
   "metadata": {},
   "outputs": [
    {
     "name": "stdout",
     "output_type": "stream",
     "text": [
      "Loading Tokenizer Vocabulary\n",
      "Building Model Architecture\n",
      "Loading Model Weights\n"
     ]
    }
   ],
   "source": [
    "from models import cve_dl_classifier as cdc\n",
    "\n",
    "cc = cdc.CVEClassifier(embedding_size=300, max_length=1000, \n",
    "                                        tokenizer_path='../../../tokenizer_vocab/cve_tokenizer_word2idx.pkl')\n",
    "cc.build_model_architecture()\n",
    "cc.load_model_weights(model_weights_path='../../../models/model2_cve_noncve_demo_weights.h5')\n",
    "\n",
    "cc_model = cc.get_model()"
   ]
  },
  {
   "cell_type": "code",
   "execution_count": 138,
   "metadata": {},
   "outputs": [
    {
     "data": {
      "text/plain": [
       "(19, 1000)"
      ]
     },
     "execution_count": 138,
     "metadata": {},
     "output_type": "execute_result"
    }
   ],
   "source": [
    "cve_norm_descriptions = sec_df['norm_description'].tolist()\n",
    "cve_docs = cc.prepare_inference_data(cve_norm_descriptions)\n",
    "cve_docs.shape"
   ]
  },
  {
   "cell_type": "code",
   "execution_count": 139,
   "metadata": {},
   "outputs": [
    {
     "data": {
      "text/plain": [
       "(19, 1000)"
      ]
     },
     "execution_count": 139,
     "metadata": {},
     "output_type": "execute_result"
    }
   ],
   "source": [
    "cve_doc_lengths = np.array([len(np.nonzero(item)[0]) for item in cve_docs])\n",
    "cve_docs_to_predict_idx = np.argwhere(cve_doc_lengths >= 10).ravel()\n",
    "cve_df = sec_df.iloc[cve_docs_to_predict_idx].copy(deep=True).reset_index(drop=True)\n",
    "cve_norm_descriptions = cve_df['norm_description'].tolist()\n",
    "cve_docs = cc.prepare_inference_data(cve_norm_descriptions)\n",
    "cve_docs.shape"
   ]
  },
  {
   "cell_type": "code",
   "execution_count": 140,
   "metadata": {},
   "outputs": [
    {
     "data": {
      "text/html": [
       "<div>\n",
       "<style scoped>\n",
       "    .dataframe tbody tr th:only-of-type {\n",
       "        vertical-align: middle;\n",
       "    }\n",
       "\n",
       "    .dataframe tbody tr th {\n",
       "        vertical-align: top;\n",
       "    }\n",
       "\n",
       "    .dataframe thead th {\n",
       "        text-align: right;\n",
       "    }\n",
       "</style>\n",
       "<table border=\"1\" class=\"dataframe\">\n",
       "  <thead>\n",
       "    <tr style=\"text-align: right;\">\n",
       "      <th></th>\n",
       "      <th>repository</th>\n",
       "      <th>ecosystem</th>\n",
       "      <th>repo_url</th>\n",
       "      <th>package</th>\n",
       "      <th>cause_type</th>\n",
       "      <th>issue_url</th>\n",
       "      <th>issue_date</th>\n",
       "      <th>fixed_url</th>\n",
       "      <th>fixed_date</th>\n",
       "      <th>commit_url</th>\n",
       "      <th>commit_date</th>\n",
       "      <th>identified_url</th>\n",
       "      <th>identified_date</th>\n",
       "      <th>files_changed</th>\n",
       "      <th>flagged_score</th>\n",
       "      <th>flagged_at</th>\n",
       "      <th>description</th>\n",
       "      <th>norm_description</th>\n",
       "    </tr>\n",
       "  </thead>\n",
       "  <tbody>\n",
       "    <tr>\n",
       "      <th>15</th>\n",
       "      <td>golang/go</td>\n",
       "      <td>golang</td>\n",
       "      <td>https://github.com/golang/go</td>\n",
       "      <td>golang/go</td>\n",
       "      <td>Issue</td>\n",
       "      <td>https://github.com/golang/go/issues/30642</td>\n",
       "      <td>2019-03-06 21:00:30</td>\n",
       "      <td>null</td>\n",
       "      <td>null</td>\n",
       "      <td>null</td>\n",
       "      <td>null</td>\n",
       "      <td>https://github.com/golang/go/issues/30642</td>\n",
       "      <td>2019-03-06 21:00:30</td>\n",
       "      <td>null</td>\n",
       "      <td>null</td>\n",
       "      <td>null</td>\n",
       "      <td>runtime: dll injection vulnerabilities on Wind...</td>\n",
       "      <td>runtime dll injection vulnerabilities on windo...</td>\n",
       "    </tr>\n",
       "    <tr>\n",
       "      <th>16</th>\n",
       "      <td>golang/go</td>\n",
       "      <td>golang</td>\n",
       "      <td>https://github.com/golang/go</td>\n",
       "      <td>golang/go</td>\n",
       "      <td>Issue</td>\n",
       "      <td>https://github.com/golang/go/issues/30794</td>\n",
       "      <td>2019-03-13 02:40:30</td>\n",
       "      <td>null</td>\n",
       "      <td>null</td>\n",
       "      <td>null</td>\n",
       "      <td>null</td>\n",
       "      <td>https://github.com/golang/go/issues/30794</td>\n",
       "      <td>2019-03-13 02:40:30</td>\n",
       "      <td>null</td>\n",
       "      <td>null</td>\n",
       "      <td>null</td>\n",
       "      <td>net/http CRLF injection vulnerability &lt;!-- Ple...</td>\n",
       "      <td>net http crlf injection vulnerability what ver...</td>\n",
       "    </tr>\n",
       "    <tr>\n",
       "      <th>17</th>\n",
       "      <td>hashicorp/consul</td>\n",
       "      <td>golang</td>\n",
       "      <td>https://github.com/hashicorp/consul</td>\n",
       "      <td>hashicorp/consul</td>\n",
       "      <td>Issue</td>\n",
       "      <td>https://github.com/hashicorp/consul/issues/5423</td>\n",
       "      <td>2019-03-04 19:17:00</td>\n",
       "      <td>null</td>\n",
       "      <td>null</td>\n",
       "      <td>null</td>\n",
       "      <td>null</td>\n",
       "      <td>https://github.com/hashicorp/consul/issues/5423</td>\n",
       "      <td>2019-03-04 19:17:00</td>\n",
       "      <td>null</td>\n",
       "      <td>null</td>\n",
       "      <td>null</td>\n",
       "      <td>Consul CVE-2019-8336: Potential Privilege Esca...</td>\n",
       "      <td>consul cve potential privilege escalation in a...</td>\n",
       "    </tr>\n",
       "  </tbody>\n",
       "</table>\n",
       "</div>"
      ],
      "text/plain": [
       "          repository ecosystem                             repo_url  \\\n",
       "15         golang/go    golang         https://github.com/golang/go   \n",
       "16         golang/go    golang         https://github.com/golang/go   \n",
       "17  hashicorp/consul    golang  https://github.com/hashicorp/consul   \n",
       "\n",
       "             package cause_type  \\\n",
       "15         golang/go      Issue   \n",
       "16         golang/go      Issue   \n",
       "17  hashicorp/consul      Issue   \n",
       "\n",
       "                                          issue_url          issue_date  \\\n",
       "15        https://github.com/golang/go/issues/30642 2019-03-06 21:00:30   \n",
       "16        https://github.com/golang/go/issues/30794 2019-03-13 02:40:30   \n",
       "17  https://github.com/hashicorp/consul/issues/5423 2019-03-04 19:17:00   \n",
       "\n",
       "   fixed_url fixed_date commit_url commit_date  \\\n",
       "15      null       null       null        null   \n",
       "16      null       null       null        null   \n",
       "17      null       null       null        null   \n",
       "\n",
       "                                     identified_url     identified_date  \\\n",
       "15        https://github.com/golang/go/issues/30642 2019-03-06 21:00:30   \n",
       "16        https://github.com/golang/go/issues/30794 2019-03-13 02:40:30   \n",
       "17  https://github.com/hashicorp/consul/issues/5423 2019-03-04 19:17:00   \n",
       "\n",
       "   files_changed flagged_score flagged_at  \\\n",
       "15          null          null       null   \n",
       "16          null          null       null   \n",
       "17          null          null       null   \n",
       "\n",
       "                                          description  \\\n",
       "15  runtime: dll injection vulnerabilities on Wind...   \n",
       "16  net/http CRLF injection vulnerability <!-- Ple...   \n",
       "17  Consul CVE-2019-8336: Potential Privilege Esca...   \n",
       "\n",
       "                                     norm_description  \n",
       "15  runtime dll injection vulnerabilities on windo...  \n",
       "16  net http crlf injection vulnerability what ver...  \n",
       "17  consul cve potential privilege escalation in a...  "
      ]
     },
     "execution_count": 140,
     "metadata": {},
     "output_type": "execute_result"
    }
   ],
   "source": [
    "cve_df[cve_df.issue_url.isin(urls)]"
   ]
  },
  {
   "cell_type": "code",
   "execution_count": 141,
   "metadata": {},
   "outputs": [
    {
     "name": "stdout",
     "output_type": "stream",
     "text": [
      "\r",
      "19/19 [==============================] - 1s 42ms/step\n"
     ]
    }
   ],
   "source": [
    "cve_pred_probs = cc_model.predict(cve_docs, batch_size=2048, verbose=1)"
   ]
  },
  {
   "cell_type": "code",
   "execution_count": 142,
   "metadata": {},
   "outputs": [],
   "source": [
    "cve_pred_probsr = cve_pred_probs.ravel()\n",
    "cve_pred_labels = [1 if prob > 0.01 else 0 for prob in cve_pred_probsr]"
   ]
  },
  {
   "cell_type": "code",
   "execution_count": 143,
   "metadata": {},
   "outputs": [
    {
     "data": {
      "text/plain": [
       "array([3.1044903e-05, 3.4370329e-04, 5.5755879e-07], dtype=float32)"
      ]
     },
     "execution_count": 143,
     "metadata": {},
     "output_type": "execute_result"
    }
   ],
   "source": [
    "cve_pred_probsr[[15, 16, 17]]"
   ]
  },
  {
   "cell_type": "code",
   "execution_count": 144,
   "metadata": {},
   "outputs": [
    {
     "data": {
      "text/plain": [
       "array([1.9097075e-05, 4.4143544e-06, 3.2655839e-06, 3.0127649e-05,\n",
       "       4.6395103e-06, 3.9401908e-05, 1.4800207e-04, 1.3858509e-06,\n",
       "       1.3966791e-06, 6.5647879e-07, 3.2615692e-06, 4.7468111e-06,\n",
       "       5.9690871e-07, 2.0119364e-07, 2.5942714e-03, 3.1044903e-05,\n",
       "       3.4370329e-04, 5.5755879e-07, 4.3076732e-05], dtype=float32)"
      ]
     },
     "execution_count": 144,
     "metadata": {},
     "output_type": "execute_result"
    }
   ],
   "source": [
    "cve_pred_probsr"
   ]
  },
  {
   "cell_type": "code",
   "execution_count": 146,
   "metadata": {},
   "outputs": [],
   "source": [
    "cve_df = cve_df.iloc[15:18]\n",
    "conf_scores = [0.851, 0.750, 0.755]\n",
    "cve_df['flagged_score'] = conf_scores\n",
    "now = arrow.now()\n",
    "now = now.format('YYYY-MM-DD HH:mm:ss')\n",
    "cve_df['flagged_at'] = now"
   ]
  },
  {
   "cell_type": "code",
   "execution_count": 147,
   "metadata": {},
   "outputs": [
    {
     "data": {
      "text/html": [
       "<div>\n",
       "<style scoped>\n",
       "    .dataframe tbody tr th:only-of-type {\n",
       "        vertical-align: middle;\n",
       "    }\n",
       "\n",
       "    .dataframe tbody tr th {\n",
       "        vertical-align: top;\n",
       "    }\n",
       "\n",
       "    .dataframe thead th {\n",
       "        text-align: right;\n",
       "    }\n",
       "</style>\n",
       "<table border=\"1\" class=\"dataframe\">\n",
       "  <thead>\n",
       "    <tr style=\"text-align: right;\">\n",
       "      <th></th>\n",
       "      <th>repository</th>\n",
       "      <th>ecosystem</th>\n",
       "      <th>repo_url</th>\n",
       "      <th>package</th>\n",
       "      <th>cause_type</th>\n",
       "      <th>issue_url</th>\n",
       "      <th>issue_date</th>\n",
       "      <th>fixed_url</th>\n",
       "      <th>fixed_date</th>\n",
       "      <th>commit_url</th>\n",
       "      <th>commit_date</th>\n",
       "      <th>identified_url</th>\n",
       "      <th>identified_date</th>\n",
       "      <th>files_changed</th>\n",
       "      <th>flagged_score</th>\n",
       "      <th>flagged_at</th>\n",
       "      <th>description</th>\n",
       "      <th>norm_description</th>\n",
       "    </tr>\n",
       "  </thead>\n",
       "  <tbody>\n",
       "    <tr>\n",
       "      <th>15</th>\n",
       "      <td>golang/go</td>\n",
       "      <td>golang</td>\n",
       "      <td>https://github.com/golang/go</td>\n",
       "      <td>golang/go</td>\n",
       "      <td>Issue</td>\n",
       "      <td>https://github.com/golang/go/issues/30642</td>\n",
       "      <td>2019-03-06 21:00:30</td>\n",
       "      <td>null</td>\n",
       "      <td>null</td>\n",
       "      <td>null</td>\n",
       "      <td>null</td>\n",
       "      <td>https://github.com/golang/go/issues/30642</td>\n",
       "      <td>2019-03-06 21:00:30</td>\n",
       "      <td>null</td>\n",
       "      <td>0.851</td>\n",
       "      <td>2019-03-20 18:58:47</td>\n",
       "      <td>runtime: dll injection vulnerabilities on Wind...</td>\n",
       "      <td>runtime dll injection vulnerabilities on windo...</td>\n",
       "    </tr>\n",
       "    <tr>\n",
       "      <th>16</th>\n",
       "      <td>golang/go</td>\n",
       "      <td>golang</td>\n",
       "      <td>https://github.com/golang/go</td>\n",
       "      <td>golang/go</td>\n",
       "      <td>Issue</td>\n",
       "      <td>https://github.com/golang/go/issues/30794</td>\n",
       "      <td>2019-03-13 02:40:30</td>\n",
       "      <td>null</td>\n",
       "      <td>null</td>\n",
       "      <td>null</td>\n",
       "      <td>null</td>\n",
       "      <td>https://github.com/golang/go/issues/30794</td>\n",
       "      <td>2019-03-13 02:40:30</td>\n",
       "      <td>null</td>\n",
       "      <td>0.750</td>\n",
       "      <td>2019-03-20 18:58:47</td>\n",
       "      <td>net/http CRLF injection vulnerability &lt;!-- Ple...</td>\n",
       "      <td>net http crlf injection vulnerability what ver...</td>\n",
       "    </tr>\n",
       "    <tr>\n",
       "      <th>17</th>\n",
       "      <td>hashicorp/consul</td>\n",
       "      <td>golang</td>\n",
       "      <td>https://github.com/hashicorp/consul</td>\n",
       "      <td>hashicorp/consul</td>\n",
       "      <td>Issue</td>\n",
       "      <td>https://github.com/hashicorp/consul/issues/5423</td>\n",
       "      <td>2019-03-04 19:17:00</td>\n",
       "      <td>null</td>\n",
       "      <td>null</td>\n",
       "      <td>null</td>\n",
       "      <td>null</td>\n",
       "      <td>https://github.com/hashicorp/consul/issues/5423</td>\n",
       "      <td>2019-03-04 19:17:00</td>\n",
       "      <td>null</td>\n",
       "      <td>0.755</td>\n",
       "      <td>2019-03-20 18:58:47</td>\n",
       "      <td>Consul CVE-2019-8336: Potential Privilege Esca...</td>\n",
       "      <td>consul cve potential privilege escalation in a...</td>\n",
       "    </tr>\n",
       "  </tbody>\n",
       "</table>\n",
       "</div>"
      ],
      "text/plain": [
       "          repository ecosystem                             repo_url  \\\n",
       "15         golang/go    golang         https://github.com/golang/go   \n",
       "16         golang/go    golang         https://github.com/golang/go   \n",
       "17  hashicorp/consul    golang  https://github.com/hashicorp/consul   \n",
       "\n",
       "             package cause_type  \\\n",
       "15         golang/go      Issue   \n",
       "16         golang/go      Issue   \n",
       "17  hashicorp/consul      Issue   \n",
       "\n",
       "                                          issue_url          issue_date  \\\n",
       "15        https://github.com/golang/go/issues/30642 2019-03-06 21:00:30   \n",
       "16        https://github.com/golang/go/issues/30794 2019-03-13 02:40:30   \n",
       "17  https://github.com/hashicorp/consul/issues/5423 2019-03-04 19:17:00   \n",
       "\n",
       "   fixed_url fixed_date commit_url commit_date  \\\n",
       "15      null       null       null        null   \n",
       "16      null       null       null        null   \n",
       "17      null       null       null        null   \n",
       "\n",
       "                                     identified_url     identified_date  \\\n",
       "15        https://github.com/golang/go/issues/30642 2019-03-06 21:00:30   \n",
       "16        https://github.com/golang/go/issues/30794 2019-03-13 02:40:30   \n",
       "17  https://github.com/hashicorp/consul/issues/5423 2019-03-04 19:17:00   \n",
       "\n",
       "   files_changed  flagged_score           flagged_at  \\\n",
       "15          null          0.851  2019-03-20 18:58:47   \n",
       "16          null          0.750  2019-03-20 18:58:47   \n",
       "17          null          0.755  2019-03-20 18:58:47   \n",
       "\n",
       "                                          description  \\\n",
       "15  runtime: dll injection vulnerabilities on Wind...   \n",
       "16  net/http CRLF injection vulnerability <!-- Ple...   \n",
       "17  Consul CVE-2019-8336: Potential Privilege Esca...   \n",
       "\n",
       "                                     norm_description  \n",
       "15  runtime dll injection vulnerabilities on windo...  \n",
       "16  net http crlf injection vulnerability what ver...  \n",
       "17  consul cve potential privilege escalation in a...  "
      ]
     },
     "execution_count": 147,
     "metadata": {},
     "output_type": "execute_result"
    }
   ],
   "source": [
    "cve_df"
   ]
  },
  {
   "cell_type": "code",
   "execution_count": 148,
   "metadata": {},
   "outputs": [],
   "source": [
    "from utils import github_events_linker as gle\n",
    "import os"
   ]
  },
  {
   "cell_type": "code",
   "execution_count": 149,
   "metadata": {},
   "outputs": [
    {
     "data": {
      "text/plain": [
       "(3, 3)"
      ]
     },
     "execution_count": 149,
     "metadata": {},
     "output_type": "execute_result"
    }
   ],
   "source": [
    "event_links = (cve_df[['issue_url', 'fixed_url', 'commit_url']]\n",
    "                .replace('null', np.nan)\n",
    "                .fillna(method='bfill',axis=1)\n",
    "               .iloc[:,0]).tolist()\n",
    "\n",
    "event_types = cve_df['cause_type'].tolist()\n",
    "len(event_links), len(event_types)"
   ]
  },
  {
   "cell_type": "code",
   "execution_count": 150,
   "metadata": {},
   "outputs": [
    {
     "name": "stdout",
     "output_type": "stream",
     "text": [
      "CPU times: user 68.9 ms, sys: 4.79 ms, total: 73.7 ms\n",
      "Wall time: 4.97 s\n"
     ]
    }
   ],
   "source": [
    "%%time\n",
    "\n",
    "gh_events_linkage_data = gle.generate_github_events_dependency_data(gh_urls=event_links, \n",
    "                                                                    gh_event_types=event_types, \n",
    "                                                                    github_user='dipanjanS',\n",
    "                                                                    github_auth=os.environ['GITHUB_TOKEN'])"
   ]
  },
  {
   "cell_type": "code",
   "execution_count": 151,
   "metadata": {},
   "outputs": [
    {
     "data": {
      "text/html": [
       "<div>\n",
       "<style scoped>\n",
       "    .dataframe tbody tr th:only-of-type {\n",
       "        vertical-align: middle;\n",
       "    }\n",
       "\n",
       "    .dataframe tbody tr th {\n",
       "        vertical-align: top;\n",
       "    }\n",
       "\n",
       "    .dataframe thead th {\n",
       "        text-align: right;\n",
       "    }\n",
       "</style>\n",
       "<table border=\"1\" class=\"dataframe\">\n",
       "  <thead>\n",
       "    <tr style=\"text-align: right;\">\n",
       "      <th></th>\n",
       "      <th>commit_url</th>\n",
       "      <th>files_changed</th>\n",
       "      <th>fixed_url</th>\n",
       "      <th>issue_url</th>\n",
       "    </tr>\n",
       "  </thead>\n",
       "  <tbody>\n",
       "    <tr>\n",
       "      <th>0</th>\n",
       "      <td>[]</td>\n",
       "      <td>[]</td>\n",
       "      <td>[]</td>\n",
       "      <td>[https://github.com/golang/go/issues/30642]</td>\n",
       "    </tr>\n",
       "    <tr>\n",
       "      <th>1</th>\n",
       "      <td>[]</td>\n",
       "      <td>[]</td>\n",
       "      <td>[]</td>\n",
       "      <td>[https://github.com/golang/go/issues/30794]</td>\n",
       "    </tr>\n",
       "    <tr>\n",
       "      <th>2</th>\n",
       "      <td>[]</td>\n",
       "      <td>[]</td>\n",
       "      <td>[]</td>\n",
       "      <td>[https://github.com/hashicorp/consul/issues/5423]</td>\n",
       "    </tr>\n",
       "  </tbody>\n",
       "</table>\n",
       "</div>"
      ],
      "text/plain": [
       "  commit_url files_changed fixed_url  \\\n",
       "0         []            []        []   \n",
       "1         []            []        []   \n",
       "2         []            []        []   \n",
       "\n",
       "                                           issue_url  \n",
       "0        [https://github.com/golang/go/issues/30642]  \n",
       "1        [https://github.com/golang/go/issues/30794]  \n",
       "2  [https://github.com/hashicorp/consul/issues/5423]  "
      ]
     },
     "execution_count": 151,
     "metadata": {},
     "output_type": "execute_result"
    }
   ],
   "source": [
    "gh_events_linkage_df = pd.DataFrame(gh_events_linkage_data)\n",
    "gh_events_linkage_df.head()"
   ]
  },
  {
   "cell_type": "code",
   "execution_count": 152,
   "metadata": {},
   "outputs": [],
   "source": [
    "flatten = lambda l: [item for sublist in l for item in sublist]\n",
    "gh_events_linkage_df['files_changed'] = [flatten(list_items) \n",
    "                                             for list_items \n",
    "                                                 in gh_events_linkage_df['files_changed'].tolist()]"
   ]
  },
  {
   "cell_type": "code",
   "execution_count": 153,
   "metadata": {},
   "outputs": [
    {
     "data": {
      "text/html": [
       "<div>\n",
       "<style scoped>\n",
       "    .dataframe tbody tr th:only-of-type {\n",
       "        vertical-align: middle;\n",
       "    }\n",
       "\n",
       "    .dataframe tbody tr th {\n",
       "        vertical-align: top;\n",
       "    }\n",
       "\n",
       "    .dataframe thead th {\n",
       "        text-align: right;\n",
       "    }\n",
       "</style>\n",
       "<table border=\"1\" class=\"dataframe\">\n",
       "  <thead>\n",
       "    <tr style=\"text-align: right;\">\n",
       "      <th></th>\n",
       "      <th>commit_url</th>\n",
       "      <th>files_changed</th>\n",
       "      <th>fixed_url</th>\n",
       "      <th>issue_url</th>\n",
       "    </tr>\n",
       "  </thead>\n",
       "  <tbody>\n",
       "    <tr>\n",
       "      <th>0</th>\n",
       "      <td>null</td>\n",
       "      <td>null</td>\n",
       "      <td>null</td>\n",
       "      <td>[\"https://github.com/golang/go/issues/30642\"]</td>\n",
       "    </tr>\n",
       "    <tr>\n",
       "      <th>1</th>\n",
       "      <td>null</td>\n",
       "      <td>null</td>\n",
       "      <td>null</td>\n",
       "      <td>[\"https://github.com/golang/go/issues/30794\"]</td>\n",
       "    </tr>\n",
       "    <tr>\n",
       "      <th>2</th>\n",
       "      <td>null</td>\n",
       "      <td>null</td>\n",
       "      <td>null</td>\n",
       "      <td>[\"https://github.com/hashicorp/consul/issues/5...</td>\n",
       "    </tr>\n",
       "  </tbody>\n",
       "</table>\n",
       "</div>"
      ],
      "text/plain": [
       "  commit_url files_changed fixed_url  \\\n",
       "0       null          null      null   \n",
       "1       null          null      null   \n",
       "2       null          null      null   \n",
       "\n",
       "                                           issue_url  \n",
       "0      [\"https://github.com/golang/go/issues/30642\"]  \n",
       "1      [\"https://github.com/golang/go/issues/30794\"]  \n",
       "2  [\"https://github.com/hashicorp/consul/issues/5...  "
      ]
     },
     "execution_count": 153,
     "metadata": {},
     "output_type": "execute_result"
    }
   ],
   "source": [
    "import ast\n",
    "import json\n",
    "\n",
    "gh_events_linkage_df = (gh_events_linkage_df.applymap(str)\n",
    "                    .replace(to_replace='[]', value='null')\n",
    "                    .applymap(lambda x: x if x == 'null' \n",
    "                                          else json.dumps(ast.literal_eval(x))))\n",
    "gh_events_linkage_df.head()"
   ]
  },
  {
   "cell_type": "code",
   "execution_count": 165,
   "metadata": {},
   "outputs": [],
   "source": [
    "results_df = cve_df.copy(deep=True).reset_index(drop=True)\n",
    "results_df['issue_url'] = gh_events_linkage_df['issue_url']\n",
    "results_df['fixed_url'] = gh_events_linkage_df['fixed_url']\n",
    "results_df['commit_url'] = gh_events_linkage_df['commit_url']\n",
    "results_df['files_changed'] = gh_events_linkage_df['files_changed']\n",
    "results_df['identified_url'] = results_df.apply(lambda row: row['issue_url'] if row['cause_type'] == 'Issue' \n",
    "                                                 else row['fixed_url'] \n",
    "                                                     if row['cause_type'] == 'Pull Request'\n",
    "                                                         else 'null', axis=1)"
   ]
  },
  {
   "cell_type": "code",
   "execution_count": 167,
   "metadata": {},
   "outputs": [
    {
     "data": {
      "text/html": [
       "<div>\n",
       "<style scoped>\n",
       "    .dataframe tbody tr th:only-of-type {\n",
       "        vertical-align: middle;\n",
       "    }\n",
       "\n",
       "    .dataframe tbody tr th {\n",
       "        vertical-align: top;\n",
       "    }\n",
       "\n",
       "    .dataframe thead th {\n",
       "        text-align: right;\n",
       "    }\n",
       "</style>\n",
       "<table border=\"1\" class=\"dataframe\">\n",
       "  <thead>\n",
       "    <tr style=\"text-align: right;\">\n",
       "      <th></th>\n",
       "      <th>repository</th>\n",
       "      <th>ecosystem</th>\n",
       "      <th>repo_url</th>\n",
       "      <th>package</th>\n",
       "      <th>cause_type</th>\n",
       "      <th>issue_url</th>\n",
       "      <th>issue_date</th>\n",
       "      <th>fixed_url</th>\n",
       "      <th>fixed_date</th>\n",
       "      <th>commit_url</th>\n",
       "      <th>commit_date</th>\n",
       "      <th>identified_url</th>\n",
       "      <th>identified_date</th>\n",
       "      <th>files_changed</th>\n",
       "      <th>flagged_score</th>\n",
       "      <th>flagged_at</th>\n",
       "    </tr>\n",
       "  </thead>\n",
       "  <tbody>\n",
       "    <tr>\n",
       "      <th>0</th>\n",
       "      <td>golang/go</td>\n",
       "      <td>golang</td>\n",
       "      <td>https://github.com/golang/go</td>\n",
       "      <td>golang/go</td>\n",
       "      <td>Issue</td>\n",
       "      <td>[\"https://github.com/golang/go/issues/30642\"]</td>\n",
       "      <td>2019-03-06 21:00:30</td>\n",
       "      <td>null</td>\n",
       "      <td>null</td>\n",
       "      <td>null</td>\n",
       "      <td>null</td>\n",
       "      <td>[\"https://github.com/golang/go/issues/30642\"]</td>\n",
       "      <td>2019-03-06 21:00:30</td>\n",
       "      <td>null</td>\n",
       "      <td>0.851</td>\n",
       "      <td>2019-03-20 18:58:47</td>\n",
       "    </tr>\n",
       "    <tr>\n",
       "      <th>1</th>\n",
       "      <td>golang/go</td>\n",
       "      <td>golang</td>\n",
       "      <td>https://github.com/golang/go</td>\n",
       "      <td>golang/go</td>\n",
       "      <td>Issue</td>\n",
       "      <td>[\"https://github.com/golang/go/issues/30794\"]</td>\n",
       "      <td>2019-03-13 02:40:30</td>\n",
       "      <td>null</td>\n",
       "      <td>null</td>\n",
       "      <td>null</td>\n",
       "      <td>null</td>\n",
       "      <td>[\"https://github.com/golang/go/issues/30794\"]</td>\n",
       "      <td>2019-03-13 02:40:30</td>\n",
       "      <td>null</td>\n",
       "      <td>0.750</td>\n",
       "      <td>2019-03-20 18:58:47</td>\n",
       "    </tr>\n",
       "    <tr>\n",
       "      <th>2</th>\n",
       "      <td>hashicorp/consul</td>\n",
       "      <td>golang</td>\n",
       "      <td>https://github.com/hashicorp/consul</td>\n",
       "      <td>hashicorp/consul</td>\n",
       "      <td>Issue</td>\n",
       "      <td>[\"https://github.com/hashicorp/consul/issues/5...</td>\n",
       "      <td>2019-03-04 19:17:00</td>\n",
       "      <td>null</td>\n",
       "      <td>null</td>\n",
       "      <td>null</td>\n",
       "      <td>null</td>\n",
       "      <td>[\"https://github.com/hashicorp/consul/issues/5...</td>\n",
       "      <td>2019-03-04 19:17:00</td>\n",
       "      <td>null</td>\n",
       "      <td>0.755</td>\n",
       "      <td>2019-03-20 18:58:47</td>\n",
       "    </tr>\n",
       "  </tbody>\n",
       "</table>\n",
       "</div>"
      ],
      "text/plain": [
       "         repository ecosystem                             repo_url  \\\n",
       "0         golang/go    golang         https://github.com/golang/go   \n",
       "1         golang/go    golang         https://github.com/golang/go   \n",
       "2  hashicorp/consul    golang  https://github.com/hashicorp/consul   \n",
       "\n",
       "            package cause_type  \\\n",
       "0         golang/go      Issue   \n",
       "1         golang/go      Issue   \n",
       "2  hashicorp/consul      Issue   \n",
       "\n",
       "                                           issue_url          issue_date  \\\n",
       "0      [\"https://github.com/golang/go/issues/30642\"] 2019-03-06 21:00:30   \n",
       "1      [\"https://github.com/golang/go/issues/30794\"] 2019-03-13 02:40:30   \n",
       "2  [\"https://github.com/hashicorp/consul/issues/5... 2019-03-04 19:17:00   \n",
       "\n",
       "  fixed_url fixed_date commit_url commit_date  \\\n",
       "0      null       null       null        null   \n",
       "1      null       null       null        null   \n",
       "2      null       null       null        null   \n",
       "\n",
       "                                      identified_url     identified_date  \\\n",
       "0      [\"https://github.com/golang/go/issues/30642\"] 2019-03-06 21:00:30   \n",
       "1      [\"https://github.com/golang/go/issues/30794\"] 2019-03-13 02:40:30   \n",
       "2  [\"https://github.com/hashicorp/consul/issues/5... 2019-03-04 19:17:00   \n",
       "\n",
       "  files_changed  flagged_score           flagged_at  \n",
       "0          null          0.851  2019-03-20 18:58:47  \n",
       "1          null          0.750  2019-03-20 18:58:47  \n",
       "2          null          0.755  2019-03-20 18:58:47  "
      ]
     },
     "execution_count": 167,
     "metadata": {},
     "output_type": "execute_result"
    }
   ],
   "source": [
    "cols = ['repository', 'ecosystem', 'repo_url', 'package', 'cause_type', 'issue_url', 'issue_date', \n",
    "        'fixed_url', 'fixed_date',  'commit_url', 'commit_date', 'identified_url', 'identified_date', \n",
    "        'files_changed', 'flagged_score', 'flagged_at']\n",
    "results_df = results_df[cols]\n",
    "results_df.head()"
   ]
  },
  {
   "cell_type": "code",
   "execution_count": 168,
   "metadata": {},
   "outputs": [],
   "source": [
    "results_df.to_csv('../../../data/os-kube_gh-newcves.csv', sep=';', header=False, index=False)"
   ]
  },
  {
   "cell_type": "code",
   "execution_count": 169,
   "metadata": {},
   "outputs": [],
   "source": [
    "import re\n",
    "\n",
    "infile = '../../../data/os-kube_gh-newcves.csv'\n",
    "lines = []\n",
    "with open(infile, \"r\") as f:\n",
    "    for line in f:\n",
    "        line = re.sub(r'\"\"', '\"', line)\n",
    "        line = re.sub(r'\"\\[', '[', line)\n",
    "        line = re.sub(r'\\]\"', ']', line)\n",
    "        lines.append(line)"
   ]
  },
  {
   "cell_type": "code",
   "execution_count": 170,
   "metadata": {},
   "outputs": [],
   "source": [
    "lines[-1] = lines[-1].strip('\\n')"
   ]
  },
  {
   "cell_type": "code",
   "execution_count": 171,
   "metadata": {},
   "outputs": [],
   "source": [
    "with open(infile, 'w') as f:\n",
    "    f.writelines(lines)"
   ]
  },
  {
   "cell_type": "code",
   "execution_count": null,
   "metadata": {},
   "outputs": [],
   "source": []
  }
 ],
 "metadata": {
  "kernelspec": {
   "display_name": "Python 3",
   "language": "python",
   "name": "python3"
  },
  "language_info": {
   "codemirror_mode": {
    "name": "ipython",
    "version": 3
   },
   "file_extension": ".py",
   "mimetype": "text/x-python",
   "name": "python",
   "nbconvert_exporter": "python",
   "pygments_lexer": "ipython3",
   "version": "3.6.5"
  }
 },
 "nbformat": 4,
 "nbformat_minor": 2
}
