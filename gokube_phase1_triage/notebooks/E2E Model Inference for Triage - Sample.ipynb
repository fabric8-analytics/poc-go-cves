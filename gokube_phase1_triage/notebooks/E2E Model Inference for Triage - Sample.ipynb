{
 "cells": [
  {
   "cell_type": "code",
   "execution_count": 4,
   "metadata": {},
   "outputs": [],
   "source": [
    "from utils import bq_utils as bqu\n",
    "from utils import text_normalizer as tn\n",
    "import pandas as pd\n",
    "import numpy as np\n",
    "import json\n",
    "import arrow\n",
    "import gc\n",
    "import re\n",
    "import os"
   ]
  },
  {
   "cell_type": "code",
   "execution_count": 5,
   "metadata": {},
   "outputs": [
    {
     "name": "stdout",
     "output_type": "stream",
     "text": [
      "Setting up BQ Client: <utils.bq_utils.BigQueryHelper object at 0x7f84f1341668>\n"
     ]
    }
   ],
   "source": [
    "os.environ['GOOGLE_APPLICATION_CREDENTIALS'] = '../../auth/bq_key.json'\n",
    "gh_archive = bqu.BigQueryHelper(active_project= \"githubarchive\", \n",
    "                                dataset_name = \"day\")\n",
    "print('Setting up BQ Client:', gh_archive)"
   ]
  },
  {
   "cell_type": "code",
   "execution_count": 6,
   "metadata": {},
   "outputs": [
    {
     "name": "stdout",
     "output_type": "stream",
     "text": [
      "Total Repos to Track: 845\n"
     ]
    }
   ],
   "source": [
    "gh_repo_links = open('../../data/go-cves/golang-repo-list.txt').readlines()\n",
    "gh_repo_links = np.array([item.strip('\\n').strip() for item in gh_repo_links])\n",
    "\n",
    "pattern = re.compile(r'.*?github.com/(.*)', re.I)\n",
    "REPO_NAMES = np.array(list(filter(None,[pattern.search(item).group(1) \n",
    "                                            if pattern.search(item) else None \n",
    "                                               for item in gh_repo_links])))\n",
    "print('Total Repos to Track:', len(REPO_NAMES))"
   ]
  },
  {
   "cell_type": "code",
   "execution_count": 7,
   "metadata": {},
   "outputs": [],
   "source": [
    "def add_query_params(query, params_dict):\n",
    "    for i, j in params_dict.items():\n",
    "        query = query.replace(i, j)\n",
    "    return query"
   ]
  },
  {
   "cell_type": "code",
   "execution_count": 8,
   "metadata": {},
   "outputs": [
    {
     "name": "stdout",
     "output_type": "stream",
     "text": [
      "Last N days: ['20190527', '20190528']\n"
     ]
    }
   ],
   "source": [
    "# Don't change this\n",
    "PRESENT_TIME = arrow.now()\n",
    "\n",
    "# to get data for N days preceding from D - 1. Here D = present day\n",
    "# e.g if today is 20190528 and DURATION DAYS = 2\n",
    "# BQ will get data for 20190527, 20190526\n",
    "# We don't get data for day D since it will be incomplete on the same day\n",
    "# But you can get it if you want\n",
    "DURATION_DAYS = 2  # to go back two days starting from yesterday\n",
    "\n",
    "# Start time for getting data\n",
    "START_TIME = PRESENT_TIME.shift(days=-DURATION_DAYS)\n",
    "\n",
    "# End time for getting data (present_time - 1) i.e yesterday\n",
    "# you can remove -1 to get present day data\n",
    "# but it is not advised as data will be incomplete\n",
    "END_TIME = PRESENT_TIME.shift(days=-1)\n",
    "\n",
    "LAST_N_DAYS = [dt.format('YYYYMMDD') for dt in arrow.Arrow.range('day', START_TIME, END_TIME)]\n",
    "print('Last N days:', LAST_N_DAYS)"
   ]
  },
  {
   "cell_type": "code",
   "execution_count": 9,
   "metadata": {},
   "outputs": [],
   "source": [
    "YEAR_PREFIX = '20*'\n",
    "DAY_LIST = [item[2:] for item in LAST_N_DAYS]\n",
    "QUERY_PARAMS = {\n",
    "    '{year_prefix_wildcard}': YEAR_PREFIX,\n",
    "    '{year_suffix_month_day}': '('+', '.join([\"'\"+d+\"'\" for d in DAY_LIST])+')',\n",
    "    '{repo_names}': '('+', '.join([\"'\"+r+\"'\" for r in REPO_NAMES])+')'\n",
    "}"
   ]
  },
  {
   "cell_type": "code",
   "execution_count": 10,
   "metadata": {},
   "outputs": [
    {
     "data": {
      "text/plain": [
       "0.1296424763277173"
      ]
     },
     "execution_count": 10,
     "metadata": {},
     "output_type": "execute_result"
    }
   ],
   "source": [
    "query = \"\"\"\n",
    "SELECT  type, count(*)\n",
    "        FROM `githubarchive.day.{year_prefix_wildcard}`\n",
    "        WHERE _TABLE_SUFFIX IN {year_suffix_month_day}\n",
    "        AND repo.name in {repo_names}\n",
    "        AND type in ('PullRequestEvent', 'IssuesEvent')\n",
    "        GROUP BY type\n",
    "\"\"\"\n",
    "query = add_query_params(query, QUERY_PARAMS)\n",
    "gh_archive.estimate_query_size(query)"
   ]
  },
  {
   "cell_type": "code",
   "execution_count": 11,
   "metadata": {},
   "outputs": [
    {
     "data": {
      "text/html": [
       "<div>\n",
       "<style scoped>\n",
       "    .dataframe tbody tr th:only-of-type {\n",
       "        vertical-align: middle;\n",
       "    }\n",
       "\n",
       "    .dataframe tbody tr th {\n",
       "        vertical-align: top;\n",
       "    }\n",
       "\n",
       "    .dataframe thead th {\n",
       "        text-align: right;\n",
       "    }\n",
       "</style>\n",
       "<table border=\"1\" class=\"dataframe\">\n",
       "  <thead>\n",
       "    <tr style=\"text-align: right;\">\n",
       "      <th></th>\n",
       "      <th>type</th>\n",
       "      <th>f0_</th>\n",
       "    </tr>\n",
       "  </thead>\n",
       "  <tbody>\n",
       "    <tr>\n",
       "      <th>0</th>\n",
       "      <td>PullRequestEvent</td>\n",
       "      <td>615</td>\n",
       "    </tr>\n",
       "    <tr>\n",
       "      <th>1</th>\n",
       "      <td>IssuesEvent</td>\n",
       "      <td>434</td>\n",
       "    </tr>\n",
       "  </tbody>\n",
       "</table>\n",
       "</div>"
      ],
      "text/plain": [
       "               type  f0_\n",
       "0  PullRequestEvent  615\n",
       "1       IssuesEvent  434"
      ]
     },
     "execution_count": 11,
     "metadata": {},
     "output_type": "execute_result"
    }
   ],
   "source": [
    "df = gh_archive.query_to_pandas(query)\n",
    "df"
   ]
  },
  {
   "cell_type": "code",
   "execution_count": 14,
   "metadata": {},
   "outputs": [
    {
     "data": {
      "text/plain": [
       "9.224743023514748"
      ]
     },
     "execution_count": 14,
     "metadata": {},
     "output_type": "execute_result"
    }
   ],
   "source": [
    "ISSUE_QUERY = \"\"\"\n",
    "SELECT \n",
    "    repo.name as repo_name, \n",
    "    type as event_type, \n",
    "    'golang' as ecosystem,\n",
    "    JSON_EXTRACT_SCALAR(payload, '$.action') as status,\n",
    "    JSON_EXTRACT_SCALAR(payload, '$.issue.id') as id,\n",
    "    JSON_EXTRACT_SCALAR(payload, '$.issue.number') as number,\n",
    "    JSON_EXTRACT_SCALAR(payload, '$.issue.url') as api_url,\n",
    "    JSON_EXTRACT_SCALAR(payload, '$.issue.html_url') as url,\n",
    "    JSON_EXTRACT_SCALAR(payload, '$.issue.user.login') as creator_name,\n",
    "    JSON_EXTRACT_SCALAR(payload, '$.issue.user.html_url') as creator_url,\n",
    "    JSON_EXTRACT_SCALAR(payload, '$.issue.created_at') as created_at,\n",
    "    JSON_EXTRACT_SCALAR(payload, '$.issue.updated_at') as updated_at,\n",
    "    JSON_EXTRACT_SCALAR(payload, '$.issue.closed_at') as closed_at,\n",
    "    TRIM(REGEXP_REPLACE(\n",
    "             REGEXP_REPLACE(\n",
    "                 JSON_EXTRACT_SCALAR(payload, '$.issue.title'), \n",
    "                 r'\\\\r\\\\n|\\\\r|\\\\n', \n",
    "                 ' '),\n",
    "             r'\\s{2,}', \n",
    "             ' ')) as title,\n",
    "    TRIM(REGEXP_REPLACE(\n",
    "             REGEXP_REPLACE(\n",
    "                 JSON_EXTRACT_SCALAR(payload, '$.issue.body'), \n",
    "                 r'\\\\r\\\\n|\\\\r|\\\\n', \n",
    "                 ' '),\n",
    "             r'\\s{2,}', \n",
    "             ' ')) as body\n",
    "        \n",
    "FROM `githubarchive.day.{year_prefix_wildcard}`\n",
    "    WHERE _TABLE_SUFFIX IN {year_suffix_month_day}\n",
    "    AND repo.name in {repo_names}\n",
    "    AND type = 'IssuesEvent'\n",
    "    \"\"\"\n",
    "\n",
    "ISSUE_QUERY = add_query_params(ISSUE_QUERY, QUERY_PARAMS)\n",
    "gh_archive.estimate_query_size(ISSUE_QUERY)"
   ]
  },
  {
   "cell_type": "code",
   "execution_count": 15,
   "metadata": {},
   "outputs": [
    {
     "data": {
      "text/plain": [
       "(434, 15)"
      ]
     },
     "execution_count": 15,
     "metadata": {},
     "output_type": "execute_result"
    }
   ],
   "source": [
    "issues_df = gh_archive.query_to_pandas(ISSUE_QUERY)\n",
    "issues_df.shape"
   ]
  },
  {
   "cell_type": "code",
   "execution_count": 16,
   "metadata": {},
   "outputs": [
    {
     "data": {
      "text/html": [
       "<div>\n",
       "<style scoped>\n",
       "    .dataframe tbody tr th:only-of-type {\n",
       "        vertical-align: middle;\n",
       "    }\n",
       "\n",
       "    .dataframe tbody tr th {\n",
       "        vertical-align: top;\n",
       "    }\n",
       "\n",
       "    .dataframe thead th {\n",
       "        text-align: right;\n",
       "    }\n",
       "</style>\n",
       "<table border=\"1\" class=\"dataframe\">\n",
       "  <thead>\n",
       "    <tr style=\"text-align: right;\">\n",
       "      <th></th>\n",
       "      <th>repo_name</th>\n",
       "      <th>event_type</th>\n",
       "      <th>ecosystem</th>\n",
       "      <th>status</th>\n",
       "      <th>id</th>\n",
       "      <th>number</th>\n",
       "      <th>api_url</th>\n",
       "      <th>url</th>\n",
       "      <th>creator_name</th>\n",
       "      <th>creator_url</th>\n",
       "      <th>created_at</th>\n",
       "      <th>updated_at</th>\n",
       "      <th>closed_at</th>\n",
       "      <th>title</th>\n",
       "      <th>body</th>\n",
       "    </tr>\n",
       "  </thead>\n",
       "  <tbody>\n",
       "    <tr>\n",
       "      <th>0</th>\n",
       "      <td>google/go-cmp</td>\n",
       "      <td>IssuesEvent</td>\n",
       "      <td>golang</td>\n",
       "      <td>opened</td>\n",
       "      <td>449409868</td>\n",
       "      <td>143</td>\n",
       "      <td>https://api.github.com/repos/google/go-cmp/iss...</td>\n",
       "      <td>https://github.com/google/go-cmp/issues/143</td>\n",
       "      <td>mrkagelui</td>\n",
       "      <td>https://github.com/mrkagelui</td>\n",
       "      <td>2019-05-28T18:17:33Z</td>\n",
       "      <td>2019-05-28T18:17:33Z</td>\n",
       "      <td>None</td>\n",
       "      <td>cmpopts to ignore fields within slices?</td>\n",
       "      <td>Hi all, My struct looks like this: ```go type ...</td>\n",
       "    </tr>\n",
       "    <tr>\n",
       "      <th>1</th>\n",
       "      <td>golang/go</td>\n",
       "      <td>IssuesEvent</td>\n",
       "      <td>golang</td>\n",
       "      <td>closed</td>\n",
       "      <td>433886750</td>\n",
       "      <td>31488</td>\n",
       "      <td>https://api.github.com/repos/golang/go/issues/...</td>\n",
       "      <td>https://github.com/golang/go/issues/31488</td>\n",
       "      <td>bcmills</td>\n",
       "      <td>https://github.com/bcmills</td>\n",
       "      <td>2019-04-16T16:55:12Z</td>\n",
       "      <td>2019-05-28T18:03:21Z</td>\n",
       "      <td>2019-05-28T18:03:21Z</td>\n",
       "      <td>x/build/cmd/gopherbot: test issue (ignore this)</td>\n",
       "      <td>Pay no attention to the man behind the curtain.</td>\n",
       "    </tr>\n",
       "    <tr>\n",
       "      <th>2</th>\n",
       "      <td>golang/go</td>\n",
       "      <td>IssuesEvent</td>\n",
       "      <td>golang</td>\n",
       "      <td>closed</td>\n",
       "      <td>398648020</td>\n",
       "      <td>29718</td>\n",
       "      <td>https://api.github.com/repos/golang/go/issues/...</td>\n",
       "      <td>https://github.com/golang/go/issues/29718</td>\n",
       "      <td>tonifirnandes</td>\n",
       "      <td>https://github.com/tonifirnandes</td>\n",
       "      <td>2019-01-13T11:28:03Z</td>\n",
       "      <td>2019-05-28T18:04:25Z</td>\n",
       "      <td>2019-05-28T18:04:25Z</td>\n",
       "      <td>question: how to get go code from .aar file</td>\n",
       "      <td>Dear team, I have built .aar file from gomobil...</td>\n",
       "    </tr>\n",
       "    <tr>\n",
       "      <th>3</th>\n",
       "      <td>golang/go</td>\n",
       "      <td>IssuesEvent</td>\n",
       "      <td>golang</td>\n",
       "      <td>closed</td>\n",
       "      <td>435557563</td>\n",
       "      <td>31605</td>\n",
       "      <td>https://api.github.com/repos/golang/go/issues/...</td>\n",
       "      <td>https://github.com/golang/go/issues/31605</td>\n",
       "      <td>arnottcr</td>\n",
       "      <td>https://github.com/arnottcr</td>\n",
       "      <td>2019-04-21T23:23:48Z</td>\n",
       "      <td>2019-05-28T18:29:38Z</td>\n",
       "      <td>2019-05-28T18:29:38Z</td>\n",
       "      <td>cmd/go: error loading subpackage with pathMajo...</td>\n",
       "      <td>&lt;!-- Please answer these questions before subm...</td>\n",
       "    </tr>\n",
       "    <tr>\n",
       "      <th>4</th>\n",
       "      <td>influxdata/influxdb</td>\n",
       "      <td>IssuesEvent</td>\n",
       "      <td>golang</td>\n",
       "      <td>opened</td>\n",
       "      <td>449411669</td>\n",
       "      <td>13998</td>\n",
       "      <td>https://api.github.com/repos/influxdata/influx...</td>\n",
       "      <td>https://github.com/influxdata/influxdb/issues/...</td>\n",
       "      <td>nathanielc</td>\n",
       "      <td>https://github.com/nathanielc</td>\n",
       "      <td>2019-05-28T18:22:11Z</td>\n",
       "      <td>2019-05-28T18:22:11Z</td>\n",
       "      <td>None</td>\n",
       "      <td>Parse Flux int he browser</td>\n",
       "      <td>We need the ability to parse Flux source code ...</td>\n",
       "    </tr>\n",
       "  </tbody>\n",
       "</table>\n",
       "</div>"
      ],
      "text/plain": [
       "             repo_name   event_type ecosystem  status         id number  \\\n",
       "0        google/go-cmp  IssuesEvent    golang  opened  449409868    143   \n",
       "1            golang/go  IssuesEvent    golang  closed  433886750  31488   \n",
       "2            golang/go  IssuesEvent    golang  closed  398648020  29718   \n",
       "3            golang/go  IssuesEvent    golang  closed  435557563  31605   \n",
       "4  influxdata/influxdb  IssuesEvent    golang  opened  449411669  13998   \n",
       "\n",
       "                                             api_url  \\\n",
       "0  https://api.github.com/repos/google/go-cmp/iss...   \n",
       "1  https://api.github.com/repos/golang/go/issues/...   \n",
       "2  https://api.github.com/repos/golang/go/issues/...   \n",
       "3  https://api.github.com/repos/golang/go/issues/...   \n",
       "4  https://api.github.com/repos/influxdata/influx...   \n",
       "\n",
       "                                                 url   creator_name  \\\n",
       "0        https://github.com/google/go-cmp/issues/143      mrkagelui   \n",
       "1          https://github.com/golang/go/issues/31488        bcmills   \n",
       "2          https://github.com/golang/go/issues/29718  tonifirnandes   \n",
       "3          https://github.com/golang/go/issues/31605       arnottcr   \n",
       "4  https://github.com/influxdata/influxdb/issues/...     nathanielc   \n",
       "\n",
       "                        creator_url            created_at  \\\n",
       "0      https://github.com/mrkagelui  2019-05-28T18:17:33Z   \n",
       "1        https://github.com/bcmills  2019-04-16T16:55:12Z   \n",
       "2  https://github.com/tonifirnandes  2019-01-13T11:28:03Z   \n",
       "3       https://github.com/arnottcr  2019-04-21T23:23:48Z   \n",
       "4     https://github.com/nathanielc  2019-05-28T18:22:11Z   \n",
       "\n",
       "             updated_at             closed_at  \\\n",
       "0  2019-05-28T18:17:33Z                  None   \n",
       "1  2019-05-28T18:03:21Z  2019-05-28T18:03:21Z   \n",
       "2  2019-05-28T18:04:25Z  2019-05-28T18:04:25Z   \n",
       "3  2019-05-28T18:29:38Z  2019-05-28T18:29:38Z   \n",
       "4  2019-05-28T18:22:11Z                  None   \n",
       "\n",
       "                                               title  \\\n",
       "0            cmpopts to ignore fields within slices?   \n",
       "1    x/build/cmd/gopherbot: test issue (ignore this)   \n",
       "2        question: how to get go code from .aar file   \n",
       "3  cmd/go: error loading subpackage with pathMajo...   \n",
       "4                          Parse Flux int he browser   \n",
       "\n",
       "                                                body  \n",
       "0  Hi all, My struct looks like this: ```go type ...  \n",
       "1    Pay no attention to the man behind the curtain.  \n",
       "2  Dear team, I have built .aar file from gomobil...  \n",
       "3  <!-- Please answer these questions before subm...  \n",
       "4  We need the ability to parse Flux source code ...  "
      ]
     },
     "execution_count": 16,
     "metadata": {},
     "output_type": "execute_result"
    }
   ],
   "source": [
    "issues_df.head()"
   ]
  },
  {
   "cell_type": "code",
   "execution_count": 17,
   "metadata": {},
   "outputs": [
    {
     "data": {
      "text/plain": [
       "(375, 15)"
      ]
     },
     "execution_count": 17,
     "metadata": {},
     "output_type": "execute_result"
    }
   ],
   "source": [
    "issues_df.created_at = pd.to_datetime(issues_df.created_at)\n",
    "issues_df.updated_at = pd.to_datetime(issues_df.updated_at)\n",
    "issues_df.closed_at = pd.to_datetime(issues_df.closed_at)\n",
    "issues_df = issues_df.loc[issues_df.groupby('url').updated_at.idxmax(skipna=False)].reset_index(drop=True)\n",
    "issues_df.shape"
   ]
  },
  {
   "cell_type": "code",
   "execution_count": 18,
   "metadata": {},
   "outputs": [
    {
     "data": {
      "text/plain": [
       "9.224743023514748"
      ]
     },
     "execution_count": 18,
     "metadata": {},
     "output_type": "execute_result"
    }
   ],
   "source": [
    "PR_QUERY = \"\"\"\n",
    "SELECT \n",
    "    repo.name as repo_name, \n",
    "    type as event_type, \n",
    "    'golang' as ecosystem,\n",
    "    JSON_EXTRACT_SCALAR(payload, '$.action') as status,\n",
    "    JSON_EXTRACT_SCALAR(payload, '$.pull_request.id') as id,\n",
    "    JSON_EXTRACT_SCALAR(payload, '$.pull_request.number') as number,\n",
    "    JSON_EXTRACT_SCALAR(payload, '$.pull_request.url') as api_url,\n",
    "    JSON_EXTRACT_SCALAR(payload, '$.pull_request.html_url') as url,\n",
    "    JSON_EXTRACT_SCALAR(payload, '$.pull_request.user.login') as creator_name,\n",
    "    JSON_EXTRACT_SCALAR(payload, '$.pull_request.user.html_url') as creator_url,\n",
    "    JSON_EXTRACT_SCALAR(payload, '$.pull_request.created_at') as created_at,\n",
    "    JSON_EXTRACT_SCALAR(payload, '$.pull_request.updated_at') as updated_at,\n",
    "    JSON_EXTRACT_SCALAR(payload, '$.pull_request.closed_at') as closed_at,   \n",
    "    TRIM(REGEXP_REPLACE(\n",
    "             REGEXP_REPLACE(\n",
    "                 JSON_EXTRACT_SCALAR(payload, '$.pull_request.title'), \n",
    "                 r'\\\\r\\\\n|\\\\r|\\\\n', \n",
    "                 ' '),\n",
    "             r'\\s{2,}', \n",
    "             ' ')) as title,\n",
    "    TRIM(REGEXP_REPLACE(\n",
    "             REGEXP_REPLACE(\n",
    "                 JSON_EXTRACT_SCALAR(payload, '$.pull_request.body'), \n",
    "                 r'\\\\r\\\\n|\\\\r|\\\\n', \n",
    "                 ' '),\n",
    "             r'\\s{2,}', \n",
    "             ' ')) as body\n",
    "        \n",
    "FROM `githubarchive.day.{year_prefix_wildcard}`\n",
    "    WHERE _TABLE_SUFFIX IN {year_suffix_month_day}\n",
    "    AND repo.name in {repo_names}\n",
    "    AND type = 'PullRequestEvent'\n",
    "\"\"\"\n",
    "\n",
    "PR_QUERY = add_query_params(PR_QUERY, QUERY_PARAMS)\n",
    "gh_archive.estimate_query_size(PR_QUERY)"
   ]
  },
  {
   "cell_type": "code",
   "execution_count": 19,
   "metadata": {},
   "outputs": [
    {
     "data": {
      "text/plain": [
       "(615, 15)"
      ]
     },
     "execution_count": 19,
     "metadata": {},
     "output_type": "execute_result"
    }
   ],
   "source": [
    "prs_df = gh_archive.query_to_pandas(PR_QUERY)\n",
    "prs_df.shape"
   ]
  },
  {
   "cell_type": "code",
   "execution_count": 20,
   "metadata": {},
   "outputs": [
    {
     "data": {
      "text/plain": [
       "(475, 15)"
      ]
     },
     "execution_count": 20,
     "metadata": {},
     "output_type": "execute_result"
    }
   ],
   "source": [
    "prs_df.created_at = pd.to_datetime(prs_df.created_at)\n",
    "prs_df.updated_at = pd.to_datetime(prs_df.updated_at)\n",
    "prs_df.closed_at = pd.to_datetime(prs_df.closed_at)\n",
    "prs_df = prs_df.loc[prs_df.groupby('url').updated_at.idxmax(skipna=False)].reset_index(drop=True)\n",
    "prs_df.shape"
   ]
  },
  {
   "cell_type": "code",
   "execution_count": 21,
   "metadata": {},
   "outputs": [
    {
     "data": {
      "text/html": [
       "<div>\n",
       "<style scoped>\n",
       "    .dataframe tbody tr th:only-of-type {\n",
       "        vertical-align: middle;\n",
       "    }\n",
       "\n",
       "    .dataframe tbody tr th {\n",
       "        vertical-align: top;\n",
       "    }\n",
       "\n",
       "    .dataframe thead th {\n",
       "        text-align: right;\n",
       "    }\n",
       "</style>\n",
       "<table border=\"1\" class=\"dataframe\">\n",
       "  <thead>\n",
       "    <tr style=\"text-align: right;\">\n",
       "      <th></th>\n",
       "      <th>repo_name</th>\n",
       "      <th>event_type</th>\n",
       "      <th>ecosystem</th>\n",
       "      <th>status</th>\n",
       "      <th>id</th>\n",
       "      <th>number</th>\n",
       "      <th>api_url</th>\n",
       "      <th>url</th>\n",
       "      <th>creator_name</th>\n",
       "      <th>creator_url</th>\n",
       "      <th>created_at</th>\n",
       "      <th>updated_at</th>\n",
       "      <th>closed_at</th>\n",
       "      <th>title</th>\n",
       "      <th>body</th>\n",
       "    </tr>\n",
       "  </thead>\n",
       "  <tbody>\n",
       "    <tr>\n",
       "      <th>0</th>\n",
       "      <td>Azure/azure-sdk-for-go</td>\n",
       "      <td>PullRequestEvent</td>\n",
       "      <td>golang</td>\n",
       "      <td>closed</td>\n",
       "      <td>273727170</td>\n",
       "      <td>4668</td>\n",
       "      <td>https://api.github.com/repos/Azure/azure-sdk-f...</td>\n",
       "      <td>https://github.com/Azure/azure-sdk-for-go/pull...</td>\n",
       "      <td>AutorestCI</td>\n",
       "      <td>https://github.com/AutorestCI</td>\n",
       "      <td>2019-04-26 00:46:34+00:00</td>\n",
       "      <td>2019-05-28 17:01:24+00:00</td>\n",
       "      <td>2019-05-28 17:01:24+00:00</td>\n",
       "      <td>[AutoPR resources/resource-manager] Add deploy...</td>\n",
       "      <td>Created to sync https://github.com/Azure/azure...</td>\n",
       "    </tr>\n",
       "    <tr>\n",
       "      <th>1</th>\n",
       "      <td>Azure/azure-sdk-for-go</td>\n",
       "      <td>PullRequestEvent</td>\n",
       "      <td>golang</td>\n",
       "      <td>closed</td>\n",
       "      <td>275325719</td>\n",
       "      <td>4730</td>\n",
       "      <td>https://api.github.com/repos/Azure/azure-sdk-f...</td>\n",
       "      <td>https://github.com/Azure/azure-sdk-for-go/pull...</td>\n",
       "      <td>AutorestCI</td>\n",
       "      <td>https://github.com/AutorestCI</td>\n",
       "      <td>2019-05-02 11:30:02+00:00</td>\n",
       "      <td>2019-05-28 16:47:31+00:00</td>\n",
       "      <td>2019-05-28 16:47:31+00:00</td>\n",
       "      <td>[AutoPR security/resource-manager] Add playboo...</td>\n",
       "      <td>Created to sync https://github.com/Azure/azure...</td>\n",
       "    </tr>\n",
       "    <tr>\n",
       "      <th>2</th>\n",
       "      <td>Azure/azure-sdk-for-go</td>\n",
       "      <td>PullRequestEvent</td>\n",
       "      <td>golang</td>\n",
       "      <td>closed</td>\n",
       "      <td>277198569</td>\n",
       "      <td>4763</td>\n",
       "      <td>https://api.github.com/repos/Azure/azure-sdk-f...</td>\n",
       "      <td>https://github.com/Azure/azure-sdk-for-go/pull...</td>\n",
       "      <td>AutorestCI</td>\n",
       "      <td>https://github.com/AutorestCI</td>\n",
       "      <td>2019-05-08 23:34:33+00:00</td>\n",
       "      <td>2019-05-28 17:00:59+00:00</td>\n",
       "      <td>2019-05-28 17:00:59+00:00</td>\n",
       "      <td>[AutoPR resources/resource-manager] Add jit re...</td>\n",
       "      <td>Created to sync https://github.com/Azure/azure...</td>\n",
       "    </tr>\n",
       "    <tr>\n",
       "      <th>3</th>\n",
       "      <td>Azure/azure-sdk-for-go</td>\n",
       "      <td>PullRequestEvent</td>\n",
       "      <td>golang</td>\n",
       "      <td>closed</td>\n",
       "      <td>277198579</td>\n",
       "      <td>4764</td>\n",
       "      <td>https://api.github.com/repos/Azure/azure-sdk-f...</td>\n",
       "      <td>https://github.com/Azure/azure-sdk-for-go/pull...</td>\n",
       "      <td>AutorestCI</td>\n",
       "      <td>https://github.com/AutorestCI</td>\n",
       "      <td>2019-05-08 23:34:36+00:00</td>\n",
       "      <td>2019-05-28 17:00:40+00:00</td>\n",
       "      <td>2019-05-28 17:00:40+00:00</td>\n",
       "      <td>[AutoPR] resources/resource-manager</td>\n",
       "      <td>Created to accumulate context: resources/resou...</td>\n",
       "    </tr>\n",
       "    <tr>\n",
       "      <th>4</th>\n",
       "      <td>Azure/azure-sdk-for-go</td>\n",
       "      <td>PullRequestEvent</td>\n",
       "      <td>golang</td>\n",
       "      <td>closed</td>\n",
       "      <td>277938747</td>\n",
       "      <td>4776</td>\n",
       "      <td>https://api.github.com/repos/Azure/azure-sdk-f...</td>\n",
       "      <td>https://github.com/Azure/azure-sdk-for-go/pull...</td>\n",
       "      <td>AutorestCI</td>\n",
       "      <td>https://github.com/AutorestCI</td>\n",
       "      <td>2019-05-10 23:53:39+00:00</td>\n",
       "      <td>2019-05-28 16:43:29+00:00</td>\n",
       "      <td>2019-05-28 16:43:29+00:00</td>\n",
       "      <td>[AutoPR] cdn/resource-manager</td>\n",
       "      <td>Created to accumulate context: cdn/resource-ma...</td>\n",
       "    </tr>\n",
       "  </tbody>\n",
       "</table>\n",
       "</div>"
      ],
      "text/plain": [
       "                repo_name        event_type ecosystem  status         id  \\\n",
       "0  Azure/azure-sdk-for-go  PullRequestEvent    golang  closed  273727170   \n",
       "1  Azure/azure-sdk-for-go  PullRequestEvent    golang  closed  275325719   \n",
       "2  Azure/azure-sdk-for-go  PullRequestEvent    golang  closed  277198569   \n",
       "3  Azure/azure-sdk-for-go  PullRequestEvent    golang  closed  277198579   \n",
       "4  Azure/azure-sdk-for-go  PullRequestEvent    golang  closed  277938747   \n",
       "\n",
       "  number                                            api_url  \\\n",
       "0   4668  https://api.github.com/repos/Azure/azure-sdk-f...   \n",
       "1   4730  https://api.github.com/repos/Azure/azure-sdk-f...   \n",
       "2   4763  https://api.github.com/repos/Azure/azure-sdk-f...   \n",
       "3   4764  https://api.github.com/repos/Azure/azure-sdk-f...   \n",
       "4   4776  https://api.github.com/repos/Azure/azure-sdk-f...   \n",
       "\n",
       "                                                 url creator_name  \\\n",
       "0  https://github.com/Azure/azure-sdk-for-go/pull...   AutorestCI   \n",
       "1  https://github.com/Azure/azure-sdk-for-go/pull...   AutorestCI   \n",
       "2  https://github.com/Azure/azure-sdk-for-go/pull...   AutorestCI   \n",
       "3  https://github.com/Azure/azure-sdk-for-go/pull...   AutorestCI   \n",
       "4  https://github.com/Azure/azure-sdk-for-go/pull...   AutorestCI   \n",
       "\n",
       "                     creator_url                created_at  \\\n",
       "0  https://github.com/AutorestCI 2019-04-26 00:46:34+00:00   \n",
       "1  https://github.com/AutorestCI 2019-05-02 11:30:02+00:00   \n",
       "2  https://github.com/AutorestCI 2019-05-08 23:34:33+00:00   \n",
       "3  https://github.com/AutorestCI 2019-05-08 23:34:36+00:00   \n",
       "4  https://github.com/AutorestCI 2019-05-10 23:53:39+00:00   \n",
       "\n",
       "                 updated_at                 closed_at  \\\n",
       "0 2019-05-28 17:01:24+00:00 2019-05-28 17:01:24+00:00   \n",
       "1 2019-05-28 16:47:31+00:00 2019-05-28 16:47:31+00:00   \n",
       "2 2019-05-28 17:00:59+00:00 2019-05-28 17:00:59+00:00   \n",
       "3 2019-05-28 17:00:40+00:00 2019-05-28 17:00:40+00:00   \n",
       "4 2019-05-28 16:43:29+00:00 2019-05-28 16:43:29+00:00   \n",
       "\n",
       "                                               title  \\\n",
       "0  [AutoPR resources/resource-manager] Add deploy...   \n",
       "1  [AutoPR security/resource-manager] Add playboo...   \n",
       "2  [AutoPR resources/resource-manager] Add jit re...   \n",
       "3                [AutoPR] resources/resource-manager   \n",
       "4                      [AutoPR] cdn/resource-manager   \n",
       "\n",
       "                                                body  \n",
       "0  Created to sync https://github.com/Azure/azure...  \n",
       "1  Created to sync https://github.com/Azure/azure...  \n",
       "2  Created to sync https://github.com/Azure/azure...  \n",
       "3  Created to accumulate context: resources/resou...  \n",
       "4  Created to accumulate context: cdn/resource-ma...  "
      ]
     },
     "execution_count": 21,
     "metadata": {},
     "output_type": "execute_result"
    }
   ],
   "source": [
    "prs_df.head()"
   ]
  },
  {
   "cell_type": "code",
   "execution_count": 22,
   "metadata": {},
   "outputs": [
    {
     "data": {
      "text/plain": [
       "(850, 14)"
      ]
     },
     "execution_count": 22,
     "metadata": {},
     "output_type": "execute_result"
    }
   ],
   "source": [
    "cols = issues_df.columns\n",
    "df = pd.concat([issues_df, prs_df], axis=0, sort=False, ignore_index=True).reset_index(drop=True)\n",
    "df = df[cols]\n",
    "df['description'] = df['title'].fillna(value='').map(str) + ' ' + df['body'].fillna(value='')\n",
    "columns = ['title', 'body']\n",
    "df.drop(columns, inplace=True, axis=1)\n",
    "df.shape"
   ]
  },
  {
   "cell_type": "code",
   "execution_count": 23,
   "metadata": {},
   "outputs": [
    {
     "name": "stderr",
     "output_type": "stream",
     "text": [
      "2019-05-29 12:13:10,162 [21605] INFO     utils.text_normalizer: Text Pre-processing: starting\n",
      "2019-05-29 12:13:10,165 [21605] INFO     utils.text_normalizer: ThreadPoolExecutor-0_0: working on doc num: 0\n",
      "2019-05-29 12:13:12,257 [21605] INFO     utils.text_normalizer: ThreadPoolExecutor-0_13: working on doc num: 849\n"
     ]
    },
    {
     "data": {
      "text/plain": [
       "(850, 14)"
      ]
     },
     "execution_count": 23,
     "metadata": {},
     "output_type": "execute_result"
    }
   ],
   "source": [
    "df['norm_description'] = tn.pre_process_documents_parallel(documents=df['description'].values)\n",
    "df.drop(['description'], inplace=True, axis=1)\n",
    "df.shape"
   ]
  },
  {
   "cell_type": "code",
   "execution_count": 24,
   "metadata": {},
   "outputs": [
    {
     "data": {
      "text/html": [
       "<div>\n",
       "<style scoped>\n",
       "    .dataframe tbody tr th:only-of-type {\n",
       "        vertical-align: middle;\n",
       "    }\n",
       "\n",
       "    .dataframe tbody tr th {\n",
       "        vertical-align: top;\n",
       "    }\n",
       "\n",
       "    .dataframe thead th {\n",
       "        text-align: right;\n",
       "    }\n",
       "</style>\n",
       "<table border=\"1\" class=\"dataframe\">\n",
       "  <thead>\n",
       "    <tr style=\"text-align: right;\">\n",
       "      <th></th>\n",
       "      <th>repo_name</th>\n",
       "      <th>event_type</th>\n",
       "      <th>ecosystem</th>\n",
       "      <th>status</th>\n",
       "      <th>id</th>\n",
       "      <th>number</th>\n",
       "      <th>api_url</th>\n",
       "      <th>url</th>\n",
       "      <th>creator_name</th>\n",
       "      <th>creator_url</th>\n",
       "      <th>created_at</th>\n",
       "      <th>updated_at</th>\n",
       "      <th>closed_at</th>\n",
       "      <th>norm_description</th>\n",
       "      <th>security_model_flag</th>\n",
       "      <th>cve_model_flag</th>\n",
       "    </tr>\n",
       "  </thead>\n",
       "  <tbody>\n",
       "    <tr>\n",
       "      <th>0</th>\n",
       "      <td>AlecAivazis/survey</td>\n",
       "      <td>IssuesEvent</td>\n",
       "      <td>golang</td>\n",
       "      <td>closed</td>\n",
       "      <td>391535316</td>\n",
       "      <td>168</td>\n",
       "      <td>https://api.github.com/repos/AlecAivazis/surve...</td>\n",
       "      <td>https://github.com/AlecAivazis/survey/issues/168</td>\n",
       "      <td>singhrasster</td>\n",
       "      <td>https://github.com/singhrasster</td>\n",
       "      <td>2018-12-17 02:24:40+00:00</td>\n",
       "      <td>2019-05-28 10:44:20+00:00</td>\n",
       "      <td>2019-05-28 10:44:20+00:00</td>\n",
       "      <td>issue with executing test suggested in readme ...</td>\n",
       "      <td>0</td>\n",
       "      <td>0</td>\n",
       "    </tr>\n",
       "    <tr>\n",
       "      <th>1</th>\n",
       "      <td>AlecAivazis/survey</td>\n",
       "      <td>IssuesEvent</td>\n",
       "      <td>golang</td>\n",
       "      <td>closed</td>\n",
       "      <td>423174952</td>\n",
       "      <td>183</td>\n",
       "      <td>https://api.github.com/repos/AlecAivazis/surve...</td>\n",
       "      <td>https://github.com/AlecAivazis/survey/issues/183</td>\n",
       "      <td>shlao</td>\n",
       "      <td>https://github.com/shlao</td>\n",
       "      <td>2019-03-20 10:27:47+00:00</td>\n",
       "      <td>2019-05-28 20:23:23+00:00</td>\n",
       "      <td>2019-05-28 20:23:23+00:00</td>\n",
       "      <td>go test is suspended when i send the string r ...</td>\n",
       "      <td>0</td>\n",
       "      <td>0</td>\n",
       "    </tr>\n",
       "    <tr>\n",
       "      <th>2</th>\n",
       "      <td>AlecAivazis/survey</td>\n",
       "      <td>IssuesEvent</td>\n",
       "      <td>golang</td>\n",
       "      <td>closed</td>\n",
       "      <td>436441636</td>\n",
       "      <td>188</td>\n",
       "      <td>https://api.github.com/repos/AlecAivazis/surve...</td>\n",
       "      <td>https://github.com/AlecAivazis/survey/issues/188</td>\n",
       "      <td>zanven42</td>\n",
       "      <td>https://github.com/zanven42</td>\n",
       "      <td>2019-04-24 00:12:06+00:00</td>\n",
       "      <td>2019-05-28 10:43:17+00:00</td>\n",
       "      <td>2019-05-28 10:43:16+00:00</td>\n",
       "      <td>dynamic question asking binary tree hi i had f...</td>\n",
       "      <td>0</td>\n",
       "      <td>0</td>\n",
       "    </tr>\n",
       "    <tr>\n",
       "      <th>3</th>\n",
       "      <td>AlecAivazis/survey</td>\n",
       "      <td>IssuesEvent</td>\n",
       "      <td>golang</td>\n",
       "      <td>closed</td>\n",
       "      <td>440853697</td>\n",
       "      <td>193</td>\n",
       "      <td>https://api.github.com/repos/AlecAivazis/surve...</td>\n",
       "      <td>https://github.com/AlecAivazis/survey/issues/193</td>\n",
       "      <td>ahmetb</td>\n",
       "      <td>https://github.com/ahmetb</td>\n",
       "      <td>2019-05-06 19:38:15+00:00</td>\n",
       "      <td>2019-05-28 20:10:53+00:00</td>\n",
       "      <td>2019-05-28 20:10:53+00:00</td>\n",
       "      <td>allow customization of questionicon color it a...</td>\n",
       "      <td>0</td>\n",
       "      <td>0</td>\n",
       "    </tr>\n",
       "    <tr>\n",
       "      <th>4</th>\n",
       "      <td>AlecAivazis/survey</td>\n",
       "      <td>IssuesEvent</td>\n",
       "      <td>golang</td>\n",
       "      <td>closed</td>\n",
       "      <td>449192830</td>\n",
       "      <td>198</td>\n",
       "      <td>https://api.github.com/repos/AlecAivazis/surve...</td>\n",
       "      <td>https://github.com/AlecAivazis/survey/issues/198</td>\n",
       "      <td>turtleDev</td>\n",
       "      <td>https://github.com/turtleDev</td>\n",
       "      <td>2019-05-28 10:34:17+00:00</td>\n",
       "      <td>2019-05-28 20:04:35+00:00</td>\n",
       "      <td>2019-05-28 20:04:35+00:00</td>\n",
       "      <td>feature request survey select filtermessage al...</td>\n",
       "      <td>0</td>\n",
       "      <td>0</td>\n",
       "    </tr>\n",
       "  </tbody>\n",
       "</table>\n",
       "</div>"
      ],
      "text/plain": [
       "            repo_name   event_type ecosystem  status         id number  \\\n",
       "0  AlecAivazis/survey  IssuesEvent    golang  closed  391535316    168   \n",
       "1  AlecAivazis/survey  IssuesEvent    golang  closed  423174952    183   \n",
       "2  AlecAivazis/survey  IssuesEvent    golang  closed  436441636    188   \n",
       "3  AlecAivazis/survey  IssuesEvent    golang  closed  440853697    193   \n",
       "4  AlecAivazis/survey  IssuesEvent    golang  closed  449192830    198   \n",
       "\n",
       "                                             api_url  \\\n",
       "0  https://api.github.com/repos/AlecAivazis/surve...   \n",
       "1  https://api.github.com/repos/AlecAivazis/surve...   \n",
       "2  https://api.github.com/repos/AlecAivazis/surve...   \n",
       "3  https://api.github.com/repos/AlecAivazis/surve...   \n",
       "4  https://api.github.com/repos/AlecAivazis/surve...   \n",
       "\n",
       "                                                url  creator_name  \\\n",
       "0  https://github.com/AlecAivazis/survey/issues/168  singhrasster   \n",
       "1  https://github.com/AlecAivazis/survey/issues/183         shlao   \n",
       "2  https://github.com/AlecAivazis/survey/issues/188      zanven42   \n",
       "3  https://github.com/AlecAivazis/survey/issues/193        ahmetb   \n",
       "4  https://github.com/AlecAivazis/survey/issues/198     turtleDev   \n",
       "\n",
       "                       creator_url                created_at  \\\n",
       "0  https://github.com/singhrasster 2018-12-17 02:24:40+00:00   \n",
       "1         https://github.com/shlao 2019-03-20 10:27:47+00:00   \n",
       "2      https://github.com/zanven42 2019-04-24 00:12:06+00:00   \n",
       "3        https://github.com/ahmetb 2019-05-06 19:38:15+00:00   \n",
       "4     https://github.com/turtleDev 2019-05-28 10:34:17+00:00   \n",
       "\n",
       "                 updated_at                 closed_at  \\\n",
       "0 2019-05-28 10:44:20+00:00 2019-05-28 10:44:20+00:00   \n",
       "1 2019-05-28 20:23:23+00:00 2019-05-28 20:23:23+00:00   \n",
       "2 2019-05-28 10:43:17+00:00 2019-05-28 10:43:16+00:00   \n",
       "3 2019-05-28 20:10:53+00:00 2019-05-28 20:10:53+00:00   \n",
       "4 2019-05-28 20:04:35+00:00 2019-05-28 20:04:35+00:00   \n",
       "\n",
       "                                    norm_description  security_model_flag  \\\n",
       "0  issue with executing test suggested in readme ...                    0   \n",
       "1  go test is suspended when i send the string r ...                    0   \n",
       "2  dynamic question asking binary tree hi i had f...                    0   \n",
       "3  allow customization of questionicon color it a...                    0   \n",
       "4  feature request survey select filtermessage al...                    0   \n",
       "\n",
       "   cve_model_flag  \n",
       "0               0  \n",
       "1               0  \n",
       "2               0  \n",
       "3               0  \n",
       "4               0  "
      ]
     },
     "execution_count": 24,
     "metadata": {},
     "output_type": "execute_result"
    }
   ],
   "source": [
    "df['security_model_flag'] = 0\n",
    "df['cve_model_flag'] = 0\n",
    "df.head()"
   ]
  },
  {
   "cell_type": "code",
   "execution_count": 103,
   "metadata": {},
   "outputs": [
    {
     "name": "stdout",
     "output_type": "stream",
     "text": [
      "Loading Tokenizer Vocabulary\n",
      "Building Model Architecture\n",
      "Loading Model Weights\n"
     ]
    }
   ],
   "source": [
    "from models import security_dl_classifier as sdc\n",
    "\n",
    "sc = sdc.SecurityClassifier(embedding_size=300, max_length=1000, max_features=800000,\n",
    "                            tokenizer_path='models/model_assets/gokube-phase1-jun19/embeddings/security_tokenizer_word2idx_fulldata.pkl',\n",
    "                            model_weights_path='models/model_assets/gokube-phase1-jun19/saved_models/security_model_train99-jun19_weights.h5')\n",
    "sc.build_model_architecture()\n",
    "sc.load_model_weights()\n",
    "sc_model = sc.get_model()"
   ]
  },
  {
   "cell_type": "code",
   "execution_count": 104,
   "metadata": {},
   "outputs": [
    {
     "name": "stdout",
     "output_type": "stream",
     "text": [
      "Total Security Docs Encoded: (441, 1000)\n",
      "Removing bad docs with low tokens\n",
      "Filtered Security Docs Encoded: (439, 1000)\n"
     ]
    }
   ],
   "source": [
    "security_encoded_docs = sc.prepare_inference_data(df['norm_description'].tolist())\n",
    "print('Total Security Docs Encoded:', security_encoded_docs.shape)\n",
    "sec_doc_lengths = np.array([len(np.nonzero(item)[0]) for item in security_encoded_docs])\n",
    "print('Removing bad docs with low tokens')\n",
    "sec_doc_idx = np.argwhere(sec_doc_lengths >= 5).ravel()\n",
    "filtered_security_encoded_docs = security_encoded_docs[sec_doc_idx]\n",
    "print('Filtered Security Docs Encoded:', filtered_security_encoded_docs.shape)"
   ]
  },
  {
   "cell_type": "code",
   "execution_count": 105,
   "metadata": {},
   "outputs": [
    {
     "name": "stdout",
     "output_type": "stream",
     "text": [
      "Making predictions for probable security issues\n",
      "Storing Security Model predictions in dataset\n"
     ]
    }
   ],
   "source": [
    "print('Making predictions for probable security issues')\n",
    "sec_pred_probs = sc_model.predict(filtered_security_encoded_docs, batch_size=2048, verbose=0)\n",
    "sec_pred_probsr = sec_pred_probs.ravel()\n",
    "sec_pred_labels = [1 if prob > 0.4 else 0 for prob in sec_pred_probsr]\n",
    "print('Storing Security Model predictions in dataset')\n",
    "df.loc[df.index.isin(sec_doc_idx), 'security_model_flag'] = sec_pred_labels"
   ]
  },
  {
   "cell_type": "code",
   "execution_count": 106,
   "metadata": {},
   "outputs": [
    {
     "data": {
      "text/plain": [
       "6021"
      ]
     },
     "execution_count": 106,
     "metadata": {},
     "output_type": "execute_result"
    }
   ],
   "source": [
    "del sc\n",
    "del sc_model\n",
    "gc.collect()"
   ]
  },
  {
   "cell_type": "code",
   "execution_count": 113,
   "metadata": {},
   "outputs": [
    {
     "name": "stdout",
     "output_type": "stream",
     "text": [
      "Loading CVE Model Tokenizer Vocabulary\n",
      "Building CVE Model Architecture\n",
      "Loading CVE Model Weights\n"
     ]
    }
   ],
   "source": [
    "from models import cve_dl_classifier as cdc\n",
    "\n",
    "cc = cdc.CVEClassifier(embedding_size=300, max_length=1000, max_features=600000,\n",
    "                       tokenizer_path='models/model_assets/gokube-phase1-jun19/embeddings/cve_tokenizer_word2idx_fulldata.pkl',\n",
    "                       model_weights_path='models/model_assets/gokube-phase1-jun19/saved_models/cve_model_train99-jun19_weights.h5')\n",
    "cc.build_model_architecture()\n",
    "cc.load_model_weights()\n",
    "cc_model = cc.get_model()"
   ]
  },
  {
   "cell_type": "code",
   "execution_count": 125,
   "metadata": {},
   "outputs": [
    {
     "data": {
      "text/plain": [
       "array([ 20,  71,  73,  74,  86, 113, 119, 130, 133, 138, 139, 144, 149,\n",
       "       152, 158, 161, 162, 164, 170, 174, 178, 190, 194, 196, 208, 209,\n",
       "       210, 213, 215, 217, 227, 228, 229, 237, 246, 247, 259, 264, 265,\n",
       "       290, 294, 300, 304, 326, 337, 345, 352, 356, 372, 374, 380, 383,\n",
       "       388, 390, 407, 414, 415, 428, 429, 430])"
      ]
     },
     "execution_count": 125,
     "metadata": {},
     "output_type": "execute_result"
    }
   ],
   "source": [
    "subset_df = df[df['security_model_flag'] == 1]\n",
    "prob_security_df_rowidx = np.array(subset_df.index)\n",
    "prob_security_df_rowidx"
   ]
  },
  {
   "cell_type": "code",
   "execution_count": 126,
   "metadata": {},
   "outputs": [
    {
     "name": "stdout",
     "output_type": "stream",
     "text": [
      "Total CVE Docs Encoded: (60, 1000)\n",
      "Removing bad docs with low tokens\n",
      "Filtered CVE Docs Encoded: (58, 1000)\n"
     ]
    }
   ],
   "source": [
    "cve_encoded_docs = cc.prepare_inference_data(subset_df['norm_description'].tolist())\n",
    "print('Total CVE Docs Encoded:', cve_encoded_docs.shape)\n",
    "cve_doc_lengths = np.array([len(np.nonzero(item)[0]) for item in cve_encoded_docs])\n",
    "print('Removing bad docs with low tokens')\n",
    "cve_doc_idx = np.argwhere(cve_doc_lengths >= 10).ravel()\n",
    "filtered_cve_encoded_docs = cve_encoded_docs[cve_doc_idx]\n",
    "print('Filtered CVE Docs Encoded:', filtered_cve_encoded_docs.shape)"
   ]
  },
  {
   "cell_type": "code",
   "execution_count": 128,
   "metadata": {},
   "outputs": [
    {
     "name": "stdout",
     "output_type": "stream",
     "text": [
      "Making predictions for probable CVE issues\n",
      "Storing CVE Model predictions in dataset\n"
     ]
    }
   ],
   "source": [
    "print('Making predictions for probable CVE issues')\n",
    "cve_pred_probs = cc_model.predict(filtered_cve_encoded_docs, batch_size=2048, verbose=0)\n",
    "cve_pred_probsr = cve_pred_probs.ravel()\n",
    "cve_pred_labels = [1 if prob > 0.3 else 0 for prob in cve_pred_probsr]\n",
    "print('Storing CVE Model predictions in dataset')\n",
    "prob_cve_idxs = prob_security_df_rowidx[cve_doc_idx]\n",
    "df.loc[df.index.isin(prob_cve_idxs), 'cve_model_flag'] = cve_pred_labels"
   ]
  },
  {
   "cell_type": "code",
   "execution_count": 153,
   "metadata": {},
   "outputs": [
    {
     "data": {
      "text/html": [
       "<div>\n",
       "<style scoped>\n",
       "    .dataframe tbody tr th:only-of-type {\n",
       "        vertical-align: middle;\n",
       "    }\n",
       "\n",
       "    .dataframe tbody tr th {\n",
       "        vertical-align: top;\n",
       "    }\n",
       "\n",
       "    .dataframe thead th {\n",
       "        text-align: right;\n",
       "    }\n",
       "</style>\n",
       "<table border=\"1\" class=\"dataframe\">\n",
       "  <thead>\n",
       "    <tr style=\"text-align: right;\">\n",
       "      <th></th>\n",
       "      <th>repo_name</th>\n",
       "      <th>event_type</th>\n",
       "      <th>ecosystem</th>\n",
       "      <th>status</th>\n",
       "      <th>id</th>\n",
       "      <th>number</th>\n",
       "      <th>api_url</th>\n",
       "      <th>url</th>\n",
       "      <th>creator_name</th>\n",
       "      <th>creator_url</th>\n",
       "      <th>created_at</th>\n",
       "      <th>updated_at</th>\n",
       "      <th>closed_at</th>\n",
       "      <th>norm_description</th>\n",
       "      <th>security_model_flag</th>\n",
       "      <th>cve_model_flag</th>\n",
       "    </tr>\n",
       "  </thead>\n",
       "  <tbody>\n",
       "    <tr>\n",
       "      <th>0</th>\n",
       "      <td>Unknwon/goconfig</td>\n",
       "      <td>IssuesEvent</td>\n",
       "      <td>golang</td>\n",
       "      <td>opened</td>\n",
       "      <td>448638715</td>\n",
       "      <td>44</td>\n",
       "      <td>https://api.github.com/repos/Unknwon/goconfig/...</td>\n",
       "      <td>https://github.com/Unknwon/goconfig/issues/44</td>\n",
       "      <td>wencycool</td>\n",
       "      <td>https://github.com/wencycool</td>\n",
       "      <td>2019-05-27 02:22:38+00:00</td>\n",
       "      <td>2019-05-27 02:22:38+00:00</td>\n",
       "      <td>NaT</td>\n",
       "      <td>key keyvalue nocache port my cnf</td>\n",
       "      <td>0</td>\n",
       "      <td>99</td>\n",
       "    </tr>\n",
       "    <tr>\n",
       "      <th>1</th>\n",
       "      <td>astaxie/beego</td>\n",
       "      <td>IssuesEvent</td>\n",
       "      <td>golang</td>\n",
       "      <td>opened</td>\n",
       "      <td>448805111</td>\n",
       "      <td>3663</td>\n",
       "      <td>https://api.github.com/repos/astaxie/beego/iss...</td>\n",
       "      <td>https://github.com/astaxie/beego/issues/3663</td>\n",
       "      <td>chaclee</td>\n",
       "      <td>https://github.com/chaclee</td>\n",
       "      <td>2019-05-27 11:28:40+00:00</td>\n",
       "      <td>2019-05-27 11:28:40+00:00</td>\n",
       "      <td>NaT</td>\n",
       "      <td>httplib post file cannot specify file name hel...</td>\n",
       "      <td>0</td>\n",
       "      <td>99</td>\n",
       "    </tr>\n",
       "    <tr>\n",
       "      <th>2</th>\n",
       "      <td>aws/aws-sdk-go</td>\n",
       "      <td>IssuesEvent</td>\n",
       "      <td>golang</td>\n",
       "      <td>opened</td>\n",
       "      <td>448528837</td>\n",
       "      <td>2623</td>\n",
       "      <td>https://api.github.com/repos/aws/aws-sdk-go/is...</td>\n",
       "      <td>https://github.com/aws/aws-sdk-go/issues/2623</td>\n",
       "      <td>kishaningithub</td>\n",
       "      <td>https://github.com/kishaningithub</td>\n",
       "      <td>2019-05-26 05:02:44+00:00</td>\n",
       "      <td>2019-05-26 05:02:44+00:00</td>\n",
       "      <td>NaT</td>\n",
       "      <td>concurrent put please fill out the sections be...</td>\n",
       "      <td>0</td>\n",
       "      <td>99</td>\n",
       "    </tr>\n",
       "    <tr>\n",
       "      <th>3</th>\n",
       "      <td>aws/aws-sdk-go</td>\n",
       "      <td>IssuesEvent</td>\n",
       "      <td>golang</td>\n",
       "      <td>opened</td>\n",
       "      <td>448580609</td>\n",
       "      <td>2624</td>\n",
       "      <td>https://api.github.com/repos/aws/aws-sdk-go/is...</td>\n",
       "      <td>https://github.com/aws/aws-sdk-go/issues/2624</td>\n",
       "      <td>kishaningithub</td>\n",
       "      <td>https://github.com/kishaningithub</td>\n",
       "      <td>2019-05-26 15:53:55+00:00</td>\n",
       "      <td>2019-05-26 15:53:55+00:00</td>\n",
       "      <td>NaT</td>\n",
       "      <td>first call to dynamodb is very slow please fil...</td>\n",
       "      <td>0</td>\n",
       "      <td>99</td>\n",
       "    </tr>\n",
       "    <tr>\n",
       "      <th>4</th>\n",
       "      <td>bazelbuild/bazel-gazelle</td>\n",
       "      <td>IssuesEvent</td>\n",
       "      <td>golang</td>\n",
       "      <td>opened</td>\n",
       "      <td>448562916</td>\n",
       "      <td>536</td>\n",
       "      <td>https://api.github.com/repos/bazelbuild/bazel-...</td>\n",
       "      <td>https://github.com/bazelbuild/bazel-gazelle/is...</td>\n",
       "      <td>Globegitter</td>\n",
       "      <td>https://github.com/Globegitter</td>\n",
       "      <td>2019-05-26 12:38:33+00:00</td>\n",
       "      <td>2019-05-26 12:38:33+00:00</td>\n",
       "      <td>NaT</td>\n",
       "      <td>extra args lost when running in a sub director...</td>\n",
       "      <td>0</td>\n",
       "      <td>99</td>\n",
       "    </tr>\n",
       "  </tbody>\n",
       "</table>\n",
       "</div>"
      ],
      "text/plain": [
       "                  repo_name   event_type ecosystem  status         id number  \\\n",
       "0          Unknwon/goconfig  IssuesEvent    golang  opened  448638715     44   \n",
       "1             astaxie/beego  IssuesEvent    golang  opened  448805111   3663   \n",
       "2            aws/aws-sdk-go  IssuesEvent    golang  opened  448528837   2623   \n",
       "3            aws/aws-sdk-go  IssuesEvent    golang  opened  448580609   2624   \n",
       "4  bazelbuild/bazel-gazelle  IssuesEvent    golang  opened  448562916    536   \n",
       "\n",
       "                                             api_url  \\\n",
       "0  https://api.github.com/repos/Unknwon/goconfig/...   \n",
       "1  https://api.github.com/repos/astaxie/beego/iss...   \n",
       "2  https://api.github.com/repos/aws/aws-sdk-go/is...   \n",
       "3  https://api.github.com/repos/aws/aws-sdk-go/is...   \n",
       "4  https://api.github.com/repos/bazelbuild/bazel-...   \n",
       "\n",
       "                                                 url    creator_name  \\\n",
       "0      https://github.com/Unknwon/goconfig/issues/44       wencycool   \n",
       "1       https://github.com/astaxie/beego/issues/3663         chaclee   \n",
       "2      https://github.com/aws/aws-sdk-go/issues/2623  kishaningithub   \n",
       "3      https://github.com/aws/aws-sdk-go/issues/2624  kishaningithub   \n",
       "4  https://github.com/bazelbuild/bazel-gazelle/is...     Globegitter   \n",
       "\n",
       "                         creator_url                created_at  \\\n",
       "0       https://github.com/wencycool 2019-05-27 02:22:38+00:00   \n",
       "1         https://github.com/chaclee 2019-05-27 11:28:40+00:00   \n",
       "2  https://github.com/kishaningithub 2019-05-26 05:02:44+00:00   \n",
       "3  https://github.com/kishaningithub 2019-05-26 15:53:55+00:00   \n",
       "4     https://github.com/Globegitter 2019-05-26 12:38:33+00:00   \n",
       "\n",
       "                 updated_at closed_at  \\\n",
       "0 2019-05-27 02:22:38+00:00       NaT   \n",
       "1 2019-05-27 11:28:40+00:00       NaT   \n",
       "2 2019-05-26 05:02:44+00:00       NaT   \n",
       "3 2019-05-26 15:53:55+00:00       NaT   \n",
       "4 2019-05-26 12:38:33+00:00       NaT   \n",
       "\n",
       "                                    norm_description  security_model_flag  \\\n",
       "0                   key keyvalue nocache port my cnf                    0   \n",
       "1  httplib post file cannot specify file name hel...                    0   \n",
       "2  concurrent put please fill out the sections be...                    0   \n",
       "3  first call to dynamodb is very slow please fil...                    0   \n",
       "4  extra args lost when running in a sub director...                    0   \n",
       "\n",
       "   cve_model_flag  \n",
       "0              99  \n",
       "1              99  \n",
       "2              99  \n",
       "3              99  \n",
       "4              99  "
      ]
     },
     "execution_count": 153,
     "metadata": {},
     "output_type": "execute_result"
    }
   ],
   "source": [
    "df.head()"
   ]
  },
  {
   "cell_type": "code",
   "execution_count": 155,
   "metadata": {},
   "outputs": [
    {
     "name": "stdout",
     "output_type": "stream",
     "text": [
      "Creating New Model Inference Directory: ./triaged_datasets/20190526-20190527\n",
      "Saving Model Inference dataset: ./triaged_datasets/20190526-20190527/model_inference_full_output_20190526-20190527.csv\n",
      "Saving Probable Security dataset: ./triaged_datasets/20190526-20190527/probable_security_and_cves_20190526-20190527.csv\n",
      "Saving Probable CVE dataset: ./triaged_datasets/20190526-20190527/probable_cves_20190526-20190527.csv\n"
     ]
    }
   ],
   "source": [
    "BASE_TRIAGE_DIR = './triaged_datasets'\n",
    "NEW_TRIAGE_SUBDIR = '-'.join([START_TIME.format('YYYYMMDD'), END_TIME.format('YYYYMMDD')])\n",
    "NEW_DIR_PATH = os.path.join(BASE_TRIAGE_DIR, NEW_TRIAGE_SUBDIR)\n",
    "\n",
    "MODEL_INFERENCE_DATASET = os.path.join(NEW_DIR_PATH, 'model_inference_full_output_'+NEW_TRIAGE_SUBDIR+'.csv')\n",
    "PROBABLE_SEC_CVE_DATASET = os.path.join(NEW_DIR_PATH, 'probable_security_and_cves_'+NEW_TRIAGE_SUBDIR+'.csv')\n",
    "PROBABLE_CVE_DATASET = os.path.join(NEW_DIR_PATH, 'probable_cves_'+NEW_TRIAGE_SUBDIR+'.csv')\n",
    "print('Creating New Model Inference Directory:', NEW_DIR_PATH)\n",
    "os.makedirs(NEW_DIR_PATH)\n",
    "\n",
    "df.drop(['norm_description'], inplace=True, axis=1)\n",
    "df['triage_is_security'] = 0\n",
    "df['triage_is_cve'] = 0\n",
    "df['triage_feedback_comments'] = ''\n",
    "print('Saving Model Inference dataset:', MODEL_INFERENCE_DATASET)\n",
    "df.to_csv(MODEL_INFERENCE_DATASET, index=False)\n",
    "print('Saving Probable Security dataset:', PROBABLE_SEC_CVE_DATASET)\n",
    "df[df.security_model_flag==1].drop(['triage_is_cve'], axis=1).to_csv(PROBABLE_SEC_CVE_DATASET, index=False)\n",
    "print('Saving Probable CVE dataset:', PROBABLE_CVE_DATASET)\n",
    "df[df.cve_model_flag==1].drop(['triage_is_security'], axis=1).to_csv(PROBABLE_CVE_DATASET, index=False)"
   ]
  },
  {
   "cell_type": "code",
   "execution_count": 157,
   "metadata": {},
   "outputs": [],
   "source": [
    "from utils import aws_utils as aws\n",
    "from utils import cloud_constants as cc\n",
    "\n",
    "\n",
    "s3_obj = aws.S3_OBJ\n",
    "bucket_name = cc.S3_BUCKET_NAME\n",
    "s3_bucket = s3_obj.Bucket(bucket_name)"
   ]
  },
  {
   "cell_type": "code",
   "execution_count": 160,
   "metadata": {},
   "outputs": [
    {
     "name": "stdout",
     "output_type": "stream",
     "text": [
      "Uploading Saved Model Assets to S3 Bucket\n",
      "Uploading: triaged_datasets/20190526-20190527/probable_cves_20190526-20190527.csv\n",
      "Uploading: triaged_datasets/20190526-20190527/model_inference_full_output_20190526-20190527.csv\n",
      "Uploading: triaged_datasets/20190526-20190527/probable_security_and_cves_20190526-20190527.csv\n"
     ]
    }
   ],
   "source": [
    "print('Uploading Saved Model Assets to S3 Bucket')\n",
    "aws.s3_upload_folder(folder_path=NEW_DIR_PATH,\n",
    "                     s3_bucket_obj=s3_bucket, prefix='triaged_datasets')"
   ]
  }
 ],
 "metadata": {
  "kernelspec": {
   "display_name": "Python 3",
   "language": "python",
   "name": "python3"
  },
  "language_info": {
   "codemirror_mode": {
    "name": "ipython",
    "version": 3
   },
   "file_extension": ".py",
   "mimetype": "text/x-python",
   "name": "python",
   "nbconvert_exporter": "python",
   "pygments_lexer": "ipython3",
   "version": "3.6.8"
  }
 },
 "nbformat": 4,
 "nbformat_minor": 2
}
